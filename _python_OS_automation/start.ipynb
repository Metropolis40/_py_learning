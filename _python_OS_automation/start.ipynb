def temp1(x1,x2):
    x1 += 333;
    x3 = x1+x2
    return x1, x3
    