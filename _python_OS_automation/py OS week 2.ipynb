{
 "cells": [
  {
   "cell_type": "code",
   "execution_count": 16,
   "source": [
    "# 读取某个在目前目录的文档\n",
    "\n",
    "file = open(\"spider.txt\") \n",
    "print(file.readline()) # readline的作用是，每执行一次，便读取原文件中的一行\n",
    "# 这里我们创建一个新的object 名为file，这个object有多种method\n",
    "print(file.readline()) "
   ],
   "outputs": [
    {
     "output_type": "stream",
     "name": "stdout",
     "text": [
      "it wasa dark and stormy night ----- here we change it againhere we change it again .. and again\n",
      "\n",
      " creating variables and passing parameters to our functions with the values that we wanted. This works fine for small scripts, but it's usually not ideal for larger jobs. When processing large chunks of data, it's a good idea to read that data from files. In programming, we work with files all the time. It's such a useful task that most programming languages have the ability to work with files baked into the core set of features. Python is no exception. It gives us file objects which we can use to read and write to files. To open a file on a computer called spider.txt, we can write this code.\n",
      "\n"
     ]
    }
   ],
   "metadata": {}
  },
  {
   "cell_type": "code",
   "execution_count": 17,
   "source": [
    "print(file.read()) \n"
   ],
   "outputs": [
    {
     "output_type": "stream",
     "name": "stdout",
     "text": [
      "Play video starting at ::57 and follow transcript0:57\n",
      "What we're doing here is creating a new file object and assigning it to a variable called File. The parameter we've passed to the open function is the name of the file we want to open. In this case, we're assuming the file we want to read is in the same directory as a script we're running but we\n",
      " creating variables and passing parameters to our functions with the values that we wanted. This works fine for small scripts, but it's usually not ideal for larger jobs. When processing large chunks of data, it's a good idea to read that data from files. In programming, we work with files all the time. It's such a useful task that most programming languages have the ability to work with files baked into the core set of features. Python is no exception. It gives us file objects which we can use to read and write to files. To open a file on a computer called spider.txt, we can write this code.\n",
      "Play video starting at ::57 and follow transcript0:57\n",
      "What we're doing here is creating a new file object and assigning it to a variable called File. The parameter we've passed to the open function is the name of the file we want to open. In this case, we're assuming the file we want to read is in the same directory as a script we're running but we\n"
     ]
    }
   ],
   "metadata": {}
  },
  {
   "cell_type": "code",
   "execution_count": 18,
   "source": [
    "file.close() \n",
    "# 关闭file，从而避免file被lock以至于无法被其他process改动，也可以避免浪费资源（尤其是loop的情况）"
   ],
   "outputs": [],
   "metadata": {}
  },
  {
   "cell_type": "code",
   "execution_count": 1,
   "source": [
    "with open(\"spider.txt\", 'r') as file : # 完成操作后，自动关闭file\n",
    "    print(file.readline())\n",
    "    xx = file.read()\n",
    "print(\"xx is \", xx)\n",
    "\n",
    "# 这里，我们打开spider.txt 读取其中内容，并把读取的那部分内容放入一个新的 object 中，起名xx，即使我们关闭了spider.txt,我们仍然可以使用我们刚才创建的xx这个object"
   ],
   "outputs": [
    {
     "output_type": "stream",
     "name": "stdout",
     "text": [
      "it wasa dark and stormy night ----- here we change it againhere we change it again .. and again\n",
      "\n",
      "xx is   creating variables and passing parameters to our functions with the values that we wanted. This works fine for small scripts, but it's usually not ideal for larger jobs. When processing large chunks of data, it's a good idea to read that data from files. In programming, we work with files all the time. It's such a useful task that most programming languages have the ability to work with files baked into the core set of features. Python is no exception. It gives us file objects which we can use to read and write to files. To open a file on a computer called spider.txt, we can write this code.\n",
      "Play video starting at ::57 and follow transcript0:57\n",
      "What we're doing here is creating a new file object and assigning it to a variable called File. The parameter we've passed to the open function is the name of the file we want to open. In this case, we're assuming the file we want to read is in the same directory as a script we're running but we\n",
      " creating variables and passing parameters to our functions with the values that we wanted. This works fine for small scripts, but it's usually not ideal for larger jobs. When processing large chunks of data, it's a good idea to read that data from files. In programming, we work with files all the time. It's such a useful task that most programming languages have the ability to work with files baked into the core set of features. Python is no exception. It gives us file objects which we can use to read and write to files. To open a file on a computer called spider.txt, we can write this code.\n",
      "Play video starting at ::57 and follow transcript0:57\n",
      "What we're doing here is creating a new file object and assigning it to a variable called File. The parameter we've passed to the open function is the name of the file we want to open. In this case, we're assuming the file we want to read is in the same directory as a script we're running but we\n"
     ]
    }
   ],
   "metadata": {}
  },
  {
   "cell_type": "code",
   "execution_count": null,
   "source": [],
   "outputs": [],
   "metadata": {}
  },
  {
   "cell_type": "code",
   "execution_count": 20,
   "source": [
    "with open(\"spider.txt\", 'r') as file :\n",
    "    for j in file : # 因为py是逐行读取的，所以这个loop每循环一次我们得到的都是一行\n",
    "        print(j.strip().upper()) #这里我们用strip来避免每次print都自动增加的一个空行"
   ],
   "outputs": [
    {
     "output_type": "stream",
     "name": "stdout",
     "text": [
      "IT WASA DARK AND STORMY NIGHT ----- HERE WE CHANGE IT AGAINHERE WE CHANGE IT AGAIN .. AND AGAIN\n",
      "CREATING VARIABLES AND PASSING PARAMETERS TO OUR FUNCTIONS WITH THE VALUES THAT WE WANTED. THIS WORKS FINE FOR SMALL SCRIPTS, BUT IT'S USUALLY NOT IDEAL FOR LARGER JOBS. WHEN PROCESSING LARGE CHUNKS OF DATA, IT'S A GOOD IDEA TO READ THAT DATA FROM FILES. IN PROGRAMMING, WE WORK WITH FILES ALL THE TIME. IT'S SUCH A USEFUL TASK THAT MOST PROGRAMMING LANGUAGES HAVE THE ABILITY TO WORK WITH FILES BAKED INTO THE CORE SET OF FEATURES. PYTHON IS NO EXCEPTION. IT GIVES US FILE OBJECTS WHICH WE CAN USE TO READ AND WRITE TO FILES. TO OPEN A FILE ON A COMPUTER CALLED SPIDER.TXT, WE CAN WRITE THIS CODE.\n",
      "PLAY VIDEO STARTING AT ::57 AND FOLLOW TRANSCRIPT0:57\n",
      "WHAT WE'RE DOING HERE IS CREATING A NEW FILE OBJECT AND ASSIGNING IT TO A VARIABLE CALLED FILE. THE PARAMETER WE'VE PASSED TO THE OPEN FUNCTION IS THE NAME OF THE FILE WE WANT TO OPEN. IN THIS CASE, WE'RE ASSUMING THE FILE WE WANT TO READ IS IN THE SAME DIRECTORY AS A SCRIPT WE'RE RUNNING BUT WE\n",
      "CREATING VARIABLES AND PASSING PARAMETERS TO OUR FUNCTIONS WITH THE VALUES THAT WE WANTED. THIS WORKS FINE FOR SMALL SCRIPTS, BUT IT'S USUALLY NOT IDEAL FOR LARGER JOBS. WHEN PROCESSING LARGE CHUNKS OF DATA, IT'S A GOOD IDEA TO READ THAT DATA FROM FILES. IN PROGRAMMING, WE WORK WITH FILES ALL THE TIME. IT'S SUCH A USEFUL TASK THAT MOST PROGRAMMING LANGUAGES HAVE THE ABILITY TO WORK WITH FILES BAKED INTO THE CORE SET OF FEATURES. PYTHON IS NO EXCEPTION. IT GIVES US FILE OBJECTS WHICH WE CAN USE TO READ AND WRITE TO FILES. TO OPEN A FILE ON A COMPUTER CALLED SPIDER.TXT, WE CAN WRITE THIS CODE.\n",
      "PLAY VIDEO STARTING AT ::57 AND FOLLOW TRANSCRIPT0:57\n",
      "WHAT WE'RE DOING HERE IS CREATING A NEW FILE OBJECT AND ASSIGNING IT TO A VARIABLE CALLED FILE. THE PARAMETER WE'VE PASSED TO THE OPEN FUNCTION IS THE NAME OF THE FILE WE WANT TO OPEN. IN THIS CASE, WE'RE ASSUMING THE FILE WE WANT TO READ IS IN THE SAME DIRECTORY AS A SCRIPT WE'RE RUNNING BUT WE\n"
     ]
    }
   ],
   "metadata": {}
  },
  {
   "cell_type": "code",
   "execution_count": 21,
   "source": [
    "file = open(\"spider.txt\", 'r')\n",
    "\n",
    "lines= file.readlines() # readlines 讲文档每句话以list的方式读入，使得我们可以对这些句子使用method例如排序\n",
    "\n",
    "file.close()\n",
    "\n",
    "\n",
    "lines.sort()\n",
    "print(lines)"
   ],
   "outputs": [
    {
     "output_type": "stream",
     "name": "stdout",
     "text": [
      "[\" creating variables and passing parameters to our functions with the values that we wanted. This works fine for small scripts, but it's usually not ideal for larger jobs. When processing large chunks of data, it's a good idea to read that data from files. In programming, we work with files all the time. It's such a useful task that most programming languages have the ability to work with files baked into the core set of features. Python is no exception. It gives us file objects which we can use to read and write to files. To open a file on a computer called spider.txt, we can write this code.\\n\", \" creating variables and passing parameters to our functions with the values that we wanted. This works fine for small scripts, but it's usually not ideal for larger jobs. When processing large chunks of data, it's a good idea to read that data from files. In programming, we work with files all the time. It's such a useful task that most programming languages have the ability to work with files baked into the core set of features. Python is no exception. It gives us file objects which we can use to read and write to files. To open a file on a computer called spider.txt, we can write this code.\\n\", 'Play video starting at ::57 and follow transcript0:57\\n', 'Play video starting at ::57 and follow transcript0:57\\n', \"What we're doing here is creating a new file object and assigning it to a variable called File. The parameter we've passed to the open function is the name of the file we want to open. In this case, we're assuming the file we want to read is in the same directory as a script we're running but we\", \"What we're doing here is creating a new file object and assigning it to a variable called File. The parameter we've passed to the open function is the name of the file we want to open. In this case, we're assuming the file we want to read is in the same directory as a script we're running but we\\n\", 'it wasa dark and stormy night ----- here we change it againhere we change it again .. and again\\n']\n"
     ]
    }
   ],
   "metadata": {}
  },
  {
   "cell_type": "code",
   "execution_count": 2,
   "source": [
    "with open(\"novel.txt\", 'w') as file :\n",
    "    file.write(\"It was a dark and stormy night\")"
   ],
   "outputs": [],
   "metadata": {}
  },
  {
   "cell_type": "code",
   "execution_count": 23,
   "source": [
    "# 'r'\n",
    "# 'w', write and replace, 写入模式时，不可读\n",
    "# 'a', append, 例如，我们write log file\n",
    "# 'r+', read and overwrite"
   ],
   "outputs": [],
   "metadata": {}
  },
  {
   "cell_type": "code",
   "execution_count": 3,
   "source": [
    "# 一些os path的基本操作\n",
    "with open(\"novel.txt\", 'w') as file :\n",
    "    file.write(\"It was a dark and stormy night\")\n",
    "    \n",
    "import os\n",
    "import datetime\n",
    "\n",
    "print(os.path.exists(\"novel.txt\"))\n",
    "print(os.path.getsize(\"novel.txt\"))\n",
    "timestamp = os.path.getmtime(\"novel.txt\")\n",
    "datetime.datetime(2020, 1, 6, 7, 2, 3, 899999)\n",
    "\n",
    "\n",
    "\n",
    "os.rename(\"novel.txt\", \"final.txt\")\n",
    "print(os.path.exists(\"final.txt\"))\n",
    "print(os.path.exists(\"novel.txt\"))\n",
    "os.remove(\"final.txt\")"
   ],
   "outputs": [
    {
     "output_type": "stream",
     "name": "stdout",
     "text": [
      "True\n",
      "30\n",
      "True\n",
      "False\n"
     ]
    }
   ],
   "metadata": {}
  },
  {
   "cell_type": "code",
   "execution_count": 25,
   "source": [
    "# 我们可以用isfile function来验证一个file是否存在\n",
    "import os\n",
    "file= \"file.dat\"\n",
    "if os.path.isfile(file):\n",
    "    print(os.path.isfile(file))\n",
    "    print(os.path.getsize(file))\n",
    "else:\n",
    "    print(os.path.isfile(file))\n",
    "    print(\"File not found\")"
   ],
   "outputs": [
    {
     "output_type": "stream",
     "name": "stdout",
     "text": [
      "False\n",
      "File not found\n"
     ]
    }
   ],
   "metadata": {}
  },
  {
   "cell_type": "code",
   "execution_count": 4,
   "source": [
    "# absolute and relative path\n",
    "print(os.path.abspath(\"spider.txt\"))\n",
    "print(os.path.relpath(\"spider.txt\"))"
   ],
   "outputs": [
    {
     "output_type": "stream",
     "name": "stdout",
     "text": [
      "/Users/taohuang/Library/Mobile Documents/com~apple~CloudDocs/Metropolis40/_python_OS_automation/spider.txt\n",
      "spider.txt\n"
     ]
    }
   ],
   "metadata": {}
  },
  {
   "cell_type": "code",
   "execution_count": 27,
   "source": [
    "print(os.getcwd())"
   ],
   "outputs": [
    {
     "output_type": "stream",
     "name": "stdout",
     "text": [
      "/Users/taohuang/Library/Mobile Documents/com~apple~CloudDocs/Metropolis40/_python_OS_automation\n"
     ]
    }
   ],
   "metadata": {}
  },
  {
   "cell_type": "code",
   "execution_count": 14,
   "source": [
    "if not os.path.exists(\"new_dir\") :\n",
    "    os.mkdir(\"new_dir\")"
   ],
   "outputs": [],
   "metadata": {}
  },
  {
   "cell_type": "code",
   "execution_count": 59,
   "source": [
    "# os.chdir(\"new_dir\") # 将home dir 变为new_dir"
   ],
   "outputs": [],
   "metadata": {}
  },
  {
   "cell_type": "code",
   "execution_count": 15,
   "source": [
    "os.rmdir(\"new_dir\") #only when the dir is empty"
   ],
   "outputs": [],
   "metadata": {}
  },
  {
   "cell_type": "code",
   "execution_count": 6,
   "source": [
    "os.listdir(\"../\")"
   ],
   "outputs": [
    {
     "output_type": "execute_result",
     "data": {
      "text/plain": [
       "['py_templates_sklearn',\n",
       " '.DS_Store',\n",
       " 'notes_ECON',\n",
       " '_framework deep learning ',\n",
       " 'py_sc',\n",
       " '_简单例子keras ANN',\n",
       " 'SAS-code-str',\n",
       " '_python_OS_automation',\n",
       " 'py_ds',\n",
       " 'py_fi',\n",
       " 'py_templates_statsmodel',\n",
       " '.ipynb_checkpoints',\n",
       " '_framework python DS',\n",
       " 'Data']"
      ]
     },
     "metadata": {},
     "execution_count": 6
    }
   ],
   "metadata": {}
  },
  {
   "cell_type": "code",
   "execution_count": 29,
   "source": [
    "os.listdir(\"./\")"
   ],
   "outputs": [
    {
     "output_type": "execute_result",
     "data": {
      "text/plain": [
       "['part 1 start.ipynb',\n",
       " 'part 1 start2 OOP.ipynb',\n",
       " 'start.ipynb',\n",
       " 'test',\n",
       " 'health_checks.py',\n",
       " 'part 1 start 3 final project.ipynb',\n",
       " 'areas.py',\n",
       " 'spider.txt',\n",
       " 'test1.py',\n",
       " '__pycache__',\n",
       " 'part 2 py interacting with OS.ipynb',\n",
       " 'part 2 3.py',\n",
       " 'py OS week 1.ipynb',\n",
       " 'newfile.txt',\n",
       " 'py OS week 3.ipynb',\n",
       " 'PythonPrograms',\n",
       " 'program.py',\n",
       " '.ipynb_checkpoints',\n",
       " 'py OS week 2.ipynb',\n",
       " 'part 2  2 py OS.ipynb',\n",
       " 'flowers.csv',\n",
       " 'new.txt']"
      ]
     },
     "metadata": {},
     "execution_count": 29
    }
   ],
   "metadata": {}
  },
  {
   "cell_type": "code",
   "execution_count": 32,
   "source": [
    "for name in os.listdir('./') :\n",
    "    if os.path.isdir(name) :\n",
    "        print(\"ok, {} is a dir\".format(name))\n",
    "    else :\n",
    "        print(\"ok, {} is a fir\".format(name))"
   ],
   "outputs": [
    {
     "output_type": "stream",
     "name": "stdout",
     "text": [
      "ok, part 1 start.ipynb is a fir\n",
      "ok, part 1 start2 OOP.ipynb is a fir\n",
      "ok, start.ipynb is a fir\n",
      "ok, test is a dir\n",
      "ok, health_checks.py is a fir\n",
      "ok, part 1 start 3 final project.ipynb is a fir\n",
      "ok, areas.py is a fir\n",
      "ok, spider.txt is a fir\n",
      "ok, test1.py is a fir\n",
      "ok, __pycache__ is a dir\n",
      "ok, part 2 py interacting with OS.ipynb is a fir\n",
      "ok, part 2 3.py is a fir\n",
      "ok, py OS week 1.ipynb is a fir\n",
      "ok, newfile.txt is a fir\n",
      "ok, py OS week 3.ipynb is a fir\n",
      "ok, PythonPrograms is a dir\n",
      "ok, program.py is a fir\n",
      "ok, .ipynb_checkpoints is a dir\n",
      "ok, py OS week 2.ipynb is a fir\n",
      "ok, part 2  2 py OS.ipynb is a fir\n",
      "ok, flowers.csv is a fir\n",
      "ok, new.txt is a fir\n"
     ]
    }
   ],
   "metadata": {}
  },
  {
   "cell_type": "code",
   "execution_count": 33,
   "source": [
    "# parsing 所做的是分析数据的内容并相对应的structure the data \n",
    "# JSON is a data format which is used to pass data across the internet \n",
    "# CSV data "
   ],
   "outputs": [],
   "metadata": {}
  },
  {
   "cell_type": "code",
   "execution_count": 36,
   "source": [
    "import csv\n",
    "f = open(\"spider.txt\")\n",
    "csv_f = csv.reader(f)\n",
    "f.close()"
   ],
   "outputs": [],
   "metadata": {}
  },
  {
   "cell_type": "code",
   "execution_count": 37,
   "source": [],
   "outputs": [],
   "metadata": {}
  },
  {
   "cell_type": "code",
   "execution_count": 40,
   "source": [
    "# to generate content in a csv file \n",
    "hosts = [[\"workstation.local\", \"192.168.25.46\"], [\"webserver.cloud\", \"10.2.5.6\"]] #内容\n",
    "\n",
    "import csv \n",
    "with open(\"hosts.csv\", 'w') as host_csv : #打开/锁定 csv 文档\n",
    "    writer = csv.writer(host_csv) # call the writer function of the csv module, with a parm, e.g., host_csv\n",
    "    # here, writer is an instance of the csv writer class\n",
    "    writer.writerows(hosts) # use writerows method to write all the rows alltogether"
   ],
   "outputs": [],
   "metadata": {}
  },
  {
   "cell_type": "code",
   "execution_count": 49,
   "source": [
    "# dict \n",
    "with open(\"software.csv\", 'r') as software :\n",
    "    reader = csv.DictReader(software)\n",
    "    # print(type(reader)) #实际上这里 reader成为一个dict object\n",
    "    # print(reader.dialect)\n",
    "    for row in reader :\n",
    "        print((\"{} has {} users\").format(row[\"name\"], row[\"users\"]))"
   ],
   "outputs": [
    {
     "output_type": "stream",
     "name": "stdout",
     "text": [
      "MailTree has 324 users\n",
      "CalDoor has beta users\n",
      "Chatty Chicken has 4 users\n"
     ]
    }
   ],
   "metadata": {}
  },
  {
   "cell_type": "code",
   "execution_count": null,
   "source": [],
   "outputs": [],
   "metadata": {}
  }
 ],
 "metadata": {
  "orig_nbformat": 4,
  "language_info": {
   "name": "python",
   "version": "3.9.6",
   "mimetype": "text/x-python",
   "codemirror_mode": {
    "name": "ipython",
    "version": 3
   },
   "pygments_lexer": "ipython3",
   "nbconvert_exporter": "python",
   "file_extension": ".py"
  },
  "kernelspec": {
   "name": "python3",
   "display_name": "Python 3.9.6 64-bit ('ds1': conda)"
  },
  "interpreter": {
   "hash": "c51834b1ae9799b48209906f57f76f8fdfb3733a8a2ba0a3021dea1fb17d7da4"
  }
 },
 "nbformat": 4,
 "nbformat_minor": 2
}