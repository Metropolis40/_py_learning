{
 "cells": [
  {
   "cell_type": "markdown",
   "source": [
    "bash scripting, bash下可以用scrip来执行复杂的指令，这个章节仅仅为介绍性，如果需要可以进一步了解\n",
    "bash vs py, bash和py有时候可以处理相同的任务，但是py会更简洁更易读，现实中，我们混用，例如用bash跳用py\n",
    "bash是在linux下工作的，如果是windows，我们需要powershell\n",
    "py是全平台的"
   ],
   "metadata": {}
  },
  {
   "cell_type": "markdown",
   "source": [
    "basic linux command"
   ],
   "metadata": {}
  },
  {
   "cell_type": "code",
   "execution_count": null,
   "source": [
    "# echo to print msg to screen\n",
    "# cat to print content of a File \n",
    "# chmod to change permission of file \n",
    "# mkdir\n",
    "# cd, to change the dirctory\n",
    "# pwd, to print the corrent working directory\n",
    "# cp, to copy a file \n",
    "# e.g., cp ../spider.txt .  , to copy the spider.txt in the parent dir to the current dir \n",
    "\n",
    "# mv , to move a file \n",
    "\n",
    "# touch myfile.txt 这里create了一个 empty file，叫做 myfile.txt\n",
    "\n",
    "# ls -l 显示所有文档以及它们的权限 \n",
    "# ls -la 以及显示隐藏文档\n",
    "\n",
    "-rwxr-xr-x  1 taohuang  staff    365  8 Sep 19:37 test1.py\n",
    "\n"
   ],
   "outputs": [],
   "metadata": {}
  },
  {
   "cell_type": "markdown",
   "source": [
    "OS stream and bash"
   ],
   "metadata": {}
  },
  {
   "cell_type": "markdown",
   "source": [
    "redirection, to redirect the output to a file\n",
    "\n",
    "注意，这个是在bash terminal里的命令"
   ],
   "metadata": {}
  },
  {
   "cell_type": "code",
   "execution_count": null,
   "source": [
    "# we execute the file stdout_example.py\n",
    "# python3 stdout_example.py > new_file.txt, 这样，输出的结果就放入了一个新的file （这回取代原先若是存在的文档）\n",
    "# python3 stdout_example.py >> new_file.txt, 这样，输出的结果就append了一个新的file  "
   ],
   "outputs": [],
   "metadata": {}
  },
  {
   "cell_type": "code",
   "execution_count": null,
   "source": [
    "# python3 streams_err.py < new_file.txt\n",
    "# 有时候我们的py file里有input语句，本来是通过键盘输入的，但是我们可以把输入redirect到某个文件，正如上一行，new_file.txt 里的一行语句替代了键盘的input\n",
    "# python3 streams_err.py < new_file.txt 2> error_file.txt, 在此同时，我们把error redict到一个file中, using \"2>\"， 这个语句是专门针对error msg的\n",
    "# 2> 这里的2是一种FileDescriptor， 2代表error msg， 0 和1 分别代表in 以及out ，这个规则也对其他linux命令通用\n",
    "# similarly, we have \n",
    "# echo \"thiere is ... \" 1> xxx.txt"
   ],
   "outputs": [],
   "metadata": {}
  },
  {
   "cell_type": "markdown",
   "source": [
    "pipe and pipelines\n",
    "to connect the output a program to the input of another\n",
    "|"
   ],
   "metadata": {}
  },
  {
   "cell_type": "code",
   "execution_count": null,
   "source": [
    "# e.g., ls -l | less  , quit with 'Q'\n",
    "\n",
    "# cat spider.txt | tr ' ' '\\n' | sort | uniq -c | sort -nr | head\n",
    "\n",
    "# tr ' ' '\\n' transfer the first char, e.g., ' ' space in the content to the 2nd char, e.g., '\\n' a new line \n",
    "# wwe then sort\n",
    "# uniq , transfer to unique line and count\n",
    "# then we sort, -nr, sort the result numerically from the reverse Order\n",
    "# head, print the first 10 lines "
   ],
   "outputs": [],
   "metadata": {}
  },
  {
   "cell_type": "code",
   "execution_count": null,
   "source": [
    "#  cat haiku.txt | python3 ./capitalize.py\n",
    "\n",
    "# 我们可以显示haiku中的内容，并把显示的内容输入到capitalize这个file作为input\n",
    "# or,  ./capitalize.py < haiku.txt"
   ],
   "outputs": [],
   "metadata": {}
  },
  {
   "cell_type": "markdown",
   "source": [
    "signal\n",
    "\n",
    "we can use signal to tell sys to terminate or triger"
   ],
   "metadata": {}
  },
  {
   "cell_type": "code",
   "execution_count": null,
   "source": [
    "# ping www.example.com\n",
    "# it continues until we send a signal to terminate it (e.g., use ctrl-c)\n",
    "# we can also use ctrl-z to send a 'sigstop' signal to stop it, we can type 'fg' to continue\n",
    "# we can also use 'kill' signal, it runs on a separate terminal, we send a signal for that 'pid'\n",
    "\n",
    "# 例子， 我们可以在一个terminal运行ping\n",
    "# 然后在另一个terminal找到它的pid \n",
    "# # ps ax | grep ping \n",
    "# ps ax 显示所有线程，\n",
    "# grep ping 找寻含有ping的那一行\n",
    "\n",
    "# kill 52313 中介pid为52313的这个线程"
   ],
   "outputs": [],
   "metadata": {}
  },
  {
   "cell_type": "markdown",
   "source": [
    "bash script to run all the command"
   ],
   "metadata": {}
  },
  {
   "cell_type": "code",
   "execution_count": null,
   "source": [
    "e.g., gather-information.sh"
   ],
   "outputs": [],
   "metadata": {}
  },
  {
   "cell_type": "markdown",
   "source": [
    "with bash, we can use loops, variables etc.\n",
    "globs 用来create list of files\n",
    "\n",
    "echo *\n",
    "echo ??"
   ],
   "metadata": {}
  },
  {
   "cell_type": "code",
   "execution_count": null,
   "source": [
    "# check_localhost.sh\n",
    "\n",
    "# in termianl, type the following\n",
    "# if test -n \"$PATH\" ; then echo \"your path is not empty \" ; fi\n",
    "# if [-n \"$PATH\" ]; then echo \"your path is not empty \" ; fi\n",
    "#  上面一行同样效果，这里在]之前必有空格，此外;用来close 这个[]"
   ],
   "outputs": [],
   "metadata": {}
  },
  {
   "cell_type": "markdown",
   "source": [
    "do loop\n",
    "while loop\n",
    "for loop"
   ],
   "metadata": {}
  }
 ],
 "metadata": {
  "orig_nbformat": 4,
  "language_info": {
   "name": "python",
   "version": "3.9.6",
   "mimetype": "text/x-python",
   "codemirror_mode": {
    "name": "ipython",
    "version": 3
   },
   "pygments_lexer": "ipython3",
   "nbconvert_exporter": "python",
   "file_extension": ".py"
  },
  "kernelspec": {
   "name": "python3",
   "display_name": "Python 3.9.6 64-bit ('ds1': conda)"
  },
  "interpreter": {
   "hash": "c51834b1ae9799b48209906f57f76f8fdfb3733a8a2ba0a3021dea1fb17d7da4"
  }
 },
 "nbformat": 4,
 "nbformat_minor": 2
}