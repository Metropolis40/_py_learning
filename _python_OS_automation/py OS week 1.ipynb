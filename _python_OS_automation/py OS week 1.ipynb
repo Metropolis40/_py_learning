{
 "cells": [
  {
   "cell_type": "code",
   "execution_count": 8,
   "source": [
    "#!/usr/bin/env python3\n",
    "# 我们可以加入一行 she bang，告诉system将来用什么程序来执行这个file \n",
    "# chmod +x \"py OS Week 1.py\" \n",
    "#  ./\"py OS week 1.py\" #通过这一行来执行，因为有第一行shebang的存在，这一行等同 python3 \"py OS Week 1.py\" \n",
    "# 之所以要前加入 ./ 是因为我们现在要执行的这个script并不在PATH variable中，于是./的作用是告诉当前系统，在当前目录下,而不是在PATH中任何一个目录下，执行这个文件\n",
    "\n",
    "\n"
   ],
   "outputs": [],
   "metadata": {}
  },
  {
   "cell_type": "code",
   "execution_count": 1,
   "source": [
    "# 一些简单的使用import的例子\n",
    "import requests\n",
    "response = requests.get(\"http://www.google.co.uk\")\n",
    "print(response)\n",
    "print(len(response.text))"
   ],
   "outputs": [
    {
     "output_type": "stream",
     "name": "stdout",
     "text": [
      "<Response [200]>\n",
      "14735\n"
     ]
    }
   ],
   "metadata": {}
  },
  {
   "cell_type": "code",
   "execution_count": 7,
   "source": [
    "import arrow\n",
    "date= arrow.get('2020-01-18', 'YYYY-MM-DD')\n",
    "print(date)\n",
    "date.shift(weeks =+6).format('MMM DD YYYY')"
   ],
   "outputs": [
    {
     "output_type": "stream",
     "name": "stdout",
     "text": [
      "2020-01-18T00:00:00+00:00\n"
     ]
    },
    {
     "output_type": "execute_result",
     "data": {
      "text/plain": [
       "'Feb 29 2020'"
      ]
     },
     "metadata": {},
     "execution_count": 7
    }
   ],
   "metadata": {}
  },
  {
   "cell_type": "code",
   "execution_count": 12,
   "source": [
    "# 我们可以创建一个自己的module, 例如在现在的wd中的areas.py \n",
    "\n",
    "import areas\n",
    "areas.triangle(3,44)\n",
    "areas.circle(3)\n",
    "\n",
    "# 如果我们在一个module中有sub module，我们需要在这个module中创建一个__init__.py文档来告知系统所有的sub module"
   ],
   "outputs": [
    {
     "output_type": "execute_result",
     "data": {
      "text/plain": [
       "28.274333882308138"
      ]
     },
     "metadata": {},
     "execution_count": 12
    }
   ],
   "metadata": {}
  },
  {
   "cell_type": "code",
   "execution_count": 13,
   "source": [
    "# [next] automation, 首先我们需要确定，是不是需要automation，是否经常用到一个routine，也要考虑到automation 所需要的coding也是有时间和精力成本的"
   ],
   "outputs": [],
   "metadata": {}
  },
  {
   "cell_type": "code",
   "execution_count": 20,
   "source": [
    "import shutil # this means, shell utilities\n",
    "du = shutil.disk_usage(\"/\")\n",
    "print(du)"
   ],
   "outputs": [
    {
     "output_type": "stream",
     "name": "stdout",
     "text": [
      "usage(total=494384795648, used=22409912320, free=356891529216)\n"
     ]
    }
   ],
   "metadata": {}
  },
  {
   "cell_type": "code",
   "execution_count": 21,
   "source": [
    "du.free/du.total*100 # percentage of free disk"
   ],
   "outputs": [
    {
     "output_type": "execute_result",
     "data": {
      "text/plain": [
       "72.1890180194994"
      ]
     },
     "metadata": {},
     "execution_count": 21
    }
   ],
   "metadata": {}
  },
  {
   "cell_type": "code",
   "execution_count": 24,
   "source": [
    "import psutil # python system and process utilities, cpu usage\n",
    "psutil.cpu_percent(0.1) #因为是实时0.1s 内的cpu占用率，所以这个数值每次执行命令的时候会变化\n",
    "psutil.cpu_percent(5)"
   ],
   "outputs": [
    {
     "output_type": "execute_result",
     "data": {
      "text/plain": [
       "17.3"
      ]
     },
     "metadata": {},
     "execution_count": 24
    }
   ],
   "metadata": {}
  },
  {
   "cell_type": "code",
   "execution_count": 35,
   "source": [
    "# 我们可以在创建一个module来演示，例如，health_checks.py \n",
    "import health_checks\n",
    "print(health_checks.check_disk_usage(\"/\"))\n",
    "print(health_checks.check_cpu_usage())"
   ],
   "outputs": [
    {
     "output_type": "stream",
     "name": "stdout",
     "text": [
      "True\n",
      "True\n"
     ]
    }
   ],
   "metadata": {}
  },
  {
   "cell_type": "code",
   "execution_count": null,
   "source": [],
   "outputs": [],
   "metadata": {}
  },
  {
   "cell_type": "code",
   "execution_count": null,
   "source": [],
   "outputs": [],
   "metadata": {}
  }
 ],
 "metadata": {
  "orig_nbformat": 4,
  "language_info": {
   "name": "python",
   "version": "3.9.6",
   "mimetype": "text/x-python",
   "codemirror_mode": {
    "name": "ipython",
    "version": 3
   },
   "pygments_lexer": "ipython3",
   "nbconvert_exporter": "python",
   "file_extension": ".py"
  },
  "kernelspec": {
   "name": "python3",
   "display_name": "Python 3.9.6 64-bit ('ds1': conda)"
  },
  "interpreter": {
   "hash": "c51834b1ae9799b48209906f57f76f8fdfb3733a8a2ba0a3021dea1fb17d7da4"
  }
 },
 "nbformat": 4,
 "nbformat_minor": 2
}