{
 "cells": [
  {
   "cell_type": "code",
   "execution_count": 5,
   "source": [
    "def temp1(x,y):\n",
    "    x += 333 ;\n",
    "    xx = x+y*343\n",
    "    return x, xx\n",
    "\n",
    "ff = temp1(3,33)\n",
    "print(ff, type(ff))\n",
    "print(temp1(3,33))\n",
    "print(type(temp1(3,33)))\n",
    "\n",
    "x1 , x2 = temp1(3,33)\n"
   ],
   "outputs": [
    {
     "output_type": "stream",
     "name": "stdout",
     "text": [
      "(336, 11655) <class 'tuple'>\n",
      "(336, 11655)\n",
      "<class 'tuple'>\n"
     ]
    }
   ],
   "metadata": {}
  },
  {
   "cell_type": "code",
   "execution_count": 4,
   "source": [
    "print(x1,x2)\n",
    "print(type(x1), type(x2))"
   ],
   "outputs": [
    {
     "output_type": "stream",
     "name": "stdout",
     "text": [
      "336 11655\n",
      "<class 'int'> <class 'int'>\n"
     ]
    }
   ],
   "metadata": {}
  },
  {
   "cell_type": "markdown",
   "source": [],
   "metadata": {}
  },
  {
   "cell_type": "code",
   "execution_count": 8,
   "source": [
    "print(ff[1])"
   ],
   "outputs": [
    {
     "output_type": "stream",
     "name": "stdout",
     "text": [
      "11655\n"
     ]
    }
   ],
   "metadata": {}
  },
  {
   "cell_type": "code",
   "execution_count": 13,
   "source": [
    "def is_power_of_two(n):\n",
    "  # Check if the number can be divided by two without a remainder\n",
    "    while n % 2 == 0:\n",
    "        n = n / 2\n",
    "\n",
    "        print(n)    \n",
    "  # If after dividing by two the number is 1, it's a power of two\n",
    "    if n == 1:\n",
    "        return True\n",
    "    return False\n",
    "\n",
    "# print(is_power_of_two(0)) # Should be False\n",
    "print(is_power_of_two(1)) # Should be True\n",
    "print(is_power_of_two(8)) # Should be True\n",
    "print(is_power_of_two(9)) # Should be False"
   ],
   "outputs": [
    {
     "output_type": "stream",
     "name": "stdout",
     "text": [
      "True\n",
      "4.0\n",
      "2.0\n",
      "1.0\n",
      "True\n",
      "False\n"
     ]
    }
   ],
   "metadata": {}
  },
  {
   "cell_type": "code",
   "execution_count": 24,
   "source": [
    "for i in range(5,30,3):\n",
    "    print(i, end=\" xxx \")\n",
    "    print()\n"
   ],
   "outputs": [
    {
     "output_type": "stream",
     "name": "stdout",
     "text": [
      "5 xxx \n",
      "8 xxx \n",
      "11 xxx \n",
      "14 xxx \n",
      "17 xxx \n",
      "20 xxx \n",
      "23 xxx \n",
      "26 xxx \n",
      "29 xxx \n"
     ]
    }
   ],
   "metadata": {}
  },
  {
   "cell_type": "code",
   "execution_count": 26,
   "source": [
    "teams = [ 'Dragons', 'Wolves', 'Pandas', 'Unicorns']\n",
    "for home_team in teams:\n",
    "    for away_team in teams:\n",
    "        while home_team != away_team:\n",
    "            print(home_team+'vs'+away_team)\n",
    "            break\n",
    "        "
   ],
   "outputs": [
    {
     "output_type": "stream",
     "name": "stdout",
     "text": [
      "DragonsvsWolves\n",
      "DragonsvsPandas\n",
      "DragonsvsUnicorns\n",
      "WolvesvsDragons\n",
      "WolvesvsPandas\n",
      "WolvesvsUnicorns\n",
      "PandasvsDragons\n",
      "PandasvsWolves\n",
      "PandasvsUnicorns\n",
      "UnicornsvsDragons\n",
      "UnicornsvsWolves\n",
      "UnicornsvsPandas\n"
     ]
    }
   ],
   "metadata": {}
  },
  {
   "cell_type": "code",
   "execution_count": 40,
   "source": [
    "# Recursion\n",
    "\n",
    "def factorial(n):\n",
    "    if n < 2 :\n",
    "        return 1\n",
    "    return n*factorial(n-1)\n",
    "\n",
    "factorial(200)"
   ],
   "outputs": [
    {
     "output_type": "execute_result",
     "data": {
      "text/plain": [
       "788657867364790503552363213932185062295135977687173263294742533244359449963403342920304284011984623904177212138919638830257642790242637105061926624952829931113462857270763317237396988943922445621451664240254033291864131227428294853277524242407573903240321257405579568660226031904170324062351700858796178922222789623703897374720000000000000000000000000000000000000000000000000"
      ]
     },
     "metadata": {},
     "execution_count": 40
    }
   ],
   "metadata": {}
  },
  {
   "cell_type": "code",
   "execution_count": 41,
   "source": [
    "for x in range(1, 10, 3):\n",
    "    print(x)"
   ],
   "outputs": [
    {
     "output_type": "stream",
     "name": "stdout",
     "text": [
      "1\n",
      "4\n",
      "7\n"
     ]
    }
   ],
   "metadata": {}
  },
  {
   "cell_type": "code",
   "execution_count": 46,
   "source": [
    "x1 = 'sss'\n",
    "x2 = 333\n",
    "\n",
    "print('dfdf {x2}, ff {x1}'.format(x1= x1, x2= x2))\n",
    "print('dfdf {x2}, ff {x1}')"
   ],
   "outputs": [
    {
     "output_type": "stream",
     "name": "stdout",
     "text": [
      "dfdf 333, ff sss\n",
      "dfdf {x2}, ff {x1}\n"
     ]
    }
   ],
   "metadata": {}
  },
  {
   "cell_type": "code",
   "execution_count": 47,
   "source": [
    "test = [2,3,4,5]\n",
    "test.pop(2)"
   ],
   "outputs": [
    {
     "output_type": "execute_result",
     "data": {
      "text/plain": [
       "4"
      ]
     },
     "metadata": {},
     "execution_count": 47
    }
   ],
   "metadata": {}
  },
  {
   "cell_type": "code",
   "execution_count": 48,
   "source": [
    "test"
   ],
   "outputs": [
    {
     "output_type": "execute_result",
     "data": {
      "text/plain": [
       "[2, 3, 5]"
      ]
     },
     "metadata": {},
     "execution_count": 48
    }
   ],
   "metadata": {}
  },
  {
   "cell_type": "code",
   "execution_count": 52,
   "source": [
    "def file_size(file_info):\n",
    "\tname, type, size = file_info\n",
    "\treturn(\"{:.2f}\".format(size / 1024))\n",
    "\n",
    "print(file_size(('Class Assignment', 'docx', 17875))) # Should print 17.46\n",
    "print(file_size(['Class Assignment', 'docx', 17875])) # Should print 17.46"
   ],
   "outputs": [
    {
     "output_type": "stream",
     "name": "stdout",
     "text": [
      "17.46\n",
      "17.46\n"
     ]
    }
   ],
   "metadata": {}
  },
  {
   "cell_type": "code",
   "execution_count": 53,
   "source": [
    "import timeit\n",
    "timeit.timeit('\"-\".join(str(n) for n in range(10000))', number= 10000)"
   ],
   "outputs": [
    {
     "output_type": "execute_result",
     "data": {
      "text/plain": [
       "15.38620487501612"
      ]
     },
     "metadata": {},
     "execution_count": 53
    }
   ],
   "metadata": {}
  },
  {
   "cell_type": "code",
   "execution_count": 67,
   "source": [
    "aninal = [['f',3] , ['ff', 32], ['sdf', 4111]]\n",
    "\n",
    "for a, i  in enumerate(aninal) :\n",
    "    print (a, i)\n",
    "    print(type(i))\n"
   ],
   "outputs": [
    {
     "output_type": "stream",
     "name": "stdout",
     "text": [
      "0 ['f', 3]\n",
      "<class 'list'>\n",
      "1 ['ff', 32]\n",
      "<class 'list'>\n",
      "2 ['sdf', 4111]\n",
      "<class 'list'>\n"
     ]
    }
   ],
   "metadata": {}
  },
  {
   "cell_type": "code",
   "execution_count": 69,
   "source": [
    "# list compprehension\n",
    "m = [i*7 for i in range(10)]\n",
    "print(m)"
   ],
   "outputs": [
    {
     "output_type": "stream",
     "name": "stdout",
     "text": [
      "[0, 7, 14, 21, 28, 35, 42, 49, 56, 63]\n"
     ]
    }
   ],
   "metadata": {}
  },
  {
   "cell_type": "code",
   "execution_count": 70,
   "source": [
    "m.pop(1)"
   ],
   "outputs": [
    {
     "output_type": "execute_result",
     "data": {
      "text/plain": [
       "7"
      ]
     },
     "metadata": {},
     "execution_count": 70
    }
   ],
   "metadata": {}
  },
  {
   "cell_type": "code",
   "execution_count": 71,
   "source": [
    "m"
   ],
   "outputs": [
    {
     "output_type": "execute_result",
     "data": {
      "text/plain": [
       "[0, 14, 21, 28, 35, 42, 49, 56, 63]"
      ]
     },
     "metadata": {},
     "execution_count": 71
    }
   ],
   "metadata": {}
  },
  {
   "cell_type": "code",
   "execution_count": 74,
   "source": [
    "m.remove(m[3])\n",
    "m"
   ],
   "outputs": [
    {
     "output_type": "execute_result",
     "data": {
      "text/plain": [
       "[14, 21, 28, 42, 49, 56, 63]"
      ]
     },
     "metadata": {},
     "execution_count": 74
    }
   ],
   "metadata": {}
  },
  {
   "cell_type": "code",
   "execution_count": 82,
   "source": [
    "def octal_to_string(octal):\n",
    "    result = \"\"\n",
    "    value_letters = [(4,\"r\"),(2,\"w\"),(1,\"x\")]\n",
    "    \n",
    "    # Iterate over each of the digits in octal\n",
    "    for number in [int(n) for n in str(octal)]:\n",
    "        # print(number) \n",
    "        # print(type(number))\n",
    "       \n",
    "        if number == 7 :\n",
    "            user = \"rwx\"\n",
    "        elif number == 6 :\n",
    "            user = \"rw-\"\n",
    "        elif number == 5 :\n",
    "            user = 'r-x'\n",
    "        elif number == 4 :\n",
    "            user = \"r--\"\n",
    "        elif number == 0 :\n",
    "            user = \"---\"\n",
    "        print(user)\n",
    "        result += user\n",
    "\n",
    "    return result\n",
    "    \n",
    "print(octal_to_string(755)) # Should be rwxr-xr-x\n",
    "print(octal_to_string(644)) # Should be rw-r--r--\n",
    "print(octal_to_string(750)) # Should be rwxr-x---\n",
    "print(octal_to_string(600)) # Should be rw-------"
   ],
   "outputs": [
    {
     "output_type": "stream",
     "name": "stdout",
     "text": [
      "rwx\n",
      "r-x\n",
      "r-x\n",
      "rwxr-xr-x\n",
      "rw-\n",
      "r--\n",
      "r--\n",
      "rw-r--r--\n",
      "rwx\n",
      "r-x\n",
      "---\n",
      "rwxr-x---\n",
      "rw-\n",
      "---\n",
      "---\n",
      "rw-------\n"
     ]
    }
   ],
   "metadata": {}
  },
  {
   "cell_type": "code",
   "execution_count": 88,
   "source": [
    "def group_list(group, users):\n",
    "  members = \",\".join(users)\n",
    "  return (group +\": \" + members)\n",
    "     \n",
    "\n",
    "print(group_list(\"Marketing\", [\"Mike\", \"Karen\", \"Jake\", \"Tasha\"])) # Should be \"Marketing: Mike, Karen, Jake, Tasha\"\n",
    "print(group_list(\"Engineering\", [\"Kim\", \"Jay\", \"Tom\"])) # Should be \"Engineering: Kim, Jay, Tom\"\n",
    "print(group_list(\"Users\", \"\")) # Should be \"Users:\""
   ],
   "outputs": [
    {
     "output_type": "stream",
     "name": "stdout",
     "text": [
      "Marketing: Mike,Karen,Jake,Tasha\n",
      "Engineering: Kim,Jay,Tom\n",
      "Users: \n"
     ]
    }
   ],
   "metadata": {}
  },
  {
   "cell_type": "code",
   "execution_count": 89,
   "source": [
    "def guest_list(guests):\n",
    "\tfor i ,j , k in guests:\n",
    "\t\t \n",
    "\t\tprint(\"{} is {} years old and works as {}\".format(i,j,k))\n",
    "\n",
    "guest_list([('Ken', 30, \"Chef\"), (\"Pat\", 35, 'Lawyer'), ('Amanda', 25, \"Engineer\")])\n",
    "\n",
    "#Click Run to submit code\n",
    "\"\"\"\n",
    "Output should match:\n",
    "Ken is 30 years old and works as Chef\n",
    "Pat is 35 years old and works as Lawyer\n",
    "Amanda is 25 years old and works as Engineer\n",
    "\"\"\""
   ],
   "outputs": [
    {
     "output_type": "stream",
     "name": "stdout",
     "text": [
      "Ken is 30 years old and works as Chef\n",
      "Pat is 35 years old and works as Lawyer\n",
      "Amanda is 25 years old and works as Engineer\n"
     ]
    },
    {
     "output_type": "execute_result",
     "data": {
      "text/plain": [
       "'\\nOutput should match:\\nKen is 30 years old and works as Chef\\nPat is 35 years old and works as Lawyer\\nAmanda is 25 years old and works as Engineer\\n'"
      ]
     },
     "metadata": {},
     "execution_count": 89
    }
   ],
   "metadata": {}
  },
  {
   "cell_type": "code",
   "execution_count": 105,
   "source": [
    "x1= [\"Kim\", \"Jay\", \"Tom\"]"
   ],
   "outputs": [],
   "metadata": {}
  },
  {
   "cell_type": "code",
   "execution_count": 113,
   "source": [
    "x1= [\"Kim\", \"Jay\", \"Tom\"]\n",
    "print(x1)\n",
    "x1.remove(\"Kim\")\n",
    "print(x1)\n"
   ],
   "outputs": [
    {
     "output_type": "stream",
     "name": "stdout",
     "text": [
      "['Kim', 'Jay', 'Tom']\n",
      "['Jay', 'Tom']\n"
     ]
    }
   ],
   "metadata": {}
  },
  {
   "cell_type": "code",
   "execution_count": 114,
   "source": [
    "del x1[1]\n",
    "print(x1)"
   ],
   "outputs": [
    {
     "output_type": "stream",
     "name": "stdout",
     "text": [
      "['Jay']\n"
     ]
    }
   ],
   "metadata": {}
  },
  {
   "cell_type": "code",
   "execution_count": 94,
   "source": [
    "xx"
   ],
   "outputs": [
    {
     "output_type": "execute_result",
     "data": {
      "text/plain": [
       "{'ddd': 4}"
      ]
     },
     "metadata": {},
     "execution_count": 94
    }
   ],
   "metadata": {}
  },
  {
   "cell_type": "code",
   "execution_count": 118,
   "source": [
    "xx = {'sdf':333, 'ddd':4}\n",
    "print(xx)\n",
    "del xx['ddd']\n",
    "print(xx)"
   ],
   "outputs": [
    {
     "output_type": "stream",
     "name": "stdout",
     "text": [
      "{'sdf': 333, 'ddd': 4}\n",
      "{'sdf': 333}\n"
     ]
    }
   ],
   "metadata": {}
  },
  {
   "cell_type": "code",
   "execution_count": 121,
   "source": [
    "toc = {\"Introduction\":1, \"Chapter 1\":4, \"Chapter 2\":11, \"Chapter 3\":25, \"Chapter 4\":30}\n",
    "toc[\"Epilogue\"] = 39 # Epilogue starts on page 39\n",
    "toc[\"Chapter 3\"] = 24 # Chapter 3 now starts on page 24\n",
    "print(toc) # What are the current contents of the dictionary?\n",
    "print(\"chapter5\" in toc) # Is there a Chapter 5?"
   ],
   "outputs": [
    {
     "output_type": "stream",
     "name": "stdout",
     "text": [
      "{'Introduction': 1, 'Chapter 1': 4, 'Chapter 2': 11, 'Chapter 3': 24, 'Chapter 4': 30, 'Epilogue': 39}\n",
      "False\n"
     ]
    }
   ],
   "metadata": {}
  },
  {
   "cell_type": "code",
   "execution_count": 134,
   "source": [
    "for i in toc :\n",
    "    print(i)\n",
    "for i  in toc :\n",
    "    print(toc[i])\n",
    "for i , j in toc.items() :\n",
    "    print(i, j )\n",
    "print(toc.keys())\n",
    "print(toc.values())\n"
   ],
   "outputs": [
    {
     "output_type": "stream",
     "name": "stdout",
     "text": [
      "Introduction\n",
      "Chapter 1\n",
      "Chapter 2\n",
      "Chapter 3\n",
      "Chapter 4\n",
      "Epilogue\n",
      "1\n",
      "4\n",
      "11\n",
      "24\n",
      "30\n",
      "39\n",
      "Introduction 1\n",
      "Chapter 1 4\n",
      "Chapter 2 11\n",
      "Chapter 3 24\n",
      "Chapter 4 30\n",
      "Epilogue 39\n",
      "dict_keys(['Introduction', 'Chapter 1', 'Chapter 2', 'Chapter 3', 'Chapter 4', 'Epilogue'])\n",
      "dict_values([1, 4, 11, 24, 30, 39])\n"
     ]
    }
   ],
   "metadata": {}
  },
  {
   "cell_type": "code",
   "execution_count": 140,
   "source": [
    " print(toc)\n",
    " print(toc.get(\"Chapter 1\"))"
   ],
   "outputs": [
    {
     "output_type": "stream",
     "name": "stdout",
     "text": [
      "{'Introduction': 1, 'Chapter 1': 4, 'Chapter 2': 11, 'Chapter 3': 24, 'Chapter 4': 30, 'Epilogue': 39}\n",
      "4\n"
     ]
    }
   ],
   "metadata": {}
  },
  {
   "cell_type": "code",
   "execution_count": 143,
   "source": [
    "toc.keys()"
   ],
   "outputs": [
    {
     "output_type": "execute_result",
     "data": {
      "text/plain": [
       "dict_keys(['Introduction', 'Chapter 1', 'Chapter 2', 'Chapter 3', 'Chapter 4', 'Epilogue'])"
      ]
     },
     "metadata": {},
     "execution_count": 143
    }
   ],
   "metadata": {}
  },
  {
   "cell_type": "code",
   "execution_count": 145,
   "source": [
    "lst1 = list(toc.values())\n",
    "print(4 in lst1)"
   ],
   "outputs": [
    {
     "output_type": "stream",
     "name": "stdout",
     "text": [
      "True\n"
     ]
    }
   ],
   "metadata": {}
  },
  {
   "cell_type": "code",
   "execution_count": 218,
   "source": [
    "def email_list(domains):\n",
    "\temails = []\n",
    "\tfor i in domains.keys():\n",
    "\t\tfor user in domains[i]:\n",
    "\t\t\tfull_address = user + \"@\"+ i\n",
    "\t\t\temails.append(full_address)\n",
    "\treturn(emails)\n",
    "\n",
    "print(email_list({\"gmail.com\": [\"clark.kent\", \"diana.prince\", \"peter.parker\"], \"yahoo.com\": [\"barbara.gordon\", \"jean.grey\"], \"hotmail.com\": [\"bruce.wayne\"]}))"
   ],
   "outputs": [
    {
     "output_type": "stream",
     "name": "stdout",
     "text": [
      "['clark.kent@gmail.com', 'diana.prince@gmail.com', 'peter.parker@gmail.com', 'barbara.gordon@yahoo.com', 'jean.grey@yahoo.com', 'bruce.wayne@hotmail.com']\n"
     ]
    }
   ],
   "metadata": {}
  },
  {
   "cell_type": "code",
   "execution_count": 2,
   "source": [
    "temp1 = {'xx':33, 'yy': 44}\n",
    "\n",
    "local = \"xxz\"\n",
    "value1 = 'admin'\n",
    "temp1[locals]= value1\n",
    "\n",
    "temp1.update({local:value1})\n",
    "print(temp1)"
   ],
   "outputs": [
    {
     "output_type": "stream",
     "name": "stdout",
     "text": [
      "{'xx': 33, 'yy': 44, <built-in function locals>: 'admin', 'xxz': 'admin'}\n"
     ]
    }
   ],
   "metadata": {}
  },
  {
   "cell_type": "code",
   "execution_count": 69,
   "source": [
    "def groups_per_user(group_dictionary):\n",
    "\tuser_groups = {}\n",
    "\t# Go through group_dictionary\n",
    "\tfor i in group_dictionary.keys() :\n",
    "\t\t# Now go through the users in the group\n",
    "\t\t# print(i)\n",
    "\t\tfor j in group_dictionary[i] :\n",
    "\t\t\tlst = list()\n",
    "\t\t\tlst.append(i)\n",
    "\t\t\tif j in user_groups.keys() :\n",
    "\t\t\t\tuser_groups[j] += lst\n",
    "\t\t\telse :\n",
    "\t\t\t\tuser_groups[j] = lst\n",
    "\treturn user_groups\n",
    "print(groups_per_user({\"local\": [\"admin\", \"userA\"],\"public\":  [\"admin\", \"userB\"], \"administrator\": [\"admin\"] }))"
   ],
   "outputs": [
    {
     "output_type": "stream",
     "name": "stdout",
     "text": [
      "{'admin': ['local', 'public', 'administrator'], 'userA': ['local'], 'userB': ['public']}\n"
     ]
    }
   ],
   "metadata": {}
  },
  {
   "cell_type": "code",
   "execution_count": 76,
   "source": [
    "def format_address(address_string):\n",
    "\n",
    "    element_all = address_string.split()\n",
    "\n",
    "    elemment_number = element_all[0]\n",
    "    element_street = element_all[1:]\n",
    "    street = \"\"\n",
    "    for i in element_street :\n",
    "        street +=  \" \"+ i\n",
    "\n",
    "    return \"house number {} on street named {}\".format(elemment_number,street)\n",
    "\n",
    "print(format_address(\"123 Main Street\"))\n",
    "# Should print: \"house number 123 on street named Main Street\"\n",
    "\n",
    "print(format_address(\"1001 1st Ave\"))\n",
    "# Should print: \"house number 1001 on street named 1st Ave\"\n",
    "\n",
    "print(format_address(\"55 North Center Drive\"))\n",
    "# Should print \"house number 55 on street named North Center Drive\""
   ],
   "outputs": [
    {
     "output_type": "stream",
     "name": "stdout",
     "text": [
      "house number 123 on street named  Main Street\n",
      "house number 1001 on street named  1st Ave\n",
      "house number 55 on street named  North Center Drive\n"
     ]
    }
   ],
   "metadata": {}
  },
  {
   "cell_type": "code",
   "execution_count": 86,
   "source": [
    "def highlight_word(sentence, word):\n",
    "    i = sentence.index(word)\n",
    "\n",
    "\n",
    "\n",
    "    return(sentence[:i] + ( word.upper()) + ( sentence[(i+len(word)):]))\n",
    "\n",
    "\n",
    "print(highlight_word(\"Have a nice day\", \"nice\"))\n",
    "print(highlight_word(\"Shhh, don't be so loud!\", \"loud\"))\n",
    "print(highlight_word(\"Automating with Python is fun\", \"fun\"))"
   ],
   "outputs": [
    {
     "output_type": "stream",
     "name": "stdout",
     "text": [
      "Have a NICE day\n",
      "Shhh, don't be so LOUD!\n",
      "Automating with Python is FUN\n"
     ]
    }
   ],
   "metadata": {}
  },
  {
   "cell_type": "code",
   "execution_count": 106,
   "source": [
    "def combine_lists(list1, list2):\n",
    "\n",
    "    list1_reverse = list1[::-1]\n",
    "    print(list1_reverse)\n",
    "\n",
    "    for i in list1_reverse :\n",
    "        list2.append(i)\n",
    "    return list2\n",
    "  \n",
    "\t\n",
    "Jamies_list = [\"Alice\", \"Cindy\", \"Bobby\", \"Jan\", \"Peter\"]\n",
    "Drews_list = [\"Mike\", \"Carol\", \"Greg\", \"Marcia\"]\n",
    "\n",
    "print(combine_lists(Jamies_list, Drews_list))"
   ],
   "outputs": [
    {
     "output_type": "stream",
     "name": "stdout",
     "text": [
      "['Peter', 'Jan', 'Bobby', 'Cindy', 'Alice']\n",
      "['Mike', 'Carol', 'Greg', 'Marcia', 'Peter', 'Jan', 'Bobby', 'Cindy', 'Alice']\n"
     ]
    }
   ],
   "metadata": {}
  },
  {
   "cell_type": "code",
   "execution_count": 107,
   "source": [
    "def combine_lists(list1, list2):\n",
    "\n",
    "    list1_reverse = list1[::-1]\n",
    "    print(list1_reverse)\n",
    "\n",
    "    list1_reverse.extend(list2)\n",
    "    return list1_reverse\n",
    "  \n",
    "\t\n",
    "Jamies_list = [\"Alice\", \"Cindy\", \"Bobby\", \"Jan\", \"Peter\"]\n",
    "Drews_list = [\"Mike\", \"Carol\", \"Greg\", \"Marcia\"]\n",
    "\n",
    "print(combine_lists(Jamies_list, Drews_list))"
   ],
   "outputs": [
    {
     "output_type": "stream",
     "name": "stdout",
     "text": [
      "['Peter', 'Jan', 'Bobby', 'Cindy', 'Alice']\n",
      "['Peter', 'Jan', 'Bobby', 'Cindy', 'Alice', 'Mike', 'Carol', 'Greg', 'Marcia']\n"
     ]
    }
   ],
   "metadata": {}
  },
  {
   "cell_type": "code",
   "execution_count": 109,
   "source": [
    "def squares(start, end):\n",
    "\treturn [ x**2 for x in range(start, end+1) ]\n",
    "\n",
    "print(squares(2, 3)) # Should be [4, 9]\n",
    "print(squares(1, 5)) # Should be [1, 4, 9, 16, 25]\n",
    "print(squares(0, 10)) # Should be [0, 1, 4, 9, 16, 25, 36, 49, 64, 81, 100]"
   ],
   "outputs": [
    {
     "output_type": "stream",
     "name": "stdout",
     "text": [
      "[4, 9]\n",
      "[1, 4, 9, 16, 25]\n",
      "[0, 1, 4, 9, 16, 25, 36, 49, 64, 81, 100]\n"
     ]
    }
   ],
   "metadata": {}
  },
  {
   "cell_type": "code",
   "execution_count": 110,
   "source": [
    "def car_listing(car_prices):\n",
    "  result = \"\"\n",
    "  for i in car_prices.keys() :\n",
    "    result += \"{} costs {} dollars\".format(i, car_prices[i]) + \"\\n\"\n",
    "  return result\n",
    "\n",
    "print(car_listing({\"Kia Soul\":19000, \"Lamborghini Diablo\":55000, \"Ford Fiesta\":13000, \"Toyota Prius\":24000}))"
   ],
   "outputs": [
    {
     "output_type": "stream",
     "name": "stdout",
     "text": [
      "Kia Soul costs 19000 dollars\n",
      "Lamborghini Diablo costs 55000 dollars\n",
      "Ford Fiesta costs 13000 dollars\n",
      "Toyota Prius costs 24000 dollars\n",
      "\n"
     ]
    }
   ],
   "metadata": {}
  },
  {
   "cell_type": "code",
   "execution_count": 112,
   "source": [
    "def combine_guests(guests1, guests2):\n",
    "  # Combine both dictionaries into one, with each key listed \n",
    "  # only once, and the value from guests1 taking precedence\n",
    "  guests2.update(guests1)\n",
    "  return guests2\n",
    "\n",
    "Rorys_guests = { \"Adam\":2, \"Brenda\":3, \"David\":1, \"Jose\":3, \"Charlotte\":2, \"Terry\":1, \"Robert\":4}\n",
    "Taylors_guests = { \"David\":4, \"Nancy\":1, \"Robert\":2, \"Adam\":1, \"Samantha\":3, \"Chris\":5}\n",
    "\n",
    "print(combine_guests(Rorys_guests, Taylors_guests))\n"
   ],
   "outputs": [
    {
     "output_type": "stream",
     "name": "stdout",
     "text": [
      "{'David': 1, 'Nancy': 1, 'Robert': 4, 'Adam': 2, 'Samantha': 3, 'Chris': 5, 'Brenda': 3, 'Jose': 3, 'Charlotte': 2, 'Terry': 1}\n"
     ]
    }
   ],
   "metadata": {}
  },
  {
   "cell_type": "code",
   "execution_count": 119,
   "source": [
    "def count_letters(text):\n",
    "  result = {}\n",
    "  # Go through each letter in the text\n",
    "  for letter in text.lower() :\n",
    "    print(text.lower())\n",
    "    # Check if the letter needs to be counted or not\n",
    "    if letter.isalpha() == True :\n",
    "    # Add or increment the value in the dictionary\n",
    "        print(letter.isalpha())\n",
    "        result[letter] = result[letter] + 1\n",
    "  return result\n",
    "\n",
    "print(count_letters(\"AaBbCc\"))\n",
    "# Should be {'a': 2, 'b': 2, 'c': 2}\n",
    "\n",
    "# print(count_letters(\"Math is fun! 2+2=4\"))\n",
    "# # Should be {'m': 1, 'a': 1, 't': 1, 'h': 1, 'i': 1, 's': 1, 'f': 1, 'u': 1, 'n': 1}\n",
    "\n",
    "# print(count_letters(\"This is a sentence.\"))\n",
    "# # Should be {'t': 2, 'h': 1, 'i': 2, 's': 3, 'a': 1, 'e': 3, 'n': 2, 'c': 1}"
   ],
   "outputs": [
    {
     "output_type": "stream",
     "name": "stdout",
     "text": [
      "aabbcc\n",
      "True\n"
     ]
    },
    {
     "output_type": "error",
     "ename": "KeyError",
     "evalue": "'a'",
     "traceback": [
      "\u001b[0;31m---------------------------------------------------------------------------\u001b[0m",
      "\u001b[0;31mKeyError\u001b[0m                                  Traceback (most recent call last)",
      "\u001b[0;32m<ipython-input-119-d672250c5f05>\u001b[0m in \u001b[0;36m<module>\u001b[0;34m\u001b[0m\n\u001b[1;32m     11\u001b[0m   \u001b[0;32mreturn\u001b[0m \u001b[0mresult\u001b[0m\u001b[0;34m\u001b[0m\u001b[0;34m\u001b[0m\u001b[0m\n\u001b[1;32m     12\u001b[0m \u001b[0;34m\u001b[0m\u001b[0m\n\u001b[0;32m---> 13\u001b[0;31m \u001b[0mprint\u001b[0m\u001b[0;34m(\u001b[0m\u001b[0mcount_letters\u001b[0m\u001b[0;34m(\u001b[0m\u001b[0;34m\"AaBbCc\"\u001b[0m\u001b[0;34m)\u001b[0m\u001b[0;34m)\u001b[0m\u001b[0;34m\u001b[0m\u001b[0;34m\u001b[0m\u001b[0m\n\u001b[0m\u001b[1;32m     14\u001b[0m \u001b[0;31m# Should be {'a': 2, 'b': 2, 'c': 2}\u001b[0m\u001b[0;34m\u001b[0m\u001b[0;34m\u001b[0m\u001b[0;34m\u001b[0m\u001b[0m\n\u001b[1;32m     15\u001b[0m \u001b[0;34m\u001b[0m\u001b[0m\n",
      "\u001b[0;32m<ipython-input-119-d672250c5f05>\u001b[0m in \u001b[0;36mcount_letters\u001b[0;34m(text)\u001b[0m\n\u001b[1;32m      8\u001b[0m     \u001b[0;31m# Add or increment the value in the dictionary\u001b[0m\u001b[0;34m\u001b[0m\u001b[0;34m\u001b[0m\u001b[0;34m\u001b[0m\u001b[0m\n\u001b[1;32m      9\u001b[0m         \u001b[0mprint\u001b[0m\u001b[0;34m(\u001b[0m\u001b[0mletter\u001b[0m\u001b[0;34m.\u001b[0m\u001b[0misalpha\u001b[0m\u001b[0;34m(\u001b[0m\u001b[0;34m)\u001b[0m\u001b[0;34m)\u001b[0m\u001b[0;34m\u001b[0m\u001b[0;34m\u001b[0m\u001b[0m\n\u001b[0;32m---> 10\u001b[0;31m         \u001b[0mresult\u001b[0m\u001b[0;34m[\u001b[0m\u001b[0mletter\u001b[0m\u001b[0;34m]\u001b[0m \u001b[0;34m=\u001b[0m \u001b[0mresult\u001b[0m\u001b[0;34m[\u001b[0m\u001b[0mletter\u001b[0m\u001b[0;34m]\u001b[0m \u001b[0;34m+\u001b[0m \u001b[0;36m1\u001b[0m\u001b[0;34m\u001b[0m\u001b[0;34m\u001b[0m\u001b[0m\n\u001b[0m\u001b[1;32m     11\u001b[0m   \u001b[0;32mreturn\u001b[0m \u001b[0mresult\u001b[0m\u001b[0;34m\u001b[0m\u001b[0;34m\u001b[0m\u001b[0m\n\u001b[1;32m     12\u001b[0m \u001b[0;34m\u001b[0m\u001b[0m\n",
      "\u001b[0;31mKeyError\u001b[0m: 'a'"
     ]
    }
   ],
   "metadata": {}
  },
  {
   "cell_type": "code",
   "execution_count": null,
   "source": [],
   "outputs": [],
   "metadata": {}
  }
 ],
 "metadata": {
  "orig_nbformat": 4,
  "language_info": {
   "name": "python",
   "version": "3.9.6",
   "mimetype": "text/x-python",
   "codemirror_mode": {
    "name": "ipython",
    "version": 3
   },
   "pygments_lexer": "ipython3",
   "nbconvert_exporter": "python",
   "file_extension": ".py"
  },
  "kernelspec": {
   "name": "python3",
   "display_name": "Python 3.9.6 64-bit ('ds1': conda)"
  },
  "interpreter": {
   "hash": "c51834b1ae9799b48209906f57f76f8fdfb3733a8a2ba0a3021dea1fb17d7da4"
  }
 },
 "nbformat": 4,
 "nbformat_minor": 2
}