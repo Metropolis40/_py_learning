{
 "cells": [
  {
   "cell_type": "code",
   "execution_count": 30,
   "source": [
    "import shutil\n",
    "\n",
    "du = shutil.disk_usage(\"/\")\n",
    "\n",
    "print(du)"
   ],
   "outputs": [
    {
     "output_type": "stream",
     "name": "stdout",
     "text": [
      "usage(total=494384795648, used=22409912320, free=355279486976)\n"
     ]
    }
   ],
   "metadata": {}
  },
  {
   "cell_type": "code",
   "execution_count": 31,
   "source": [
    "print(du)"
   ],
   "outputs": [
    {
     "output_type": "stream",
     "name": "stdout",
     "text": [
      "usage(total=494384795648, used=22409912320, free=355279486976)\n"
     ]
    }
   ],
   "metadata": {}
  },
  {
   "cell_type": "code",
   "execution_count": 32,
   "source": [
    "du.free/du.total*100"
   ],
   "outputs": [
    {
     "output_type": "execute_result",
     "data": {
      "text/plain": [
       "71.86294766818791"
      ]
     },
     "metadata": {},
     "execution_count": 32
    }
   ],
   "metadata": {}
  },
  {
   "cell_type": "code",
   "execution_count": 33,
   "source": [
    "import psutil # check cpu usage"
   ],
   "outputs": [],
   "metadata": {}
  },
  {
   "cell_type": "code",
   "execution_count": 34,
   "source": [
    "psutil.cpu_percent(0.1) # in this xx seconds interval, what is the cpu usage percentage"
   ],
   "outputs": [
    {
     "output_type": "execute_result",
     "data": {
      "text/plain": [
       "14.6"
      ]
     },
     "metadata": {},
     "execution_count": 34
    }
   ],
   "metadata": {}
  },
  {
   "cell_type": "code",
   "execution_count": 35,
   "source": [
    "psutil.cpu_percent(0.5) # takes longer"
   ],
   "outputs": [
    {
     "output_type": "execute_result",
     "data": {
      "text/plain": [
       "7.7"
      ]
     },
     "metadata": {},
     "execution_count": 35
    }
   ],
   "metadata": {}
  },
  {
   "cell_type": "code",
   "execution_count": 36,
   "source": [
    "#!/usr/bin/env python3\n",
    "import shutil\n",
    "import psutil\n",
    "\n",
    "def check_disk_usage(disk) :\n",
    "    du = shutil.disk_usage(disk)\n",
    "    free = du.free / du.total *100\n",
    "    return free > 20\n",
    "\n",
    "def check_cpu_usage() :\n",
    "    usage = psutil.cpu_percent(1) \n",
    "    return usage < 75\n",
    "\n",
    "if not check_disk_usage(\"/\") or not check_cpu_usage :\n",
    "    print(\"ERROR\")\n",
    "else :\n",
    "    print(\"Every thing is fine\")"
   ],
   "outputs": [
    {
     "output_type": "stream",
     "name": "stdout",
     "text": [
      "Every thing is fine\n"
     ]
    }
   ],
   "metadata": {}
  },
  {
   "cell_type": "markdown",
   "source": [
    "i.e. shebang. If the kernel finds that the first two bytes are #! it uses the rest of the line as an interpreter and passes the file as an argument. So, to do this, the file needs to have execute permission."
   ],
   "metadata": {}
  },
  {
   "cell_type": "code",
   "execution_count": 51,
   "source": [
    "os.getcwd()"
   ],
   "outputs": [
    {
     "output_type": "execute_result",
     "data": {
      "text/plain": [
       "'/Users/taohuang/Library/Mobile Documents/com~apple~CloudDocs/Metropolis40/_python_OS_automation'"
      ]
     },
     "metadata": {},
     "execution_count": 51
    }
   ],
   "metadata": {}
  },
  {
   "cell_type": "code",
   "execution_count": 52,
   "source": [
    "file2 = open(\"spider.txt\")"
   ],
   "outputs": [],
   "metadata": {}
  },
  {
   "cell_type": "code",
   "execution_count": 55,
   "source": [
    "print(file2.read(3))"
   ],
   "outputs": [
    {
     "output_type": "stream",
     "name": "stdout",
     "text": [
      "sh:\n"
     ]
    }
   ],
   "metadata": {}
  },
  {
   "cell_type": "code",
   "execution_count": 56,
   "source": [
    "print(file2.readlines())"
   ],
   "outputs": [
    {
     "output_type": "stream",
     "name": "stdout",
     "text": [
      "[' command not found: test1.py\\n', '(ds1) taohuang@taos-MacBook-Air _python_OS_automation % ls\\n', 'part 1 start 3 final project.ipynb      part 1 start2 OOP.ipynb                 start.ipynb\\n', 'part 1 start.ipynb                      part 2 py interacting with OS.ipynb     test1.py\\n', '(ds1) taohuang@taos-MacBook-Air _python_OS_automation % test1.py\\n', 'zsh: command not found: test1.py\\n', '(ds1) taohuang@taos-MacBook-Air _python_OS_automation % ./he\\n', 'zsh: no such file or directory: ./he\\n', '(ds1) taohuang@taos-MacBook-Air _python_OS_automation % ./test1.py\\n', 'Every thing is fine\\n', '(ds1) taohuang@taos-MacBook-Air _python_OS_automation % test1.py\\n', 'zsh: command not found: test1.py\\n', '(ds1) taohuang@taos-MacBook-Air _python_OS_automation % ../test1.py\\n', 'zsh: no such file or directory: ../test1.py\\n', '(ds1) taohuang@taos-MacBook-Air _python_OS_automation % ./tes']\n"
     ]
    }
   ],
   "metadata": {}
  },
  {
   "cell_type": "code",
   "execution_count": 53,
   "source": [
    "file2.close() # 关闭file2 接触对这个file的lock"
   ],
   "outputs": [],
   "metadata": {}
  },
  {
   "cell_type": "code",
   "execution_count": 58,
   "source": [
    "print(file2.read())"
   ],
   "outputs": [
    {
     "output_type": "stream",
     "name": "stdout",
     "text": [
      "\n"
     ]
    }
   ],
   "metadata": {}
  },
  {
   "cell_type": "code",
   "execution_count": 69,
   "source": [
    "with open(\"spider.txt\") as file1 :\n",
    "    part1 = file1.read()\n",
    "    print(part1.count)"
   ],
   "outputs": [
    {
     "output_type": "stream",
     "name": "stdout",
     "text": [
      "<built-in method count of str object at 0x7fc104c951f0>\n"
     ]
    }
   ],
   "metadata": {}
  },
  {
   "cell_type": "code",
   "execution_count": 71,
   "source": [
    "with open(\"spider.txt\") as file :\n",
    "    for line in file :\n",
    "        print(line.strip().upper())"
   ],
   "outputs": [
    {
     "output_type": "stream",
     "name": "stdout",
     "text": [
      "SH: COMMAND NOT FOUND: TEST1.PY\n",
      "(DS1) TAOHUANG@TAOS-MACBOOK-AIR _PYTHON_OS_AUTOMATION % LS\n",
      "PART 1 START 3 FINAL PROJECT.IPYNB      PART 1 START2 OOP.IPYNB                 START.IPYNB\n",
      "PART 1 START.IPYNB                      PART 2 PY INTERACTING WITH OS.IPYNB     TEST1.PY\n",
      "(DS1) TAOHUANG@TAOS-MACBOOK-AIR _PYTHON_OS_AUTOMATION % TEST1.PY\n",
      "ZSH: COMMAND NOT FOUND: TEST1.PY\n",
      "(DS1) TAOHUANG@TAOS-MACBOOK-AIR _PYTHON_OS_AUTOMATION % ./HE\n",
      "ZSH: NO SUCH FILE OR DIRECTORY: ./HE\n",
      "(DS1) TAOHUANG@TAOS-MACBOOK-AIR _PYTHON_OS_AUTOMATION % ./TEST1.PY\n",
      "EVERY THING IS FINE\n",
      "(DS1) TAOHUANG@TAOS-MACBOOK-AIR _PYTHON_OS_AUTOMATION % TEST1.PY\n",
      "ZSH: COMMAND NOT FOUND: TEST1.PY\n",
      "(DS1) TAOHUANG@TAOS-MACBOOK-AIR _PYTHON_OS_AUTOMATION % ../TEST1.PY\n",
      "ZSH: NO SUCH FILE OR DIRECTORY: ../TEST1.PY\n",
      "(DS1) TAOHUANG@TAOS-MACBOOK-AIR _PYTHON_OS_AUTOMATION % ./TES\n"
     ]
    }
   ],
   "metadata": {}
  },
  {
   "cell_type": "code",
   "execution_count": 72,
   "source": [
    "file = open(\"spider.txt\")\n",
    "\n",
    "lines = file.readlines()\n",
    "file.close()"
   ],
   "outputs": [],
   "metadata": {}
  },
  {
   "cell_type": "code",
   "execution_count": 83,
   "source": [
    "lines.sort()\n",
    "# print(lines)\n",
    "\n",
    "lines_new =\"\"\n",
    "for line in lines :\n",
    "    print(line)\n",
    "    line.replace(\"\\n\", \"\").strip()\n",
    "    lines_new += line\n",
    "print(lines_new.strip())"
   ],
   "outputs": [
    {
     "output_type": "stream",
     "name": "stdout",
     "text": [
      "(ds1) taohuang@taos-MacBook-Air _python_OS_automation % ../test1.py\n",
      "\n",
      "(ds1) taohuang@taos-MacBook-Air _python_OS_automation % ./he\n",
      "\n",
      "(ds1) taohuang@taos-MacBook-Air _python_OS_automation % ./tes\n",
      "(ds1) taohuang@taos-MacBook-Air _python_OS_automation % ./test1.py\n",
      "\n",
      "(ds1) taohuang@taos-MacBook-Air _python_OS_automation % ls\n",
      "\n",
      "(ds1) taohuang@taos-MacBook-Air _python_OS_automation % test1.py\n",
      "\n",
      "(ds1) taohuang@taos-MacBook-Air _python_OS_automation % test1.py\n",
      "\n",
      "Every thing is fine\n",
      "\n",
      "part 1 start 3 final project.ipynb      part 1 start2 OOP.ipynb                 start.ipynb\n",
      "\n",
      "part 1 start.ipynb                      part 2 py interacting with OS.ipynb     test1.py\n",
      "\n",
      "sh: command not found: test1.py\n",
      "\n",
      "zsh: command not found: test1.py\n",
      "\n",
      "zsh: command not found: test1.py\n",
      "\n",
      "zsh: no such file or directory: ../test1.py\n",
      "\n",
      "zsh: no such file or directory: ./he\n",
      "\n",
      "(ds1) taohuang@taos-MacBook-Air _python_OS_automation % ../test1.py\n",
      "(ds1) taohuang@taos-MacBook-Air _python_OS_automation % ./he\n",
      "(ds1) taohuang@taos-MacBook-Air _python_OS_automation % ./tes(ds1) taohuang@taos-MacBook-Air _python_OS_automation % ./test1.py\n",
      "(ds1) taohuang@taos-MacBook-Air _python_OS_automation % ls\n",
      "(ds1) taohuang@taos-MacBook-Air _python_OS_automation % test1.py\n",
      "(ds1) taohuang@taos-MacBook-Air _python_OS_automation % test1.py\n",
      "Every thing is fine\n",
      "part 1 start 3 final project.ipynb      part 1 start2 OOP.ipynb                 start.ipynb\n",
      "part 1 start.ipynb                      part 2 py interacting with OS.ipynb     test1.py\n",
      "sh: command not found: test1.py\n",
      "zsh: command not found: test1.py\n",
      "zsh: command not found: test1.py\n",
      "zsh: no such file or directory: ../test1.py\n",
      "zsh: no such file or directory: ./he\n"
     ]
    }
   ],
   "metadata": {}
  },
  {
   "cell_type": "code",
   "execution_count": 110,
   "source": [
    "with open(\"spider.txt\", \"r+\") as file :\n",
    "    file.write(\"it wasa dark and stormy night ----- \")\n",
    " \n",
    "\n"
   ],
   "outputs": [],
   "metadata": {}
  },
  {
   "cell_type": "code",
   "execution_count": 111,
   "source": [
    "with open(\"spider.txt\", \"r\") as file1 :\n",
    "    print(file1.readlines())"
   ],
   "outputs": [
    {
     "output_type": "stream",
     "name": "stdout",
     "text": [
      "['it wasa dark and stormy night ----- ']\n"
     ]
    }
   ],
   "metadata": {}
  },
  {
   "cell_type": "code",
   "execution_count": 118,
   "source": [
    "with open(\"spider.txt\", 'a') as file2 :\n",
    "    \n",
    "    file2.write(\"here we change it again .. and again\")"
   ],
   "outputs": [],
   "metadata": {}
  },
  {
   "cell_type": "code",
   "execution_count": 119,
   "source": [
    "with open(\"spider.txt\", \"r\") as file3 :\n",
    "    print(file3.read())"
   ],
   "outputs": [
    {
     "output_type": "stream",
     "name": "stdout",
     "text": [
      "it wasa dark and stormy night ----- here we change it againhere we change it again .. and again\n"
     ]
    }
   ],
   "metadata": {}
  },
  {
   "cell_type": "code",
   "execution_count": 25,
   "source": [
    "with open(\"spider_2.txt\" , 'w') as file_output :\n",
    "    file_output.write(\"this is a file to be tested , ... ... \")"
   ],
   "outputs": [],
   "metadata": {}
  },
  {
   "cell_type": "code",
   "execution_count": 26,
   "source": [
    "import os\n",
    "os.remove(\"spider_2.txt\")"
   ],
   "outputs": [],
   "metadata": {}
  },
  {
   "cell_type": "code",
   "execution_count": 27,
   "source": [
    "os.path.exists(\"spider_2.txt\")"
   ],
   "outputs": [
    {
     "output_type": "execute_result",
     "data": {
      "text/plain": [
       "False"
      ]
     },
     "metadata": {},
     "execution_count": 27
    }
   ],
   "metadata": {}
  },
  {
   "cell_type": "code",
   "execution_count": 28,
   "source": [
    "os.rename(\"spider_2.txt\", \"new.txt\")"
   ],
   "outputs": [
    {
     "output_type": "error",
     "ename": "FileNotFoundError",
     "evalue": "[Errno 2] No such file or directory: 'spider_2.txt' -> 'new.txt'",
     "traceback": [
      "\u001b[0;31m---------------------------------------------------------------------------\u001b[0m",
      "\u001b[0;31mFileNotFoundError\u001b[0m                         Traceback (most recent call last)",
      "\u001b[0;32m<ipython-input-28-e3399cd8f193>\u001b[0m in \u001b[0;36m<module>\u001b[0;34m\u001b[0m\n\u001b[0;32m----> 1\u001b[0;31m \u001b[0mos\u001b[0m\u001b[0;34m.\u001b[0m\u001b[0mrename\u001b[0m\u001b[0;34m(\u001b[0m\u001b[0;34m\"spider_2.txt\"\u001b[0m\u001b[0;34m,\u001b[0m \u001b[0;34m\"new.txt\"\u001b[0m\u001b[0;34m)\u001b[0m\u001b[0;34m\u001b[0m\u001b[0;34m\u001b[0m\u001b[0m\n\u001b[0m",
      "\u001b[0;31mFileNotFoundError\u001b[0m: [Errno 2] No such file or directory: 'spider_2.txt' -> 'new.txt'"
     ]
    }
   ],
   "metadata": {}
  },
  {
   "cell_type": "code",
   "execution_count": 29,
   "source": [
    "os.path.getsize('new.txt')"
   ],
   "outputs": [
    {
     "output_type": "error",
     "ename": "FileNotFoundError",
     "evalue": "[Errno 2] No such file or directory: 'new.txt'",
     "traceback": [
      "\u001b[0;31m---------------------------------------------------------------------------\u001b[0m",
      "\u001b[0;31mFileNotFoundError\u001b[0m                         Traceback (most recent call last)",
      "\u001b[0;32m<ipython-input-29-d5149ab96eb5>\u001b[0m in \u001b[0;36m<module>\u001b[0;34m\u001b[0m\n\u001b[0;32m----> 1\u001b[0;31m \u001b[0mos\u001b[0m\u001b[0;34m.\u001b[0m\u001b[0mpath\u001b[0m\u001b[0;34m.\u001b[0m\u001b[0mgetsize\u001b[0m\u001b[0;34m(\u001b[0m\u001b[0;34m'new.txt'\u001b[0m\u001b[0;34m)\u001b[0m\u001b[0;34m\u001b[0m\u001b[0;34m\u001b[0m\u001b[0m\n\u001b[0m",
      "\u001b[0;32m~/opt/miniconda3/envs/ds1/lib/python3.9/genericpath.py\u001b[0m in \u001b[0;36mgetsize\u001b[0;34m(filename)\u001b[0m\n\u001b[1;32m     48\u001b[0m \u001b[0;32mdef\u001b[0m \u001b[0mgetsize\u001b[0m\u001b[0;34m(\u001b[0m\u001b[0mfilename\u001b[0m\u001b[0;34m)\u001b[0m\u001b[0;34m:\u001b[0m\u001b[0;34m\u001b[0m\u001b[0;34m\u001b[0m\u001b[0m\n\u001b[1;32m     49\u001b[0m     \u001b[0;34m\"\"\"Return the size of a file, reported by os.stat().\"\"\"\u001b[0m\u001b[0;34m\u001b[0m\u001b[0;34m\u001b[0m\u001b[0m\n\u001b[0;32m---> 50\u001b[0;31m     \u001b[0;32mreturn\u001b[0m \u001b[0mos\u001b[0m\u001b[0;34m.\u001b[0m\u001b[0mstat\u001b[0m\u001b[0;34m(\u001b[0m\u001b[0mfilename\u001b[0m\u001b[0;34m)\u001b[0m\u001b[0;34m.\u001b[0m\u001b[0mst_size\u001b[0m\u001b[0;34m\u001b[0m\u001b[0;34m\u001b[0m\u001b[0m\n\u001b[0m\u001b[1;32m     51\u001b[0m \u001b[0;34m\u001b[0m\u001b[0m\n\u001b[1;32m     52\u001b[0m \u001b[0;34m\u001b[0m\u001b[0m\n",
      "\u001b[0;31mFileNotFoundError\u001b[0m: [Errno 2] No such file or directory: 'new.txt'"
     ]
    }
   ],
   "metadata": {}
  },
  {
   "cell_type": "code",
   "execution_count": 129,
   "source": [
    "os.path.getmtime(\"new.txt\")"
   ],
   "outputs": [
    {
     "output_type": "execute_result",
     "data": {
      "text/plain": [
       "1631185949.7810297"
      ]
     },
     "metadata": {},
     "execution_count": 129
    }
   ],
   "metadata": {}
  },
  {
   "cell_type": "code",
   "execution_count": 131,
   "source": [
    "import datetime\n",
    "timestamp = os.path.getmtime(\"new.txt\")\n",
    "\n",
    "datetime.datetime.fromtimestamp(timestamp)"
   ],
   "outputs": [
    {
     "output_type": "execute_result",
     "data": {
      "text/plain": [
       "datetime.datetime(2021, 9, 9, 12, 12, 29, 781030)"
      ]
     },
     "metadata": {},
     "execution_count": 131
    }
   ],
   "metadata": {}
  },
  {
   "cell_type": "markdown",
   "source": [
    "PATH"
   ],
   "metadata": {}
  },
  {
   "cell_type": "code",
   "execution_count": 132,
   "source": [
    "os.path.abspath(\"spider.txt\")"
   ],
   "outputs": [
    {
     "output_type": "execute_result",
     "data": {
      "text/plain": [
       "'/Users/taohuang/Library/Mobile Documents/com~apple~CloudDocs/Metropolis40/_python_OS_automation/spider.txt'"
      ]
     },
     "metadata": {},
     "execution_count": 132
    }
   ],
   "metadata": {}
  },
  {
   "cell_type": "code",
   "execution_count": 133,
   "source": [
    "os.path.relpath(\"spider.txt\")"
   ],
   "outputs": [
    {
     "output_type": "execute_result",
     "data": {
      "text/plain": [
       "'spider.txt'"
      ]
     },
     "metadata": {},
     "execution_count": 133
    }
   ],
   "metadata": {}
  },
  {
   "cell_type": "code",
   "execution_count": 136,
   "source": [
    "os.getcwd()"
   ],
   "outputs": [
    {
     "output_type": "execute_result",
     "data": {
      "text/plain": [
       "'/Users/taohuang/Library/Mobile Documents/com~apple~CloudDocs/Metropolis40/_python_OS_automation'"
      ]
     },
     "metadata": {},
     "execution_count": 136
    }
   ],
   "metadata": {}
  },
  {
   "cell_type": "code",
   "execution_count": 137,
   "source": [
    "os.mkdir(\"new_dir\")"
   ],
   "outputs": [],
   "metadata": {}
  },
  {
   "cell_type": "code",
   "execution_count": 139,
   "source": [
    "os.chdir(\"new_dir\")\n"
   ],
   "outputs": [],
   "metadata": {}
  },
  {
   "cell_type": "code",
   "execution_count": 1,
   "source": [
    "os.getcwd()"
   ],
   "outputs": [
    {
     "output_type": "execute_result",
     "data": {
      "text/plain": [
       "'/Users/taohuang/Library/Mobile Documents/com~apple~CloudDocs/Metropolis40/_python_OS_automation'"
      ]
     },
     "metadata": {},
     "execution_count": 1
    }
   ],
   "metadata": {}
  },
  {
   "cell_type": "code",
   "execution_count": 54,
   "source": [
    "os.rmdir(\"new_dir\")"
   ],
   "outputs": [
    {
     "output_type": "error",
     "ename": "FileNotFoundError",
     "evalue": "[Errno 2] No such file or directory: 'new_dir'",
     "traceback": [
      "\u001b[0;31m---------------------------------------------------------------------------\u001b[0m",
      "\u001b[0;31mFileNotFoundError\u001b[0m                         Traceback (most recent call last)",
      "\u001b[0;32m<ipython-input-54-de0e3530a2dc>\u001b[0m in \u001b[0;36m<module>\u001b[0;34m\u001b[0m\n\u001b[0;32m----> 1\u001b[0;31m \u001b[0mos\u001b[0m\u001b[0;34m.\u001b[0m\u001b[0mrmdir\u001b[0m\u001b[0;34m(\u001b[0m\u001b[0;34m\"new_dir\"\u001b[0m\u001b[0;34m)\u001b[0m\u001b[0;34m\u001b[0m\u001b[0;34m\u001b[0m\u001b[0m\n\u001b[0m",
      "\u001b[0;31mFileNotFoundError\u001b[0m: [Errno 2] No such file or directory: 'new_dir'"
     ]
    }
   ],
   "metadata": {}
  },
  {
   "cell_type": "code",
   "execution_count": 3,
   "source": [
    "os.mkdir(\"test\")\n"
   ],
   "outputs": [],
   "metadata": {}
  },
  {
   "cell_type": "code",
   "execution_count": 9,
   "source": [
    "import os\n",
    "os.listdir(\"test\")"
   ],
   "outputs": [
    {
     "output_type": "execute_result",
     "data": {
      "text/plain": [
       "[]"
      ]
     },
     "metadata": {},
     "execution_count": 9
    }
   ],
   "metadata": {}
  },
  {
   "cell_type": "code",
   "execution_count": 58,
   "source": [
    "import os\n",
    "def create_python_script(filename):\n",
    "    comments = \"# Start of a new Python program\"\n",
    "    with open(filename, 'a') as filename1 :\n",
    "        filename1.write(comments)\n",
    "    \n",
    "   \n",
    "    \n",
    "\n",
    "\n",
    "    # return(filesize)\n",
    "    # return filesize\n",
    "print(create_python_script(\"program.py\"))\n",
    " "
   ],
   "outputs": [
    {
     "output_type": "stream",
     "name": "stdout",
     "text": [
      "None\n"
     ]
    }
   ],
   "metadata": {}
  },
  {
   "cell_type": "code",
   "execution_count": 60,
   "source": [
    "filesize = os.path.getsize(\"program.py\")\n",
    "print(filesize)"
   ],
   "outputs": [
    {
     "output_type": "stream",
     "name": "stdout",
     "text": [
      "775\n"
     ]
    }
   ],
   "metadata": {}
  },
  {
   "cell_type": "code",
   "execution_count": 3,
   "source": [
    "import os\n",
    "\n",
    "def new_directory(directory, filename):\n",
    "  # Before creating a new directory, check to see if it already exists\n",
    "    if os.path.isdir(directory) == False:\n",
    "        os.mkdir(directory)\n",
    "\n",
    "    # Create the new file inside of the new directory\n",
    "\n",
    "    os.chdir(directory)\n",
    "    \n",
    "    with open (filename, 'w') as file_temp:\n",
    "        pass\n",
    "\n",
    "    # Return the list of files in the new directory\n",
    "    return os.listdir()\n",
    "\n",
    "print(new_directory(\"PythonPrograms\", \"script.py\"))"
   ],
   "outputs": [
    {
     "output_type": "stream",
     "name": "stdout",
     "text": [
      "['script.py']\n"
     ]
    }
   ],
   "metadata": {}
  },
  {
   "cell_type": "code",
   "execution_count": null,
   "source": [
    "import os\n",
    "def create_python_script(filename):\n",
    "  comments = \"# Start of a new Python program\"\n",
    "  with open(filename, 'w') as filename1 :\n",
    "    filename1.write(comments)\n",
    "  \n",
    "  # return os.path.getsize(\"program.py\")\n",
    "  return os.path.getsize(filename)\n",
    "\n",
    "\n",
    "\n",
    "print(create_python_script(\"program.py\"))\n"
   ],
   "outputs": [],
   "metadata": {}
  },
  {
   "cell_type": "code",
   "execution_count": 4,
   "source": [
    "import os\n",
    "\n",
    "def create_python_script(filename):\n",
    "  comments = \"# Start of a new Python program\"\n",
    "  with open(filename, 'w') as filename1:\n",
    "    filename1.write(comments)\n",
    " \n",
    "  xxx = os.path.getsize(filename)\n",
    "  return xxx\n",
    "\n",
    "  \n",
    "\n",
    "print(create_python_script(\"program.py\"))\n"
   ],
   "outputs": [
    {
     "output_type": "stream",
     "name": "stdout",
     "text": [
      "31\n"
     ]
    }
   ],
   "metadata": {}
  },
  {
   "cell_type": "code",
   "execution_count": 84,
   "source": [
    "os.getcwd()"
   ],
   "outputs": [
    {
     "output_type": "execute_result",
     "data": {
      "text/plain": [
       "'/Users/taohuang/Library/Mobile Documents/com~apple~CloudDocs/Metropolis40/_python_OS_automation'"
      ]
     },
     "metadata": {},
     "execution_count": 84
    }
   ],
   "metadata": {}
  },
  {
   "cell_type": "code",
   "execution_count": 82,
   "source": [
    "filesize = os.path.getsize(\"program.py\")\n",
    "print(filesize)"
   ],
   "outputs": [
    {
     "output_type": "stream",
     "name": "stdout",
     "text": [
      "31\n"
     ]
    }
   ],
   "metadata": {}
  },
  {
   "cell_type": "code",
   "execution_count": 105,
   "source": [
    "import os\n",
    "import datetime\n",
    "\n",
    "def file_date(filename):\n",
    "  # Create the file in the current directory\n",
    "  with open(filename, 'w') as file1 :\n",
    "      file1.write(\" \")\n",
    " \n",
    "\n",
    "\n",
    "\n",
    "\n",
    "\n",
    "  # Convert the timestamp into a readable format, then into a string\n",
    "  timestamp = os.path.getmtime(filename)\n",
    "\n",
    "  date1 = str(datetime.datetime.fromtimestamp(timestamp))\n",
    "  # print(date1:4])\n",
    "  # Return just the date portion \n",
    "\n",
    "  # Hint: how many characters are in “yyyy-mm-dd”? \n",
    "  return (\"{}\".format(date1[:4]))\n",
    "\n",
    "print(file_date(\"newfile.txt\")) \n",
    "# Should be today's date in the format of yyyy-mm-dd"
   ],
   "outputs": [
    {
     "output_type": "stream",
     "name": "stdout",
     "text": [
      "2021\n"
     ]
    }
   ],
   "metadata": {}
  },
  {
   "cell_type": "code",
   "execution_count": 7,
   "source": [
    "import os\n",
    "def parent_directory():\n",
    "  # Create a relative path to the parent \n",
    "  # of the current working directory \n",
    "  relative_parent = os.path.join(os.getcwd(), \"../\")\n",
    "  # print(os.getcwd())\n",
    "  # print(relative_parent)\n",
    "#   print(os.getcwd())\n",
    "  # Return the absolute path of the parent directory\n",
    "\n",
    "  return os.path.abspath(relative_parent)\n",
    "\n",
    "print(parent_directory())"
   ],
   "outputs": [
    {
     "output_type": "stream",
     "name": "stdout",
     "text": [
      "/Users/taohuang/Library/Mobile Documents/com~apple~CloudDocs/Metropolis40/_python_OS_automation\n",
      "/Users/taohuang/Library/Mobile Documents/com~apple~CloudDocs/Metropolis40/_python_OS_automation/../\n",
      "/Users/taohuang/Library/Mobile Documents/com~apple~CloudDocs/Metropolis40\n"
     ]
    }
   ],
   "metadata": {}
  },
  {
   "cell_type": "code",
   "execution_count": 112,
   "source": [
    "print(os.path.relpath)"
   ],
   "outputs": [
    {
     "output_type": "stream",
     "name": "stdout",
     "text": [
      "<function relpath at 0x7fcf080fd790>\n"
     ]
    }
   ],
   "metadata": {}
  },
  {
   "cell_type": "code",
   "execution_count": null,
   "source": [],
   "outputs": [],
   "metadata": {}
  }
 ],
 "metadata": {
  "orig_nbformat": 4,
  "language_info": {
   "name": "python",
   "version": "3.9.6",
   "mimetype": "text/x-python",
   "codemirror_mode": {
    "name": "ipython",
    "version": 3
   },
   "pygments_lexer": "ipython3",
   "nbconvert_exporter": "python",
   "file_extension": ".py"
  },
  "kernelspec": {
   "name": "python3",
   "display_name": "Python 3.9.6 64-bit ('ds1': conda)"
  },
  "interpreter": {
   "hash": "c51834b1ae9799b48209906f57f76f8fdfb3733a8a2ba0a3021dea1fb17d7da4"
  }
 },
 "nbformat": 4,
 "nbformat_minor": 2
}