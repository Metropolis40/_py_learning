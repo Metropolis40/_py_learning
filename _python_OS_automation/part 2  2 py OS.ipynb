{
 "cells": [
  {
   "cell_type": "code",
   "execution_count": 16,
   "source": [
    "import os\n",
    "def create_python_script(filename):\n",
    "  comments = \"# Start of a new Python program\"\n",
    "  with open(filename, 'w') as filename1 :\n",
    "    filename1.write(comments)\n",
    "  \n",
    "  # return os.path.getsize(\"program.py\")\n",
    "  return os.path.getsize(filename)\n",
    "\n",
    "\n",
    "\n",
    "print(create_python_script(\"program.py\"))\n"
   ],
   "outputs": [
    {
     "output_type": "stream",
     "name": "stdout",
     "text": [
      "31\n"
     ]
    }
   ],
   "metadata": {}
  },
  {
   "cell_type": "code",
   "execution_count": 22,
   "source": [
    "import csv\n",
    "\n",
    "\n",
    "f  = open(\"spider.txt\")\n",
    "csv_f = csv.reader(f)\n",
    "\n",
    "for row in csv_f :\n",
    "    print(row)\n",
    "f.close()"
   ],
   "outputs": [
    {
     "output_type": "stream",
     "name": "stdout",
     "text": [
      "['it wasa dark and stormy night ----- here we change it againhere we change it again .. and again']\n"
     ]
    }
   ],
   "metadata": {}
  },
  {
   "cell_type": "code",
   "execution_count": 30,
   "source": [
    "import os\n",
    "import csv\n",
    "\n",
    "# Create a file with data in it\n",
    "def create_file(filename):\n",
    "  with open(filename, \"w\") as file:\n",
    "    file.write(\"name,color,type\\n\")\n",
    "    file.write(\"carnation,pink,annual\\n\")\n",
    "    file.write(\"daffodil,yellow,perennial\\n\")\n",
    "    file.write(\"iris,blue,perennial\\n\")\n",
    "    file.write(\"poinsettia,red,perennial\\n\")\n",
    "    file.write(\"sunflower,yellow,annual\\n\")\n",
    "\n",
    "# Read the file contents and format the information about each row\n",
    "def contents_of_file(filename):\n",
    "  return_string = \"\"\n",
    "\n",
    "  # Call the function to create the file \n",
    "  create_file(filename)\n",
    "\n",
    "  # Open the file\n",
    "  with open(filename) as f :\n",
    "    # Read the rows of the file into a dictionary\n",
    "    file1 = csv.DictReader(f)\n",
    "    # Process each item of the dictionary\n",
    "    for row in file1 :\n",
    "      return_string += \"a {} {} is {}\\n\".format(row[\"color\"], row[\"name\"], row[\"type\"])\n",
    "  return file1, return_string\n",
    "\n",
    "#Call the function\n",
    "print(contents_of_file(\"flowers.csv\"))\n",
    "\n",
    "\n"
   ],
   "outputs": [
    {
     "output_type": "stream",
     "name": "stdout",
     "text": [
      "(<csv.DictReader object at 0x7fbd409d2a60>, 'a pink carnation is annual\\na yellow daffodil is perennial\\na blue iris is perennial\\na red poinsettia is perennial\\na yellow sunflower is annual\\n')\n"
     ]
    }
   ],
   "metadata": {}
  },
  {
   "cell_type": "code",
   "execution_count": 46,
   "source": [
    "import os\n",
    "import csv\n",
    "\n",
    "# Create a file with data in it\n",
    "def create_file(filename):\n",
    "  with open(filename, \"w\") as file:\n",
    "    file.write(\"name,color,type\\n\")\n",
    "    file.write(\"carnation,pink,annual\\n\")\n",
    "    file.write(\"daffodil,yellow,perennial\\n\")\n",
    "    file.write(\"iris,blue,perennial\\n\")\n",
    "    file.write(\"poinsettia,red,perennial\\n\")\n",
    "    file.write(\"sunflower,yellow,annual\\n\")\n",
    "\n",
    "# Read the file contents and format the information about each row\n",
    "def contents_of_file(filename):\n",
    "  return_string = \"\"\n",
    "\n",
    "  # Call the function to create the file \n",
    "  create_file(filename)\n",
    "  row_lst = []  \n",
    "  # Open the file\n",
    "  with open(filename) as f:\n",
    "    # Read the rows of the file\n",
    "    rows = csv.reader(f)\n",
    "    # Process each row\n",
    "    for row in rows :\n",
    "      name, color, type = row\n",
    "      # Format the return string for data rows only\n",
    "      if row == row[1] :\n",
    "          pass \n",
    "      else :\n",
    "        return_string += \"a {} {} is {}\\n\".format(name, color, type)\n",
    "      print(row[0])\n",
    "  return return_string\n",
    "\n",
    "#Call the function\n",
    "print(contents_of_file(\"flowers.csv\"))"
   ],
   "outputs": [
    {
     "output_type": "stream",
     "name": "stdout",
     "text": [
      "name\n",
      "carnation\n",
      "daffodil\n",
      "iris\n",
      "poinsettia\n",
      "sunflower\n",
      "a name color is type\n",
      "a carnation pink is annual\n",
      "a daffodil yellow is perennial\n",
      "a iris blue is perennial\n",
      "a poinsettia red is perennial\n",
      "a sunflower yellow is annual\n",
      "\n"
     ]
    }
   ],
   "metadata": {}
  },
  {
   "cell_type": "code",
   "execution_count": 65,
   "source": [
    "\n",
    "# in terminal, run the following:\n",
    "# grep thon /usr/share/dict/words,\n",
    "# or \n",
    "\n",
    "import re\n",
    "import pandas as pd\n",
    "\n",
    "with open(\"spider.txt\", 'r') as sp :\n",
    "    kk = sp.read()\n",
    "    # k1 = pd.DataFrame(kk) \n",
    "    print( re.search(\"dark\", kk))\n"
   ],
   "outputs": [
    {
     "output_type": "stream",
     "name": "stdout",
     "text": [
      "<re.Match object; span=(8, 12), match='dark'>\n"
     ]
    }
   ],
   "metadata": {}
  },
  {
   "cell_type": "code",
   "execution_count": null,
   "source": [],
   "outputs": [],
   "metadata": {}
  }
 ],
 "metadata": {
  "orig_nbformat": 4,
  "language_info": {
   "name": "python",
   "version": "3.9.6",
   "mimetype": "text/x-python",
   "codemirror_mode": {
    "name": "ipython",
    "version": 3
   },
   "pygments_lexer": "ipython3",
   "nbconvert_exporter": "python",
   "file_extension": ".py"
  },
  "kernelspec": {
   "name": "python3",
   "display_name": "Python 3.9.6 64-bit ('ds1': conda)"
  },
  "interpreter": {
   "hash": "c51834b1ae9799b48209906f57f76f8fdfb3733a8a2ba0a3021dea1fb17d7da4"
  }
 },
 "nbformat": 4,
 "nbformat_minor": 2
}