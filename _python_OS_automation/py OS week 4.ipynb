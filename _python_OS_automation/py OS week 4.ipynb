{
 "cells": [
  {
   "cell_type": "code",
   "execution_count": 1,
   "source": [
    "# interact with OS "
   ],
   "outputs": [],
   "metadata": {}
  },
  {
   "cell_type": "code",
   "execution_count": 1,
   "source": [
    "# # input function \n",
    "# we create hello.py\n",
    "# the input function also return a string\n",
    "\n",
    "\n",
    "\n",
    "# we then create a py file called seconds.py"
   ],
   "outputs": [],
   "metadata": {}
  },
  {
   "cell_type": "code",
   "execution_count": 2,
   "source": [
    "# IO stream, bridges keyboard and system \n",
    "\n",
    "# IO can get input, write output, and deliver error msg"
   ],
   "outputs": [],
   "metadata": {}
  },
  {
   "cell_type": "code",
   "execution_count": 3,
   "source": [
    "# A Shell is a command-line interface used to interact with the OS \n",
    "# there can be different variants/versions of Shell :\n",
    "\n",
    "# Bash\n",
    "# Zsh\n",
    "# Fish\n",
    "\n",
    "# they are all similiar\n",
    "\n",
    "# py programs get executed inside a shell command-line environment \n",
    "# the variables set in that environment are another source of information that we can use in our scripts"
   ],
   "outputs": [],
   "metadata": {}
  },
  {
   "cell_type": "code",
   "execution_count": 5,
   "source": [
    "# env  is used to check the enviroment variables\n",
    "# echo $PATH , 在shell中执行这条语句，功能为 显示PATH 这个variable，这里前置$，表示这个variable是shell中的environment variable\n",
    "# $PATH 这个环境变量涵盖了执行的命令默认的所在目录，例如python，那么当我们在任意目录下执行这个命令时，系统会在当前目录下寻找python这个文件，也会在$PATH这个文件中包含的目录中寻找python这个文件"
   ],
   "outputs": [],
   "metadata": {}
  },
  {
   "cell_type": "code",
   "execution_count": 6,
   "source": [
    "# we have a dictionary method to get access to environment var, e.g.,\n",
    "# variables.py\n",
    "# we can run the following code in the shell:\n",
    "# export FRUIT=Pineapple\n",
    "# export means we let everyone to see the variable of FRUIT which we set its value to be 'Pineapple'\n",
    "\n",
    "\n",
    "\n"
   ],
   "outputs": [],
   "metadata": {}
  },
  {
   "cell_type": "code",
   "execution_count": null,
   "source": [
    "# command-line argument,\n",
    "# parm that are passed to a program when it's started\n",
    "# argv\n",
    "# sys module\n",
    "# we use parameters.py File"
   ],
   "outputs": [],
   "metadata": {}
  },
  {
   "cell_type": "code",
   "execution_count": 7,
   "source": [
    "# Exit status\n",
    "# the value returned by a program to the shell, 每个程序运行成功失败都会给shell返回某个值,这些值反映了这个program可能遇到的error，0意味着没有error，顺利运行"
   ],
   "outputs": [],
   "metadata": {}
  },
  {
   "cell_type": "code",
   "execution_count": 8,
   "source": [
    "# wc variables.py  #这里我们使用wc 来计算 后者的word count\n",
    "# echo $? #如果上一行命令顺利运行，我们会得到exit status为0， 这里我们用$ 来表示\n",
    "# wc xxx.py #这里我们使用wc 来计算一个不存在的文件的的word count\n",
    "# echo $? #那么，exit status会为1，表示出错"
   ],
   "outputs": [],
   "metadata": {}
  },
  {
   "cell_type": "code",
   "execution_count": 16,
   "source": [
    "# 一些input语句的实例， 我们用input得到的是string，可以通过eval来得到Int\n",
    "\n",
    "my_number = input('Please Enter a Number: \\n')\n",
    "\n",
    "print(my_number)\n",
    "print(type(my_number))\n",
    "eval(my_number)\n",
    "print(type(eval(my_number)))\n",
    "print(eval(my_number))\n"
   ],
   "outputs": [
    {
     "output_type": "stream",
     "name": "stdout",
     "text": [
      "3\n",
      "<class 'str'>\n",
      "<class 'int'>\n",
      "3\n"
     ]
    }
   ],
   "metadata": {}
  },
  {
   "cell_type": "markdown",
   "source": [
    "sub processes : to use external programs inside a py script"
   ],
   "metadata": {}
  },
  {
   "cell_type": "code",
   "execution_count": 1,
   "source": [
    "import subprocess\n",
    "subprocess.run([\"date\"]) #这里我们通过subprocsss 这个module，来运行一个外部的program，e.g.，date"
   ],
   "outputs": [
    {
     "output_type": "execute_result",
     "data": {
      "text/plain": [
       "CompletedProcess(args=['date'], returncode=0)"
      ]
     },
     "metadata": {},
     "execution_count": 1
    }
   ],
   "metadata": {}
  },
  {
   "cell_type": "code",
   "execution_count": 2,
   "source": [
    "subprocess.run(['sleep','2'])#这里我们通过subprocsss 这个module，来运行一个外部的program，e.g.sleep，with a parm of 2 (e.g., sleep for 2 seconds)"
   ],
   "outputs": [
    {
     "output_type": "execute_result",
     "data": {
      "text/plain": [
       "CompletedProcess(args=['sleep', '2'], returncode=0)"
      ]
     },
     "metadata": {},
     "execution_count": 2
    }
   ],
   "metadata": {}
  },
  {
   "cell_type": "code",
   "execution_count": 3,
   "source": [
    "result = subprocess.run([\"ls\", \"this_file_does_not_exit\"])\n",
    "print(result.returncode)"
   ],
   "outputs": [
    {
     "output_type": "stream",
     "name": "stdout",
     "text": [
      "1\n"
     ]
    }
   ],
   "metadata": {}
  },
  {
   "cell_type": "code",
   "execution_count": 4,
   "source": [
    "subprocess.run([\"ls\", \"this_file_does_not_exit\"])"
   ],
   "outputs": [
    {
     "output_type": "execute_result",
     "data": {
      "text/plain": [
       "CompletedProcess(args=['ls', 'this_file_does_not_exit'], returncode=1)"
      ]
     },
     "metadata": {},
     "execution_count": 4
    }
   ],
   "metadata": {}
  },
  {
   "cell_type": "markdown",
   "source": [
    "Obtaining the Output of a System Command\n",
    "在py script运行 shell command 并且得到相对应的结果"
   ],
   "metadata": {}
  },
  {
   "cell_type": "code",
   "execution_count": 5,
   "source": [
    "# capture_output\n",
    "\n",
    "# host \n",
    "\n",
    "result = subprocess.run([\"host\", \"8.8.8.8\"], capture_output=True)\n",
    "\n",
    "print(result.returncode)\n",
    "print(result.stdout)"
   ],
   "outputs": [
    {
     "output_type": "stream",
     "name": "stdout",
     "text": [
      "0\n",
      "b'8.8.8.8.in-addr.arpa domain name pointer dns.google.\\n'\n"
     ]
    }
   ],
   "metadata": {}
  },
  {
   "cell_type": "code",
   "execution_count": 30,
   "source": [
    "# b'8.8.8.8 , here 'b' indicates that the following string is not a proper py string but an array bites\n",
    "# 这是因为py无法判断我们使用了那种encoding方法（例如utf-8）所以不知道后面这个 8.8.8.8 应该如何decode成string，于是只有把后面的这个无法被decode的string当作一个array bites"
   ],
   "outputs": [],
   "metadata": {}
  },
  {
   "cell_type": "code",
   "execution_count": 32,
   "source": [
    "print(result.stdout.decode())"
   ],
   "outputs": [
    {
     "output_type": "stream",
     "name": "stdout",
     "text": [
      "8.8.8.8.in-addr.arpa domain name pointer dns.google.\n",
      "\n"
     ]
    }
   ],
   "metadata": {}
  },
  {
   "cell_type": "code",
   "execution_count": 6,
   "source": [
    "# 这里我们试图移除一个不存在的文件，于是program出错，返回returncode为1，输出的stdout为空值，然而stderr中记录了出错原因\n",
    "result = subprocess.run([\"rm\", \"does_not_exist\"], capture_output=True)\n",
    "print(result.returncode)\n",
    "\n",
    "print(result.stdout)\n",
    "print(result.stderr)\n",
    "\n"
   ],
   "outputs": [
    {
     "output_type": "stream",
     "name": "stdout",
     "text": [
      "1\n",
      "b''\n",
      "b'rm: does_not_exist: No such file or directory\\n'\n"
     ]
    }
   ],
   "metadata": {}
  },
  {
   "cell_type": "code",
   "execution_count": null,
   "source": [
    "# myapp.py \n",
    "# 我们见一个py 文件来用一个心的PATH 来运行某文件\n",
    "\n",
    "# some parms \n",
    "# cwd\n",
    "# timeout\n",
    "# shell"
   ],
   "outputs": [],
   "metadata": {}
  }
 ],
 "metadata": {
  "orig_nbformat": 4,
  "language_info": {
   "name": "python",
   "version": "3.9.6",
   "mimetype": "text/x-python",
   "codemirror_mode": {
    "name": "ipython",
    "version": 3
   },
   "pygments_lexer": "ipython3",
   "nbconvert_exporter": "python",
   "file_extension": ".py"
  },
  "kernelspec": {
   "name": "python3",
   "display_name": "Python 3.9.6 64-bit ('ds1': conda)"
  },
  "interpreter": {
   "hash": "c51834b1ae9799b48209906f57f76f8fdfb3733a8a2ba0a3021dea1fb17d7da4"
  }
 },
 "nbformat": 4,
 "nbformat_minor": 2
}