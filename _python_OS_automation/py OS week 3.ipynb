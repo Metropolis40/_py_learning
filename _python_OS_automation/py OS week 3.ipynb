{
 "cells": [
  {
   "cell_type": "code",
   "execution_count": 4,
   "source": [
    "\n",
    "\n",
    "\n",
    "# regular expression\n",
    "\n",
    "import re"
   ],
   "outputs": [],
   "metadata": {}
  },
  {
   "cell_type": "code",
   "execution_count": 5,
   "source": [
    "# 我们可以使用re module search function\n",
    "# 这里举例子我们为什么需要 regex\n",
    "# assume we need to extract 12345\n",
    "log = \"july 31 0olkdsjf lkjdsflksdfj  [12345] dfsed\"\n",
    "\n",
    "index = log.index(\"[\")\n",
    "print(log[index+1:index+6])\n",
    "\n",
    "regex = r\"\\[(\\d*)\\]\"\n",
    "result = re.search(regex, log)\n",
    "print(result)"
   ],
   "outputs": [
    {
     "output_type": "stream",
     "name": "stdout",
     "text": [
      "12345\n",
      "<re.Match object; span=(31, 38), match='[12345]'>\n"
     ]
    }
   ],
   "metadata": {}
  },
  {
   "cell_type": "code",
   "execution_count": 363,
   "source": [
    "# 我们可以在shell中执行 grep thon /usr/share/dict/words\n",
    "# grep , the grep function print every line in the words file which matches 'thon'"
   ],
   "outputs": [],
   "metadata": {}
  },
  {
   "cell_type": "code",
   "execution_count": 364,
   "source": [
    "# grep p.thon /usr/share/dict/words 这里可以使用通配符."
   ],
   "outputs": [],
   "metadata": {}
  },
  {
   "cell_type": "code",
   "execution_count": 365,
   "source": [
    "# grep ^fruit /usr/share/dict/words 显示所有以fruit开头的行\n",
    "# grep cat$ /usr/share/dict/words   显示所有以cat结尾的行\n"
   ],
   "outputs": [],
   "metadata": {}
  },
  {
   "cell_type": "code",
   "execution_count": 366,
   "source": [
    "# 在一个py script内部，我们可以用re module来使用 regular expression\n",
    "\n",
    "import re\n",
    "result = re.search(r\"aza\", \"plaza\") #在plaza里面搜索aza， r 意味着 raw string，即让py把之后的所有字符当作string，而不会解读成任何特殊字符\n",
    "\n",
    "print(result)"
   ],
   "outputs": [
    {
     "output_type": "stream",
     "name": "stdout",
     "text": [
      "<re.Match object; span=(2, 5), match='aza'>\n"
     ]
    }
   ],
   "metadata": {}
  },
  {
   "cell_type": "code",
   "execution_count": 367,
   "source": [
    "result = re.search(r\"aza\", \"xxx\")\n",
    "print(result)\n",
    "\n",
    "# 如果没有找到关键词，则返回none "
   ],
   "outputs": [
    {
     "output_type": "stream",
     "name": "stdout",
     "text": [
      "None\n"
     ]
    }
   ],
   "metadata": {}
  },
  {
   "cell_type": "code",
   "execution_count": 368,
   "source": [
    "print(re.search(r\"^x\", \"xenon ff\")) # 找寻任何match 以x开头的string\n",
    "print(re.search(r\"^x\", \"ff x df\"))"
   ],
   "outputs": [
    {
     "output_type": "stream",
     "name": "stdout",
     "text": [
      "<re.Match object; span=(0, 1), match='x'>\n",
      "None\n"
     ]
    }
   ],
   "metadata": {}
  },
  {
   "cell_type": "markdown",
   "source": [
    "我们可以使用通配符来替代任意字符"
   ],
   "metadata": {}
  },
  {
   "cell_type": "code",
   "execution_count": 369,
   "source": [
    "print(re.search(r\"p.ng\", \"penguin\")) # "
   ],
   "outputs": [
    {
     "output_type": "stream",
     "name": "stdout",
     "text": [
      "<re.Match object; span=(0, 4), match='peng'>\n"
     ]
    }
   ],
   "metadata": {}
  },
  {
   "cell_type": "code",
   "execution_count": 370,
   "source": [
    "print(re.search(r\"p.ng\", \"sponge\"))\n",
    "print(re.search(r\"p.ng\", \"clapping\"))"
   ],
   "outputs": [
    {
     "output_type": "stream",
     "name": "stdout",
     "text": [
      "<re.Match object; span=(1, 5), match='pong'>\n",
      "<re.Match object; span=(4, 8), match='ping'>\n"
     ]
    }
   ],
   "metadata": {}
  },
  {
   "cell_type": "code",
   "execution_count": 371,
   "source": [
    "\n",
    "print(re.search(r\"p.ng\", \"Pangaea\", re.IGNORECASE)) #搜索的时候我们也可以使用parm来忽略大小写"
   ],
   "outputs": [
    {
     "output_type": "stream",
     "name": "stdout",
     "text": [
      "<re.Match object; span=(0, 4), match='Pang'>\n"
     ]
    }
   ],
   "metadata": {}
  },
  {
   "cell_type": "code",
   "execution_count": 372,
   "source": [
    "# wildcard and char class \n",
    "print(re.search(r\"[Pp]ython\", \"Python\")) #找寻Python 或者python的match"
   ],
   "outputs": [
    {
     "output_type": "stream",
     "name": "stdout",
     "text": [
      "<re.Match object; span=(0, 6), match='Python'>\n"
     ]
    }
   ],
   "metadata": {}
  },
  {
   "cell_type": "code",
   "execution_count": 373,
   "source": [
    "print(re.search(r\"[a-z]way\", \"the end of the highway\"))\n",
    "print(re.search(r\"[a-z]way\", \"the end of the way\"))"
   ],
   "outputs": [
    {
     "output_type": "stream",
     "name": "stdout",
     "text": [
      "<re.Match object; span=(18, 22), match='hway'>\n",
      "None\n"
     ]
    }
   ],
   "metadata": {}
  },
  {
   "cell_type": "code",
   "execution_count": 374,
   "source": [
    "print(re.search(r\"cloud[a-zA-Z0-9]\", \"cloudy\"))"
   ],
   "outputs": [
    {
     "output_type": "stream",
     "name": "stdout",
     "text": [
      "<re.Match object; span=(0, 6), match='cloudy'>\n"
     ]
    }
   ],
   "metadata": {}
  },
  {
   "cell_type": "code",
   "execution_count": 375,
   "source": [
    "# 例子\n",
    "import re\n",
    "def check_punctuation (text):\n",
    "  result = re.search(r\"[.?,;:!]\", text)\n",
    "  return result != None\n",
    "\n",
    "print(check_punctuation(\"This is a sentence that ends with a period.\")) # True\n",
    "print(check_punctuation(\"This is a sentence fragment without a period\")) # False\n",
    "print(check_punctuation(\"Aren't regular expressions awesome?\")) # True\n",
    "print(check_punctuation(\"Wow! We're really picking up some steam now!\")) # True\n",
    "print(check_punctuation(\"End of the line\")) # False"
   ],
   "outputs": [
    {
     "output_type": "stream",
     "name": "stdout",
     "text": [
      "True\n",
      "False\n",
      "True\n",
      "True\n",
      "False\n"
     ]
    }
   ],
   "metadata": {}
  },
  {
   "cell_type": "code",
   "execution_count": 376,
   "source": [
    "print(re.search(r\"[^a-zA-Z]\", \"This is a sentence withspaces.\")) #结果是第一个空格（非字母）所在位置, 这里的^ means 'not'.\n",
    "print(re.search(r\"[^a-zA-Z ]\", \"This is a sentence withspaces.\")) #结果是最后的句号所在位置（非字母，排除空格）"
   ],
   "outputs": [
    {
     "output_type": "stream",
     "name": "stdout",
     "text": [
      "<re.Match object; span=(4, 5), match=' '>\n",
      "<re.Match object; span=(29, 30), match='.'>\n"
     ]
    }
   ],
   "metadata": {}
  },
  {
   "cell_type": "code",
   "execution_count": 377,
   "source": [
    "print(re.search(r\"cat|dog\", \"I like cats.\"))\n",
    "print(re.search(r\"cat|dog\", \"I like dogs.\"))\n",
    "print(re.search(r\"cat|dog\", \"I like dogs and cats.\")) # 仅仅report第一个的位置\n",
    "print(re.findall(\"cat|dog\", \"I like dogs and cats\")[:])"
   ],
   "outputs": [
    {
     "output_type": "stream",
     "name": "stdout",
     "text": [
      "<re.Match object; span=(7, 10), match='cat'>\n",
      "<re.Match object; span=(7, 10), match='dog'>\n",
      "<re.Match object; span=(7, 10), match='dog'>\n",
      "['dog', 'cat']\n"
     ]
    }
   ],
   "metadata": {}
  },
  {
   "cell_type": "code",
   "execution_count": 378,
   "source": [
    "# repeated matches, as many as possible, incuding 0\n",
    "\n",
    "print(re.search(r\"Py.*n\", \"Pygmalion\")) # 同时用. and * 通配符替代任意以Py开头以n结尾的string\n",
    "print(re.search(r\"Py.*n\", \"Python Programming\")) # 有时候这个搜索过于greedy，超过能力范围，只有返回None\n",
    "print(re.search(r\"Py[a-zA-Z]*n\", \"Python Programming\")) # 我们可以缩减范围，仅仅搜索条件符合‘字母’的string"
   ],
   "outputs": [
    {
     "output_type": "stream",
     "name": "stdout",
     "text": [
      "<re.Match object; span=(0, 9), match='Pygmalion'>\n",
      "<re.Match object; span=(0, 17), match='Python Programmin'>\n",
      "<re.Match object; span=(0, 6), match='Python'>\n"
     ]
    }
   ],
   "metadata": {}
  },
  {
   "cell_type": "code",
   "execution_count": 379,
   "source": [
    "# 更多的search Pattern, +, + means, match as many times as possible\n",
    "\n",
    "print(re.search(r\"o+l+\", \"goldfish\"))\n",
    "print(re.search(r\"o+l+\", \"wooooollllly\"))\n",
    "print(re.search(r\"o+l+\", \"boil\"))"
   ],
   "outputs": [
    {
     "output_type": "stream",
     "name": "stdout",
     "text": [
      "<re.Match object; span=(1, 3), match='ol'>\n",
      "<re.Match object; span=(1, 11), match='ooooolllll'>\n",
      "None\n"
     ]
    }
   ],
   "metadata": {}
  },
  {
   "cell_type": "code",
   "execution_count": 380,
   "source": [
    "# 一个例子\n",
    "import re\n",
    "def repeating_letter_a(text):\n",
    "  result = re.search(r\"a.*a\", text, re.IGNORECASE)\n",
    "  return result != None\n",
    "\n",
    "print(repeating_letter_a(\"banana\")) # True\n",
    "print(repeating_letter_a(\"pineapple\")) # False\n",
    "print(repeating_letter_a(\"Animal Kingdom\")) # True\n",
    "print(repeating_letter_a(\"A is for apple\")) # True"
   ],
   "outputs": [
    {
     "output_type": "stream",
     "name": "stdout",
     "text": [
      "True\n",
      "False\n",
      "True\n",
      "True\n"
     ]
    }
   ],
   "metadata": {}
  },
  {
   "cell_type": "code",
   "execution_count": 381,
   "source": [
    "# 更多的search Pattern, p? 表示 p 可有可无\n",
    "print(re.search(r\"p?each\", \"To each their own\"))\n",
    "\n",
    "print(re.search(r\"p?each\", \"I like peaches\"))\n",
    "\n",
    "print(re.search(r\"p??each\", \"I like p eaches\"))\n",
    "\n",
    "print(re.findall('aa?', 'accccacccac'))\n",
    "# In this example, you’re looking at the simple pattern 'aa?'. You want to find all occurrences of character 'a' followed by an optional second 'a'. But be aware that the optional second 'a' is not needed for the pattern to match.\n",
    "\n",
    "\n",
    "print(re.findall('[cd]?[cde]?', 'ccc dd ee'))"
   ],
   "outputs": [
    {
     "output_type": "stream",
     "name": "stdout",
     "text": [
      "<re.Match object; span=(3, 7), match='each'>\n",
      "<re.Match object; span=(7, 12), match='peach'>\n",
      "<re.Match object; span=(9, 13), match='each'>\n",
      "['a', 'a', 'a']\n",
      "['cc', 'c', '', 'dd', '', 'e', 'e', '']\n"
     ]
    }
   ],
   "metadata": {}
  },
  {
   "cell_type": "markdown",
   "source": [],
   "metadata": {}
  },
  {
   "cell_type": "code",
   "execution_count": 382,
   "source": [
    "# 我们可以用backslash, e.g., \\ 来‘忽略’后面的一个字符所代表的特殊意义\n",
    "\n",
    "print(re.search(r\".com\", \"welcome\"))\n",
    "print(re.search(r\"\\.com\", \"welcome\")) # 我们可以加入\\ 来搜索.com 而不是任意字符加上com\n",
    "print(re.search(r\"\\.com\", \"welcome\\.com\")) # 如果我们本身的目的就是要搜索字符\\， 那么我需要使用raw string, e.g., r\"\\string\" 这样以来，如果有\\n 就不会被理解为换行"
   ],
   "outputs": [
    {
     "output_type": "stream",
     "name": "stdout",
     "text": [
      "<re.Match object; span=(2, 6), match='lcom'>\n",
      "None\n",
      "<re.Match object; span=(8, 12), match='.com'>\n"
     ]
    }
   ],
   "metadata": {}
  },
  {
   "cell_type": "code",
   "execution_count": 3,
   "source": [
    "# py 也用backslash 来指代特殊的string\n",
    "import re\n",
    "print(re.search(r\"\\w*\", \"This is an example\")) # \\w 匹配任何 字母数字包括下划线\n",
    "print(re.search(r\"\\w*\", \"This__is_an example\")) # \\w 匹配任何 字母数字包括下划线\n",
    "print(re.search(r\"\\w*\", \"222This333__is_an example\")) # \\w 匹配任何 字母数字包括下划线\n",
    "# \\s whitespace chars, e.g., space, indent etc. \n",
    "# \\d digital char"
   ],
   "outputs": [
    {
     "output_type": "stream",
     "name": "stdout",
     "text": [
      "<re.Match object; span=(0, 4), match='This'>\n",
      "<re.Match object; span=(0, 11), match='This__is_an'>\n",
      "<re.Match object; span=(0, 17), match='222This333__is_an'>\n"
     ]
    }
   ],
   "metadata": {}
  },
  {
   "cell_type": "code",
   "execution_count": 384,
   "source": [
    "# To check if the text passed has at least 2 groups of alphanumeric characters (including letters, numbers, and underscores) separated by one or more whitespace characters.\n",
    "\n",
    "\n",
    "import re\n",
    "def check_character_groups(text):\n",
    "  result = re.search(r\"\\w*\\s+\\w*\", text)\n",
    "  print(result)\n",
    "  return result != None\n",
    "\n",
    "print(check_character_groups(\"One\")) # False\n",
    "print(check_character_groups(\"123  Ready Set GO\")) # True\n",
    "print(check_character_groups(\"username user_01\")) # True\n",
    "print(check_character_groups(\"shopping_list: milk, bread, eggs.\")) # False\n",
    "\n",
    "\n"
   ],
   "outputs": [
    {
     "output_type": "stream",
     "name": "stdout",
     "text": [
      "None\n",
      "False\n",
      "<re.Match object; span=(0, 10), match='123  Ready'>\n",
      "True\n",
      "<re.Match object; span=(0, 16), match='username user_01'>\n",
      "True\n",
      "<re.Match object; span=(14, 19), match=' milk'>\n",
      "True\n"
     ]
    }
   ],
   "metadata": {}
  },
  {
   "cell_type": "code",
   "execution_count": 385,
   "source": [
    "# check regex101.com"
   ],
   "outputs": [],
   "metadata": {}
  },
  {
   "cell_type": "code",
   "execution_count": 386,
   "source": [
    "print(re.search(r\"A.*a\", \"Argentina\"))\n",
    "print(re.search(r\"A.*a\", \"Azerbaijan\"))\n",
    "print(re.search(r\"^A.*a$\", \"Azerbaijan\"))\n",
    "print(re.search(r\"^A.*a$\", \"Australia\")) # 更严的要求，首位字母都要符合pattern"
   ],
   "outputs": [
    {
     "output_type": "stream",
     "name": "stdout",
     "text": [
      "<re.Match object; span=(0, 9), match='Argentina'>\n",
      "<re.Match object; span=(0, 9), match='Azerbaija'>\n",
      "None\n",
      "<re.Match object; span=(0, 9), match='Australia'>\n"
     ]
    }
   ],
   "metadata": {}
  },
  {
   "cell_type": "code",
   "execution_count": 387,
   "source": [
    "pattern = r\"^[a-zA-Z_][a-zA-Z0-9_]*$\" #我们可以定义这个pattern\n",
    "# 以字母或者下划线开头，不能以数字开头，内容不能为空格，必须是string的末尾"
   ],
   "outputs": [],
   "metadata": {}
  },
  {
   "cell_type": "code",
   "execution_count": 388,
   "source": [
    "print(re.search(pattern, \"343hjoh lrh\"))\n",
    "print(re.search(pattern, \"_343hjohflrh\"))\n",
    "print(re.search(pattern, \"_343hjohflrh **\"))"
   ],
   "outputs": [
    {
     "output_type": "stream",
     "name": "stdout",
     "text": [
      "None\n",
      "<re.Match object; span=(0, 12), match='_343hjohflrh'>\n",
      "None\n"
     ]
    }
   ],
   "metadata": {}
  },
  {
   "cell_type": "code",
   "execution_count": 389,
   "source": [
    "# 例子 \n",
    "# Fill in the code to check if the text passed looks like a standard sentence, meaning that it starts with an uppercase letter, followed by at least some lowercase letters or a space, and ends with a period, question mark, or exclamation point. \n",
    "\n",
    "import re\n",
    "def check_sentence(text):\n",
    "  result = re.search(r\"^[A-Z][a-z ]*[.?!]$\", text)\n",
    "  return result != None\n",
    "\n",
    "print(check_sentence(\"Is this is a sentence?\")) # True\n",
    "print(check_sentence(\"is this is a sentence?\")) # False\n",
    "print(check_sentence(\"Hello\")) # False\n",
    "print(check_sentence(\"1-2-3-GO!\")) # False\n",
    "print(check_sentence(\"A star is born.\")) # True"
   ],
   "outputs": [
    {
     "output_type": "stream",
     "name": "stdout",
     "text": [
      "True\n",
      "False\n",
      "False\n",
      "False\n",
      "True\n"
     ]
    }
   ],
   "metadata": {}
  },
  {
   "cell_type": "code",
   "execution_count": 392,
   "source": [
    "# # 例子 Question 1\n",
    "# The check_web_address function checks if the text passed qualifies as a top-level web address, meaning that it contains alphanumeric characters (which includes letters, numbers, and underscores), as well as periods, dashes, and a plus sign, followed by a period and a character-only top-level domain such as \".com\", \".info\", \".edu\", etc. Fill in the regular expression to do that, using escape characters, wildcards, repetition qualifiers, beginning and end-of-line characters, and character classes.\n",
    "\n",
    "import re\n",
    "def check_web_address(text):\n",
    "  pattern = r\"[a-zA-Z_+-.]+\\.\\w\\w\\w$|[a-zA-Z_+-.]+\\.\\w\\w$\" \n",
    "  result = re.search(pattern, text)\n",
    "  return result != None\n",
    "\n",
    "print(check_web_address(\"gmail.com\")) # True\n",
    "print(check_web_address(\"www@google\")) # False\n",
    "print(check_web_address(\"www.Coursera.org\")) # True\n",
    "print(check_web_address(\"web-address.com/homepage\")) # False\n",
    "print(check_web_address(\"My_Favorite-Blog.US\")) # True\n"
   ],
   "outputs": [
    {
     "output_type": "stream",
     "name": "stdout",
     "text": [
      "True\n",
      "False\n",
      "True\n",
      "False\n",
      "True\n"
     ]
    }
   ],
   "metadata": {}
  },
  {
   "cell_type": "code",
   "execution_count": 7,
   "source": [
    "# * 和 + 是有不同的 \n",
    "# + matches at least one character\n",
    "\n",
    "# * matches any number (including 0) of characters\n",
    "\n"
   ],
   "outputs": [],
   "metadata": {}
  },
  {
   "cell_type": "code",
   "execution_count": 303,
   "source": [
    "# 例子  The check_time function checks for the time format of a 12-hour clock, as follows: the hour is between 1 and 12, with no leading zero, followed by a colon, then minutes between 00 and 59, then an optional space, and then AM or PM, in upper or lower case.\n",
    "\n",
    "import re\n",
    "def check_time(text):\n",
    "  pattern = r\"^[1-9]?[0-9]:[0-5][0-9][\\s]?[am|pm]\" #\\s is a single whitespace char, e.g., a space, [\\s]? means there is an optional single whitespace char\n",
    "  result = re.search(pattern, text, re.IGNORECASE)\n",
    "  \n",
    "  return result != None\n",
    "\n",
    "print(check_time(\"12:45pm\")) # True\n",
    "print(check_time(\"9:59 AM\")) # True\n",
    "print(check_time(\"6:60am\")) # False\n",
    "print(check_time(\"five o'clock\")) # False"
   ],
   "outputs": [
    {
     "output_type": "stream",
     "name": "stdout",
     "text": [
      "True\n",
      "True\n",
      "False\n",
      "False\n"
     ]
    }
   ],
   "metadata": {}
  },
  {
   "cell_type": "code",
   "execution_count": 304,
   "source": [
    "# 例子\n",
    "# The contains_acronym function checks the text for the presence of 2 or more characters or digits surrounded by parentheses, with at least the first character in uppercase (if it's a letter), returning True if the condition is met, or False otherwise. For example, \"Instant messaging (IM) is a set of communication technologies used for text-based communication\" should return True since (IM) satisfies the match conditions.\"\n",
    "\n",
    "import re\n",
    "def contains_acronym(text):\n",
    "    pattern = r\"\\([A-Z][a-zA-Z0-9]*\\)|\\([0-9][a-zA-Z0-9]*\\)\"\n",
    "    # pattern = r\"\\(\"\n",
    "    result = re.search(pattern, text)\n",
    "    return result != None\n",
    "\n",
    "print(contains_acronym(\"Instant messaging (IM) is a set of communication technologies used for text-based communication\")) # True\n",
    "print(contains_acronym(\"American Standard Code for Information Interchange (ASCII) is a character encoding standard for electronic communication\")) # True\n",
    "print(contains_acronym(\"Please do NOT enter without permission!\")) # False\n",
    "print(contains_acronym(\"PostScript is a fourth-generation programming language (4GL)\")) # True\n",
    "print(contains_acronym(\"Have fun using a self-contained underwater breathing apparatus (Scuba)!\")) # True"
   ],
   "outputs": [
    {
     "output_type": "stream",
     "name": "stdout",
     "text": [
      "True\n",
      "True\n",
      "False\n",
      "True\n",
      "True\n"
     ]
    }
   ],
   "metadata": {}
  },
  {
   "cell_type": "code",
   "execution_count": 305,
   "source": [
    "import re\n",
    "def check_zip_code (text):\n",
    "  result = re.search(r\"\\s+\\d\\d\\d\\d\\d|\\s+\\d\\d\\d\\d\\d-\\d\\d\\d\\d\", text)\n",
    "  return result != None\n",
    "\n",
    "print(check_zip_code(\"The zip codes for New York are 10001 thru 11104.\")) # True\n",
    "print(check_zip_code(\"90210 is a TV show\")) # False\n",
    "print(check_zip_code(\"Their address is: 123 Main Street, Anytown, AZ 85258-0001.\")) # True\n",
    "print(check_zip_code(\"The Parliament of Canada is at 111 Wellington St, Ottawa, ON K1A0A9.\")) # False"
   ],
   "outputs": [
    {
     "output_type": "stream",
     "name": "stdout",
     "text": [
      "True\n",
      "False\n",
      "True\n",
      "False\n"
     ]
    }
   ],
   "metadata": {}
  },
  {
   "cell_type": "code",
   "execution_count": 306,
   "source": [
    "# capturing groups 我们可以将搜索到的结果放到()中，形成一个group,以下没有括号也成立，（）的作用是把得到的（）中的内容放入一个tuple\n",
    "\n",
    "result = re.search(r\"^(\\w*), (\\w*)$\", \"Lovelace, Ada\")\n",
    "print(result)"
   ],
   "outputs": [
    {
     "output_type": "stream",
     "name": "stdout",
     "text": [
      "<re.Match object; span=(0, 13), match='Lovelace, Ada'>\n"
     ]
    }
   ],
   "metadata": {}
  },
  {
   "cell_type": "code",
   "execution_count": 307,
   "source": [
    "print(result.groups())\n",
    "print(result[0])\n",
    "print(result[1])\n",
    "print(result[2])\n",
    "print(\"{} {}\".format(result[2], result[1]))"
   ],
   "outputs": [
    {
     "output_type": "stream",
     "name": "stdout",
     "text": [
      "('Lovelace', 'Ada')\n",
      "Lovelace, Ada\n",
      "Lovelace\n",
      "Ada\n",
      "Ada Lovelace\n"
     ]
    }
   ],
   "metadata": {}
  },
  {
   "cell_type": "code",
   "execution_count": 308,
   "source": [
    "# 例子，得到名字，把first last name对调，去掉逗号\n",
    "# 高级用法[]*\n",
    "# [\\w\\s\\.-]*\n",
    "\n",
    "\n",
    "import re\n",
    "def rearrange_name(name):\n",
    "  result = re.search(r\"^([\\w\\s]*),\\s*([\\w\\.\\-\\s]*)$\", name)\n",
    "  # 这里的dash即是代表这个字符本身，而不是一个range\n",
    "  # [\\w\\.\\-\\s]*\n",
    "  # 相当于\n",
    "  # [\\w\\.\\-\\s][\\w\\.\\-\\s][\\w\\.\\-\\s]* ...\n",
    "\n",
    "  if result == None:\n",
    "    return name\n",
    "#   print(result[0])\n",
    "  return \"{} {}\".format(result[2], result[1])\n",
    "\n",
    "\n",
    "\n",
    "name=rearrange_name(\"Sanders   , Mark.\")\n",
    "print(name)\n",
    "name=rearrange_name(\"Kennedy, John F.\")\n",
    "print(name)\n",
    "name=rearrange_name(\"Kennedy, John-annie F.\")\n",
    "print(name)\n"
   ],
   "outputs": [
    {
     "output_type": "stream",
     "name": "stdout",
     "text": [
      "Mark. Sanders   \n",
      "John F. Kennedy\n",
      "John-annie F. Kennedy\n"
     ]
    }
   ],
   "metadata": {}
  },
  {
   "cell_type": "code",
   "execution_count": 309,
   "source": [
    "# repeative Repetition Qualifiers\n",
    "# 我们可以找寻任意长度为5的string\n",
    "print(re.search(r\"[a-zA-Z]{5}\", \"a ghost\"))\n",
    "print(re.search(r\"[a-zA-Z]{5}\", \"a scary ghost\"))\n",
    "print(re.findall(r\"[a-zA-Z]{5}\", \"a scary ghost appeared\"))\n",
    "print(re.findall(r\"\\b[a-zA-Z]{5}\\b\", \"a scary ghost appeared\"))\n",
    "print(re.findall(r\"\\w{5,10}\", \"I really like strawberries\")) # to match string with a range of 5 to 10 letters.\n",
    "print(re.findall(r\"\\w{5,}\", \"I really like strawberries\")) # to match string with a range with at least 5 letters.\n",
    "print(re.findall(r\"\\w{,20}\", \"I really like strawberries\")) # to match string with a range of up to 10 letters."
   ],
   "outputs": [
    {
     "output_type": "stream",
     "name": "stdout",
     "text": [
      "<re.Match object; span=(2, 7), match='ghost'>\n",
      "<re.Match object; span=(2, 7), match='scary'>\n",
      "['scary', 'ghost', 'appea']\n",
      "['scary', 'ghost']\n",
      "['really', 'strawberri']\n",
      "['really', 'strawberries']\n",
      "['I', '', 'really', '', 'like', '', 'strawberries', '']\n"
     ]
    }
   ],
   "metadata": {}
  },
  {
   "cell_type": "code",
   "execution_count": 310,
   "source": [
    "# The long_words function returns all words that are at least 7 characters. Fill in the regular expression to complete this function.\n",
    "\n",
    "import re\n",
    "def long_words(text):\n",
    "  pattern = r\"\\w{7,}\"\n",
    "  result = re.findall(pattern, text)\n",
    "  return result\n",
    "\n",
    "print(long_words(\"I like to drink coffee in the morning.\")) # ['morning']\n",
    "print(long_words(\"I also have a taste for hot chocolate in the afternoon.\")) # ['chocolate', 'afternoon']\n",
    "print(long_words(\"I never drink tea late at night.\")) # []\n",
    "\n",
    "\n"
   ],
   "outputs": [
    {
     "output_type": "stream",
     "name": "stdout",
     "text": [
      "['morning']\n",
      "['chocolate', 'afternoon']\n",
      "[]\n"
     ]
    }
   ],
   "metadata": {}
  },
  {
   "cell_type": "code",
   "execution_count": 311,
   "source": [
    "# 这里回顾之前的一个例子\n",
    "\n",
    "\n",
    "log = \"july 31 0olkdsjf lkjdsflksdfj  [12345] dfsed\"\n",
    " \n",
    "\n",
    "regex = r\"\\[(\\d*)\\]\" # 本来应该得到的结果是 [12345]，但这里用到 capturing groups , 把得到的结果的一部分, e.g., 12345, 丢到一个tuple里\n",
    "result = re.search(regex, log)\n",
    "print(result[1])"
   ],
   "outputs": [
    {
     "output_type": "stream",
     "name": "stdout",
     "text": [
      "12345\n"
     ]
    }
   ],
   "metadata": {}
  },
  {
   "cell_type": "code",
   "execution_count": 312,
   "source": [
    "result = re.search(regex, \"A completely different string that also has numbers [34567]\")\n",
    "print(result[1])\n",
    "result = re.search(regex, \"A completely different string that also has numbers xx]\")\n",
    "print(result)\n",
    "# print(result[1]) 如果运行这一行，则会出错， 因为这时候string里没有我们需要的字符，我们可以通过使用extract process id (e.g., pid) 来避免这类错误\n",
    "# 见下"
   ],
   "outputs": [
    {
     "output_type": "stream",
     "name": "stdout",
     "text": [
      "34567\n",
      "None\n"
     ]
    }
   ],
   "metadata": {}
  },
  {
   "cell_type": "code",
   "execution_count": 313,
   "source": [
    "def extract_pid(log_line) :\n",
    "    regex = r\"\\[(\\d+)\\]\"\n",
    "    result = re.search(regex, log_line)\n",
    "    if result is None :\n",
    "        return \"\"\n",
    "    return result[1]\n",
    "extract_pid(log)"
   ],
   "outputs": [
    {
     "output_type": "execute_result",
     "data": {
      "text/plain": [
       "'12345'"
      ]
     },
     "metadata": {},
     "execution_count": 313
    }
   ],
   "metadata": {}
  },
  {
   "cell_type": "code",
   "execution_count": 314,
   "source": [
    "print(extract_pid(\" 99 elephants in a [cage]\")) #这样就不会出错"
   ],
   "outputs": [
    {
     "output_type": "stream",
     "name": "stdout",
     "text": [
      "\n"
     ]
    }
   ],
   "metadata": {}
  },
  {
   "cell_type": "code",
   "execution_count": null,
   "source": [],
   "outputs": [],
   "metadata": {}
  },
  {
   "cell_type": "code",
   "execution_count": 315,
   "source": [
    "# 例子 dd to the regular expression used in the extract_pid function, to return the uppercase message in parenthesis, after the process id.\n",
    "import re\n",
    "def extract_pid(log_line):\n",
    "    regex = r\"\\[(\\d+)\\]\\: (\\w*)\"\n",
    "    result = re.search(regex, log_line)\n",
    "    if result is None:\n",
    "        return None\n",
    "    return \"{} ({})\".format(result[1], result[2].upper())\n",
    "\n",
    "print(extract_pid(\"July 31 07:51:48 mycomputer bad_process[12345]: ERROR Performing package upgrade\")) # 12345 (ERROR)\n",
    "print(extract_pid(\"99 elephants in a [cage]\")) # None\n",
    "print(extract_pid(\"A string that also has numbers [34567] but no uppercase message\")) # None\n",
    "print(extract_pid(\"July 31 08:08:08 mycomputer new_process[67890]: RUNNING Performing backup\")) # 67890 (RUNNING)\n",
    "\n"
   ],
   "outputs": [
    {
     "output_type": "stream",
     "name": "stdout",
     "text": [
      "12345 (ERROR)\n",
      "None\n",
      "None\n",
      "67890 (RUNNING)\n"
     ]
    }
   ],
   "metadata": {}
  },
  {
   "cell_type": "code",
   "execution_count": 316,
   "source": [
    "# split function in the re module\n",
    "print(re.split(r\"[.?!]\", \"One sentence. Another one? And the last one!\"))\n",
    "print(re.split(r\"[\\.\\?\\!]\", \"One sentence. Another one? And the last one!\"))\n"
   ],
   "outputs": [
    {
     "output_type": "stream",
     "name": "stdout",
     "text": [
      "['One sentence', ' Another one', ' And the last one', '']\n",
      "['One sentence', ' Another one', ' And the last one', '']\n"
     ]
    }
   ],
   "metadata": {}
  },
  {
   "cell_type": "code",
   "execution_count": 317,
   "source": [
    "re.split(r\"([.?!])\", \"One sentence. Another one? And the last one!\")"
   ],
   "outputs": [
    {
     "output_type": "execute_result",
     "data": {
      "text/plain": [
       "['One sentence', '.', ' Another one', '?', ' And the last one', '!', '']"
      ]
     },
     "metadata": {},
     "execution_count": 317
    }
   ],
   "metadata": {}
  },
  {
   "cell_type": "code",
   "execution_count": 318,
   "source": [
    "re.split(r\"the|a\", \"One sentence. Another one? And the last one!\")"
   ],
   "outputs": [
    {
     "output_type": "execute_result",
     "data": {
      "text/plain": [
       "['One sentence. Ano', 'r one? And ', ' l', 'st one!']"
      ]
     },
     "metadata": {},
     "execution_count": 318
    }
   ],
   "metadata": {}
  },
  {
   "cell_type": "code",
   "execution_count": 319,
   "source": [
    "# sub function in the re module 找到特定的字符串并且替换\n",
    "re.sub(r\"[\\w.%+-]*@[\\w.-]*\", \"[REDACTED]\", \"receive an email for GO_NUTS95@my.example.com\")\n",
    "\n",
    "# [\\w.%+-]*  指代任意长度的字母数字以及dot以及%以及+- 字符\n",
    "# [\\w.-]*    指代任意长度的字母以及dot以及减号 字符"
   ],
   "outputs": [
    {
     "output_type": "execute_result",
     "data": {
      "text/plain": [
       "'receive an email for [REDACTED]'"
      ]
     },
     "metadata": {},
     "execution_count": 319
    }
   ],
   "metadata": {}
  },
  {
   "cell_type": "code",
   "execution_count": 320,
   "source": [
    "re.sub(r\"^([\\w .-]*), ([\\w .-]*)$\", r\"\\2 \\1\", \"Lovelace, aAda\")\n",
    "# 这里的 \\2 \\1 分别指代前面的capturing group中的 ([\\w .-]*) 以及 ([\\w .-]*)"
   ],
   "outputs": [
    {
     "output_type": "execute_result",
     "data": {
      "text/plain": [
       "'aAda Lovelace'"
      ]
     },
     "metadata": {},
     "execution_count": 320
    }
   ],
   "metadata": {}
  },
  {
   "cell_type": "code",
   "execution_count": 321,
   "source": [
    "# 例子 1.\n",
    "# Question 1\n",
    "# We're working with a CSV file, which contains employee information. Each record has a name field, followed by a phone number field, and a role field. The phone number field contains U.S. phone numbers, and needs to be modified to the international format, with \"+1-\" in front of the phone number. Fill in the regular expression, using groups, to use the transform_record function to do that.\n",
    "\n",
    "\n",
    "import re\n",
    "def transform_record(record):\n",
    "  # regex = r\"(\\d\\d\\d\\-\\d\\d\\d\\-\\d\\d\\d\\d)\"\n",
    "  regex = r\"(\\d\\d\\d[\\d\\-]*)\"\n",
    "  record_origin = re.search(regex, record)\n",
    "  # print(record_origin[1]) \n",
    "  record_adj = \"+1-\" + record_origin[1]\n",
    "  # print(record_adj)\n",
    "\n",
    "  new_record = re.sub(regex, record_adj, record)\n",
    "\n",
    "  return new_record\n",
    "\n",
    "\n",
    "print(transform_record(\"Sabrina Green,802-867-5309,System Administrator\")) \n",
    "# Sabrina Green,+1-802-867-5309,System Administrator\n",
    "\n",
    "print(transform_record(\"Eli Jones,684-3481127,IT specialist\")) \n",
    "# # Eli Jones,+1-684-3481127,IT specialist\n",
    "\n",
    "print(transform_record(\"Melody Daniels,846-687-7436,Programmer\")) \n",
    "# Melody Daniels,+1-846-687-7436,Programmer\n",
    "\n",
    "print(transform_record(\"Charlie Rivera,698-746-3357,Web Developer\")) \n",
    "# Charlie Rivera,+1-698-746-3357,Web Developer\n",
    "\n",
    "\n"
   ],
   "outputs": [
    {
     "output_type": "stream",
     "name": "stdout",
     "text": [
      "Sabrina Green,+1-802-867-5309,System Administrator\n",
      "Eli Jones,+1-684-3481127,IT specialist\n",
      "Melody Daniels,+1-846-687-7436,Programmer\n",
      "Charlie Rivera,+1-698-746-3357,Web Developer\n"
     ]
    }
   ],
   "metadata": {}
  },
  {
   "cell_type": "code",
   "execution_count": 322,
   "source": [
    "# 例子 The multi_vowel_words function returns all words with 3 or more consecutive vowels (a, e, i, o, u). Fill in the regular expression to do that.\n",
    "\n",
    "import re\n",
    "def multi_vowel_words(text):\n",
    "  pattern = r\"\\w*[aeiou][aeiou][aeiou]\\w*\"\n",
    "  result = re.findall(pattern, text)\n",
    "  return result\n",
    "\n",
    "print(multi_vowel_words(\"Life is beautiful\")) \n",
    "# ['beautiful']\n",
    "\n",
    "print(multi_vowel_words(\"Obviously, the queen is courageous and gracious.\")) \n",
    "# ['Obviously', 'queen', 'courageous', 'gracious']\n",
    "\n",
    "print(multi_vowel_words(\"The rambunctious children had to sit quietly and await their delicious dinner.\")) \n",
    "# ['rambunctious', 'quietly', 'delicious']\n",
    "\n",
    "print(multi_vowel_words(\"The order of a data queue is First In First Out (FIFO)\")) \n",
    "# ['queue']\n",
    "\n",
    "print(multi_vowel_words(\"Hello world!\")) \n",
    "# []"
   ],
   "outputs": [
    {
     "output_type": "stream",
     "name": "stdout",
     "text": [
      "['beautiful']\n",
      "['Obviously', 'queen', 'courageous', 'gracious']\n",
      "['rambunctious', 'quietly', 'delicious']\n",
      "['queue']\n",
      "[]\n"
     ]
    }
   ],
   "metadata": {}
  },
  {
   "cell_type": "code",
   "execution_count": 8,
   "source": [
    "# The transform_comments function converts comments in a Python script into those usable by a C compiler. This means looking for text that begins with a hash mark (#) and replacing it with double slashes (//), which is the C single-line comment indicator. For the purpose of this exercise, we'll ignore the possibility of a hash mark embedded inside of a Python command, and assume that it's only used to indicate a comment. We also want to treat repetitive hash marks (##), (###), etc., as a single comment indicator, to be replaced with just (//) and not (#//) or (//#). Fill in the parameters of the substitution method to complete this function: \n",
    "\n",
    "import re\n",
    "def transform_comments(line_of_code):\n",
    "  regex = r\"\\#+\"\n",
    "\n",
    "  result = re.sub(regex, \"//\", line_of_code)\n",
    "  return result\n",
    "\n",
    "print(transform_comments(\"### Start of program\")) \n",
    "# Should be \"// Start of program\"\n",
    "print(transform_comments(\"  number = 0   ## Initialize the variable\")) \n",
    "# Should be \"  number = 0   // Initialize the variable\"\n",
    "print(transform_comments(\"  number += 1   # Increment the variable\")) \n",
    "# Should be \"  number += 1   // Increment the variable\"\n",
    "print(transform_comments(\"  return(number)\")) \n",
    "# Should be \"  return(number)\"\n"
   ],
   "outputs": [
    {
     "output_type": "stream",
     "name": "stdout",
     "text": [
      "// Start of program\n",
      "  number = 0   // Initialize the variable\n",
      "  number += 1   // Increment the variable\n",
      "  return(number)\n"
     ]
    }
   ],
   "metadata": {}
  },
  {
   "cell_type": "code",
   "execution_count": 90,
   "source": [
    "# The convert_phone_number function checks for a U.S. phone number format: XXX-XXX-XXXX (3 digits followed by a dash, 3 more digits followed by a dash, and 4 digits), and converts it to a more formal format that looks like this: (XXX) XXX-XXXX. Fill in the regular expression to complete this function.\n",
    "\n",
    "\n",
    "import re\n",
    "def convert_phone_number(phone):\n",
    "  regex_check = r\"(\\d\\d\\d\\-\\d\\d\\d\\-\\d\\d\\d\\d[\\.\\s]?$)\"\n",
    "  result = re.search(regex_check, phone)\n",
    "  \n",
    " \n",
    "  if result == None :\n",
    "    return phone\n",
    "  else :\n",
    "    result = re.search(regex_check, phone)\n",
    "    pre_string = phone[: phone.index(result[0])]\n",
    "    # print(pre_string)\n",
    "    \n",
    "    result2 = re.split(r\"[-\\s]\", result[0])\n",
    "    result_adj = pre_string+ \"(\"+result2[0]+\") \"+result2[1]+\"-\"+result2[2]\n",
    "  \n",
    "    return result_adj\n",
    "\n",
    "print(convert_phone_number(\"My number is 212-345-9999.\")) # My number is (212) 345-9999.\n",
    "print(convert_phone_number(\"Please call 888-555-1234\")) # Please call (888) 555-1234\n",
    "print(convert_phone_number(\"123-123-12345\")) # 123-123-12345\n",
    "print(convert_phone_number(\"Phone number of Buckingham Palace is +44 303 123 7300\")) # Phone number of Buckingham Palace is +44 303 123 7300"
   ],
   "outputs": [
    {
     "output_type": "stream",
     "name": "stdout",
     "text": [
      "My number is (212) 345-9999.\n",
      "Please call (888) 555-1234\n",
      "123-123-12345\n",
      "Phone number of Buckingham Palace is +44 303 123 7300\n"
     ]
    }
   ],
   "metadata": {}
  },
  {
   "cell_type": "code",
   "execution_count": 91,
   "source": [
    "#!/usr/bin/env python3\n",
    "import re\n",
    "import csv\n",
    "def contains_domain(address, domain):\n",
    "  \"\"\"Returns True if the email address contains the given,domain,in the domain position, false if not.\"\"\"\n",
    "  domain = r'[\\w\\.-]+@'+domain+'$'\n",
    "  if re.match(domain,address):\n",
    "    return True\n",
    "  return False\n",
    "def replace_domain(address, old_domain, new_domain):\n",
    "  \"\"\"Replaces the old domain with the new domain in the received address.\"\"\"\n",
    "  old_domain_pattern = r'' + old_domain + '$'\n",
    "  address = re.sub(old_domain_pattern, new_domain, address)\n",
    "  return address\n",
    "def main():\n",
    "  \"\"\"Processes the list of emails, replacing any instances of the old domain with the new domain.\"\"\"\n",
    "  old_domain, new_domain = 'abc.edu', 'xyz.edu'\n",
    "  csv_file_location = 'user_emails.csv'\n",
    "  report_file = './' + '/updated_user_emails.csv'\n",
    "  user_email_list = []\n",
    "  old_domain_email_list = []\n",
    "  new_domain_email_list = []\n",
    "  with open(csv_file_location, 'r') as f:\n",
    "    user_data_list = list(csv.reader(f))\n",
    "    user_email_list = [data[1].strip() for data in user_data_list[1:]]\n",
    "    for email_address in user_email_list:\n",
    "      if contains_domain(email_address, old_domain):\n",
    "        old_domain_email_list.append(email_address)\n",
    "        replaced_email = replace_domain(email_address,old_domain,new_domain)\n",
    "        new_domain_email_list.append(replaced_email)\n",
    "    email_key = ' ' + 'Email Address'\n",
    "    email_index = user_data_list[0].index(email_key)\n",
    "    for user in user_data_list[1:]:\n",
    "      for old_domain, new_domain in zip(old_domain_email_list, new_domain_email_list):\n",
    "        if user[email_index] == ' ' + old_domain:\n",
    "          user[email_index] = ' ' + new_domain\n",
    "  f.close()\n",
    "  with open(report_file, 'w+') as output_file:\n",
    "    writer = csv.writer(output_file)\n",
    "    writer.writerows(user_data_list)\n",
    "    output_file.close()\n",
    "main()"
   ],
   "outputs": [],
   "metadata": {}
  }
 ],
 "metadata": {
  "orig_nbformat": 4,
  "language_info": {
   "name": "python",
   "version": "3.9.6",
   "mimetype": "text/x-python",
   "codemirror_mode": {
    "name": "ipython",
    "version": 3
   },
   "pygments_lexer": "ipython3",
   "nbconvert_exporter": "python",
   "file_extension": ".py"
  },
  "kernelspec": {
   "name": "python3",
   "display_name": "Python 3.9.6 64-bit ('ds1': conda)"
  },
  "interpreter": {
   "hash": "c51834b1ae9799b48209906f57f76f8fdfb3733a8a2ba0a3021dea1fb17d7da4"
  }
 },
 "nbformat": 4,
 "nbformat_minor": 2
}