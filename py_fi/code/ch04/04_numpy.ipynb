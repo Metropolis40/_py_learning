{
 "cells": [
  {
   "cell_type": "markdown",
   "metadata": {},
   "source": [
    "<img src=\"http://hilpisch.com/tpq_logo.png\" alt=\"The Python Quants\" width=\"35%\" align=\"right\" border=\"0\"><br>"
   ]
  },
  {
   "cell_type": "markdown",
   "metadata": {},
   "source": [
    "# Python for Finance (2nd ed.)\n",
    "\n",
    "**Mastering Data-Driven Finance**\n",
    "\n",
    "&copy; Dr. Yves J. Hilpisch | The Python Quants GmbH\n",
    "\n",
    "<img src=\"http://hilpisch.com/images/py4fi_2nd_shadow.png\" width=\"300px\" align=\"left\">"
   ]
  },
  {
   "cell_type": "markdown",
   "metadata": {},
   "source": [
    "# Numerical Computing with NumPy"
   ]
  },
  {
   "cell_type": "markdown",
   "metadata": {},
   "source": [
    "## Python Lists"
   ]
  },
  {
   "cell_type": "code",
   "execution_count": 77,
   "metadata": {
    "uuid": "be5428db-f5f0-48d1-9cb3-46ab122778e7"
   },
   "outputs": [],
   "source": [
    "v = [0.5, 0.75, 1.0, 1.5, 2.0]  "
   ]
  },
  {
   "cell_type": "code",
   "execution_count": 78,
   "metadata": {
    "uuid": "01678cdc-dfe0-481e-b9bc-b735b15c76c0"
   },
   "outputs": [
    {
     "output_type": "execute_result",
     "data": {
      "text/plain": [
       "[[0.5, 0.75, 1.0, 1.5, 2.0],\n",
       " [0.5, 0.75, 1.0, 1.5, 2.0],\n",
       " [0.5, 0.75, 1.0, 1.5, 2.0]]"
      ]
     },
     "metadata": {},
     "execution_count": 78
    }
   ],
   "source": [
    "m = [v, v, v]  \n",
    "m  "
   ]
  },
  {
   "cell_type": "code",
   "execution_count": 79,
   "metadata": {
    "uuid": "e2d1473a-4970-4085-9e8a-de65ed22f986"
   },
   "outputs": [
    {
     "output_type": "execute_result",
     "data": {
      "text/plain": [
       "[0.5, 0.75, 1.0, 1.5, 2.0]"
      ]
     },
     "metadata": {},
     "execution_count": 79
    }
   ],
   "source": [
    "m[1]"
   ]
  },
  {
   "cell_type": "code",
   "execution_count": 80,
   "metadata": {
    "uuid": "e33ea433-6716-4d17-9ed3-04a68af6b489"
   },
   "outputs": [
    {
     "output_type": "execute_result",
     "data": {
      "text/plain": [
       "0.5"
      ]
     },
     "metadata": {},
     "execution_count": 80
    }
   ],
   "source": [
    "m[1][0]"
   ]
  },
  {
   "cell_type": "code",
   "execution_count": 81,
   "metadata": {
    "uuid": "d905bfcc-e325-468e-829e-bb5c59def934"
   },
   "outputs": [
    {
     "output_type": "execute_result",
     "data": {
      "text/plain": [
       "[[[0.5, 1.5], [1, 2]], [[0.5, 1.5], [1, 2]]]"
      ]
     },
     "metadata": {},
     "execution_count": 81
    }
   ],
   "source": [
    "v1 = [0.5, 1.5]\n",
    "v2 = [1, 2]\n",
    "m = [v1, v2]\n",
    "c = [m, m]  \n",
    "c"
   ]
  },
  {
   "cell_type": "code",
   "execution_count": 82,
   "metadata": {
    "scrolled": true,
    "uuid": "be03ed03-1e4a-428e-ac94-e451ceeaa745"
   },
   "outputs": [
    {
     "output_type": "execute_result",
     "data": {
      "text/plain": [
       "1"
      ]
     },
     "metadata": {},
     "execution_count": 82
    }
   ],
   "source": [
    "c[1][1][0]"
   ]
  },
  {
   "cell_type": "code",
   "execution_count": 83,
   "metadata": {
    "uuid": "015e5dd4-fda4-4572-9a23-06ff178ff2be"
   },
   "outputs": [
    {
     "output_type": "execute_result",
     "data": {
      "text/plain": [
       "[[0.5, 0.75, 1.0, 1.5, 2.0],\n",
       " [0.5, 0.75, 1.0, 1.5, 2.0],\n",
       " [0.5, 0.75, 1.0, 1.5, 2.0]]"
      ]
     },
     "metadata": {},
     "execution_count": 83
    }
   ],
   "source": [
    "v = [0.5, 0.75, 1.0, 1.5, 2.0]\n",
    "m = [v, v, v]\n",
    "m"
   ]
  },
  {
   "cell_type": "code",
   "execution_count": 98,
   "metadata": {},
   "outputs": [
    {
     "output_type": "execute_result",
     "data": {
      "text/plain": [
       "[[0.5, 0.75, 1.0, 1.5, 2.0],\n",
       " [0.5, 0.75, 1.0, 1.5, 2.0],\n",
       " [0.5, 0.75, 1.0, 1.5, 2.0]]"
      ]
     },
     "metadata": {},
     "execution_count": 98
    }
   ],
   "source": [
    "v = [0.5, 0.75, 1.0, 1.5, 2.0]\n",
    "\n",
    "vv =  [v]*3\n",
    "vv"
   ]
  },
  {
   "cell_type": "code",
   "execution_count": 99,
   "metadata": {
    "uuid": "fd8ebed9-f11c-455a-a660-f4fe8d12d8f4"
   },
   "outputs": [
    {
     "output_type": "execute_result",
     "data": {
      "text/plain": [
       "[['Python', 0.75, 1.0, 1.5, 2.0],\n",
       " ['Python', 0.75, 1.0, 1.5, 2.0],\n",
       " ['Python', 0.75, 1.0, 1.5, 2.0]]"
      ]
     },
     "metadata": {},
     "execution_count": 99
    }
   ],
   "source": [
    "v[0] = 'Python'\n",
    "vv"
   ]
  },
  {
   "cell_type": "code",
   "execution_count": 100,
   "metadata": {
    "uuid": "eacab892-e5a6-49be-9ef2-ef2972b313c3"
   },
   "outputs": [
    {
     "output_type": "stream",
     "name": "stdout",
     "text": [
      "[0.5, 0.75, 1.0, 1.5, 2.0]\n"
     ]
    },
    {
     "output_type": "execute_result",
     "data": {
      "text/plain": [
       "[[0.5, 0.75, 1.0, 1.5, 2.0],\n",
       " [0.5, 0.75, 1.0, 1.5, 2.0],\n",
       " [0.5, 0.75, 1.0, 1.5, 2.0]]"
      ]
     },
     "metadata": {},
     "execution_count": 100
    }
   ],
   "source": [
    "from copy import deepcopy\n",
    "v = [0.5, 0.75, 1.0, 1.5, 2.0]\n",
    "print(deepcopy(v))\n",
    "m = 3 * [deepcopy(v), ]  \n",
    "m\n",
    "\n"
   ]
  },
  {
   "cell_type": "code",
   "execution_count": 101,
   "metadata": {
    "uuid": "10ed3e78-fdc4-4adf-8f80-75eac48629a1"
   },
   "outputs": [
    {
     "output_type": "execute_result",
     "data": {
      "text/plain": [
       "[[0.5, 0.75, 1.0, 1.5, 2.0],\n",
       " [0.5, 0.75, 1.0, 1.5, 2.0],\n",
       " [0.5, 0.75, 1.0, 1.5, 2.0]]"
      ]
     },
     "metadata": {},
     "execution_count": 101
    }
   ],
   "source": [
    "v[0] = 'Python'  \n",
    "m  "
   ]
  },
  {
   "cell_type": "markdown",
   "metadata": {},
   "source": [
    "### Python Array Class"
   ]
  },
  {
   "cell_type": "code",
   "execution_count": 102,
   "metadata": {},
   "outputs": [],
   "source": [
    "v = [0.5, 0.75, 1.0, 1.5, 2.0]"
   ]
  },
  {
   "cell_type": "code",
   "execution_count": 103,
   "metadata": {},
   "outputs": [],
   "source": [
    "import array"
   ]
  },
  {
   "cell_type": "code",
   "execution_count": 104,
   "metadata": {},
   "outputs": [
    {
     "output_type": "execute_result",
     "data": {
      "text/plain": [
       "array('f', [0.5, 0.75, 1.0, 1.5, 2.0])"
      ]
     },
     "metadata": {},
     "execution_count": 104
    }
   ],
   "source": [
    "a = array.array('f', v)  \n",
    "a"
   ]
  },
  {
   "cell_type": "code",
   "execution_count": 105,
   "metadata": {},
   "outputs": [
    {
     "output_type": "execute_result",
     "data": {
      "text/plain": [
       "array('f', [0.5, 0.75, 1.0, 1.5, 2.0, 0.5])"
      ]
     },
     "metadata": {},
     "execution_count": 105
    }
   ],
   "source": [
    "a.append(0.5)  \n",
    "a"
   ]
  },
  {
   "cell_type": "code",
   "execution_count": 106,
   "metadata": {},
   "outputs": [
    {
     "output_type": "execute_result",
     "data": {
      "text/plain": [
       "array('f', [0.5, 0.75, 1.0, 1.5, 2.0, 0.5, 5.0, 6.75])"
      ]
     },
     "metadata": {},
     "execution_count": 106
    }
   ],
   "source": [
    "a.extend([5.0, 6.75])  \n",
    "a"
   ]
  },
  {
   "cell_type": "code",
   "execution_count": 107,
   "metadata": {},
   "outputs": [
    {
     "output_type": "execute_result",
     "data": {
      "text/plain": [
       "array('f', [0.5, 0.75, 1.0, 1.5, 2.0, 0.5, 5.0, 6.75, 0.5, 0.75, 1.0, 1.5, 2.0, 0.5, 5.0, 6.75])"
      ]
     },
     "metadata": {},
     "execution_count": 107
    }
   ],
   "source": [
    "2 * a  "
   ]
  },
  {
   "cell_type": "code",
   "execution_count": 108,
   "metadata": {},
   "outputs": [],
   "source": [
    "# causes intentional error\n",
    "# a.append('string')  "
   ]
  },
  {
   "cell_type": "code",
   "execution_count": 109,
   "metadata": {
    "scrolled": true
   },
   "outputs": [
    {
     "output_type": "execute_result",
     "data": {
      "text/plain": [
       "[0.5, 0.75, 1.0, 1.5, 2.0, 0.5, 5.0, 6.75]"
      ]
     },
     "metadata": {},
     "execution_count": 109
    }
   ],
   "source": [
    "a.tolist()  "
   ]
  },
  {
   "cell_type": "code",
   "execution_count": 19,
   "metadata": {},
   "outputs": [],
   "source": [
    "f = open('array.apy', 'wb')  \n",
    "a.tofile(f)  \n",
    "f.close()  "
   ]
  },
  {
   "cell_type": "code",
   "execution_count": 20,
   "metadata": {},
   "outputs": [],
   "source": [
    "with open('array.apy', 'wb') as f:  \n",
    "    a.tofile(f)  "
   ]
  },
  {
   "cell_type": "code",
   "execution_count": 21,
   "metadata": {},
   "outputs": [
    {
     "name": "stdout",
     "output_type": "stream",
     "text": [
      "-rw-r--r--  1 501  20  32 Jul 27 10:48 array.apy\n"
     ]
    }
   ],
   "source": [
    "!ls -n arr*  "
   ]
  },
  {
   "cell_type": "code",
   "execution_count": 22,
   "metadata": {},
   "outputs": [],
   "source": [
    "b = array.array('f')  "
   ]
  },
  {
   "cell_type": "code",
   "execution_count": 23,
   "metadata": {},
   "outputs": [],
   "source": [
    "with open('array.apy', 'rb') as f:  \n",
    "    b.fromfile(f, 5)  "
   ]
  },
  {
   "cell_type": "code",
   "execution_count": 24,
   "metadata": {},
   "outputs": [
    {
     "data": {
      "text/plain": [
       "array('f', [0.5, 0.75, 1.0, 1.5, 2.0])"
      ]
     },
     "execution_count": 24,
     "metadata": {},
     "output_type": "execute_result"
    }
   ],
   "source": [
    "b  "
   ]
  },
  {
   "cell_type": "code",
   "execution_count": 25,
   "metadata": {},
   "outputs": [],
   "source": [
    "b = array.array('d')  "
   ]
  },
  {
   "cell_type": "code",
   "execution_count": 26,
   "metadata": {},
   "outputs": [],
   "source": [
    "with open('array.apy', 'rb') as f:\n",
    "    b.fromfile(f, 2)  "
   ]
  },
  {
   "cell_type": "code",
   "execution_count": 27,
   "metadata": {},
   "outputs": [
    {
     "data": {
      "text/plain": [
       "array('d', [0.0004882813645963324, 0.12500002956949174])"
      ]
     },
     "execution_count": 27,
     "metadata": {},
     "output_type": "execute_result"
    }
   ],
   "source": [
    "b  "
   ]
  },
  {
   "cell_type": "markdown",
   "metadata": {},
   "source": [
    "## NumPy Arrays"
   ]
  },
  {
   "cell_type": "markdown",
   "metadata": {},
   "source": [
    "### The Basics"
   ]
  },
  {
   "cell_type": "code",
   "execution_count": 110,
   "metadata": {
    "uuid": "434dc849-a224-49f3-af1c-466dc48c9258"
   },
   "outputs": [],
   "source": [
    "import numpy as np  "
   ]
  },
  {
   "cell_type": "code",
   "execution_count": 114,
   "metadata": {},
   "outputs": [
    {
     "output_type": "stream",
     "name": "stdout",
     "text": [
      "[0.  0.5 1.  1.5 2. ] {3: 'df', 4: 65, 6: 4}\n"
     ]
    }
   ],
   "source": [
    "#we can convert any iterable into numpy arrays.\n",
    "a = np.array([0, 0.5, 1.0, 1.5, 2.0])  \n",
    "a\n",
    "\n",
    "b = np.array({3:3,4:65,6:4,3:'df'})\n",
    "print(a, b)"
   ]
  },
  {
   "cell_type": "code",
   "execution_count": 118,
   "metadata": {
    "uuid": "a58df3ba-f18e-459d-ac4d-6be84714a2a3"
   },
   "outputs": [
    {
     "output_type": "stream",
     "name": "stdout",
     "text": [
      "<class 'numpy.ndarray'> <class 'numpy.ndarray'>\n"
     ]
    }
   ],
   "source": [
    "print(type(a), type(b))"
   ]
  },
  {
   "cell_type": "code",
   "execution_count": 119,
   "metadata": {},
   "outputs": [
    {
     "output_type": "execute_result",
     "data": {
      "text/plain": [
       "array(['a', 'b', 'c'], dtype='<U1')"
      ]
     },
     "metadata": {},
     "execution_count": 119
    }
   ],
   "source": [
    "a = np.array(['a', 'b', 'c'])  \n",
    "a"
   ]
  },
  {
   "cell_type": "code",
   "execution_count": 123,
   "metadata": {
    "uuid": "a58df3ba-f18e-459d-ac4d-6be84714a2a3"
   },
   "outputs": [
    {
     "output_type": "stream",
     "name": "stdout",
     "text": [
      "[ 2  4  6  8 10 12 14 16 18]\n[ 2  4  6  8 10 12 14 16 18]\n[ 2  4  6  8 10 12 14 16 18]\n"
     ]
    }
   ],
   "source": [
    "a = np.arange(2, 20, 2)  \n",
    "print(a)\n",
    "\n",
    "#this is equivalent to\n",
    "lst = []\n",
    "for i in range(2,20,2):\n",
    "    lst.append(i)\n",
    "\n",
    "print(np.array(lst))\n",
    "\n",
    "#this is equivalent to\n",
    "lst2 = np.array([i for i in range(2, 20, 2)])\n",
    "print(lst2)"
   ]
  },
  {
   "cell_type": "code",
   "execution_count": 125,
   "metadata": {
    "uuid": "a58df3ba-f18e-459d-ac4d-6be84714a2a3"
   },
   "outputs": [
    {
     "output_type": "stream",
     "name": "stdout",
     "text": [
      "[0. 1. 2. 3. 4. 5. 6. 7.]\n[ 0.  1.  2.  3.  4.  5.  6.  7.  8.  9. 10. 11. 12. 13. 14. 15. 16. 17.\n 18. 19.]\n"
     ]
    }
   ],
   "source": [
    "a = np.arange(8, dtype=np.float)  \n",
    "\n",
    "print(a)\n",
    "np_array = np.arange(20, dtype = np.float)\n",
    "\n",
    "print(np_array)"
   ]
  },
  {
   "cell_type": "code",
   "execution_count": 126,
   "metadata": {
    "uuid": "c6c73402-ed3b-4ea1-b62e-06dca996e713"
   },
   "outputs": [
    {
     "output_type": "execute_result",
     "data": {
      "text/plain": [
       "array([5., 6., 7.])"
      ]
     },
     "metadata": {},
     "execution_count": 126
    }
   ],
   "source": [
    "a[5:]  "
   ]
  },
  {
   "cell_type": "code",
   "execution_count": 127,
   "metadata": {},
   "outputs": [
    {
     "output_type": "execute_result",
     "data": {
      "text/plain": [
       "array([0., 1.])"
      ]
     },
     "metadata": {},
     "execution_count": 127
    }
   ],
   "source": [
    "a[:2]  "
   ]
  },
  {
   "cell_type": "code",
   "execution_count": 128,
   "metadata": {
    "uuid": "f167bdb8-6673-4520-bd34-e2428ede6ad7"
   },
   "outputs": [
    {
     "output_type": "execute_result",
     "data": {
      "text/plain": [
       "28.0"
      ]
     },
     "metadata": {},
     "execution_count": 128
    }
   ],
   "source": [
    "a.sum()  "
   ]
  },
  {
   "cell_type": "code",
   "execution_count": 129,
   "metadata": {
    "uuid": "0eafbb03-0cc4-4dd7-a177-9d8f2f8a32be"
   },
   "outputs": [
    {
     "output_type": "execute_result",
     "data": {
      "text/plain": [
       "2.29128784747792"
      ]
     },
     "metadata": {},
     "execution_count": 129
    }
   ],
   "source": [
    "a.std()  "
   ]
  },
  {
   "cell_type": "code",
   "execution_count": 130,
   "metadata": {
    "uuid": "9eda9efe-4e85-4bc2-8df3-edd8ab40c7f2"
   },
   "outputs": [
    {
     "output_type": "execute_result",
     "data": {
      "text/plain": [
       "array([ 0.,  1.,  3.,  6., 10., 15., 21., 28.])"
      ]
     },
     "metadata": {},
     "execution_count": 130
    }
   ],
   "source": [
    "a.cumsum()  "
   ]
  },
  {
   "cell_type": "code",
   "execution_count": 131,
   "metadata": {},
   "outputs": [
    {
     "output_type": "execute_result",
     "data": {
      "text/plain": [
       "[0.0, 0.5, 1.5, 3.0, 5.0, 0.0, 0.5, 1.5, 3.0, 5.0]"
      ]
     },
     "metadata": {},
     "execution_count": 131
    }
   ],
   "source": [
    "l = [0., 0.5, 1.5, 3., 5.]\n",
    "2 * l  "
   ]
  },
  {
   "cell_type": "code",
   "execution_count": 132,
   "metadata": {},
   "outputs": [
    {
     "output_type": "execute_result",
     "data": {
      "text/plain": [
       "array([0., 1., 2., 3., 4., 5., 6., 7.])"
      ]
     },
     "metadata": {},
     "execution_count": 132
    }
   ],
   "source": [
    "a"
   ]
  },
  {
   "cell_type": "code",
   "execution_count": 135,
   "metadata": {
    "uuid": "94ddb4ba-eb2b-4565-80cf-247db6dc5846"
   },
   "outputs": [
    {
     "output_type": "stream",
     "name": "stdout",
     "text": [
      "[ 0.  2.  4.  6.  8. 10. 12. 14.]\n"
     ]
    },
    {
     "output_type": "execute_result",
     "data": {
      "text/plain": [
       "array([0., 1., 2., 3., 4., 5., 6., 7., 0., 1., 2., 3., 4., 5., 6., 7., 0.,\n",
       "       1., 2., 3., 4., 5., 6., 7.])"
      ]
     },
     "metadata": {},
     "execution_count": 135
    }
   ],
   "source": [
    "print(2 * a)  \n",
    "np.concatenate([a]*3)"
   ]
  },
  {
   "cell_type": "code",
   "execution_count": 136,
   "metadata": {
    "uuid": "5c5f7bd8-b48b-4e8e-b6c8-95b67c9deed0"
   },
   "outputs": [
    {
     "output_type": "execute_result",
     "data": {
      "text/plain": [
       "array([ 0.,  1.,  4.,  9., 16., 25., 36., 49.])"
      ]
     },
     "metadata": {},
     "execution_count": 136
    }
   ],
   "source": [
    "a ** 2  "
   ]
  },
  {
   "cell_type": "code",
   "execution_count": 137,
   "metadata": {},
   "outputs": [
    {
     "output_type": "execute_result",
     "data": {
      "text/plain": [
       "array([  1.,   2.,   4.,   8.,  16.,  32.,  64., 128.])"
      ]
     },
     "metadata": {},
     "execution_count": 137
    }
   ],
   "source": [
    "2 ** a  "
   ]
  },
  {
   "cell_type": "code",
   "execution_count": 138,
   "metadata": {},
   "outputs": [
    {
     "output_type": "execute_result",
     "data": {
      "text/plain": [
       "array([1.00000e+00, 1.00000e+00, 4.00000e+00, 2.70000e+01, 2.56000e+02,\n",
       "       3.12500e+03, 4.66560e+04, 8.23543e+05])"
      ]
     },
     "metadata": {},
     "execution_count": 138
    }
   ],
   "source": [
    "a ** a  "
   ]
  },
  {
   "cell_type": "code",
   "execution_count": 139,
   "metadata": {},
   "outputs": [
    {
     "output_type": "execute_result",
     "data": {
      "text/plain": [
       "array([1.00000000e+00, 2.71828183e+00, 7.38905610e+00, 2.00855369e+01,\n",
       "       5.45981500e+01, 1.48413159e+02, 4.03428793e+02, 1.09663316e+03])"
      ]
     },
     "metadata": {},
     "execution_count": 139
    }
   ],
   "source": [
    "np.exp(a)  "
   ]
  },
  {
   "cell_type": "code",
   "execution_count": 140,
   "metadata": {
    "uuid": "eccae4a8-18fc-4362-8089-faed41fe558a"
   },
   "outputs": [
    {
     "output_type": "execute_result",
     "data": {
      "text/plain": [
       "array([0.        , 1.        , 1.41421356, 1.73205081, 2.        ,\n",
       "       2.23606798, 2.44948974, 2.64575131])"
      ]
     },
     "metadata": {},
     "execution_count": 140
    }
   ],
   "source": [
    "np.sqrt(a)  "
   ]
  },
  {
   "cell_type": "code",
   "execution_count": 141,
   "metadata": {},
   "outputs": [
    {
     "output_type": "stream",
     "name": "stdout",
     "text": [
      "995 ns ± 73.1 ns per loop (mean ± std. dev. of 7 runs, 1000000 loops each)\n"
     ]
    }
   ],
   "source": [
    "%timeit xx = np.sqrt(2.5)  "
   ]
  },
  {
   "cell_type": "code",
   "execution_count": 142,
   "metadata": {},
   "outputs": [
    {
     "output_type": "stream",
     "name": "stdout",
     "text": [
      "160 ns ± 18.5 ns per loop (mean ± std. dev. of 7 runs, 1000000 loops each)\n"
     ]
    }
   ],
   "source": [
    "import math\n",
    "\n",
    "%timeit xx = math.sqrt(2.5)  "
   ]
  },
  {
   "cell_type": "code",
   "execution_count": 37,
   "metadata": {},
   "outputs": [],
   "source": [
    "import math  "
   ]
  },
  {
   "cell_type": "code",
   "execution_count": 49,
   "metadata": {},
   "outputs": [
    {
     "data": {
      "text/plain": [
       "1.5811388300841898"
      ]
     },
     "execution_count": 49,
     "metadata": {},
     "output_type": "execute_result"
    }
   ],
   "source": [
    "math.sqrt(2.5)  "
   ]
  },
  {
   "cell_type": "code",
   "execution_count": 144,
   "metadata": {},
   "outputs": [],
   "source": [
    "# causes intentional error\n",
    "#math.sqrt(a)  "
   ]
  },
  {
   "cell_type": "code",
   "execution_count": 38,
   "metadata": {},
   "outputs": [
    {
     "output_type": "stream",
     "name": "stdout",
     "text": [
      "1.27 µs ± 77.1 ns per loop (mean ± std. dev. of 7 runs, 1000000 loops each)\n"
     ]
    }
   ],
   "source": [
    "%timeit np.sqrt(2.5)  "
   ]
  },
  {
   "cell_type": "code",
   "execution_count": 39,
   "metadata": {},
   "outputs": [
    {
     "output_type": "stream",
     "name": "stdout",
     "text": [
      "238 ns ± 64.5 ns per loop (mean ± std. dev. of 7 runs, 1000000 loops each)\n"
     ]
    }
   ],
   "source": [
    "%timeit math.sqrt(2.5)  "
   ]
  },
  {
   "cell_type": "markdown",
   "metadata": {},
   "source": [
    "### Multiple Dimensions"
   ]
  },
  {
   "cell_type": "code",
   "execution_count": 145,
   "metadata": {
    "uuid": "3d05357c-109d-45c7-b10b-fe6c958fd33d"
   },
   "outputs": [
    {
     "output_type": "execute_result",
     "data": {
      "text/plain": [
       "array([[ 0.,  1.,  2.,  3.,  4.,  5.,  6.,  7.],\n",
       "       [ 0.,  2.,  4.,  6.,  8., 10., 12., 14.]])"
      ]
     },
     "metadata": {},
     "execution_count": 145
    }
   ],
   "source": [
    "b = np.array([a, a * 2])  \n",
    "b"
   ]
  },
  {
   "cell_type": "code",
   "execution_count": 146,
   "metadata": {
    "uuid": "e536d513-ddb7-469d-9ad4-3abbc5cbf006"
   },
   "outputs": [
    {
     "output_type": "execute_result",
     "data": {
      "text/plain": [
       "array([0., 1., 2., 3., 4., 5., 6., 7.])"
      ]
     },
     "metadata": {},
     "execution_count": 146
    }
   ],
   "source": [
    "b[0]  "
   ]
  },
  {
   "cell_type": "code",
   "execution_count": 147,
   "metadata": {},
   "outputs": [
    {
     "output_type": "execute_result",
     "data": {
      "text/plain": [
       "2.0"
      ]
     },
     "metadata": {},
     "execution_count": 147
    }
   ],
   "source": [
    "b[0][2]"
   ]
  },
  {
   "cell_type": "code",
   "execution_count": 148,
   "metadata": {
    "uuid": "d1d0c7dd-aadb-4217-b3ea-927f28f51300"
   },
   "outputs": [
    {
     "output_type": "execute_result",
     "data": {
      "text/plain": [
       "2.0"
      ]
     },
     "metadata": {},
     "execution_count": 148
    }
   ],
   "source": [
    "b[0, 2]  "
   ]
  },
  {
   "cell_type": "code",
   "execution_count": 149,
   "metadata": {},
   "outputs": [
    {
     "output_type": "execute_result",
     "data": {
      "text/plain": [
       "array([1., 2.])"
      ]
     },
     "metadata": {},
     "execution_count": 149
    }
   ],
   "source": [
    "b[:, 1]  "
   ]
  },
  {
   "cell_type": "code",
   "execution_count": 151,
   "metadata": {
    "uuid": "41b3d64b-6121-4578-b33c-f9bef4d23ddb"
   },
   "outputs": [
    {
     "output_type": "stream",
     "name": "stdout",
     "text": [
      "84.0 56.0\n"
     ]
    }
   ],
   "source": [
    "x1 = b.sum()  \n",
    "x2 = b[1].sum()\n",
    "print(x1, x2)"
   ]
  },
  {
   "cell_type": "code",
   "execution_count": 152,
   "metadata": {
    "uuid": "ba56b01a-cf24-4bee-be04-cdadd59a6cb5"
   },
   "outputs": [
    {
     "output_type": "execute_result",
     "data": {
      "text/plain": [
       "array([ 0.,  3.,  6.,  9., 12., 15., 18., 21.])"
      ]
     },
     "metadata": {},
     "execution_count": 152
    }
   ],
   "source": [
    "b.sum(axis=0)  "
   ]
  },
  {
   "cell_type": "code",
   "execution_count": 153,
   "metadata": {
    "uuid": "898c4a09-4488-4041-94a3-ea25cbd86637"
   },
   "outputs": [
    {
     "output_type": "execute_result",
     "data": {
      "text/plain": [
       "array([28., 56.])"
      ]
     },
     "metadata": {},
     "execution_count": 153
    }
   ],
   "source": [
    "b.sum(axis=1)  "
   ]
  },
  {
   "source": [
    "fill values to an array template"
   ],
   "cell_type": "markdown",
   "metadata": {}
  },
  {
   "cell_type": "code",
   "execution_count": 154,
   "metadata": {
    "uuid": "6d7362b7-dda8-4961-8be1-96da9b1718cf"
   },
   "outputs": [
    {
     "output_type": "execute_result",
     "data": {
      "text/plain": [
       "array([[0, 0, 0],\n",
       "       [0, 0, 0]], dtype=int32)"
      ]
     },
     "metadata": {},
     "execution_count": 154
    }
   ],
   "source": [
    "c = np.zeros((2, 3), dtype='i', order='C')  \n",
    "c"
   ]
  },
  {
   "cell_type": "code",
   "execution_count": 156,
   "metadata": {},
   "outputs": [
    {
     "output_type": "execute_result",
     "data": {
      "text/plain": [
       "array([[[0., 0., 0., 0.],\n",
       "        [0., 0., 0., 0.],\n",
       "        [0., 0., 0., 0.]],\n",
       "\n",
       "       [[0., 0., 0., 0.],\n",
       "        [0., 0., 0., 0.],\n",
       "        [0., 0., 0., 0.]]])"
      ]
     },
     "metadata": {},
     "execution_count": 156
    }
   ],
   "source": [
    "c = np.zeros((2, 3, 4))  \n",
    "c"
   ]
  },
  {
   "cell_type": "code",
   "execution_count": 49,
   "metadata": {
    "uuid": "6d7362b7-dda8-4961-8be1-96da9b1718cf"
   },
   "outputs": [
    {
     "output_type": "execute_result",
     "data": {
      "text/plain": [
       "array([[[1, 1, 1, 1],\n",
       "        [1, 1, 1, 1],\n",
       "        [1, 1, 1, 1]],\n",
       "\n",
       "       [[1, 1, 1, 1],\n",
       "        [1, 1, 1, 1],\n",
       "        [1, 1, 1, 1]]], dtype=int32)"
      ]
     },
     "metadata": {},
     "execution_count": 49
    }
   ],
   "source": [
    "c = np.ones((2, 3, 4), dtype='i', order='C')  \n",
    "c"
   ]
  },
  {
   "cell_type": "code",
   "execution_count": 157,
   "metadata": {},
   "outputs": [
    {
     "output_type": "execute_result",
     "data": {
      "text/plain": [
       "array([[[1., 1., 1., 1.],\n",
       "        [1., 1., 1., 1.],\n",
       "        [1., 1., 1., 1.]],\n",
       "\n",
       "       [[1., 1., 1., 1.],\n",
       "        [1., 1., 1., 1.],\n",
       "        [1., 1., 1., 1.]]])"
      ]
     },
     "metadata": {},
     "execution_count": 157
    }
   ],
   "source": [
    "c = np.ones((2, 3, 4))\n",
    "c"
   ]
  },
  {
   "cell_type": "code",
   "execution_count": 62,
   "metadata": {
    "uuid": "0d4862fd-4847-4dd7-b8cd-e6966bbd5913"
   },
   "outputs": [
    {
     "data": {
      "text/plain": [
       "array([[[0., 0., 0., 0.],\n",
       "        [0., 0., 0., 0.],\n",
       "        [0., 0., 0., 0.]],\n",
       "\n",
       "       [[0., 0., 0., 0.],\n",
       "        [0., 0., 0., 0.],\n",
       "        [0., 0., 0., 0.]]], dtype=float128)"
      ]
     },
     "execution_count": 62,
     "metadata": {},
     "output_type": "execute_result"
    }
   ],
   "source": [
    "d = np.zeros_like(c, dtype='f16', order='C')  \n",
    "d"
   ]
  },
  {
   "cell_type": "code",
   "execution_count": 63,
   "metadata": {
    "uuid": "0d4862fd-4847-4dd7-b8cd-e6966bbd5913"
   },
   "outputs": [
    {
     "data": {
      "text/plain": [
       "array([[[1., 1., 1., 1.],\n",
       "        [1., 1., 1., 1.],\n",
       "        [1., 1., 1., 1.]],\n",
       "\n",
       "       [[1., 1., 1., 1.],\n",
       "        [1., 1., 1., 1.],\n",
       "        [1., 1., 1., 1.]]], dtype=float128)"
      ]
     },
     "execution_count": 63,
     "metadata": {},
     "output_type": "execute_result"
    }
   ],
   "source": [
    "d = np.ones_like(c, dtype='f16', order='C')  \n",
    "d"
   ]
  },
  {
   "cell_type": "code",
   "execution_count": 64,
   "metadata": {},
   "outputs": [
    {
     "data": {
      "text/plain": [
       "array([[[-1.28822975e-231, -1.28822975e-231],\n",
       "        [ 3.45845952e-323,  0.00000000e+000],\n",
       "        [ 0.00000000e+000,  0.00000000e+000]],\n",
       "\n",
       "       [[-1.28822975e-231, -1.28822975e-231],\n",
       "        [ 1.97626258e-323,  0.00000000e+000],\n",
       "        [ 0.00000000e+000,  0.00000000e+000]]])"
      ]
     },
     "execution_count": 64,
     "metadata": {},
     "output_type": "execute_result"
    }
   ],
   "source": [
    "e = np.empty((2, 3, 2))  \n",
    "e"
   ]
  },
  {
   "cell_type": "code",
   "execution_count": 160,
   "metadata": {},
   "outputs": [
    {
     "output_type": "execute_result",
     "data": {
      "text/plain": [
       "array([0., 0., 0., 0.])"
      ]
     },
     "metadata": {},
     "execution_count": 160
    }
   ],
   "source": [
    "f = np.zeros_like(c)  \n",
    "f[1][1]"
   ]
  },
  {
   "cell_type": "code",
   "execution_count": 76,
   "metadata": {},
   "outputs": [
    {
     "output_type": "execute_result",
     "data": {
      "text/plain": [
       "array([[1., 0., 0., 0., 0., 0., 0., 0., 0., 0., 0., 0.],\n",
       "       [0., 1., 0., 0., 0., 0., 0., 0., 0., 0., 0., 0.],\n",
       "       [0., 0., 1., 0., 0., 0., 0., 0., 0., 0., 0., 0.],\n",
       "       [0., 0., 0., 1., 0., 0., 0., 0., 0., 0., 0., 0.],\n",
       "       [0., 0., 0., 0., 1., 0., 0., 0., 0., 0., 0., 0.],\n",
       "       [0., 0., 0., 0., 0., 1., 0., 0., 0., 0., 0., 0.],\n",
       "       [0., 0., 0., 0., 0., 0., 1., 0., 0., 0., 0., 0.],\n",
       "       [0., 0., 0., 0., 0., 0., 0., 1., 0., 0., 0., 0.],\n",
       "       [0., 0., 0., 0., 0., 0., 0., 0., 1., 0., 0., 0.],\n",
       "       [0., 0., 0., 0., 0., 0., 0., 0., 0., 1., 0., 0.],\n",
       "       [0., 0., 0., 0., 0., 0., 0., 0., 0., 0., 1., 0.],\n",
       "       [0., 0., 0., 0., 0., 0., 0., 0., 0., 0., 0., 1.]])"
      ]
     },
     "metadata": {},
     "execution_count": 76
    }
   ],
   "source": [
    "np.eye(5)  \n",
    "np.eye(12)"
   ]
  },
  {
   "cell_type": "code",
   "execution_count": 200,
   "metadata": {},
   "outputs": [
    {
     "output_type": "stream",
     "name": "stdout",
     "text": [
      "[[  2.         244.          23.        ]\n [  2.10526316 231.31578947  33.47368421]\n [  2.21052632 218.63157895  43.94736842]\n [  2.31578947 205.94736842  54.42105263]\n [  2.42105263 193.26315789  64.89473684]\n [  2.52631579 180.57894737  75.36842105]\n [  2.63157895 167.89473684  85.84210526]\n [  2.73684211 155.21052632  96.31578947]\n [  2.84210526 142.52631579 106.78947368]\n [  2.94736842 129.84210526 117.26315789]\n [  3.05263158 117.15789474 127.73684211]\n [  3.15789474 104.47368421 138.21052632]\n [  3.26315789  91.78947368 148.68421053]\n [  3.36842105  79.10526316 159.15789474]\n [  3.47368421  66.42105263 169.63157895]\n [  3.57894737  53.73684211 180.10526316]\n [  3.68421053  41.05263158 190.57894737]\n [  3.78947368  28.36842105 201.05263158]\n [  3.89473684  15.68421053 211.52631579]\n [  4.           3.         222.        ]]\n"
     ]
    }
   ],
   "source": [
    "g = np.linspace( [2, 244, 23],[4,3,222],20)  #geneate 20 values to fill in an array, the starting value is [2, 244, 23], the ending avlue is [4,3,222].\n",
    "print(g)"
   ]
  },
  {
   "cell_type": "markdown",
   "metadata": {},
   "source": [
    "### Meta-Information"
   ]
  },
  {
   "cell_type": "code",
   "execution_count": 178,
   "metadata": {},
   "outputs": [
    {
     "output_type": "execute_result",
     "data": {
      "text/plain": [
       "150"
      ]
     },
     "metadata": {},
     "execution_count": 178
    }
   ],
   "source": [
    "g.size  "
   ]
  },
  {
   "cell_type": "code",
   "execution_count": 180,
   "metadata": {},
   "outputs": [
    {
     "output_type": "execute_result",
     "data": {
      "text/plain": [
       "8"
      ]
     },
     "metadata": {},
     "execution_count": 180
    }
   ],
   "source": [
    "g.itemsize  #the number of bytes to represent an element."
   ]
  },
  {
   "cell_type": "code",
   "execution_count": 179,
   "metadata": {},
   "outputs": [
    {
     "output_type": "execute_result",
     "data": {
      "text/plain": [
       "2"
      ]
     },
     "metadata": {},
     "execution_count": 179
    }
   ],
   "source": [
    "g.ndim  "
   ]
  },
  {
   "cell_type": "code",
   "execution_count": 188,
   "metadata": {},
   "outputs": [
    {
     "output_type": "execute_result",
     "data": {
      "text/plain": [
       "(50, 3)"
      ]
     },
     "metadata": {},
     "execution_count": 188
    }
   ],
   "source": [
    "g.shape  "
   ]
  },
  {
   "cell_type": "code",
   "execution_count": 190,
   "metadata": {},
   "outputs": [
    {
     "output_type": "execute_result",
     "data": {
      "text/plain": [
       "dtype('float64')"
      ]
     },
     "metadata": {},
     "execution_count": 190
    }
   ],
   "source": [
    "g.dtype  "
   ]
  },
  {
   "cell_type": "code",
   "execution_count": 191,
   "metadata": {},
   "outputs": [
    {
     "output_type": "execute_result",
     "data": {
      "text/plain": [
       "1200"
      ]
     },
     "metadata": {},
     "execution_count": 191
    }
   ],
   "source": [
    "g.nbytes  "
   ]
  },
  {
   "cell_type": "markdown",
   "metadata": {},
   "source": [
    "### Reshaping, Resizing, Stacking, Flattening"
   ]
  },
  {
   "cell_type": "code",
   "execution_count": 202,
   "metadata": {},
   "outputs": [],
   "source": [
    "g = np.arange(15)"
   ]
  },
  {
   "cell_type": "code",
   "execution_count": 203,
   "metadata": {},
   "outputs": [
    {
     "output_type": "execute_result",
     "data": {
      "text/plain": [
       "array([ 0,  1,  2,  3,  4,  5,  6,  7,  8,  9, 10, 11, 12, 13, 14])"
      ]
     },
     "metadata": {},
     "execution_count": 203
    }
   ],
   "source": [
    "g"
   ]
  },
  {
   "cell_type": "code",
   "execution_count": 215,
   "metadata": {},
   "outputs": [
    {
     "output_type": "stream",
     "name": "stdout",
     "text": [
      "<class 'tuple'> (15,)\n"
     ]
    },
    {
     "output_type": "execute_result",
     "data": {
      "text/plain": [
       "1"
      ]
     },
     "metadata": {},
     "execution_count": 215
    }
   ],
   "source": [
    "print('{} {}'.format(type(g.shape), g.shape ))\n",
    "np.ndim(g.shape)"
   ]
  },
  {
   "cell_type": "code",
   "execution_count": 218,
   "metadata": {},
   "outputs": [
    {
     "output_type": "execute_result",
     "data": {
      "text/plain": [
       "(15,)"
      ]
     },
     "metadata": {},
     "execution_count": 218
    }
   ],
   "source": [
    "np.shape(g) \n"
   ]
  },
  {
   "cell_type": "code",
   "execution_count": 219,
   "metadata": {},
   "outputs": [
    {
     "output_type": "execute_result",
     "data": {
      "text/plain": [
       "array([[ 0,  1,  2,  3,  4],\n",
       "       [ 5,  6,  7,  8,  9],\n",
       "       [10, 11, 12, 13, 14]])"
      ]
     },
     "metadata": {},
     "execution_count": 219
    }
   ],
   "source": [
    "g.reshape((3, 5))  "
   ]
  },
  {
   "cell_type": "code",
   "execution_count": 220,
   "metadata": {},
   "outputs": [
    {
     "output_type": "execute_result",
     "data": {
      "text/plain": [
       "array([[ 0,  1,  2],\n",
       "       [ 3,  4,  5],\n",
       "       [ 6,  7,  8],\n",
       "       [ 9, 10, 11],\n",
       "       [12, 13, 14]])"
      ]
     },
     "metadata": {},
     "execution_count": 220
    }
   ],
   "source": [
    "h = g.reshape((5, 3))  \n",
    "h"
   ]
  },
  {
   "cell_type": "code",
   "execution_count": 221,
   "metadata": {},
   "outputs": [
    {
     "output_type": "execute_result",
     "data": {
      "text/plain": [
       "array([[ 0,  3,  6,  9, 12],\n",
       "       [ 1,  4,  7, 10, 13],\n",
       "       [ 2,  5,  8, 11, 14]])"
      ]
     },
     "metadata": {},
     "execution_count": 221
    }
   ],
   "source": [
    "h.T  "
   ]
  },
  {
   "cell_type": "code",
   "execution_count": 222,
   "metadata": {},
   "outputs": [
    {
     "output_type": "execute_result",
     "data": {
      "text/plain": [
       "array([[ 0,  3,  6,  9, 12],\n",
       "       [ 1,  4,  7, 10, 13],\n",
       "       [ 2,  5,  8, 11, 14]])"
      ]
     },
     "metadata": {},
     "execution_count": 222
    }
   ],
   "source": [
    "h.transpose()  "
   ]
  },
  {
   "cell_type": "code",
   "execution_count": 223,
   "metadata": {},
   "outputs": [
    {
     "output_type": "execute_result",
     "data": {
      "text/plain": [
       "array([ 0,  1,  2,  3,  4,  5,  6,  7,  8,  9, 10, 11, 12, 13, 14])"
      ]
     },
     "metadata": {},
     "execution_count": 223
    }
   ],
   "source": [
    "g"
   ]
  },
  {
   "cell_type": "code",
   "execution_count": 224,
   "metadata": {},
   "outputs": [
    {
     "output_type": "execute_result",
     "data": {
      "text/plain": [
       "array([[0],\n",
       "       [1],\n",
       "       [2]])"
      ]
     },
     "metadata": {},
     "execution_count": 224
    }
   ],
   "source": [
    "np.resize(g, (3, 1))  #resize the numpy array into an array of (3,1) dimension, this leads to truncatation of the first three elements."
   ]
  },
  {
   "cell_type": "code",
   "execution_count": 225,
   "metadata": {},
   "outputs": [
    {
     "output_type": "execute_result",
     "data": {
      "text/plain": [
       "array([[0, 1, 2, 3, 4]])"
      ]
     },
     "metadata": {},
     "execution_count": 225
    }
   ],
   "source": [
    "np.resize(g, (1, 5))  "
   ]
  },
  {
   "cell_type": "code",
   "execution_count": 226,
   "metadata": {},
   "outputs": [
    {
     "output_type": "execute_result",
     "data": {
      "text/plain": [
       "array([[0, 1, 2, 3, 4],\n",
       "       [5, 6, 7, 8, 9]])"
      ]
     },
     "metadata": {},
     "execution_count": 226
    }
   ],
   "source": [
    "np.resize(g, (2, 5))  "
   ]
  },
  {
   "cell_type": "code",
   "execution_count": 227,
   "metadata": {},
   "outputs": [
    {
     "output_type": "execute_result",
     "data": {
      "text/plain": [
       "array([[ 0,  1,  2,  3],\n",
       "       [ 4,  5,  6,  7],\n",
       "       [ 8,  9, 10, 11],\n",
       "       [12, 13, 14,  0],\n",
       "       [ 1,  2,  3,  4]])"
      ]
     },
     "metadata": {},
     "execution_count": 227
    }
   ],
   "source": [
    "n = np.resize(g, (5, 4))  #this leads to data (duplilcation)\n",
    "n"
   ]
  },
  {
   "cell_type": "code",
   "execution_count": 228,
   "metadata": {},
   "outputs": [
    {
     "output_type": "execute_result",
     "data": {
      "text/plain": [
       "array([[ 0,  1,  2],\n",
       "       [ 3,  4,  5],\n",
       "       [ 6,  7,  8],\n",
       "       [ 9, 10, 11],\n",
       "       [12, 13, 14]])"
      ]
     },
     "metadata": {},
     "execution_count": 228
    }
   ],
   "source": [
    "h"
   ]
  },
  {
   "cell_type": "code",
   "execution_count": 229,
   "metadata": {},
   "outputs": [
    {
     "output_type": "execute_result",
     "data": {
      "text/plain": [
       "array([[ 0,  1,  2,  0,  2,  4],\n",
       "       [ 3,  4,  5,  6,  8, 10],\n",
       "       [ 6,  7,  8, 12, 14, 16],\n",
       "       [ 9, 10, 11, 18, 20, 22],\n",
       "       [12, 13, 14, 24, 26, 28]])"
      ]
     },
     "metadata": {},
     "execution_count": 229
    }
   ],
   "source": [
    "np.hstack((h, 2 * h))  "
   ]
  },
  {
   "cell_type": "code",
   "execution_count": 230,
   "metadata": {},
   "outputs": [
    {
     "output_type": "execute_result",
     "data": {
      "text/plain": [
       "array([[ 0. ,  1. ,  2. ],\n",
       "       [ 3. ,  4. ,  5. ],\n",
       "       [ 6. ,  7. ,  8. ],\n",
       "       [ 9. , 10. , 11. ],\n",
       "       [12. , 13. , 14. ],\n",
       "       [ 0. ,  0.5,  1. ],\n",
       "       [ 1.5,  2. ,  2.5],\n",
       "       [ 3. ,  3.5,  4. ],\n",
       "       [ 4.5,  5. ,  5.5],\n",
       "       [ 6. ,  6.5,  7. ]])"
      ]
     },
     "metadata": {},
     "execution_count": 230
    }
   ],
   "source": [
    "np.vstack((h, 0.5 * h))  "
   ]
  },
  {
   "cell_type": "code",
   "execution_count": 231,
   "metadata": {},
   "outputs": [
    {
     "output_type": "execute_result",
     "data": {
      "text/plain": [
       "array([[ 0,  1,  2],\n",
       "       [ 3,  4,  5],\n",
       "       [ 6,  7,  8],\n",
       "       [ 9, 10, 11],\n",
       "       [12, 13, 14]])"
      ]
     },
     "metadata": {},
     "execution_count": 231
    }
   ],
   "source": [
    "h"
   ]
  },
  {
   "cell_type": "code",
   "execution_count": 232,
   "metadata": {},
   "outputs": [
    {
     "output_type": "execute_result",
     "data": {
      "text/plain": [
       "array([ 0,  1,  2,  3,  4,  5,  6,  7,  8,  9, 10, 11, 12, 13, 14])"
      ]
     },
     "metadata": {},
     "execution_count": 232
    }
   ],
   "source": [
    "h.flatten()  "
   ]
  },
  {
   "cell_type": "code",
   "execution_count": 92,
   "metadata": {},
   "outputs": [
    {
     "data": {
      "text/plain": [
       "array([ 0,  1,  2,  3,  4,  5,  6,  7,  8,  9, 10, 11, 12, 13, 14])"
      ]
     },
     "execution_count": 92,
     "metadata": {},
     "output_type": "execute_result"
    }
   ],
   "source": [
    "h.flatten(order='C')  \n",
    "h.flatten()"
   ]
  },
  {
   "cell_type": "code",
   "execution_count": 93,
   "metadata": {},
   "outputs": [
    {
     "data": {
      "text/plain": [
       "array([ 0,  3,  6,  9, 12,  1,  4,  7, 10, 13,  2,  5,  8, 11, 14])"
      ]
     },
     "execution_count": 93,
     "metadata": {},
     "output_type": "execute_result"
    }
   ],
   "source": [
    "h.flatten"
   ]
  },
  {
   "cell_type": "code",
   "execution_count": 239,
   "metadata": {},
   "outputs": [
    {
     "output_type": "stream",
     "name": "stdout",
     "text": [
      "0,1,2,3,4,5,6,7,8,9,10,11,12,13,14,"
     ]
    }
   ],
   "source": [
    "for i in h.flat:  #this is equivalent to h.flatten()\n",
    "    print(i, end=',')"
   ]
  },
  {
   "cell_type": "code",
   "execution_count": 95,
   "metadata": {},
   "outputs": [
    {
     "name": "stdout",
     "output_type": "stream",
     "text": [
      "0,1,2,3,4,5,6,7,8,9,10,11,12,13,14,"
     ]
    }
   ],
   "source": [
    "for i in h.ravel(order='C'):  #this is equivalent to h.flatten()\n",
    "    print(i, end=',')"
   ]
  },
  {
   "cell_type": "code",
   "execution_count": 96,
   "metadata": {},
   "outputs": [
    {
     "name": "stdout",
     "output_type": "stream",
     "text": [
      "0,3,6,9,12,1,4,7,10,13,2,5,8,11,14,"
     ]
    }
   ],
   "source": [
    "for i in h.ravel(order='F'):  \n",
    "    print(i, end=',')"
   ]
  },
  {
   "cell_type": "markdown",
   "metadata": {},
   "source": [
    "### Boolean Arrays"
   ]
  },
  {
   "cell_type": "code",
   "execution_count": 240,
   "metadata": {},
   "outputs": [
    {
     "output_type": "execute_result",
     "data": {
      "text/plain": [
       "array([[ 0,  1,  2],\n",
       "       [ 3,  4,  5],\n",
       "       [ 6,  7,  8],\n",
       "       [ 9, 10, 11],\n",
       "       [12, 13, 14]])"
      ]
     },
     "metadata": {},
     "execution_count": 240
    }
   ],
   "source": [
    "h"
   ]
  },
  {
   "cell_type": "code",
   "execution_count": 241,
   "metadata": {},
   "outputs": [
    {
     "output_type": "execute_result",
     "data": {
      "text/plain": [
       "array([[False, False, False],\n",
       "       [False, False, False],\n",
       "       [False, False, False],\n",
       "       [ True,  True,  True],\n",
       "       [ True,  True,  True]])"
      ]
     },
     "metadata": {},
     "execution_count": 241
    }
   ],
   "source": [
    "h > 8  "
   ]
  },
  {
   "cell_type": "code",
   "execution_count": 248,
   "metadata": {},
   "outputs": [
    {
     "output_type": "stream",
     "name": "stdout",
     "text": [
      "<class 'numpy.ndarray'>\n"
     ]
    },
    {
     "output_type": "execute_result",
     "data": {
      "text/plain": [
       "array([[0, 0, 0],\n",
       "       [0, 0, 0],\n",
       "       [0, 0, 0],\n",
       "       [1, 1, 1],\n",
       "       [1, 1, 1]])"
      ]
     },
     "metadata": {},
     "execution_count": 248
    }
   ],
   "source": [
    "xx  = h > 8\n",
    "print(type(xx.astype(int)))\n",
    "xx.astype(int)"
   ]
  },
  {
   "cell_type": "code",
   "execution_count": 99,
   "metadata": {},
   "outputs": [
    {
     "data": {
      "text/plain": [
       "array([[ True,  True,  True],\n",
       "       [ True,  True,  True],\n",
       "       [ True,  True, False],\n",
       "       [False, False, False],\n",
       "       [False, False, False]])"
      ]
     },
     "execution_count": 99,
     "metadata": {},
     "output_type": "execute_result"
    }
   ],
   "source": [
    "h <= 7  "
   ]
  },
  {
   "cell_type": "code",
   "execution_count": 100,
   "metadata": {},
   "outputs": [
    {
     "data": {
      "text/plain": [
       "array([[False, False, False],\n",
       "       [False, False,  True],\n",
       "       [False, False, False],\n",
       "       [False, False, False],\n",
       "       [False, False, False]])"
      ]
     },
     "execution_count": 100,
     "metadata": {},
     "output_type": "execute_result"
    }
   ],
   "source": [
    "h == 5  "
   ]
  },
  {
   "cell_type": "code",
   "execution_count": 246,
   "metadata": {},
   "outputs": [
    {
     "output_type": "execute_result",
     "data": {
      "text/plain": [
       "array([[0, 0, 0],\n",
       "       [0, 0, 1],\n",
       "       [0, 0, 0],\n",
       "       [0, 0, 0],\n",
       "       [0, 0, 0]])"
      ]
     },
     "metadata": {},
     "execution_count": 246
    }
   ],
   "source": [
    "(h == 5).astype(int)  "
   ]
  },
  {
   "cell_type": "code",
   "execution_count": 102,
   "metadata": {},
   "outputs": [
    {
     "data": {
      "text/plain": [
       "array([[False, False, False],\n",
       "       [False, False,  True],\n",
       "       [ True,  True,  True],\n",
       "       [ True,  True,  True],\n",
       "       [ True, False, False]])"
      ]
     },
     "execution_count": 102,
     "metadata": {},
     "output_type": "execute_result"
    }
   ],
   "source": [
    "(h > 4) & (h <= 12)  "
   ]
  },
  {
   "cell_type": "code",
   "execution_count": 103,
   "metadata": {},
   "outputs": [
    {
     "data": {
      "text/plain": [
       "array([ 9, 10, 11, 12, 13, 14])"
      ]
     },
     "execution_count": 103,
     "metadata": {},
     "output_type": "execute_result"
    }
   ],
   "source": [
    "h[h > 8]  "
   ]
  },
  {
   "cell_type": "code",
   "execution_count": 104,
   "metadata": {},
   "outputs": [
    {
     "data": {
      "text/plain": [
       "array([ 5,  6,  7,  8,  9, 10, 11, 12])"
      ]
     },
     "execution_count": 104,
     "metadata": {},
     "output_type": "execute_result"
    }
   ],
   "source": [
    "h[(h > 4) & (h <= 12)]  "
   ]
  },
  {
   "cell_type": "code",
   "execution_count": 105,
   "metadata": {},
   "outputs": [
    {
     "data": {
      "text/plain": [
       "array([ 0,  1,  2,  3, 12, 13, 14])"
      ]
     },
     "execution_count": 105,
     "metadata": {},
     "output_type": "execute_result"
    }
   ],
   "source": [
    "h[(h < 4) | (h >= 12)]  "
   ]
  },
  {
   "cell_type": "code",
   "execution_count": 250,
   "metadata": {},
   "outputs": [
    {
     "output_type": "execute_result",
     "data": {
      "text/plain": [
       "array([[ 0,  1,  2],\n",
       "       [ 3,  4,  5],\n",
       "       [ 6,  7,  8],\n",
       "       [ 9, 10, 11],\n",
       "       [12, 13, 14]])"
      ]
     },
     "metadata": {},
     "execution_count": 250
    }
   ],
   "source": [
    "h"
   ]
  },
  {
   "cell_type": "code",
   "execution_count": 249,
   "metadata": {},
   "outputs": [
    {
     "output_type": "execute_result",
     "data": {
      "text/plain": [
       "array([[0, 0, 0],\n",
       "       [0, 0, 0],\n",
       "       [0, 0, 1],\n",
       "       [1, 1, 1],\n",
       "       [1, 1, 1]])"
      ]
     },
     "metadata": {},
     "execution_count": 249
    }
   ],
   "source": [
    "np.where(h > 7, 1, 0)  "
   ]
  },
  {
   "cell_type": "code",
   "execution_count": 251,
   "metadata": {},
   "outputs": [
    {
     "output_type": "execute_result",
     "data": {
      "text/plain": [
       "array([['even', 'odd', 'even'],\n",
       "       ['odd', 'even', 'odd'],\n",
       "       ['even', 'odd', 'even'],\n",
       "       ['odd', 'even', 'odd'],\n",
       "       ['even', 'odd', 'even']], dtype='<U4')"
      ]
     },
     "metadata": {},
     "execution_count": 251
    }
   ],
   "source": [
    "np.where(h % 2 == 0, 'even', 'odd')  "
   ]
  },
  {
   "cell_type": "code",
   "execution_count": 252,
   "metadata": {},
   "outputs": [
    {
     "output_type": "execute_result",
     "data": {
      "text/plain": [
       "array([[ 0. ,  2. ,  4. ],\n",
       "       [ 6. ,  8. , 10. ],\n",
       "       [12. , 14. ,  4. ],\n",
       "       [ 4.5,  5. ,  5.5],\n",
       "       [ 6. ,  6.5,  7. ]])"
      ]
     },
     "metadata": {},
     "execution_count": 252
    }
   ],
   "source": [
    "np.where(h <= 7, h * 2, h / 2)  "
   ]
  },
  {
   "cell_type": "markdown",
   "metadata": {},
   "source": [
    "### Speed Comparison"
   ]
  },
  {
   "cell_type": "code",
   "execution_count": 267,
   "metadata": {},
   "outputs": [],
   "source": [
    "import random\n",
    "I = 100"
   ]
  },
  {
   "cell_type": "code",
   "execution_count": 268,
   "metadata": {},
   "outputs": [
    {
     "output_type": "stream",
     "name": "stdout",
     "text": [
      "Wall time: 12 ms\n"
     ]
    }
   ],
   "source": [
    "%time mat = [[random.gauss(0, 1) for j in range(I)] \\\n",
    "             for i in range(I)]  "
   ]
  },
  {
   "cell_type": "code",
   "execution_count": 270,
   "metadata": {},
   "outputs": [
    {
     "output_type": "execute_result",
     "data": {
      "text/plain": [
       "450067,\n",
       "  -0.1887457272100561,\n",
       "  -0.9952286328221497,\n",
       "  1.186261185646235,\n",
       "  0.013512474561835653,\n",
       "  -0.6462241414696211,\n",
       "  -0.40484580597091135,\n",
       "  -0.26021731248986574,\n",
       "  0.9575172539033012,\n",
       "  1.883586735842421,\n",
       "  1.6294484293685683,\n",
       "  0.14894070537316817,\n",
       "  0.0525865529503906,\n",
       "  0.16607736279869384,\n",
       "  1.162477172389404,\n",
       "  1.0096252734202331,\n",
       "  -0.3897371529579834,\n",
       "  0.02623371174569361,\n",
       "  1.3964865200869432,\n",
       "  -0.7533310998211108,\n",
       "  -1.3487685278005785,\n",
       "  -0.10399948714490509,\n",
       "  -1.5385551740605967,\n",
       "  0.17649063935837372,\n",
       "  0.30830490290267626,\n",
       "  -1.160818083459106,\n",
       "  0.26701082498963,\n",
       "  0.6581392482683764,\n",
       "  -1.21807832882264,\n",
       "  0.3383902965785359,\n",
       "  -0.04685463917049732,\n",
       "  -0.4058096995323263,\n",
       "  0.5617139750649072,\n",
       "  -0.6228095806304365,\n",
       "  -0.05228757578637155,\n",
       "  0.3943430612080341,\n",
       "  -2.088853769967864,\n",
       "  0.9064154103239848,\n",
       "  -0.9591800696702701,\n",
       "  0.36607852077468744,\n",
       "  2.229944727480803,\n",
       "  0.39561925367356715,\n",
       "  -0.4050880972160935,\n",
       "  0.14323176070069987,\n",
       "  -0.5846566018098507,\n",
       "  0.006825945965230935,\n",
       "  2.2386890081766526,\n",
       "  -0.4188955296829955,\n",
       "  -0.5749907395366163,\n",
       "  -0.18487042563944495,\n",
       "  -0.6566081508757324,\n",
       "  -0.43952515991499347,\n",
       "  1.457619099259789,\n",
       "  0.31459437971789755,\n",
       "  0.11085922878470209,\n",
       "  -1.3050437564471151,\n",
       "  0.10630902681318628,\n",
       "  0.44213460028032303,\n",
       "  -0.23686898394762654,\n",
       "  -0.5481833187701932,\n",
       "  -0.3601241049936711,\n",
       "  -0.13854333607434152,\n",
       "  2.3735674546624623,\n",
       "  1.7333362602054838,\n",
       "  -0.29871546789830195,\n",
       "  -0.5380597047560262,\n",
       "  -1.2486768261587384,\n",
       "  -0.8588683869412974,\n",
       "  0.38637024694800737,\n",
       "  -0.39718873688647455,\n",
       "  1.0078394955414782,\n",
       "  0.4491057709554894,\n",
       "  -1.2554368011584827,\n",
       "  -0.27069667840815476,\n",
       "  0.5622864765199934,\n",
       "  0.4208390556722577,\n",
       "  -0.26557774156673947,\n",
       "  -1.0601785430794484,\n",
       "  0.8945173561260772,\n",
       "  -1.9717512490416622,\n",
       "  1.79717033912651,\n",
       "  -0.745330410124804,\n",
       "  -0.39312970378084366],\n",
       " [0.21965019343962117,\n",
       "  -1.1133652241900978,\n",
       "  0.31649657863314085,\n",
       "  -1.3956614562023564,\n",
       "  -0.14186357237804267,\n",
       "  0.03225550061589248,\n",
       "  -2.3156304613556262,\n",
       "  0.3181710279017577,\n",
       "  0.20735900696552403,\n",
       "  0.22115681782735214,\n",
       "  1.5018206191225307,\n",
       "  0.2472557074606211,\n",
       "  -0.6642017462596335,\n",
       "  -0.2514124233441146,\n",
       "  0.4964542956929261,\n",
       "  1.6336905488596667,\n",
       "  0.14552534101949965,\n",
       "  0.689345115594557,\n",
       "  0.5772685428521322,\n",
       "  -1.4057717122995004,\n",
       "  0.3043897484313634,\n",
       "  2.0215252134753547,\n",
       "  -1.0580949687199093,\n",
       "  -0.5187079524135527,\n",
       "  -1.0574159598715527,\n",
       "  0.011980571607808322,\n",
       "  1.2283655718073536,\n",
       "  -0.8772134440589225,\n",
       "  0.2163154241007906,\n",
       "  -0.5362973507961203,\n",
       "  -1.3131006520285544,\n",
       "  -0.3283953779964967,\n",
       "  0.7318594484093169,\n",
       "  2.0264442556424673,\n",
       "  0.6476048602768265,\n",
       "  -1.942742661650368,\n",
       "  0.3774113879049272,\n",
       "  -0.4822229824531941,\n",
       "  -0.2946821911537244,\n",
       "  -0.0752645622995729,\n",
       "  0.18465370796351058,\n",
       "  0.40204185384979757,\n",
       "  -1.105994380434544,\n",
       "  1.330598999299902,\n",
       "  0.9421243475300932,\n",
       "  -0.4370994839956781,\n",
       "  -1.2751585538538224,\n",
       "  0.4849858799112812,\n",
       "  -1.2401532193024887,\n",
       "  -1.7920672134170028,\n",
       "  0.3128918223327438,\n",
       "  0.8058489319904049,\n",
       "  -1.0843859805499538,\n",
       "  1.200542310269887,\n",
       "  -0.5846358959840535,\n",
       "  0.031265344132050926,\n",
       "  -0.4978034180581705,\n",
       "  0.4129123506763561,\n",
       "  1.2710252320698394,\n",
       "  -1.0781472968213377,\n",
       "  0.24427182633705366,\n",
       "  0.4746704057604505,\n",
       "  -0.48820222653223283,\n",
       "  0.8155402044343156,\n",
       "  -0.32067806291698725,\n",
       "  2.324092495357858,\n",
       "  0.2684433270526667,\n",
       "  1.080399340683785,\n",
       "  -0.0015357190725415776,\n",
       "  -0.6715490254510795,\n",
       "  -0.7389796759178913,\n",
       "  -0.3981153442446058,\n",
       "  -1.2082762545620642,\n",
       "  -0.10334848787801569,\n",
       "  -0.4665097600576347,\n",
       "  1.9193102814137974,\n",
       "  -0.1316161655813682,\n",
       "  0.589871419868299,\n",
       "  0.09698800282031356,\n",
       "  -0.8017360240898518,\n",
       "  0.7861659752560729,\n",
       "  0.2255183735030598,\n",
       "  -2.0279302898850324,\n",
       "  -0.3772536002737967,\n",
       "  1.0881350510394279,\n",
       "  2.1563107342541175,\n",
       "  -1.1252446843833015,\n",
       "  0.39538666891041513,\n",
       "  -1.159609604774715,\n",
       "  0.47521358754529636,\n",
       "  -0.8309161693642828,\n",
       "  -1.0686169442025797,\n",
       "  1.2061889937656483,\n",
       "  0.7926332060500202,\n",
       "  0.3561161014093121,\n",
       "  -0.02854512528304175,\n",
       "  0.18678258512091972,\n",
       "  -0.6678731904704105,\n",
       "  -0.0885824787275312,\n",
       "  -1.304716140648096],\n",
       " [-1.61402779404658,\n",
       "  0.5324360044877579,\n",
       "  0.9273812489302612,\n",
       "  -0.5152068051445949,\n",
       "  -0.9409733854109433,\n",
       "  0.35594880083585106,\n",
       "  -0.942196217906005,\n",
       "  -0.10562020042764067,\n",
       "  -0.37440262976363853,\n",
       "  -1.9293243725179543,\n",
       "  -0.010434010683127116,\n",
       "  0.14211400832126628,\n",
       "  0.7046542599459206,\n",
       "  -0.08773150500386392,\n",
       "  1.6757355527413371,\n",
       "  -0.30734017761276006,\n",
       "  -0.12247360415297176,\n",
       "  0.7222578613837871,\n",
       "  -0.05682798900008592,\n",
       "  0.46266451684136284,\n",
       "  0.3910515917066007,\n",
       "  -1.0069486768422031,\n",
       "  -0.9133469904636089,\n",
       "  0.21049389650121028,\n",
       "  0.80723158195907,\n",
       "  -1.0567610846579147,\n",
       "  -0.03696062152555453,\n",
       "  -0.3188555548347047,\n",
       "  0.3452401340229121,\n",
       "  0.31782557664563493,\n",
       "  0.7418499228923788,\n",
       "  -0.5034979785660277,\n",
       "  -0.9835912392329405,\n",
       "  -0.7221599646194898,\n",
       "  -0.5895143436831415,\n",
       "  -0.5380938804936869,\n",
       "  1.0423648599609345,\n",
       "  0.21139859598435481,\n",
       "  1.376099652177836,\n",
       "  -0.14853163654712762,\n",
       "  -0.3354887982982012,\n",
       "  0.9990926701514561,\n",
       "  0.39192383176584855,\n",
       "  0.24829842753748377,\n",
       "  -0.3865200908977726,\n",
       "  -1.3045703523910972,\n",
       "  -1.946540504080539,\n",
       "  -0.267681047785245,\n",
       "  -2.8586705617277746,\n",
       "  -0.9307669821117042,\n",
       "  -0.6122815598231235,\n",
       "  -2.0410979670114493,\n",
       "  -0.7445425034349797,\n",
       "  -1.8882090216477585,\n",
       "  -1.3261731141136994,\n",
       "  0.8471569114424417,\n",
       "  1.5993130162483218,\n",
       "  -1.4778331731359076,\n",
       "  0.8936215878878412,\n",
       "  1.1850385494964941,\n",
       "  0.5711722769771188,\n",
       "  0.16375784950971714,\n",
       "  -1.5268717317041072,\n",
       "  1.2170371191555533,\n",
       "  1.3762988820854123,\n",
       "  -0.15610910204085773,\n",
       "  0.9666644072697099,\n",
       "  -0.986175208545664,\n",
       "  2.777721965750502,\n",
       "  -0.29258653709272464,\n",
       "  -0.39369299581848644,\n",
       "  -0.8110448074727452,\n",
       "  -0.26404937665008754,\n",
       "  -0.07382286220784474,\n",
       "  -0.21790647012769215,\n",
       "  -1.296521327973427,\n",
       "  0.9831472858042235,\n",
       "  -0.23201435624647962,\n",
       "  0.6962613280819588,\n",
       "  -0.1049047589401,\n",
       "  -1.481082900416763,\n",
       "  0.6312817500814413,\n",
       "  0.7304528379127464,\n",
       "  1.8694948190216092,\n",
       "  0.9983444560842337,\n",
       "  -0.7638952743977768,\n",
       "  0.13205899125005408,\n",
       "  0.9296707138872492,\n",
       "  -0.6101850656056937,\n",
       "  -0.21630396134814006,\n",
       "  1.2512466585753486,\n",
       "  1.8791591689134548,\n",
       "  1.375808198975803,\n",
       "  2.0150592543126535,\n",
       "  0.5032265661597479,\n",
       "  -0.8565890138990161,\n",
       "  -0.42717338198026056,\n",
       "  1.141509623018348,\n",
       "  -0.10202454637893771,\n",
       "  0.7744459372317697],\n",
       " [-0.46503557690537034,\n",
       "  -0.6755677005332185,\n",
       "  0.34199674159718196,\n",
       "  -0.5203929169903446,\n",
       "  -0.9265446239424552,\n",
       "  0.3404708131637877,\n",
       "  -0.6889424163166435,\n",
       "  -0.06693898592401215,\n",
       "  1.496984001443469,\n",
       "  -0.5259130929568095,\n",
       "  -1.0309789964715275,\n",
       "  -0.030801474070495587,\n",
       "  -2.8831344068957736,\n",
       "  0.6204016982518523,\n",
       "  -0.596411144875662,\n",
       "  -2.2885712807092227,\n",
       "  -1.506967891096008,\n",
       "  0.2593101353909835,\n",
       "  -0.21060114022318469,\n",
       "  -0.6552796779898098,\n",
       "  -1.914533355087211,\n",
       "  -0.025442989986820295,\n",
       "  -2.2252426921632984,\n",
       "  -1.4580253338773506,\n",
       "  0.21081111024860213,\n",
       "  -0.9649606022545498,\n",
       "  0.29699398018549006,\n",
       "  -0.7200066805515217,\n",
       "  0.48111109121701184,\n",
       "  0.17993709577529657,\n",
       "  0.9082943754584663,\n",
       "  -0.2625102969494185,\n",
       "  0.6957847450687902,\n",
       "  -0.27466786293935624,\n",
       "  0.2174835478225265,\n",
       "  -1.2306418097766891,\n",
       "  0.9167914757933616,\n",
       "  -1.144477882987969,\n",
       "  -0.12536062773624523,\n",
       "  -2.3118567832190986,\n",
       "  -0.49247012093526427,\n",
       "  -0.25910026116135176,\n",
       "  -0.37520654802635095,\n",
       "  -0.635847006496986,\n",
       "  -1.3115083810208263,\n",
       "  -0.9490634021770126,\n",
       "  0.4805295794742682,\n",
       "  -2.030053401110057,\n",
       "  0.5800307304661317,\n",
       "  -0.0038201590641508383,\n",
       "  -0.37650972690166723,\n",
       "  -0.0991082203447458,\n",
       "  -0.20737431836291967,\n",
       "  0.1310877937262748,\n",
       "  0.8577148100882533,\n",
       "  -0.18520788261672183,\n",
       "  -0.08868022753254924,\n",
       "  0.034208614182575446,\n",
       "  -0.894556003744236,\n",
       "  1.895263341880628,\n",
       "  -0.5947957775741259,\n",
       "  -1.6716194090289416,\n",
       "  0.47270317138748535,\n",
       "  -0.6588020959058739,\n",
       "  0.13588993921212283,\n",
       "  3.1876204828643178,\n",
       "  1.3474806834521655,\n",
       "  0.13743395832983996,\n",
       "  -0.5837016400052354,\n",
       "  -1.2136347834997525,\n",
       "  -0.9422874277457988,\n",
       "  -0.36699333706230114,\n",
       "  0.6898130746158182,\n",
       "  -1.109921215058839,\n",
       "  -0.3035004355119289,\n",
       "  -0.3493007267065205,\n",
       "  -0.399611171069425,\n",
       "  -0.9378115345464301,\n",
       "  0.2718517330272353,\n",
       "  0.6284644405679205,\n",
       "  0.24950575145128145,\n",
       "  0.8128171860485935,\n",
       "  -0.5220167131207816,\n",
       "  -0.2700230557049085,\n",
       "  -0.4524362568117478,\n",
       "  0.3831335097030177,\n",
       "  2.907145290207247,\n",
       "  -0.31802675359985244,\n",
       "  0.5202014173698098,\n",
       "  -0.41051160530991493,\n",
       "  0.05547195007607482,\n",
       "  -0.8848606537244507,\n",
       "  1.387436991670246,\n",
       "  -1.6774690542812276,\n",
       "  0.3319657223052298,\n",
       "  -0.5853081409611232,\n",
       "  -1.1465975099958483,\n",
       "  -1.1587928093635855,\n",
       "  -0.546234526053386,\n",
       "  0.38030950966241733],\n",
       " [-1.0236772038456075,\n",
       "  -0.7566211935649327,\n",
       "  -0.2958385747233042,\n",
       "  1.9606324974810907,\n",
       "  -0.2324274077365577,\n",
       "  0.28554899209743634,\n",
       "  1.2806177691165108,\n",
       "  1.7310616051685523,\n",
       "  -0.14353856141493515,\n",
       "  -1.1596171071757284,\n",
       "  0.5537317509041164,\n",
       "  -1.9620745223160456,\n",
       "  1.9589343533238173,\n",
       "  0.536870785660805,\n",
       "  -0.7992005293698415,\n",
       "  0.3528647981020425,\n",
       "  0.763180349743171,\n",
       "  -1.08069679180905,\n",
       "  0.6769527381854188,\n",
       "  0.7036097212502318,\n",
       "  -1.563971293958571,\n",
       "  -0.8584678179284394,\n",
       "  0.07959250068729436,\n",
       "  1.3855672879682963,\n",
       "  -0.1549376178753978,\n",
       "  0.9513977121444032,\n",
       "  -1.1940670492905443,\n",
       "  -0.8339701038061977,\n",
       "  -1.491235231095608,\n",
       "  0.6929745665573266,\n",
       "  -0.38118106984870703,\n",
       "  -0.1862810803461834,\n",
       "  0.3180755931939963,\n",
       "  0.910313372257581,\n",
       "  0.6216497125424891,\n",
       "  -0.872604032481939,\n",
       "  -0.3337196106221354,\n",
       "  -0.09164769276156114,\n",
       "  1.9210214843513942,\n",
       "  -0.166808134170528,\n",
       "  -0.08955281047134767,\n",
       "  -0.2929785559252355,\n",
       "  -0.6841595089037537,\n",
       "  1.3950985624456433,\n",
       "  -0.29883894280453793,\n",
       "  0.7924177045054911,\n",
       "  -2.326313407305161,\n",
       "  1.874944775237434,\n",
       "  -0.6415294510243214,\n",
       "  -0.3770741627465671,\n",
       "  0.31579932040000486,\n",
       "  -0.8526352498508531,\n",
       "  -0.2734934316663273,\n",
       "  -0.8808808965739029,\n",
       "  0.7473126627319141,\n",
       "  -0.18125636861207764,\n",
       "  0.5041402322350454,\n",
       "  -0.2243239522366144,\n",
       "  0.21958307190243176,\n",
       "  -0.4781970835097806,\n",
       "  -1.0024986228975379,\n",
       "  1.5064371051839887,\n",
       "  -0.4574897083990018,\n",
       "  0.14547500230311977,\n",
       "  -0.6571699913776996,\n",
       "  -0.043106935299697585,\n",
       "  -1.452813052534973,\n",
       "  -0.4855276426087321,\n",
       "  0.7116180312205312,\n",
       "  -0.930063850847193,\n",
       "  0.4323066178836728,\n",
       "  0.6623926451112823,\n",
       "  -0.18359929096893413,\n",
       "  -2.809878082108434,\n",
       "  0.1850340192837429,\n",
       "  -0.49738617686394865,\n",
       "  -0.374766726461182,\n",
       "  -0.1949255412410286,\n",
       "  -2.2875609160990265,\n",
       "  -0.9951059143786272,\n",
       "  0.8166931653459578,\n",
       "  0.5148712757888367,\n",
       "  0.9963970676639979,\n",
       "  0.7244289201383848,\n",
       "  1.016431951556894,\n",
       "  1.1703152390330327,\n",
       "  -0.0039056202366871827,\n",
       "  0.4734984346488357,\n",
       "  -0.4943917432450112,\n",
       "  -1.367023210799618,\n",
       "  0.06693426334710484,\n",
       "  1.1354267054609346,\n",
       "  0.3951104917317916,\n",
       "  -0.44476541906853295,\n",
       "  -0.901446516728697,\n",
       "  -1.4704610178234845,\n",
       "  -1.8649023504139783,\n",
       "  1.8775519360172783,\n",
       "  0.43249128480793936,\n",
       "  0.03880103786228144],\n",
       " [-0.8188949401934217,\n",
       "  -1.6680768684501488,\n",
       "  -0.019374503691196497,\n",
       "  -0.09938381742075275,\n",
       "  -0.8378346629208865,\n",
       "  -0.9099455181413667,\n",
       "  -0.8917935385993363,\n",
       "  0.5960650687378252,\n",
       "  -1.2259793360610782,\n",
       "  -0.3451328090800392,\n",
       "  0.6105373895246302,\n",
       "  -1.4500036849691702,\n",
       "  1.326806503145037,\n",
       "  -2.1661265771300675,\n",
       "  -1.4685055124124622,\n",
       "  -0.6129772920637042,\n",
       "  -0.6898341671316741,\n",
       "  1.2801302923846924,\n",
       "  0.8362940964769593,\n",
       "  -0.07304645574988547,\n",
       "  -0.8815322140132107,\n",
       "  0.3836988303281344,\n",
       "  1.1984078321450724,\n",
       "  0.6686543373866467,\n",
       "  0.08193070734668757,\n",
       "  -1.4647086594523515,\n",
       "  -0.4588636650951386,\n",
       "  0.6337723980375698,\n",
       "  0.9322718892920597,\n",
       "  0.7152806484125754,\n",
       "  0.07302208296365985,\n",
       "  -0.2823277333709179,\n",
       "  0.06817783374919943,\n",
       "  -0.5682845943359369,\n",
       "  0.2091540313258193,\n",
       "  1.1440590898403389,\n",
       "  -0.9944645977960352,\n",
       "  -0.3321810931567676,\n",
       "  0.4017592929649175,\n",
       "  0.3683118278070161,\n",
       "  -0.7681514236853219,\n",
       "  1.2501907682605908,\n",
       "  -0.5528877100239274,\n",
       "  -0.4714704256660054,\n",
       "  -0.3466923067288507,\n",
       "  -0.12551520824317225,\n",
       "  0.3209859944333562,\n",
       "  0.291826544393209,\n",
       "  0.6899813422898178,\n",
       "  -0.3160357109149939,\n",
       "  0.9343928479587419,\n",
       "  1.8905473367664432,\n",
       "  1.9318176382663366,\n",
       "  2.1454653957648,\n",
       "  0.07159776296347435,\n",
       "  -0.010474120789843881,\n",
       "  -1.221111760377191,\n",
       "  0.999688889198842,\n",
       "  -0.9436493164171912,\n",
       "  0.6271187135494728,\n",
       "  1.6498334698171258,\n",
       "  2.243646531946784,\n",
       "  1.145287777498964,\n",
       "  1.3778893091817206,\n",
       "  0.1125973019631199,\n",
       "  -0.4428112278511026,\n",
       "  -0.012108941114680747,\n",
       "  0.20378222890070696,\n",
       "  0.6965850624727046,\n",
       "  0.9729847077622502,\n",
       "  -0.6019837420191038,\n",
       "  -0.7095348963379005,\n",
       "  0.07609342528918396,\n",
       "  -0.37486356863309794,\n",
       "  1.5457442385572975,\n",
       "  -0.7649090809233917,\n",
       "  -0.5702697644307666,\n",
       "  1.2435936851189087,\n",
       "  -0.28453116992466426,\n",
       "  0.5680483390335768,\n",
       "  -0.688553703158397,\n",
       "  0.7184867632010016,\n",
       "  -0.18976973406773626,\n",
       "  -0.5312212717155423,\n",
       "  -1.6870719199201472,\n",
       "  -0.09384283510275772,\n",
       "  -0.1804004281146931,\n",
       "  0.29389212955826205,\n",
       "  -0.2346301675180082,\n",
       "  -0.65701124564556,\n",
       "  -1.3109078984970601,\n",
       "  1.1750532261335422,\n",
       "  -2.0480756288132054,\n",
       "  0.4484045294109768,\n",
       "  -0.038633056167960686,\n",
       "  -0.43516369422691814,\n",
       "  -0.843590916990836,\n",
       "  -0.4071913631278774,\n",
       "  0.546791961825856,\n",
       "  0.21805407694888754],\n",
       " [0.14788781815244584,\n",
       "  -0.506349995008739,\n",
       "  1.1645221887772654,\n",
       "  -0.6524670205874408,\n",
       "  -0.6787812673677694,\n",
       "  -0.09388091086684787,\n",
       "  -0.07039143860530472,\n",
       "  -2.531422119026085,\n",
       "  0.44838417635428035,\n",
       "  -0.16238397842356075,\n",
       "  -0.3195692812817435,\n",
       "  0.26393519380823055,\n",
       "  -0.374609045529321,\n",
       "  1.2551641584586204,\n",
       "  2.399858991345804,\n",
       "  -0.22716185552005133,\n",
       "  1.627893638770118,\n",
       "  0.43646021700410803,\n",
       "  0.33137778834503895,\n",
       "  0.4161487046645579,\n",
       "  1.5463887452416953,\n",
       "  0.5971346118478215,\n",
       "  1.218760035002499,\n",
       "  -0.8840225721735956,\n",
       "  -0.3017088282361606,\n",
       "  1.7662366511742864,\n",
       "  0.19638556050172848,\n",
       "  0.061452547703997266,\n",
       "  -0.24278880942852357,\n",
       "  -0.6147944681112018,\n",
       "  -0.12478745102121797,\n",
       "  0.6952696179156148,\n",
       "  0.26360329309217867,\n",
       "  -1.9443642342807648,\n",
       "  -2.219174871252335,\n",
       "  -1.249803557693323,\n",
       "  -1.1483587981782393,\n",
       "  -0.6473347553520238,\n",
       "  -0.7036964126708781,\n",
       "  -1.11581498633453,\n",
       "  0.0560608877126066,\n",
       "  -0.7754198288683345,\n",
       "  -0.8257153201530593,\n",
       "  -1.4050366482363703,\n",
       "  -0.43007036862971904,\n",
       "  0.9595578771736796,\n",
       "  0.6721650260496709,\n",
       "  -0.417651692374109,\n",
       "  -1.508065627002871,\n",
       "  -1.8000246033816105,\n",
       "  -0.28402335023910114,\n",
       "  0.18509135938600363,\n",
       "  0.5720454509456565,\n",
       "  -0.5194058911411241,\n",
       "  -0.6923578300813137,\n",
       "  -0.8666855101705211,\n",
       "  0.11881328271532884,\n",
       "  0.25097065916521555,\n",
       "  -0.36332814563929844,\n",
       "  -0.6781120493853382,\n",
       "  -1.0000299528894325,\n",
       "  -0.37016192671158343,\n",
       "  0.4498452920213231,\n",
       "  -0.10206150896344778,\n",
       "  1.0873260930062085,\n",
       "  -0.7731222527252857,\n",
       "  0.4956340869527077,\n",
       "  -0.6783287270400037,\n",
       "  0.8426538877991975,\n",
       "  0.3925201654739114,\n",
       "  0.7482028879664767,\n",
       "  -1.9857368641608784,\n",
       "  -0.7365690223896674,\n",
       "  1.1362882580258125,\n",
       "  -0.18727765115927403,\n",
       "  -1.054274652216808,\n",
       "  0.5785992999717695,\n",
       "  0.2900466082707596,\n",
       "  -1.0777890163133699,\n",
       "  2.4495560027671797,\n",
       "  0.5925168152368451,\n",
       "  0.3647577502216081,\n",
       "  -0.505667928187031,\n",
       "  -1.2480581929660004,\n",
       "  1.179264859028518,\n",
       "  -0.1221678256805857,\n",
       "  0.29250399953306516,\n",
       "  -1.111635936002951,\n",
       "  0.8253322024758951,\n",
       "  -0.8337164146814598,\n",
       "  -0.8061218454491075,\n",
       "  -0.9058726156053004,\n",
       "  -1.395507445637522,\n",
       "  -0.2835181283195067,\n",
       "  -2.2475086023140265,\n",
       "  1.9232730382083927,\n",
       "  1.3327971458638632,\n",
       "  -0.4645729181467841,\n",
       "  -1.742085255420204,\n",
       "  0.2932889440246232],\n",
       " [1.9454797536924546,\n",
       "  0.0028497592290234255,\n",
       "  0.9746776300721817,\n",
       "  0.7280166044826337,\n",
       "  0.24044456626644797,\n",
       "  0.17767609050375707,\n",
       "  0.6089154369358493,\n",
       "  -1.3898800449346862,\n",
       "  0.8280576727252255,\n",
       "  -0.8061914318689711,\n",
       "  1.6028725978637872,\n",
       "  1.1709227318806175,\n",
       "  -1.67556897513072,\n",
       "  -1.0045676862196726,\n",
       "  -1.6174321197215022,\n",
       "  0.09161918587897952,\n",
       "  1.4501151579415348,\n",
       "  0.8957826554686702,\n",
       "  -0.6417905550368724,\n",
       "  -0.6609795502663388,\n",
       "  0.4723059755437766,\n",
       "  -1.3638998614848852,\n",
       "  -0.3157715595870926,\n",
       "  1.0098227407019476,\n",
       "  -0.8913215417083447,\n",
       "  -0.2810633228019405,\n",
       "  -0.5139538941306956,\n",
       "  -2.0454951433391653,\n",
       "  1.182046112105646,\n",
       "  1.683989357054389,\n",
       "  -1.1984353578262823,\n",
       "  0.3927433783095856,\n",
       "  -0.7554599548660685,\n",
       "  -0.23308596499113868,\n",
       "  -1.0971499556060078,\n",
       "  -0.8623383557337077,\n",
       "  1.0280385589159313,\n",
       "  1.0169439973245729,\n",
       "  0.2097445093919308,\n",
       "  0.36823412835996683,\n",
       "  -1.0493307331789643,\n",
       "  0.296213017131901,\n",
       "  -1.0218801256788919,\n",
       "  -0.6043648483069328,\n",
       "  -1.306489025834723,\n",
       "  1.5743154274713622,\n",
       "  -0.5095043342521502,\n",
       "  0.6434280983323827,\n",
       "  -1.447592617732214,\n",
       "  0.2184559963601097,\n",
       "  -1.3296062804560818,\n",
       "  -0.29815118345641345,\n",
       "  0.14004862255600134,\n",
       "  -0.4448593210437418,\n",
       "  -0.9276749316981302,\n",
       "  0.6740905949407385,\n",
       "  -0.5203364428813336,\n",
       "  -1.082730335279923,\n",
       "  1.87298684999628,\n",
       "  -0.08205703544529803,\n",
       "  1.4595887999627541,\n",
       "  0.8123555908602006,\n",
       "  -0.7559536095886213,\n",
       "  -0.18187769388744707,\n",
       "  0.2660717300144647,\n",
       "  0.4963771234115576,\n",
       "  0.09447536049016109,\n",
       "  -0.8829776063887737,\n",
       "  -0.41433713471747,\n",
       "  -0.7677677800145967,\n",
       "  -0.34233453544288345,\n",
       "  0.048192541731350604,\n",
       "  -0.12087134057799438,\n",
       "  -1.506371041647651,\n",
       "  0.3124862412436463,\n",
       "  -0.10158750130619816,\n",
       "  0.47476981492212755,\n",
       "  -0.2669242675298433,\n",
       "  0.0419695635654307,\n",
       "  -1.5778417027091256,\n",
       "  2.2241090570250104,\n",
       "  -1.130054972574517,\n",
       "  -0.8778707538057127,\n",
       "  -0.9867357990674653,\n",
       "  -1.8352477890746346,\n",
       "  0.6072539621870535,\n",
       "  -0.3692216246749407,\n",
       "  0.3187442039338584,\n",
       "  0.5109086173619038,\n",
       "  0.11323117253519348,\n",
       "  0.2770331104730426,\n",
       "  -0.37000796620828413,\n",
       "  -1.7211576434019753,\n",
       "  -1.6520398284876434,\n",
       "  1.6958260029521044,\n",
       "  -0.4612443674385949,\n",
       "  0.7572234041020324,\n",
       "  -1.7490312238132688,\n",
       "  -1.0892644024876337,\n",
       "  2.2951450906675332],\n",
       " [0.47914353877871596,\n",
       "  -0.865878918739467,\n",
       "  -0.27778688421585224,\n",
       "  -0.2627250163888825,\n",
       "  1.142587879163599,\n",
       "  -0.786683327023017,\n",
       "  -1.6435199113202454,\n",
       "  -0.987797527685436,\n",
       "  1.9037682801783824,\n",
       "  -0.9537508972134274,\n",
       "  -1.7033959971126416,\n",
       "  -0.2757694009515685,\n",
       "  0.8648467648085121,\n",
       "  -0.281218690156403,\n",
       "  -1.2913424629513406,\n",
       "  -1.1877907796537486,\n",
       "  2.0542420781699846,\n",
       "  -0.7716448264601453,\n",
       "  0.9496431592508298,\n",
       "  1.4526334982163978,\n",
       "  1.0068053864072433,\n",
       "  -0.09979138686035145,\n",
       "  -2.0314258604233917,\n",
       "  -2.4173595396950396,\n",
       "  -0.3375676602419914,\n",
       "  0.6513030190216982,\n",
       "  1.2395781879727719,\n",
       "  1.701591074229017,\n",
       "  -2.2918141855338985,\n",
       "  -0.5255398602185122,\n",
       "  -0.3468123288897791,\n",
       "  0.44647844881837256,\n",
       "  -0.9034317960575795,\n",
       "  0.10853646318499069,\n",
       "  -0.5949569291952083,\n",
       "  -0.17949876831087153,\n",
       "  -1.3973070396907954,\n",
       "  -0.4847610692432611,\n",
       "  1.5003957859176378,\n",
       "  -0.4303774464030585,\n",
       "  -0.1732406566705819,\n",
       "  -0.9236643135400644,\n",
       "  -1.5034042198931752,\n",
       "  1.191406263026719,\n",
       "  0.8839164636885785,\n",
       "  -1.489746800584267,\n",
       "  0.7754987059206893,\n",
       "  0.5965006159178525,\n",
       "  -0.1672565962290241,\n",
       "  0.23043077595569023,\n",
       "  2.4726986355195946,\n",
       "  -2.4916525329910137,\n",
       "  0.3435619790616218,\n",
       "  -0.5971962295968828,\n",
       "  -1.6639006172345523,\n",
       "  0.4134940922028918,\n",
       "  0.4058826916821382,\n",
       "  -0.6328633303488402,\n",
       "  1.6218437528125054,\n",
       "  -1.0120535462753766,\n",
       "  -1.7985130222904464,\n",
       "  -0.5748312192343827,\n",
       "  0.04368361375810458,\n",
       "  -0.4892417148499102,\n",
       "  -0.8917176106411104,\n",
       "  1.7470398120033954,\n",
       "  0.5805842721418468,\n",
       "  0.06984034575016089,\n",
       "  0.05796407645408944,\n",
       "  -0.4241933762978835,\n",
       "  1.1703579293723596,\n",
       "  0.14627288153699422,\n",
       "  0.06878244001071196,\n",
       "  -0.6269006658417946,\n",
       "  1.1248884869938314,\n",
       "  -1.4352119311252924,\n",
       "  -0.3132618591782731,\n",
       "  -1.8451000451835113,\n",
       "  0.325755464786118,\n",
       "  0.22940555168527108,\n",
       "  -0.5328535053576281,\n",
       "  -1.3597332101595403,\n",
       "  1.0560152235899383,\n",
       "  1.1868406388245187,\n",
       "  1.0365375109141168,\n",
       "  -0.09360894992088073,\n",
       "  1.417698009281479,\n",
       "  -0.4318363337515336,\n",
       "  -1.690687120799292,\n",
       "  0.7555672270053875,\n",
       "  -0.7344940660247763,\n",
       "  -0.5229107304834785,\n",
       "  -2.894593913246053,\n",
       "  0.5484817808085093,\n",
       "  -0.7410356208321539,\n",
       "  0.6186499133019748,\n",
       "  -1.0685363274016695,\n",
       "  -0.7872179180660953,\n",
       "  0.3755847301912288,\n",
       "  -1.3624290792392966]]"
      ]
     },
     "metadata": {},
     "execution_count": 270
    }
   ],
   "source": [
    "x = [[random.gauss(0, 1) for j in range(I)] \\\n",
    "             for i in range(I)]  \n",
    "x"
   ]
  },
  {
   "cell_type": "code",
   "execution_count": 284,
   "metadata": {},
   "outputs": [
    {
     "output_type": "execute_result",
     "data": {
      "text/plain": [
       "[[0.2285980928765402, -1.0118828838817524, -0.12739172904644078],\n",
       " [0.09404932967606248, -1.8116498636954337, -1.529092076910532],\n",
       " [-0.22909765101388077, -0.14791964528068605, 0.1166328734843664]]"
      ]
     },
     "metadata": {},
     "execution_count": 284
    }
   ],
   "source": [
    "I = 3\n",
    "\n",
    "[[random.gauss(0, 1) for j in range(I)] \\\n",
    "             for i in range(I)]  "
   ]
  },
  {
   "cell_type": "code",
   "execution_count": 285,
   "metadata": {},
   "outputs": [
    {
     "output_type": "execute_result",
     "data": {
      "text/plain": [
       "[0.2971878126448497, -1.323097072782225, 0.3435870562624847]"
      ]
     },
     "metadata": {},
     "execution_count": 285
    }
   ],
   "source": [
    "mat[0][:3]  "
   ]
  },
  {
   "cell_type": "code",
   "execution_count": 286,
   "metadata": {},
   "outputs": [
    {
     "output_type": "stream",
     "name": "stdout",
     "text": [
      "Wall time: 0 ns\n"
     ]
    },
    {
     "output_type": "execute_result",
     "data": {
      "text/plain": [
       "205.8840300324405"
      ]
     },
     "metadata": {},
     "execution_count": 286
    }
   ],
   "source": [
    "%time sum([sum(l) for l in mat])  "
   ]
  },
  {
   "cell_type": "code",
   "execution_count": 287,
   "metadata": {},
   "outputs": [
    {
     "output_type": "execute_result",
     "data": {
      "text/plain": [
       "90400"
      ]
     },
     "metadata": {},
     "execution_count": 287
    }
   ],
   "source": [
    "import sys\n",
    "sum([sys.getsizeof(l) for l in mat])  "
   ]
  },
  {
   "cell_type": "code",
   "execution_count": 114,
   "metadata": {},
   "outputs": [
    {
     "name": "stdout",
     "output_type": "stream",
     "text": [
      "CPU times: user 1.16 s, sys: 172 ms, total: 1.33 s\n",
      "Wall time: 1.33 s\n"
     ]
    }
   ],
   "source": [
    "%time mat = np.random.standard_normal((I, I))  "
   ]
  },
  {
   "cell_type": "code",
   "execution_count": 115,
   "metadata": {},
   "outputs": [
    {
     "name": "stdout",
     "output_type": "stream",
     "text": [
      "CPU times: user 30.8 ms, sys: 1.37 ms, total: 32.1 ms\n",
      "Wall time: 30.4 ms\n"
     ]
    },
    {
     "data": {
      "text/plain": [
       "-5107.888370721598"
      ]
     },
     "execution_count": 115,
     "metadata": {},
     "output_type": "execute_result"
    }
   ],
   "source": [
    "%time mat.sum()  "
   ]
  },
  {
   "cell_type": "code",
   "execution_count": 116,
   "metadata": {},
   "outputs": [
    {
     "data": {
      "text/plain": [
       "200000000"
      ]
     },
     "execution_count": 116,
     "metadata": {},
     "output_type": "execute_result"
    }
   ],
   "source": [
    "mat.nbytes  "
   ]
  },
  {
   "cell_type": "code",
   "execution_count": 117,
   "metadata": {},
   "outputs": [
    {
     "data": {
      "text/plain": [
       "200000112"
      ]
     },
     "execution_count": 117,
     "metadata": {},
     "output_type": "execute_result"
    }
   ],
   "source": [
    "sys.getsizeof(mat)  "
   ]
  },
  {
   "cell_type": "markdown",
   "metadata": {},
   "source": [
    "### Structured Arrays, so that we no longer require all elements in a numpy array to be of the same type - we only require all elements in the same columnn of the numpy array to be of the same type."
   ]
  },
  {
   "cell_type": "code",
   "execution_count": 288,
   "metadata": {},
   "outputs": [],
   "source": [
    "dt = np.dtype([('Name', 'S10'), ('Age', 'i4'),\n",
    "               ('Height', 'f'), ('Children/Pets', 'i4', 2)])  "
   ]
  },
  {
   "cell_type": "code",
   "execution_count": 289,
   "metadata": {},
   "outputs": [
    {
     "output_type": "execute_result",
     "data": {
      "text/plain": [
       "dtype([('Name', 'S10'), ('Age', '<i4'), ('Height', '<f4'), ('Children/Pets', '<i4', (2,))])"
      ]
     },
     "metadata": {},
     "execution_count": 289
    }
   ],
   "source": [
    "dt  "
   ]
  },
  {
   "cell_type": "code",
   "execution_count": 290,
   "metadata": {},
   "outputs": [],
   "source": [
    "dt = np.dtype({'names': ['Name', 'Age', 'Height', 'Children/Pets'],\n",
    "             'formats':'O int float int,int'.split()})  "
   ]
  },
  {
   "cell_type": "code",
   "execution_count": 291,
   "metadata": {},
   "outputs": [
    {
     "output_type": "execute_result",
     "data": {
      "text/plain": [
       "dtype([('Name', 'O'), ('Age', '<i4'), ('Height', '<f8'), ('Children/Pets', [('f0', '<i4'), ('f1', '<i4')])])"
      ]
     },
     "metadata": {},
     "execution_count": 291
    }
   ],
   "source": [
    "dt  "
   ]
  },
  {
   "cell_type": "code",
   "execution_count": 292,
   "metadata": {},
   "outputs": [],
   "source": [
    "s = np.array([('Smith', 45, 1.83, (0, 1)),\n",
    "              ('Jones', 53, 1.72, (2, 2))], dtype=dt)  "
   ]
  },
  {
   "cell_type": "code",
   "execution_count": 293,
   "metadata": {
    "uuid": "15905219-d8fd-46f0-a1d9-2c2735d98b29"
   },
   "outputs": [
    {
     "output_type": "execute_result",
     "data": {
      "text/plain": [
       "array([('Smith', 45, 1.83, (0, 1)), ('Jones', 53, 1.72, (2, 2))],\n",
       "      dtype=[('Name', 'O'), ('Age', '<i4'), ('Height', '<f8'), ('Children/Pets', [('f0', '<i4'), ('f1', '<i4')])])"
      ]
     },
     "metadata": {},
     "execution_count": 293
    }
   ],
   "source": [
    "s  "
   ]
  },
  {
   "cell_type": "code",
   "execution_count": 294,
   "metadata": {},
   "outputs": [
    {
     "output_type": "execute_result",
     "data": {
      "text/plain": [
       "numpy.ndarray"
      ]
     },
     "metadata": {},
     "execution_count": 294
    }
   ],
   "source": [
    "type(s)  "
   ]
  },
  {
   "cell_type": "code",
   "execution_count": 295,
   "metadata": {
    "uuid": "9932654e-a73d-4cd6-a18e-5199f29efe44"
   },
   "outputs": [
    {
     "output_type": "execute_result",
     "data": {
      "text/plain": [
       "array(['Smith', 'Jones'], dtype=object)"
      ]
     },
     "metadata": {},
     "execution_count": 295
    }
   ],
   "source": [
    "s['Name']  "
   ]
  },
  {
   "cell_type": "code",
   "execution_count": 296,
   "metadata": {
    "uuid": "10dc3d78-b6dc-4bf0-a4f1-1a4315bf0f2f"
   },
   "outputs": [
    {
     "output_type": "execute_result",
     "data": {
      "text/plain": [
       "1.775"
      ]
     },
     "metadata": {},
     "execution_count": 296
    }
   ],
   "source": [
    "s['Height'].mean()  "
   ]
  },
  {
   "cell_type": "code",
   "execution_count": 297,
   "metadata": {},
   "outputs": [
    {
     "output_type": "execute_result",
     "data": {
      "text/plain": [
       "('Smith', 45, 1.83, (0, 1))"
      ]
     },
     "metadata": {},
     "execution_count": 297
    }
   ],
   "source": [
    "s[0]  "
   ]
  },
  {
   "cell_type": "code",
   "execution_count": 298,
   "metadata": {
    "uuid": "1385e680-2a16-440d-a674-2ea5757fb41b"
   },
   "outputs": [
    {
     "output_type": "execute_result",
     "data": {
      "text/plain": [
       "53"
      ]
     },
     "metadata": {},
     "execution_count": 298
    }
   ],
   "source": [
    "s[1]['Age']  "
   ]
  },
  {
   "cell_type": "markdown",
   "metadata": {},
   "source": [
    "## Vectorization of Code"
   ]
  },
  {
   "cell_type": "code",
   "execution_count": 299,
   "metadata": {
    "uuid": "28bac5ac-be5d-4f60-acc6-f844259c5a22"
   },
   "outputs": [],
   "source": [
    "np.random.seed(100)\n",
    "r = np.arange(12).reshape((4, 3))  \n",
    "s = np.arange(12).reshape((4, 3)) * 0.5  "
   ]
  },
  {
   "cell_type": "code",
   "execution_count": 300,
   "metadata": {},
   "outputs": [
    {
     "output_type": "execute_result",
     "data": {
      "text/plain": [
       "array([[ 0,  1,  2],\n",
       "       [ 3,  4,  5],\n",
       "       [ 6,  7,  8],\n",
       "       [ 9, 10, 11]])"
      ]
     },
     "metadata": {},
     "execution_count": 300
    }
   ],
   "source": [
    "r  "
   ]
  },
  {
   "cell_type": "code",
   "execution_count": 301,
   "metadata": {},
   "outputs": [
    {
     "output_type": "execute_result",
     "data": {
      "text/plain": [
       "array([[0. , 0.5, 1. ],\n",
       "       [1.5, 2. , 2.5],\n",
       "       [3. , 3.5, 4. ],\n",
       "       [4.5, 5. , 5.5]])"
      ]
     },
     "metadata": {},
     "execution_count": 301
    }
   ],
   "source": [
    "s  "
   ]
  },
  {
   "cell_type": "code",
   "execution_count": 302,
   "metadata": {
    "scrolled": true,
    "uuid": "91d91253-168a-4ff2-8452-67e2cfd5c2f8"
   },
   "outputs": [
    {
     "output_type": "execute_result",
     "data": {
      "text/plain": [
       "array([[ 0. ,  1.5,  3. ],\n",
       "       [ 4.5,  6. ,  7.5],\n",
       "       [ 9. , 10.5, 12. ],\n",
       "       [13.5, 15. , 16.5]])"
      ]
     },
     "metadata": {},
     "execution_count": 302
    }
   ],
   "source": [
    "r + s  "
   ]
  },
  {
   "cell_type": "code",
   "execution_count": 308,
   "metadata": {},
   "outputs": [
    {
     "output_type": "execute_result",
     "data": {
      "text/plain": [
       "array([[ 0. ,  1. ,  2. ,  0. ,  0.5,  1. ],\n",
       "       [ 3. ,  4. ,  5. ,  1.5,  2. ,  2.5],\n",
       "       [ 6. ,  7. ,  8. ,  3. ,  3.5,  4. ],\n",
       "       [ 9. , 10. , 11. ,  4.5,  5. ,  5.5]])"
      ]
     },
     "metadata": {},
     "execution_count": 308
    }
   ],
   "source": [
    "#np.concatenate([r,s])\n",
    "np.hstack((r,s))"
   ]
  },
  {
   "cell_type": "code",
   "execution_count": 303,
   "metadata": {
    "uuid": "305b5877-2410-48e0-b5d3-d7f2f384e953"
   },
   "outputs": [
    {
     "output_type": "execute_result",
     "data": {
      "text/plain": [
       "array([[ 3,  4,  5],\n",
       "       [ 6,  7,  8],\n",
       "       [ 9, 10, 11],\n",
       "       [12, 13, 14]])"
      ]
     },
     "metadata": {},
     "execution_count": 303
    }
   ],
   "source": [
    "r + 3  "
   ]
  },
  {
   "cell_type": "code",
   "execution_count": 134,
   "metadata": {},
   "outputs": [
    {
     "data": {
      "text/plain": [
       "array([[ 0,  2,  4],\n",
       "       [ 6,  8, 10],\n",
       "       [12, 14, 16],\n",
       "       [18, 20, 22]])"
      ]
     },
     "execution_count": 134,
     "metadata": {},
     "output_type": "execute_result"
    }
   ],
   "source": [
    "2 * r  "
   ]
  },
  {
   "cell_type": "code",
   "execution_count": 135,
   "metadata": {},
   "outputs": [
    {
     "data": {
      "text/plain": [
       "array([[ 3,  5,  7],\n",
       "       [ 9, 11, 13],\n",
       "       [15, 17, 19],\n",
       "       [21, 23, 25]])"
      ]
     },
     "execution_count": 135,
     "metadata": {},
     "output_type": "execute_result"
    }
   ],
   "source": [
    "2 * r + 3  "
   ]
  },
  {
   "cell_type": "code",
   "execution_count": 309,
   "metadata": {},
   "outputs": [
    {
     "output_type": "execute_result",
     "data": {
      "text/plain": [
       "array([[ 0,  1,  2],\n",
       "       [ 3,  4,  5],\n",
       "       [ 6,  7,  8],\n",
       "       [ 9, 10, 11]])"
      ]
     },
     "metadata": {},
     "execution_count": 309
    }
   ],
   "source": [
    "r"
   ]
  },
  {
   "cell_type": "code",
   "execution_count": 310,
   "metadata": {},
   "outputs": [
    {
     "output_type": "execute_result",
     "data": {
      "text/plain": [
       "(4, 3)"
      ]
     },
     "metadata": {},
     "execution_count": 310
    }
   ],
   "source": [
    "r.shape"
   ]
  },
  {
   "cell_type": "code",
   "execution_count": 311,
   "metadata": {},
   "outputs": [
    {
     "output_type": "execute_result",
     "data": {
      "text/plain": [
       "array([0, 4, 8])"
      ]
     },
     "metadata": {},
     "execution_count": 311
    }
   ],
   "source": [
    "s = np.arange(0, 12, 4)  \n",
    "s  "
   ]
  },
  {
   "cell_type": "code",
   "execution_count": 312,
   "metadata": {
    "uuid": "dd5f63cb-da0f-4397-8d86-315d115d4029"
   },
   "outputs": [
    {
     "output_type": "execute_result",
     "data": {
      "text/plain": [
       "array([[ 0,  5, 10],\n",
       "       [ 3,  8, 13],\n",
       "       [ 6, 11, 16],\n",
       "       [ 9, 14, 19]])"
      ]
     },
     "metadata": {},
     "execution_count": 312
    }
   ],
   "source": [
    "r + s  "
   ]
  },
  {
   "cell_type": "code",
   "execution_count": 313,
   "metadata": {
    "uuid": "cc58e76c-c3b1-495b-9cbe-8fb3fa92a59d"
   },
   "outputs": [
    {
     "output_type": "execute_result",
     "data": {
      "text/plain": [
       "array([0, 3, 6, 9])"
      ]
     },
     "metadata": {},
     "execution_count": 313
    }
   ],
   "source": [
    "s = np.arange(0, 12, 3)  \n",
    "s  "
   ]
  },
  {
   "cell_type": "code",
   "execution_count": 314,
   "metadata": {},
   "outputs": [],
   "source": [
    "# causes intentional error\n",
    "# r + s  "
   ]
  },
  {
   "cell_type": "code",
   "execution_count": 315,
   "metadata": {
    "uuid": "011f4087-a2d6-4731-ac27-07f31d11f017"
   },
   "outputs": [
    {
     "output_type": "execute_result",
     "data": {
      "text/plain": [
       "array([[ 0,  6, 12, 18],\n",
       "       [ 1,  7, 13, 19],\n",
       "       [ 2,  8, 14, 20]])"
      ]
     },
     "metadata": {},
     "execution_count": 315
    }
   ],
   "source": [
    "r.transpose() + s  "
   ]
  },
  {
   "cell_type": "code",
   "execution_count": 316,
   "metadata": {},
   "outputs": [
    {
     "output_type": "execute_result",
     "data": {
      "text/plain": [
       "array([[0],\n",
       "       [3],\n",
       "       [6],\n",
       "       [9]])"
      ]
     },
     "metadata": {},
     "execution_count": 316
    }
   ],
   "source": [
    "sr = s.reshape(-1, 1)  \n",
    "sr"
   ]
  },
  {
   "cell_type": "code",
   "execution_count": 317,
   "metadata": {},
   "outputs": [
    {
     "output_type": "execute_result",
     "data": {
      "text/plain": [
       "(4, 1)"
      ]
     },
     "metadata": {},
     "execution_count": 317
    }
   ],
   "source": [
    "sr.shape  "
   ]
  },
  {
   "cell_type": "code",
   "execution_count": 318,
   "metadata": {},
   "outputs": [
    {
     "output_type": "execute_result",
     "data": {
      "text/plain": [
       "array([[ 0,  1,  2],\n",
       "       [ 6,  7,  8],\n",
       "       [12, 13, 14],\n",
       "       [18, 19, 20]])"
      ]
     },
     "metadata": {},
     "execution_count": 318
    }
   ],
   "source": [
    "r + s.reshape(-1, 1)  "
   ]
  },
  {
   "cell_type": "code",
   "execution_count": 319,
   "metadata": {
    "uuid": "0f3b5cad-0146-4203-b158-238203ef5764"
   },
   "outputs": [],
   "source": [
    "def f(x):\n",
    "    return 3 * x + 5  "
   ]
  },
  {
   "cell_type": "code",
   "execution_count": 320,
   "metadata": {
    "uuid": "08b395e9-13fc-43c1-8bba-28c63a216366"
   },
   "outputs": [
    {
     "output_type": "execute_result",
     "data": {
      "text/plain": [
       "6.5"
      ]
     },
     "metadata": {},
     "execution_count": 320
    }
   ],
   "source": [
    "f(0.5)  "
   ]
  },
  {
   "cell_type": "code",
   "execution_count": 321,
   "metadata": {
    "uuid": "1895e566-c5ee-4856-bca5-37fef37df0c5"
   },
   "outputs": [
    {
     "output_type": "execute_result",
     "data": {
      "text/plain": [
       "array([[ 5,  8, 11],\n",
       "       [14, 17, 20],\n",
       "       [23, 26, 29],\n",
       "       [32, 35, 38]])"
      ]
     },
     "metadata": {},
     "execution_count": 321
    }
   ],
   "source": [
    "f(r)  "
   ]
  },
  {
   "cell_type": "markdown",
   "metadata": {},
   "source": [
    "## Memory Layout"
   ]
  },
  {
   "cell_type": "markdown",
   "metadata": {},
   "source": [
    "Cf. http://eli.thegreenplace.net/2015/memory-layout-of-multi-dimensional-arrays/"
   ]
  },
  {
   "cell_type": "code",
   "execution_count": 323,
   "metadata": {},
   "outputs": [
    {
     "output_type": "execute_result",
     "data": {
      "text/plain": [
       "array([[ 0.88856452,  0.51274549,  0.92123913,  0.79005258, -1.53495154],\n",
       "       [ 0.84872973,  0.69921004, -0.53638366,  0.05992931, -0.87694289],\n",
       "       [ 1.22574041, -0.00375774,  0.5185445 ,  0.27948334,  0.19083482],\n",
       "       ...,\n",
       "       [-0.31248747, -0.89688893, -0.7838734 ,  1.30445266, -0.36016444],\n",
       "       [ 0.14502176, -0.69081802, -1.72543806,  1.46816233,  1.39259037],\n",
       "       [ 0.86040368,  1.12537485, -0.90881135, -1.60113848, -0.61654879]])"
      ]
     },
     "metadata": {},
     "execution_count": 323
    }
   ],
   "source": [
    "x = np.random.standard_normal((1000000, 5))  \n",
    "x"
   ]
  },
  {
   "cell_type": "code",
   "execution_count": 324,
   "metadata": {},
   "outputs": [],
   "source": [
    "y = 2 * x + 3  "
   ]
  },
  {
   "cell_type": "code",
   "execution_count": 326,
   "metadata": {},
   "outputs": [
    {
     "output_type": "execute_result",
     "data": {
      "text/plain": [
       "array([[[ 8.88564522e-01,  5.12745494e-01,  9.21239132e-01,\n",
       "          7.90052584e-01, -1.53495154e+00],\n",
       "        [ 8.48729726e-01,  6.99210040e-01, -5.36383657e-01,\n",
       "          5.99293084e-02, -8.76942888e-01],\n",
       "        [ 1.22574041e+00, -3.75773762e-03,  5.18544500e-01,\n",
       "          2.79483337e-01,  1.90834817e-01],\n",
       "        ...,\n",
       "        [-3.12487473e-01, -8.96888934e-01, -7.83873397e-01,\n",
       "          1.30445266e+00, -3.60164441e-01],\n",
       "        [ 1.45021765e-01, -6.90818025e-01, -1.72543806e+00,\n",
       "          1.46816233e+00,  1.39259037e+00],\n",
       "        [ 8.60403677e-01,  1.12537485e+00, -9.08811348e-01,\n",
       "         -1.60113848e+00, -6.16548789e-01]],\n",
       "\n",
       "       [[ 4.77712904e+00,  4.02549099e+00,  4.84247826e+00,\n",
       "          4.58010517e+00, -6.99030746e-02],\n",
       "        [ 4.69745945e+00,  4.39842008e+00,  1.92723269e+00,\n",
       "          3.11985862e+00,  1.24611422e+00],\n",
       "        [ 5.45148083e+00,  2.99248452e+00,  4.03708900e+00,\n",
       "          3.55896667e+00,  3.38166963e+00],\n",
       "        ...,\n",
       "        [ 2.37502505e+00,  1.20622213e+00,  1.43225321e+00,\n",
       "          5.60890532e+00,  2.27967112e+00],\n",
       "        [ 3.29004353e+00,  1.61836395e+00, -4.50876110e-01,\n",
       "          5.93632466e+00,  5.78518075e+00],\n",
       "        [ 4.72080735e+00,  5.25074970e+00,  1.18237730e+00,\n",
       "         -2.02276963e-01,  1.76690242e+00]]])"
      ]
     },
     "metadata": {},
     "execution_count": 326
    }
   ],
   "source": [
    "C = np.array((x, y), order='C')  \n",
    "C"
   ]
  },
  {
   "cell_type": "code",
   "execution_count": 330,
   "metadata": {},
   "outputs": [],
   "source": [
    "F = np.array((x, y), order='F')  "
   ]
  },
  {
   "cell_type": "code",
   "execution_count": 333,
   "metadata": {
    "uuid": "f34c0c3d-112d-4ac4-bd48-21df98096047"
   },
   "outputs": [],
   "source": [
    "x = 0.0; y = 0.0  "
   ]
  },
  {
   "cell_type": "code",
   "execution_count": 334,
   "metadata": {
    "uuid": "f3fb83da-569c-423b-911e-9a2078d385b8"
   },
   "outputs": [
    {
     "output_type": "execute_result",
     "data": {
      "text/plain": [
       "array([[[ 0.89,  0.51,  0.92,  0.79, -1.53],\n",
       "        [ 0.85,  0.7 , -0.54,  0.06, -0.88],\n",
       "        [ 1.23, -0.  ,  0.52,  0.28,  0.19],\n",
       "        ...,\n",
       "        [-0.31, -0.9 , -0.78,  1.3 , -0.36],\n",
       "        [ 0.15, -0.69, -1.73,  1.47,  1.39],\n",
       "        [ 0.86,  1.13, -0.91, -1.6 , -0.62]],\n",
       "\n",
       "       [[ 4.78,  4.03,  4.84,  4.58, -0.07],\n",
       "        [ 4.7 ,  4.4 ,  1.93,  3.12,  1.25],\n",
       "        [ 5.45,  2.99,  4.04,  3.56,  3.38],\n",
       "        ...,\n",
       "        [ 2.38,  1.21,  1.43,  5.61,  2.28],\n",
       "        [ 3.29,  1.62, -0.45,  5.94,  5.79],\n",
       "        [ 4.72,  5.25,  1.18, -0.2 ,  1.77]]])"
      ]
     },
     "metadata": {},
     "execution_count": 334
    }
   ],
   "source": [
    "C[:2].round(2)  "
   ]
  },
  {
   "cell_type": "code",
   "execution_count": 155,
   "metadata": {
    "uuid": "a1a2af02-b1a0-4a41-a2e8-dd77b02ba796"
   },
   "outputs": [
    {
     "name": "stdout",
     "output_type": "stream",
     "text": [
      "4.39 ms ± 58.2 µs per loop (mean ± std. dev. of 7 runs, 100 loops each)\n"
     ]
    }
   ],
   "source": [
    "%timeit C.sum()  "
   ]
  },
  {
   "cell_type": "code",
   "execution_count": 156,
   "metadata": {
    "uuid": "34e089f9-2877-48d5-b980-3a22949cb5e2"
   },
   "outputs": [
    {
     "name": "stdout",
     "output_type": "stream",
     "text": [
      "4.27 ms ± 52.9 µs per loop (mean ± std. dev. of 7 runs, 100 loops each)\n"
     ]
    }
   ],
   "source": [
    "%timeit F.sum()  "
   ]
  },
  {
   "cell_type": "code",
   "execution_count": 157,
   "metadata": {
    "uuid": "9ccbdca7-b257-432b-b609-c2f31ff181e1"
   },
   "outputs": [
    {
     "name": "stdout",
     "output_type": "stream",
     "text": [
      "16.8 ms ± 2.99 ms per loop (mean ± std. dev. of 7 runs, 100 loops each)\n"
     ]
    }
   ],
   "source": [
    "%timeit C.sum(axis=0)  "
   ]
  },
  {
   "cell_type": "code",
   "execution_count": 158,
   "metadata": {
    "uuid": "c681dab3-43d5-4247-bca5-7bb7ae41d821"
   },
   "outputs": [
    {
     "name": "stdout",
     "output_type": "stream",
     "text": [
      "33.2 ms ± 437 µs per loop (mean ± std. dev. of 7 runs, 10 loops each)\n"
     ]
    }
   ],
   "source": [
    "%timeit C.sum(axis=1)  "
   ]
  },
  {
   "cell_type": "code",
   "execution_count": 159,
   "metadata": {
    "uuid": "da5381da-b137-4da9-93f4-47d94f27b81d"
   },
   "outputs": [
    {
     "name": "stdout",
     "output_type": "stream",
     "text": [
      "75.1 ms ± 2.69 ms per loop (mean ± std. dev. of 7 runs, 10 loops each)\n"
     ]
    }
   ],
   "source": [
    "%timeit F.sum(axis=0)  "
   ]
  },
  {
   "cell_type": "code",
   "execution_count": 160,
   "metadata": {
    "uuid": "b31c6c3e-d720-4641-a6f9-8591b51b712e"
   },
   "outputs": [
    {
     "name": "stdout",
     "output_type": "stream",
     "text": [
      "77.9 ms ± 2.19 ms per loop (mean ± std. dev. of 7 runs, 10 loops each)\n"
     ]
    }
   ],
   "source": [
    "%timeit F.sum(axis=1)  "
   ]
  },
  {
   "cell_type": "code",
   "execution_count": 161,
   "metadata": {
    "uuid": "89201348-9a27-4883-b6b9-5f1caf291b61"
   },
   "outputs": [],
   "source": [
    "F = 0.0; C = 0.0  "
   ]
  },
  {
   "cell_type": "markdown",
   "metadata": {},
   "source": [
    "<img src=\"http://hilpisch.com/tpq_logo.png\" alt=\"The Python Quants\" width=\"35%\" align=\"right\" border=\"0\"><br>\n",
    "\n",
    "<a href=\"http://tpq.io\" target=\"_blank\">http://tpq.io</a> | <a href=\"http://twitter.com/dyjh\" target=\"_blank\">@dyjh</a> | <a href=\"mailto:training@tpq.io\">training@tpq.io</a>"
   ]
  }
 ],
 "metadata": {
  "kernelspec": {
   "display_name": "Python 3",
   "language": "python",
   "name": "python3"
  },
  "language_info": {
   "codemirror_mode": {
    "name": "ipython",
    "version": 3
   },
   "file_extension": ".py",
   "mimetype": "text/x-python",
   "name": "python",
   "nbconvert_exporter": "python",
   "pygments_lexer": "ipython3",
   "version": "3.8.7"
  }
 },
 "nbformat": 4,
 "nbformat_minor": 4
}