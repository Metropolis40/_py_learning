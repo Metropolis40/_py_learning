{
 "cells": [
  {
   "cell_type": "markdown",
   "metadata": {},
   "source": [
    "<img src=\"http://hilpisch.com/tpq_logo.png\" alt=\"The Python Quants\" width=\"35%\" align=\"right\" border=\"0\"><br>"
   ]
  },
  {
   "cell_type": "markdown",
   "metadata": {},
   "source": [
    "# Python for Finance (2nd ed.)\n",
    "\n",
    "**Mastering Data-Driven Finance**\n",
    "\n",
    "&copy; Dr. Yves J. Hilpisch | The Python Quants GmbH\n",
    "\n",
    "<img src=\"http://hilpisch.com/images/py4fi_2nd_shadow.png\" width=\"300px\" align=\"left\">"
   ]
  },
  {
   "cell_type": "markdown",
   "metadata": {},
   "source": [
    "# Data Analysis with pandas"
   ]
  },
  {
   "cell_type": "markdown",
   "metadata": {},
   "source": [
    "## pandas Basics"
   ]
  },
  {
   "cell_type": "markdown",
   "metadata": {},
   "source": [
    "### First Steps with DataFrame Class"
   ]
  },
  {
   "cell_type": "code",
   "execution_count": 3,
   "metadata": {
    "uuid": "eda2a742-134d-4d47-8b30-557b846b9bb3"
   },
   "outputs": [],
   "source": [
    "import pandas as pd  "
   ]
  },
  {
   "cell_type": "code",
   "execution_count": 4,
   "metadata": {},
   "outputs": [],
   "source": [
    "df = pd.DataFrame([10, 20, 30, 40],  \n",
    "                  columns=['numbers'],  \n",
    "                  index=['a', 'b', 'c', 'd'])  "
   ]
  },
  {
   "cell_type": "code",
   "execution_count": 5,
   "metadata": {
    "uuid": "f3be2d89-829a-49b2-96fc-07c475db1e3f"
   },
   "outputs": [
    {
     "output_type": "execute_result",
     "data": {
      "text/plain": [
       "   numbers\n",
       "a       10\n",
       "b       20\n",
       "c       30\n",
       "d       40"
      ],
      "text/html": "<div>\n<style scoped>\n    .dataframe tbody tr th:only-of-type {\n        vertical-align: middle;\n    }\n\n    .dataframe tbody tr th {\n        vertical-align: top;\n    }\n\n    .dataframe thead th {\n        text-align: right;\n    }\n</style>\n<table border=\"1\" class=\"dataframe\">\n  <thead>\n    <tr style=\"text-align: right;\">\n      <th></th>\n      <th>numbers</th>\n    </tr>\n  </thead>\n  <tbody>\n    <tr>\n      <th>a</th>\n      <td>10</td>\n    </tr>\n    <tr>\n      <th>b</th>\n      <td>20</td>\n    </tr>\n    <tr>\n      <th>c</th>\n      <td>30</td>\n    </tr>\n    <tr>\n      <th>d</th>\n      <td>40</td>\n    </tr>\n  </tbody>\n</table>\n</div>"
     },
     "metadata": {},
     "execution_count": 5
    }
   ],
   "source": [
    "df  "
   ]
  },
  {
   "cell_type": "code",
   "execution_count": 6,
   "metadata": {
    "uuid": "47b70a7b-710f-4c40-9a70-b09db7af1a12"
   },
   "outputs": [
    {
     "output_type": "execute_result",
     "data": {
      "text/plain": [
       "Index(['a', 'b', 'c', 'd'], dtype='object')"
      ]
     },
     "metadata": {},
     "execution_count": 6
    }
   ],
   "source": [
    "df.index  "
   ]
  },
  {
   "cell_type": "code",
   "execution_count": 7,
   "metadata": {
    "uuid": "a36c6695-520d-4df1-a6fa-5f8362af37a3"
   },
   "outputs": [
    {
     "output_type": "execute_result",
     "data": {
      "text/plain": [
       "Index(['numbers'], dtype='object')"
      ]
     },
     "metadata": {},
     "execution_count": 7
    }
   ],
   "source": [
    "df.columns  "
   ]
  },
  {
   "cell_type": "code",
   "execution_count": 8,
   "metadata": {
    "uuid": "c93aed37-21de-429d-86ed-9849e4c3e23c"
   },
   "outputs": [
    {
     "output_type": "execute_result",
     "data": {
      "text/plain": [
       "numbers    30\n",
       "Name: c, dtype: int64"
      ]
     },
     "metadata": {},
     "execution_count": 8
    }
   ],
   "source": [
    "df.loc['c']  "
   ]
  },
  {
   "cell_type": "code",
   "execution_count": 10,
   "metadata": {
    "uuid": "8c7c2f69-3673-40d9-a568-0471c629810d"
   },
   "outputs": [
    {
     "output_type": "execute_result",
     "data": {
      "text/plain": [
       "   numbers\n",
       "a       10\n",
       "d       40"
      ],
      "text/html": "<div>\n<style scoped>\n    .dataframe tbody tr th:only-of-type {\n        vertical-align: middle;\n    }\n\n    .dataframe tbody tr th {\n        vertical-align: top;\n    }\n\n    .dataframe thead th {\n        text-align: right;\n    }\n</style>\n<table border=\"1\" class=\"dataframe\">\n  <thead>\n    <tr style=\"text-align: right;\">\n      <th></th>\n      <th>numbers</th>\n    </tr>\n  </thead>\n  <tbody>\n    <tr>\n      <th>a</th>\n      <td>10</td>\n    </tr>\n    <tr>\n      <th>d</th>\n      <td>40</td>\n    </tr>\n  </tbody>\n</table>\n</div>"
     },
     "metadata": {},
     "execution_count": 10
    }
   ],
   "source": [
    "df.loc[['a', 'd']]  "
   ]
  },
  {
   "cell_type": "code",
   "execution_count": 8,
   "metadata": {
    "uuid": "c3ce0cc3-26e8-4256-ab8c-9a2d4b181633"
   },
   "outputs": [
    {
     "data": {
      "text/html": [
       "<div>\n",
       "<style scoped>\n",
       "    .dataframe tbody tr th:only-of-type {\n",
       "        vertical-align: middle;\n",
       "    }\n",
       "\n",
       "    .dataframe tbody tr th {\n",
       "        vertical-align: top;\n",
       "    }\n",
       "\n",
       "    .dataframe thead th {\n",
       "        text-align: right;\n",
       "    }\n",
       "</style>\n",
       "<table border=\"1\" class=\"dataframe\">\n",
       "  <thead>\n",
       "    <tr style=\"text-align: right;\">\n",
       "      <th></th>\n",
       "      <th>numbers</th>\n",
       "    </tr>\n",
       "  </thead>\n",
       "  <tbody>\n",
       "    <tr>\n",
       "      <th>b</th>\n",
       "      <td>20</td>\n",
       "    </tr>\n",
       "    <tr>\n",
       "      <th>c</th>\n",
       "      <td>30</td>\n",
       "    </tr>\n",
       "  </tbody>\n",
       "</table>\n",
       "</div>"
      ],
      "text/plain": [
       "   numbers\n",
       "b       20\n",
       "c       30"
      ]
     },
     "execution_count": 8,
     "metadata": {},
     "output_type": "execute_result"
    }
   ],
   "source": [
    "df.iloc[1:3]  "
   ]
  },
  {
   "cell_type": "code",
   "execution_count": 9,
   "metadata": {
    "uuid": "94b1d846-63df-49f4-8a7f-8fed03e5f4fa"
   },
   "outputs": [
    {
     "data": {
      "text/plain": [
       "numbers    100\n",
       "dtype: int64"
      ]
     },
     "execution_count": 9,
     "metadata": {},
     "output_type": "execute_result"
    }
   ],
   "source": [
    "df.sum()  "
   ]
  },
  {
   "cell_type": "code",
   "execution_count": 19,
   "metadata": {},
   "outputs": [
    {
     "data": {
      "text/plain": [
       "a     100\n",
       "b     400\n",
       "c     900\n",
       "d    1600\n",
       "Name: numbers, dtype: int64"
      ]
     },
     "execution_count": 19,
     "metadata": {},
     "output_type": "execute_result"
    }
   ],
   "source": [
    "df['numbers'] = df['numbers']**2\n",
    "df['numbers']"
   ]
  },
  {
   "cell_type": "code",
   "execution_count": 20,
   "metadata": {
    "uuid": "4e73eb4f-352d-4527-b0c5-4f3a6e7eb354"
   },
   "outputs": [
    {
     "data": {
      "text/html": [
       "<div>\n",
       "<style scoped>\n",
       "    .dataframe tbody tr th:only-of-type {\n",
       "        vertical-align: middle;\n",
       "    }\n",
       "\n",
       "    .dataframe tbody tr th {\n",
       "        vertical-align: top;\n",
       "    }\n",
       "\n",
       "    .dataframe thead th {\n",
       "        text-align: right;\n",
       "    }\n",
       "</style>\n",
       "<table border=\"1\" class=\"dataframe\">\n",
       "  <thead>\n",
       "    <tr style=\"text-align: right;\">\n",
       "      <th></th>\n",
       "      <th>numbers</th>\n",
       "    </tr>\n",
       "  </thead>\n",
       "  <tbody>\n",
       "    <tr>\n",
       "      <th>a</th>\n",
       "      <td>10000</td>\n",
       "    </tr>\n",
       "    <tr>\n",
       "      <th>b</th>\n",
       "      <td>160000</td>\n",
       "    </tr>\n",
       "    <tr>\n",
       "      <th>c</th>\n",
       "      <td>810000</td>\n",
       "    </tr>\n",
       "    <tr>\n",
       "      <th>d</th>\n",
       "      <td>2560000</td>\n",
       "    </tr>\n",
       "  </tbody>\n",
       "</table>\n",
       "</div>"
      ],
      "text/plain": [
       "   numbers\n",
       "a    10000\n",
       "b   160000\n",
       "c   810000\n",
       "d  2560000"
      ]
     },
     "execution_count": 20,
     "metadata": {},
     "output_type": "execute_result"
    }
   ],
   "source": [
    "df.apply(lambda x: x ** 2)  "
   ]
  },
  {
   "cell_type": "code",
   "execution_count": 21,
   "metadata": {
    "uuid": "75206a83-0154-4be2-88d0-7a82a190fda1"
   },
   "outputs": [
    {
     "data": {
      "text/html": [
       "<div>\n",
       "<style scoped>\n",
       "    .dataframe tbody tr th:only-of-type {\n",
       "        vertical-align: middle;\n",
       "    }\n",
       "\n",
       "    .dataframe tbody tr th {\n",
       "        vertical-align: top;\n",
       "    }\n",
       "\n",
       "    .dataframe thead th {\n",
       "        text-align: right;\n",
       "    }\n",
       "</style>\n",
       "<table border=\"1\" class=\"dataframe\">\n",
       "  <thead>\n",
       "    <tr style=\"text-align: right;\">\n",
       "      <th></th>\n",
       "      <th>numbers</th>\n",
       "    </tr>\n",
       "  </thead>\n",
       "  <tbody>\n",
       "    <tr>\n",
       "      <th>a</th>\n",
       "      <td>10000</td>\n",
       "    </tr>\n",
       "    <tr>\n",
       "      <th>b</th>\n",
       "      <td>160000</td>\n",
       "    </tr>\n",
       "    <tr>\n",
       "      <th>c</th>\n",
       "      <td>810000</td>\n",
       "    </tr>\n",
       "    <tr>\n",
       "      <th>d</th>\n",
       "      <td>2560000</td>\n",
       "    </tr>\n",
       "  </tbody>\n",
       "</table>\n",
       "</div>"
      ],
      "text/plain": [
       "   numbers\n",
       "a    10000\n",
       "b   160000\n",
       "c   810000\n",
       "d  2560000"
      ]
     },
     "execution_count": 21,
     "metadata": {},
     "output_type": "execute_result"
    }
   ],
   "source": [
    "df ** 2  "
   ]
  },
  {
   "cell_type": "code",
   "execution_count": 22,
   "metadata": {},
   "outputs": [],
   "source": [
    "df['floats'] = (1.5, 2.5, 3.5, 4.5)  "
   ]
  },
  {
   "cell_type": "code",
   "execution_count": 23,
   "metadata": {
    "uuid": "49a2633a-b3c0-4d00-a227-e0ff4a8cf81d"
   },
   "outputs": [
    {
     "data": {
      "text/html": [
       "<div>\n",
       "<style scoped>\n",
       "    .dataframe tbody tr th:only-of-type {\n",
       "        vertical-align: middle;\n",
       "    }\n",
       "\n",
       "    .dataframe tbody tr th {\n",
       "        vertical-align: top;\n",
       "    }\n",
       "\n",
       "    .dataframe thead th {\n",
       "        text-align: right;\n",
       "    }\n",
       "</style>\n",
       "<table border=\"1\" class=\"dataframe\">\n",
       "  <thead>\n",
       "    <tr style=\"text-align: right;\">\n",
       "      <th></th>\n",
       "      <th>numbers</th>\n",
       "      <th>floats</th>\n",
       "    </tr>\n",
       "  </thead>\n",
       "  <tbody>\n",
       "    <tr>\n",
       "      <th>a</th>\n",
       "      <td>100</td>\n",
       "      <td>1.5</td>\n",
       "    </tr>\n",
       "    <tr>\n",
       "      <th>b</th>\n",
       "      <td>400</td>\n",
       "      <td>2.5</td>\n",
       "    </tr>\n",
       "    <tr>\n",
       "      <th>c</th>\n",
       "      <td>900</td>\n",
       "      <td>3.5</td>\n",
       "    </tr>\n",
       "    <tr>\n",
       "      <th>d</th>\n",
       "      <td>1600</td>\n",
       "      <td>4.5</td>\n",
       "    </tr>\n",
       "  </tbody>\n",
       "</table>\n",
       "</div>"
      ],
      "text/plain": [
       "   numbers  floats\n",
       "a      100     1.5\n",
       "b      400     2.5\n",
       "c      900     3.5\n",
       "d     1600     4.5"
      ]
     },
     "execution_count": 23,
     "metadata": {},
     "output_type": "execute_result"
    }
   ],
   "source": [
    "df"
   ]
  },
  {
   "cell_type": "code",
   "execution_count": 24,
   "metadata": {
    "uuid": "c49b9aea-417a-4c2b-8e27-0e8771a77c87"
   },
   "outputs": [
    {
     "data": {
      "text/plain": [
       "a    1.5\n",
       "b    2.5\n",
       "c    3.5\n",
       "d    4.5\n",
       "Name: floats, dtype: float64"
      ]
     },
     "execution_count": 24,
     "metadata": {},
     "output_type": "execute_result"
    }
   ],
   "source": [
    "df['floats']  "
   ]
  },
  {
   "cell_type": "code",
   "execution_count": 8,
   "metadata": {},
   "outputs": [],
   "source": [
    "df['names'] = pd.DataFrame(['Yves', 'Sandra', 'Lilli', 'Henry'],\n",
    "                           index=['d', 'a', 'b', 'c'])  "
   ]
  },
  {
   "cell_type": "code",
   "execution_count": 9,
   "metadata": {
    "uuid": "aa892c41-6637-45ed-876b-6a70285e4c0b"
   },
   "outputs": [
    {
     "output_type": "execute_result",
     "data": {
      "text/plain": [
       "   numbers   names\n",
       "a       10  Sandra\n",
       "b       20   Lilli\n",
       "c       30   Henry\n",
       "d       40    Yves"
      ],
      "text/html": "<div>\n<style scoped>\n    .dataframe tbody tr th:only-of-type {\n        vertical-align: middle;\n    }\n\n    .dataframe tbody tr th {\n        vertical-align: top;\n    }\n\n    .dataframe thead th {\n        text-align: right;\n    }\n</style>\n<table border=\"1\" class=\"dataframe\">\n  <thead>\n    <tr style=\"text-align: right;\">\n      <th></th>\n      <th>numbers</th>\n      <th>names</th>\n    </tr>\n  </thead>\n  <tbody>\n    <tr>\n      <th>a</th>\n      <td>10</td>\n      <td>Sandra</td>\n    </tr>\n    <tr>\n      <th>b</th>\n      <td>20</td>\n      <td>Lilli</td>\n    </tr>\n    <tr>\n      <th>c</th>\n      <td>30</td>\n      <td>Henry</td>\n    </tr>\n    <tr>\n      <th>d</th>\n      <td>40</td>\n      <td>Yves</td>\n    </tr>\n  </tbody>\n</table>\n</div>"
     },
     "metadata": {},
     "execution_count": 9
    }
   ],
   "source": [
    "df"
   ]
  },
  {
   "cell_type": "code",
   "execution_count": 10,
   "metadata": {
    "uuid": "584ac18c-161f-4c7b-8ff1-1cd406fb8437"
   },
   "outputs": [
    {
     "output_type": "execute_result",
     "data": {
      "text/plain": [
       "   numbers   names  floats\n",
       "0       10  Sandra     NaN\n",
       "1       20   Lilli     NaN\n",
       "2       30   Henry     NaN\n",
       "3       40    Yves     NaN\n",
       "4      100     Jil    5.75"
      ],
      "text/html": "<div>\n<style scoped>\n    .dataframe tbody tr th:only-of-type {\n        vertical-align: middle;\n    }\n\n    .dataframe tbody tr th {\n        vertical-align: top;\n    }\n\n    .dataframe thead th {\n        text-align: right;\n    }\n</style>\n<table border=\"1\" class=\"dataframe\">\n  <thead>\n    <tr style=\"text-align: right;\">\n      <th></th>\n      <th>numbers</th>\n      <th>names</th>\n      <th>floats</th>\n    </tr>\n  </thead>\n  <tbody>\n    <tr>\n      <th>0</th>\n      <td>10</td>\n      <td>Sandra</td>\n      <td>NaN</td>\n    </tr>\n    <tr>\n      <th>1</th>\n      <td>20</td>\n      <td>Lilli</td>\n      <td>NaN</td>\n    </tr>\n    <tr>\n      <th>2</th>\n      <td>30</td>\n      <td>Henry</td>\n      <td>NaN</td>\n    </tr>\n    <tr>\n      <th>3</th>\n      <td>40</td>\n      <td>Yves</td>\n      <td>NaN</td>\n    </tr>\n    <tr>\n      <th>4</th>\n      <td>100</td>\n      <td>Jil</td>\n      <td>5.75</td>\n    </tr>\n  </tbody>\n</table>\n</div>"
     },
     "metadata": {},
     "execution_count": 10
    }
   ],
   "source": [
    "df.append({'numbers': 100, 'floats': 5.75, 'names': 'Jil'},\n",
    "               ignore_index=True)  "
   ]
  },
  {
   "cell_type": "code",
   "execution_count": 11,
   "metadata": {},
   "outputs": [],
   "source": [
    "df = df.append(pd.DataFrame({'numbers': 100, 'floats': 5.75,\n",
    "                             'names': 'Jil'}, index=['y',]))  "
   ]
  },
  {
   "cell_type": "code",
   "execution_count": 12,
   "metadata": {
    "uuid": "9068cd04-c6ff-4d0c-bd52-cf04cd89a0e9"
   },
   "outputs": [
    {
     "output_type": "execute_result",
     "data": {
      "text/plain": [
       "   numbers   names  floats\n",
       "a       10  Sandra     NaN\n",
       "b       20   Lilli     NaN\n",
       "c       30   Henry     NaN\n",
       "d       40    Yves     NaN\n",
       "y      100     Jil    5.75"
      ],
      "text/html": "<div>\n<style scoped>\n    .dataframe tbody tr th:only-of-type {\n        vertical-align: middle;\n    }\n\n    .dataframe tbody tr th {\n        vertical-align: top;\n    }\n\n    .dataframe thead th {\n        text-align: right;\n    }\n</style>\n<table border=\"1\" class=\"dataframe\">\n  <thead>\n    <tr style=\"text-align: right;\">\n      <th></th>\n      <th>numbers</th>\n      <th>names</th>\n      <th>floats</th>\n    </tr>\n  </thead>\n  <tbody>\n    <tr>\n      <th>a</th>\n      <td>10</td>\n      <td>Sandra</td>\n      <td>NaN</td>\n    </tr>\n    <tr>\n      <th>b</th>\n      <td>20</td>\n      <td>Lilli</td>\n      <td>NaN</td>\n    </tr>\n    <tr>\n      <th>c</th>\n      <td>30</td>\n      <td>Henry</td>\n      <td>NaN</td>\n    </tr>\n    <tr>\n      <th>d</th>\n      <td>40</td>\n      <td>Yves</td>\n      <td>NaN</td>\n    </tr>\n    <tr>\n      <th>y</th>\n      <td>100</td>\n      <td>Jil</td>\n      <td>5.75</td>\n    </tr>\n  </tbody>\n</table>\n</div>"
     },
     "metadata": {},
     "execution_count": 12
    }
   ],
   "source": [
    "df"
   ]
  },
  {
   "cell_type": "code",
   "execution_count": 13,
   "metadata": {},
   "outputs": [],
   "source": [
    "df = df.append(pd.DataFrame({'names': 'Liz'}, index=['z',]), sort=False)  "
   ]
  },
  {
   "cell_type": "code",
   "execution_count": 14,
   "metadata": {
    "uuid": "9068cd04-c6ff-4d0c-bd52-cf04cd89a0e9"
   },
   "outputs": [
    {
     "output_type": "execute_result",
     "data": {
      "text/plain": [
       "   numbers   names  floats\n",
       "a     10.0  Sandra     NaN\n",
       "b     20.0   Lilli     NaN\n",
       "c     30.0   Henry     NaN\n",
       "d     40.0    Yves     NaN\n",
       "y    100.0     Jil    5.75\n",
       "z      NaN     Liz     NaN"
      ],
      "text/html": "<div>\n<style scoped>\n    .dataframe tbody tr th:only-of-type {\n        vertical-align: middle;\n    }\n\n    .dataframe tbody tr th {\n        vertical-align: top;\n    }\n\n    .dataframe thead th {\n        text-align: right;\n    }\n</style>\n<table border=\"1\" class=\"dataframe\">\n  <thead>\n    <tr style=\"text-align: right;\">\n      <th></th>\n      <th>numbers</th>\n      <th>names</th>\n      <th>floats</th>\n    </tr>\n  </thead>\n  <tbody>\n    <tr>\n      <th>a</th>\n      <td>10.0</td>\n      <td>Sandra</td>\n      <td>NaN</td>\n    </tr>\n    <tr>\n      <th>b</th>\n      <td>20.0</td>\n      <td>Lilli</td>\n      <td>NaN</td>\n    </tr>\n    <tr>\n      <th>c</th>\n      <td>30.0</td>\n      <td>Henry</td>\n      <td>NaN</td>\n    </tr>\n    <tr>\n      <th>d</th>\n      <td>40.0</td>\n      <td>Yves</td>\n      <td>NaN</td>\n    </tr>\n    <tr>\n      <th>y</th>\n      <td>100.0</td>\n      <td>Jil</td>\n      <td>5.75</td>\n    </tr>\n    <tr>\n      <th>z</th>\n      <td>NaN</td>\n      <td>Liz</td>\n      <td>NaN</td>\n    </tr>\n  </tbody>\n</table>\n</div>"
     },
     "metadata": {},
     "execution_count": 14
    }
   ],
   "source": [
    "df"
   ]
  },
  {
   "cell_type": "code",
   "execution_count": 15,
   "metadata": {},
   "outputs": [
    {
     "output_type": "execute_result",
     "data": {
      "text/plain": [
       "numbers    float64\n",
       "names       object\n",
       "floats     float64\n",
       "dtype: object"
      ]
     },
     "metadata": {},
     "execution_count": 15
    }
   ],
   "source": [
    "df.dtypes  "
   ]
  },
  {
   "cell_type": "code",
   "execution_count": 16,
   "metadata": {
    "uuid": "3e863c7f-7875-4911-997b-6e48123dc1e5"
   },
   "outputs": [
    {
     "output_type": "execute_result",
     "data": {
      "text/plain": [
       "numbers    40.00\n",
       "floats      5.75\n",
       "dtype: float64"
      ]
     },
     "metadata": {},
     "execution_count": 16
    }
   ],
   "source": [
    "df[['numbers', 'floats']].mean()  "
   ]
  },
  {
   "cell_type": "code",
   "execution_count": 17,
   "metadata": {
    "uuid": "c52173a0-485d-4eb2-b6b4-407d1ff2c30e"
   },
   "outputs": [
    {
     "output_type": "execute_result",
     "data": {
      "text/plain": [
       "numbers    35.355339\n",
       "floats           NaN\n",
       "dtype: float64"
      ]
     },
     "metadata": {},
     "execution_count": 17
    }
   ],
   "source": [
    "df[['numbers', 'floats']].std()  "
   ]
  },
  {
   "cell_type": "markdown",
   "metadata": {},
   "source": [
    "### Second Steps with DataFrame Class"
   ]
  },
  {
   "cell_type": "code",
   "execution_count": 18,
   "metadata": {},
   "outputs": [],
   "source": [
    "import numpy as np"
   ]
  },
  {
   "cell_type": "code",
   "execution_count": 19,
   "metadata": {},
   "outputs": [],
   "source": [
    "np.random.seed(100)\n"
   ]
  },
  {
   "cell_type": "code",
   "execution_count": 20,
   "metadata": {},
   "outputs": [],
   "source": [
    "a = np.random.standard_normal((9, 4))"
   ]
  },
  {
   "cell_type": "code",
   "execution_count": 21,
   "metadata": {
    "uuid": "d6f56a00-91e6-4221-a1ec-6093f416d1be"
   },
   "outputs": [
    {
     "output_type": "execute_result",
     "data": {
      "text/plain": [
       "array([[-1.74976547,  0.3426804 ,  1.1530358 , -0.25243604],\n",
       "       [ 0.98132079,  0.51421884,  0.22117967, -1.07004333],\n",
       "       [-0.18949583,  0.25500144, -0.45802699,  0.43516349],\n",
       "       [-0.58359505,  0.81684707,  0.67272081, -0.10441114],\n",
       "       [-0.53128038,  1.02973269, -0.43813562, -1.11831825],\n",
       "       [ 1.61898166,  1.54160517, -0.25187914, -0.84243574],\n",
       "       [ 0.18451869,  0.9370822 ,  0.73100034,  1.36155613],\n",
       "       [-0.32623806,  0.05567601,  0.22239961, -1.443217  ],\n",
       "       [-0.75635231,  0.81645401,  0.75044476, -0.45594693]])"
      ]
     },
     "metadata": {},
     "execution_count": 21
    }
   ],
   "source": [
    "a"
   ]
  },
  {
   "cell_type": "code",
   "execution_count": 22,
   "metadata": {},
   "outputs": [],
   "source": [
    "df = pd.DataFrame(a)  "
   ]
  },
  {
   "cell_type": "code",
   "execution_count": 23,
   "metadata": {
    "uuid": "450bd14d-7668-4f3f-a863-966f13562818"
   },
   "outputs": [
    {
     "output_type": "execute_result",
     "data": {
      "text/plain": [
       "          0         1         2         3\n",
       "0 -1.749765  0.342680  1.153036 -0.252436\n",
       "1  0.981321  0.514219  0.221180 -1.070043\n",
       "2 -0.189496  0.255001 -0.458027  0.435163\n",
       "3 -0.583595  0.816847  0.672721 -0.104411\n",
       "4 -0.531280  1.029733 -0.438136 -1.118318\n",
       "5  1.618982  1.541605 -0.251879 -0.842436\n",
       "6  0.184519  0.937082  0.731000  1.361556\n",
       "7 -0.326238  0.055676  0.222400 -1.443217\n",
       "8 -0.756352  0.816454  0.750445 -0.455947"
      ],
      "text/html": "<div>\n<style scoped>\n    .dataframe tbody tr th:only-of-type {\n        vertical-align: middle;\n    }\n\n    .dataframe tbody tr th {\n        vertical-align: top;\n    }\n\n    .dataframe thead th {\n        text-align: right;\n    }\n</style>\n<table border=\"1\" class=\"dataframe\">\n  <thead>\n    <tr style=\"text-align: right;\">\n      <th></th>\n      <th>0</th>\n      <th>1</th>\n      <th>2</th>\n      <th>3</th>\n    </tr>\n  </thead>\n  <tbody>\n    <tr>\n      <th>0</th>\n      <td>-1.749765</td>\n      <td>0.342680</td>\n      <td>1.153036</td>\n      <td>-0.252436</td>\n    </tr>\n    <tr>\n      <th>1</th>\n      <td>0.981321</td>\n      <td>0.514219</td>\n      <td>0.221180</td>\n      <td>-1.070043</td>\n    </tr>\n    <tr>\n      <th>2</th>\n      <td>-0.189496</td>\n      <td>0.255001</td>\n      <td>-0.458027</td>\n      <td>0.435163</td>\n    </tr>\n    <tr>\n      <th>3</th>\n      <td>-0.583595</td>\n      <td>0.816847</td>\n      <td>0.672721</td>\n      <td>-0.104411</td>\n    </tr>\n    <tr>\n      <th>4</th>\n      <td>-0.531280</td>\n      <td>1.029733</td>\n      <td>-0.438136</td>\n      <td>-1.118318</td>\n    </tr>\n    <tr>\n      <th>5</th>\n      <td>1.618982</td>\n      <td>1.541605</td>\n      <td>-0.251879</td>\n      <td>-0.842436</td>\n    </tr>\n    <tr>\n      <th>6</th>\n      <td>0.184519</td>\n      <td>0.937082</td>\n      <td>0.731000</td>\n      <td>1.361556</td>\n    </tr>\n    <tr>\n      <th>7</th>\n      <td>-0.326238</td>\n      <td>0.055676</td>\n      <td>0.222400</td>\n      <td>-1.443217</td>\n    </tr>\n    <tr>\n      <th>8</th>\n      <td>-0.756352</td>\n      <td>0.816454</td>\n      <td>0.750445</td>\n      <td>-0.455947</td>\n    </tr>\n  </tbody>\n</table>\n</div>"
     },
     "metadata": {},
     "execution_count": 23
    }
   ],
   "source": [
    "df"
   ]
  },
  {
   "cell_type": "code",
   "execution_count": 24,
   "metadata": {},
   "outputs": [],
   "source": [
    "df.columns = ['No1', 'No2', 'No3', 'No4']  "
   ]
  },
  {
   "cell_type": "code",
   "execution_count": 39,
   "metadata": {
    "uuid": "968395a4-12bc-46d2-b486-6c767abce366"
   },
   "outputs": [
    {
     "data": {
      "text/html": [
       "<div>\n",
       "<style scoped>\n",
       "    .dataframe tbody tr th:only-of-type {\n",
       "        vertical-align: middle;\n",
       "    }\n",
       "\n",
       "    .dataframe tbody tr th {\n",
       "        vertical-align: top;\n",
       "    }\n",
       "\n",
       "    .dataframe thead th {\n",
       "        text-align: right;\n",
       "    }\n",
       "</style>\n",
       "<table border=\"1\" class=\"dataframe\">\n",
       "  <thead>\n",
       "    <tr style=\"text-align: right;\">\n",
       "      <th></th>\n",
       "      <th>No1</th>\n",
       "      <th>No2</th>\n",
       "      <th>No3</th>\n",
       "      <th>No4</th>\n",
       "    </tr>\n",
       "  </thead>\n",
       "  <tbody>\n",
       "    <tr>\n",
       "      <th>0</th>\n",
       "      <td>-1.749765</td>\n",
       "      <td>0.342680</td>\n",
       "      <td>1.153036</td>\n",
       "      <td>-0.252436</td>\n",
       "    </tr>\n",
       "    <tr>\n",
       "      <th>1</th>\n",
       "      <td>0.981321</td>\n",
       "      <td>0.514219</td>\n",
       "      <td>0.221180</td>\n",
       "      <td>-1.070043</td>\n",
       "    </tr>\n",
       "    <tr>\n",
       "      <th>2</th>\n",
       "      <td>-0.189496</td>\n",
       "      <td>0.255001</td>\n",
       "      <td>-0.458027</td>\n",
       "      <td>0.435163</td>\n",
       "    </tr>\n",
       "    <tr>\n",
       "      <th>3</th>\n",
       "      <td>-0.583595</td>\n",
       "      <td>0.816847</td>\n",
       "      <td>0.672721</td>\n",
       "      <td>-0.104411</td>\n",
       "    </tr>\n",
       "    <tr>\n",
       "      <th>4</th>\n",
       "      <td>-0.531280</td>\n",
       "      <td>1.029733</td>\n",
       "      <td>-0.438136</td>\n",
       "      <td>-1.118318</td>\n",
       "    </tr>\n",
       "    <tr>\n",
       "      <th>5</th>\n",
       "      <td>1.618982</td>\n",
       "      <td>1.541605</td>\n",
       "      <td>-0.251879</td>\n",
       "      <td>-0.842436</td>\n",
       "    </tr>\n",
       "    <tr>\n",
       "      <th>6</th>\n",
       "      <td>0.184519</td>\n",
       "      <td>0.937082</td>\n",
       "      <td>0.731000</td>\n",
       "      <td>1.361556</td>\n",
       "    </tr>\n",
       "    <tr>\n",
       "      <th>7</th>\n",
       "      <td>-0.326238</td>\n",
       "      <td>0.055676</td>\n",
       "      <td>0.222400</td>\n",
       "      <td>-1.443217</td>\n",
       "    </tr>\n",
       "    <tr>\n",
       "      <th>8</th>\n",
       "      <td>-0.756352</td>\n",
       "      <td>0.816454</td>\n",
       "      <td>0.750445</td>\n",
       "      <td>-0.455947</td>\n",
       "    </tr>\n",
       "  </tbody>\n",
       "</table>\n",
       "</div>"
      ],
      "text/plain": [
       "        No1       No2       No3       No4\n",
       "0 -1.749765  0.342680  1.153036 -0.252436\n",
       "1  0.981321  0.514219  0.221180 -1.070043\n",
       "2 -0.189496  0.255001 -0.458027  0.435163\n",
       "3 -0.583595  0.816847  0.672721 -0.104411\n",
       "4 -0.531280  1.029733 -0.438136 -1.118318\n",
       "5  1.618982  1.541605 -0.251879 -0.842436\n",
       "6  0.184519  0.937082  0.731000  1.361556\n",
       "7 -0.326238  0.055676  0.222400 -1.443217\n",
       "8 -0.756352  0.816454  0.750445 -0.455947"
      ]
     },
     "execution_count": 39,
     "metadata": {},
     "output_type": "execute_result"
    }
   ],
   "source": [
    "df"
   ]
  },
  {
   "cell_type": "code",
   "execution_count": 25,
   "metadata": {
    "uuid": "68e8d73f-93d3-47ac-a656-1edbdebcd1ff"
   },
   "outputs": [
    {
     "output_type": "execute_result",
     "data": {
      "text/plain": [
       "0.7010330941456459"
      ]
     },
     "metadata": {},
     "execution_count": 25
    }
   ],
   "source": [
    "df['No2'].mean()  "
   ]
  },
  {
   "cell_type": "code",
   "execution_count": 26,
   "metadata": {},
   "outputs": [],
   "source": [
    "dates = pd.date_range('2019-1-1', periods=9, freq='M')  "
   ]
  },
  {
   "cell_type": "code",
   "execution_count": 27,
   "metadata": {
    "uuid": "a80e1e88-d211-4ee4-a6d3-90403a7739a8"
   },
   "outputs": [
    {
     "output_type": "execute_result",
     "data": {
      "text/plain": [
       "DatetimeIndex(['2019-01-31', '2019-02-28', '2019-03-31', '2019-04-30',\n",
       "               '2019-05-31', '2019-06-30', '2019-07-31', '2019-08-31',\n",
       "               '2019-09-30'],\n",
       "              dtype='datetime64[ns]', freq='M')"
      ]
     },
     "metadata": {},
     "execution_count": 27
    }
   ],
   "source": [
    "dates"
   ]
  },
  {
   "cell_type": "code",
   "execution_count": 28,
   "metadata": {},
   "outputs": [],
   "source": [
    "df.index = dates"
   ]
  },
  {
   "cell_type": "code",
   "execution_count": 43,
   "metadata": {
    "uuid": "d8fef9ed-25ca-4ae0-bd0c-026d340a903b"
   },
   "outputs": [
    {
     "data": {
      "text/html": [
       "<div>\n",
       "<style scoped>\n",
       "    .dataframe tbody tr th:only-of-type {\n",
       "        vertical-align: middle;\n",
       "    }\n",
       "\n",
       "    .dataframe tbody tr th {\n",
       "        vertical-align: top;\n",
       "    }\n",
       "\n",
       "    .dataframe thead th {\n",
       "        text-align: right;\n",
       "    }\n",
       "</style>\n",
       "<table border=\"1\" class=\"dataframe\">\n",
       "  <thead>\n",
       "    <tr style=\"text-align: right;\">\n",
       "      <th></th>\n",
       "      <th>No1</th>\n",
       "      <th>No2</th>\n",
       "      <th>No3</th>\n",
       "      <th>No4</th>\n",
       "    </tr>\n",
       "  </thead>\n",
       "  <tbody>\n",
       "    <tr>\n",
       "      <th>2019-01-31</th>\n",
       "      <td>-1.749765</td>\n",
       "      <td>0.342680</td>\n",
       "      <td>1.153036</td>\n",
       "      <td>-0.252436</td>\n",
       "    </tr>\n",
       "    <tr>\n",
       "      <th>2019-02-28</th>\n",
       "      <td>0.981321</td>\n",
       "      <td>0.514219</td>\n",
       "      <td>0.221180</td>\n",
       "      <td>-1.070043</td>\n",
       "    </tr>\n",
       "    <tr>\n",
       "      <th>2019-03-31</th>\n",
       "      <td>-0.189496</td>\n",
       "      <td>0.255001</td>\n",
       "      <td>-0.458027</td>\n",
       "      <td>0.435163</td>\n",
       "    </tr>\n",
       "    <tr>\n",
       "      <th>2019-04-30</th>\n",
       "      <td>-0.583595</td>\n",
       "      <td>0.816847</td>\n",
       "      <td>0.672721</td>\n",
       "      <td>-0.104411</td>\n",
       "    </tr>\n",
       "    <tr>\n",
       "      <th>2019-05-31</th>\n",
       "      <td>-0.531280</td>\n",
       "      <td>1.029733</td>\n",
       "      <td>-0.438136</td>\n",
       "      <td>-1.118318</td>\n",
       "    </tr>\n",
       "    <tr>\n",
       "      <th>2019-06-30</th>\n",
       "      <td>1.618982</td>\n",
       "      <td>1.541605</td>\n",
       "      <td>-0.251879</td>\n",
       "      <td>-0.842436</td>\n",
       "    </tr>\n",
       "    <tr>\n",
       "      <th>2019-07-31</th>\n",
       "      <td>0.184519</td>\n",
       "      <td>0.937082</td>\n",
       "      <td>0.731000</td>\n",
       "      <td>1.361556</td>\n",
       "    </tr>\n",
       "    <tr>\n",
       "      <th>2019-08-31</th>\n",
       "      <td>-0.326238</td>\n",
       "      <td>0.055676</td>\n",
       "      <td>0.222400</td>\n",
       "      <td>-1.443217</td>\n",
       "    </tr>\n",
       "    <tr>\n",
       "      <th>2019-09-30</th>\n",
       "      <td>-0.756352</td>\n",
       "      <td>0.816454</td>\n",
       "      <td>0.750445</td>\n",
       "      <td>-0.455947</td>\n",
       "    </tr>\n",
       "  </tbody>\n",
       "</table>\n",
       "</div>"
      ],
      "text/plain": [
       "                 No1       No2       No3       No4\n",
       "2019-01-31 -1.749765  0.342680  1.153036 -0.252436\n",
       "2019-02-28  0.981321  0.514219  0.221180 -1.070043\n",
       "2019-03-31 -0.189496  0.255001 -0.458027  0.435163\n",
       "2019-04-30 -0.583595  0.816847  0.672721 -0.104411\n",
       "2019-05-31 -0.531280  1.029733 -0.438136 -1.118318\n",
       "2019-06-30  1.618982  1.541605 -0.251879 -0.842436\n",
       "2019-07-31  0.184519  0.937082  0.731000  1.361556\n",
       "2019-08-31 -0.326238  0.055676  0.222400 -1.443217\n",
       "2019-09-30 -0.756352  0.816454  0.750445 -0.455947"
      ]
     },
     "execution_count": 43,
     "metadata": {},
     "output_type": "execute_result"
    }
   ],
   "source": [
    "df"
   ]
  },
  {
   "cell_type": "code",
   "execution_count": 29,
   "metadata": {
    "uuid": "bcc38d60-3e1c-49bb-b883-ea7564c136b4"
   },
   "outputs": [
    {
     "output_type": "execute_result",
     "data": {
      "text/plain": [
       "array([[-1.74976547,  0.3426804 ,  1.1530358 , -0.25243604],\n",
       "       [ 0.98132079,  0.51421884,  0.22117967, -1.07004333],\n",
       "       [-0.18949583,  0.25500144, -0.45802699,  0.43516349],\n",
       "       [-0.58359505,  0.81684707,  0.67272081, -0.10441114],\n",
       "       [-0.53128038,  1.02973269, -0.43813562, -1.11831825],\n",
       "       [ 1.61898166,  1.54160517, -0.25187914, -0.84243574],\n",
       "       [ 0.18451869,  0.9370822 ,  0.73100034,  1.36155613],\n",
       "       [-0.32623806,  0.05567601,  0.22239961, -1.443217  ],\n",
       "       [-0.75635231,  0.81645401,  0.75044476, -0.45594693]])"
      ]
     },
     "metadata": {},
     "execution_count": 29
    }
   ],
   "source": [
    "df.values"
   ]
  },
  {
   "cell_type": "code",
   "execution_count": 30,
   "metadata": {
    "uuid": "bcc38d60-3e1c-49bb-b883-ea7564c136b4"
   },
   "outputs": [
    {
     "output_type": "execute_result",
     "data": {
      "text/plain": [
       "array([[-1.74976547,  0.3426804 ,  1.1530358 , -0.25243604],\n",
       "       [ 0.98132079,  0.51421884,  0.22117967, -1.07004333],\n",
       "       [-0.18949583,  0.25500144, -0.45802699,  0.43516349],\n",
       "       [-0.58359505,  0.81684707,  0.67272081, -0.10441114],\n",
       "       [-0.53128038,  1.02973269, -0.43813562, -1.11831825],\n",
       "       [ 1.61898166,  1.54160517, -0.25187914, -0.84243574],\n",
       "       [ 0.18451869,  0.9370822 ,  0.73100034,  1.36155613],\n",
       "       [-0.32623806,  0.05567601,  0.22239961, -1.443217  ],\n",
       "       [-0.75635231,  0.81645401,  0.75044476, -0.45594693]])"
      ]
     },
     "metadata": {},
     "execution_count": 30
    }
   ],
   "source": [
    "np.array(df)"
   ]
  },
  {
   "cell_type": "markdown",
   "metadata": {},
   "source": [
    "## Basic Analytics"
   ]
  },
  {
   "cell_type": "code",
   "execution_count": 31,
   "metadata": {},
   "outputs": [
    {
     "output_type": "stream",
     "name": "stdout",
     "text": [
      "<class 'pandas.core.frame.DataFrame'>\nDatetimeIndex: 9 entries, 2019-01-31 to 2019-09-30\nFreq: M\nData columns (total 4 columns):\n #   Column  Non-Null Count  Dtype  \n---  ------  --------------  -----  \n 0   No1     9 non-null      float64\n 1   No2     9 non-null      float64\n 2   No3     9 non-null      float64\n 3   No4     9 non-null      float64\ndtypes: float64(4)\nmemory usage: 360.0 bytes\n"
     ]
    }
   ],
   "source": [
    "df.info()  "
   ]
  },
  {
   "cell_type": "code",
   "execution_count": 32,
   "metadata": {
    "uuid": "125980cc-91ec-4ab4-9a4a-cfd772dd1254"
   },
   "outputs": [
    {
     "output_type": "execute_result",
     "data": {
      "text/plain": [
       "            No1       No2       No3       No4\n",
       "count  9.000000  9.000000  9.000000  9.000000\n",
       "mean  -0.150212  0.701033  0.289193 -0.387788\n",
       "std    0.988306  0.457685  0.579920  0.877532\n",
       "min   -1.749765  0.055676 -0.458027 -1.443217\n",
       "25%   -0.583595  0.342680 -0.251879 -1.070043\n",
       "50%   -0.326238  0.816454  0.222400 -0.455947\n",
       "75%    0.184519  0.937082  0.731000 -0.104411\n",
       "max    1.618982  1.541605  1.153036  1.361556"
      ],
      "text/html": "<div>\n<style scoped>\n    .dataframe tbody tr th:only-of-type {\n        vertical-align: middle;\n    }\n\n    .dataframe tbody tr th {\n        vertical-align: top;\n    }\n\n    .dataframe thead th {\n        text-align: right;\n    }\n</style>\n<table border=\"1\" class=\"dataframe\">\n  <thead>\n    <tr style=\"text-align: right;\">\n      <th></th>\n      <th>No1</th>\n      <th>No2</th>\n      <th>No3</th>\n      <th>No4</th>\n    </tr>\n  </thead>\n  <tbody>\n    <tr>\n      <th>count</th>\n      <td>9.000000</td>\n      <td>9.000000</td>\n      <td>9.000000</td>\n      <td>9.000000</td>\n    </tr>\n    <tr>\n      <th>mean</th>\n      <td>-0.150212</td>\n      <td>0.701033</td>\n      <td>0.289193</td>\n      <td>-0.387788</td>\n    </tr>\n    <tr>\n      <th>std</th>\n      <td>0.988306</td>\n      <td>0.457685</td>\n      <td>0.579920</td>\n      <td>0.877532</td>\n    </tr>\n    <tr>\n      <th>min</th>\n      <td>-1.749765</td>\n      <td>0.055676</td>\n      <td>-0.458027</td>\n      <td>-1.443217</td>\n    </tr>\n    <tr>\n      <th>25%</th>\n      <td>-0.583595</td>\n      <td>0.342680</td>\n      <td>-0.251879</td>\n      <td>-1.070043</td>\n    </tr>\n    <tr>\n      <th>50%</th>\n      <td>-0.326238</td>\n      <td>0.816454</td>\n      <td>0.222400</td>\n      <td>-0.455947</td>\n    </tr>\n    <tr>\n      <th>75%</th>\n      <td>0.184519</td>\n      <td>0.937082</td>\n      <td>0.731000</td>\n      <td>-0.104411</td>\n    </tr>\n    <tr>\n      <th>max</th>\n      <td>1.618982</td>\n      <td>1.541605</td>\n      <td>1.153036</td>\n      <td>1.361556</td>\n    </tr>\n  </tbody>\n</table>\n</div>"
     },
     "metadata": {},
     "execution_count": 32
    }
   ],
   "source": [
    "df.describe()  "
   ]
  },
  {
   "cell_type": "code",
   "execution_count": 33,
   "metadata": {
    "uuid": "f760ea25-c64c-4e70-9f91-b72701d919ce"
   },
   "outputs": [
    {
     "output_type": "execute_result",
     "data": {
      "text/plain": [
       "No1   -1.351906\n",
       "No2    6.309298\n",
       "No3    2.602739\n",
       "No4   -3.490089\n",
       "dtype: float64"
      ]
     },
     "metadata": {},
     "execution_count": 33
    }
   ],
   "source": [
    "df.sum()  "
   ]
  },
  {
   "cell_type": "code",
   "execution_count": 34,
   "metadata": {
    "uuid": "3dd9bd77-eb80-46cb-87f3-62c053a8e223"
   },
   "outputs": [
    {
     "output_type": "execute_result",
     "data": {
      "text/plain": [
       "No1   -0.150212\n",
       "No2    0.701033\n",
       "No3    0.289193\n",
       "No4   -0.387788\n",
       "dtype: float64"
      ]
     },
     "metadata": {},
     "execution_count": 34
    }
   ],
   "source": [
    "df.mean()  "
   ]
  },
  {
   "cell_type": "code",
   "execution_count": 35,
   "metadata": {
    "uuid": "3dd9bd77-eb80-46cb-87f3-62c053a8e223"
   },
   "outputs": [
    {
     "output_type": "execute_result",
     "data": {
      "text/plain": [
       "No1   -0.150212\n",
       "No2    0.701033\n",
       "No3    0.289193\n",
       "No4   -0.387788\n",
       "dtype: float64"
      ]
     },
     "metadata": {},
     "execution_count": 35
    }
   ],
   "source": [
    "df.mean(axis=0)  "
   ]
  },
  {
   "cell_type": "code",
   "execution_count": 36,
   "metadata": {},
   "outputs": [
    {
     "output_type": "execute_result",
     "data": {
      "text/plain": [
       "2019-01-31   -0.126621\n",
       "2019-02-28    0.161669\n",
       "2019-03-31    0.010661\n",
       "2019-04-30    0.200390\n",
       "2019-05-31   -0.264500\n",
       "2019-06-30    0.516568\n",
       "2019-07-31    0.803539\n",
       "2019-08-31   -0.372845\n",
       "2019-09-30    0.088650\n",
       "Freq: M, dtype: float64"
      ]
     },
     "metadata": {},
     "execution_count": 36
    }
   ],
   "source": [
    "df.mean(axis=1)  "
   ]
  },
  {
   "cell_type": "code",
   "execution_count": 37,
   "metadata": {
    "uuid": "8e167ea8-09b7-4585-8cac-28fe20eefe66"
   },
   "outputs": [
    {
     "output_type": "execute_result",
     "data": {
      "text/plain": [
       "                 No1       No2       No3       No4\n",
       "2019-01-31 -1.749765  0.342680  1.153036 -0.252436\n",
       "2019-02-28 -0.768445  0.856899  1.374215 -1.322479\n",
       "2019-03-31 -0.957941  1.111901  0.916188 -0.887316\n",
       "2019-04-30 -1.541536  1.928748  1.588909 -0.991727\n",
       "2019-05-31 -2.072816  2.958480  1.150774 -2.110045\n",
       "2019-06-30 -0.453834  4.500086  0.898895 -2.952481\n",
       "2019-07-31 -0.269316  5.437168  1.629895 -1.590925\n",
       "2019-08-31 -0.595554  5.492844  1.852294 -3.034142\n",
       "2019-09-30 -1.351906  6.309298  2.602739 -3.490089"
      ],
      "text/html": "<div>\n<style scoped>\n    .dataframe tbody tr th:only-of-type {\n        vertical-align: middle;\n    }\n\n    .dataframe tbody tr th {\n        vertical-align: top;\n    }\n\n    .dataframe thead th {\n        text-align: right;\n    }\n</style>\n<table border=\"1\" class=\"dataframe\">\n  <thead>\n    <tr style=\"text-align: right;\">\n      <th></th>\n      <th>No1</th>\n      <th>No2</th>\n      <th>No3</th>\n      <th>No4</th>\n    </tr>\n  </thead>\n  <tbody>\n    <tr>\n      <th>2019-01-31</th>\n      <td>-1.749765</td>\n      <td>0.342680</td>\n      <td>1.153036</td>\n      <td>-0.252436</td>\n    </tr>\n    <tr>\n      <th>2019-02-28</th>\n      <td>-0.768445</td>\n      <td>0.856899</td>\n      <td>1.374215</td>\n      <td>-1.322479</td>\n    </tr>\n    <tr>\n      <th>2019-03-31</th>\n      <td>-0.957941</td>\n      <td>1.111901</td>\n      <td>0.916188</td>\n      <td>-0.887316</td>\n    </tr>\n    <tr>\n      <th>2019-04-30</th>\n      <td>-1.541536</td>\n      <td>1.928748</td>\n      <td>1.588909</td>\n      <td>-0.991727</td>\n    </tr>\n    <tr>\n      <th>2019-05-31</th>\n      <td>-2.072816</td>\n      <td>2.958480</td>\n      <td>1.150774</td>\n      <td>-2.110045</td>\n    </tr>\n    <tr>\n      <th>2019-06-30</th>\n      <td>-0.453834</td>\n      <td>4.500086</td>\n      <td>0.898895</td>\n      <td>-2.952481</td>\n    </tr>\n    <tr>\n      <th>2019-07-31</th>\n      <td>-0.269316</td>\n      <td>5.437168</td>\n      <td>1.629895</td>\n      <td>-1.590925</td>\n    </tr>\n    <tr>\n      <th>2019-08-31</th>\n      <td>-0.595554</td>\n      <td>5.492844</td>\n      <td>1.852294</td>\n      <td>-3.034142</td>\n    </tr>\n    <tr>\n      <th>2019-09-30</th>\n      <td>-1.351906</td>\n      <td>6.309298</td>\n      <td>2.602739</td>\n      <td>-3.490089</td>\n    </tr>\n  </tbody>\n</table>\n</div>"
     },
     "metadata": {},
     "execution_count": 37
    }
   ],
   "source": [
    "df.cumsum()  "
   ]
  },
  {
   "cell_type": "code",
   "execution_count": 38,
   "metadata": {},
   "outputs": [
    {
     "output_type": "execute_result",
     "data": {
      "text/plain": [
       "No1   -0.150212\n",
       "No2    0.701033\n",
       "No3    0.289193\n",
       "No4   -0.387788\n",
       "dtype: float64"
      ]
     },
     "metadata": {},
     "execution_count": 38
    }
   ],
   "source": [
    "np.mean(df)  "
   ]
  },
  {
   "cell_type": "code",
   "execution_count": 39,
   "metadata": {},
   "outputs": [
    {
     "output_type": "execute_result",
     "data": {
      "text/plain": [
       "                 No1       No2       No3       No4\n",
       "2019-01-31       NaN -1.070957  0.142398       NaN\n",
       "2019-02-28 -0.018856 -0.665106 -1.508780       NaN\n",
       "2019-03-31       NaN -1.366486       NaN -0.832033\n",
       "2019-04-30       NaN -0.202303 -0.396425       NaN\n",
       "2019-05-31       NaN  0.029299       NaN       NaN\n",
       "2019-06-30  0.481797  0.432824       NaN       NaN\n",
       "2019-07-31 -1.690005 -0.064984 -0.313341  0.308628\n",
       "2019-08-31       NaN -2.888206 -1.503279       NaN\n",
       "2019-09-30       NaN -0.202785 -0.287089       NaN"
      ],
      "text/html": "<div>\n<style scoped>\n    .dataframe tbody tr th:only-of-type {\n        vertical-align: middle;\n    }\n\n    .dataframe tbody tr th {\n        vertical-align: top;\n    }\n\n    .dataframe thead th {\n        text-align: right;\n    }\n</style>\n<table border=\"1\" class=\"dataframe\">\n  <thead>\n    <tr style=\"text-align: right;\">\n      <th></th>\n      <th>No1</th>\n      <th>No2</th>\n      <th>No3</th>\n      <th>No4</th>\n    </tr>\n  </thead>\n  <tbody>\n    <tr>\n      <th>2019-01-31</th>\n      <td>NaN</td>\n      <td>-1.070957</td>\n      <td>0.142398</td>\n      <td>NaN</td>\n    </tr>\n    <tr>\n      <th>2019-02-28</th>\n      <td>-0.018856</td>\n      <td>-0.665106</td>\n      <td>-1.508780</td>\n      <td>NaN</td>\n    </tr>\n    <tr>\n      <th>2019-03-31</th>\n      <td>NaN</td>\n      <td>-1.366486</td>\n      <td>NaN</td>\n      <td>-0.832033</td>\n    </tr>\n    <tr>\n      <th>2019-04-30</th>\n      <td>NaN</td>\n      <td>-0.202303</td>\n      <td>-0.396425</td>\n      <td>NaN</td>\n    </tr>\n    <tr>\n      <th>2019-05-31</th>\n      <td>NaN</td>\n      <td>0.029299</td>\n      <td>NaN</td>\n      <td>NaN</td>\n    </tr>\n    <tr>\n      <th>2019-06-30</th>\n      <td>0.481797</td>\n      <td>0.432824</td>\n      <td>NaN</td>\n      <td>NaN</td>\n    </tr>\n    <tr>\n      <th>2019-07-31</th>\n      <td>-1.690005</td>\n      <td>-0.064984</td>\n      <td>-0.313341</td>\n      <td>0.308628</td>\n    </tr>\n    <tr>\n      <th>2019-08-31</th>\n      <td>NaN</td>\n      <td>-2.888206</td>\n      <td>-1.503279</td>\n      <td>NaN</td>\n    </tr>\n    <tr>\n      <th>2019-09-30</th>\n      <td>NaN</td>\n      <td>-0.202785</td>\n      <td>-0.287089</td>\n      <td>NaN</td>\n    </tr>\n  </tbody>\n</table>\n</div>"
     },
     "metadata": {},
     "execution_count": 39
    }
   ],
   "source": [
    "# raises warning\n",
    "np.log(df)  "
   ]
  },
  {
   "cell_type": "code",
   "execution_count": 56,
   "metadata": {
    "uuid": "9dfc1e40-c030-4a9c-9e3a-ff28c64a93df"
   },
   "outputs": [
    {
     "data": {
      "text/html": [
       "<div>\n",
       "<style scoped>\n",
       "    .dataframe tbody tr th:only-of-type {\n",
       "        vertical-align: middle;\n",
       "    }\n",
       "\n",
       "    .dataframe tbody tr th {\n",
       "        vertical-align: top;\n",
       "    }\n",
       "\n",
       "    .dataframe thead th {\n",
       "        text-align: right;\n",
       "    }\n",
       "</style>\n",
       "<table border=\"1\" class=\"dataframe\">\n",
       "  <thead>\n",
       "    <tr style=\"text-align: right;\">\n",
       "      <th></th>\n",
       "      <th>No1</th>\n",
       "      <th>No2</th>\n",
       "      <th>No3</th>\n",
       "      <th>No4</th>\n",
       "    </tr>\n",
       "  </thead>\n",
       "  <tbody>\n",
       "    <tr>\n",
       "      <th>2019-01-31</th>\n",
       "      <td>1.322787</td>\n",
       "      <td>0.585389</td>\n",
       "      <td>1.073795</td>\n",
       "      <td>0.502430</td>\n",
       "    </tr>\n",
       "    <tr>\n",
       "      <th>2019-02-28</th>\n",
       "      <td>0.990616</td>\n",
       "      <td>0.717091</td>\n",
       "      <td>0.470297</td>\n",
       "      <td>1.034429</td>\n",
       "    </tr>\n",
       "    <tr>\n",
       "      <th>2019-03-31</th>\n",
       "      <td>0.435311</td>\n",
       "      <td>0.504977</td>\n",
       "      <td>0.676777</td>\n",
       "      <td>0.659669</td>\n",
       "    </tr>\n",
       "    <tr>\n",
       "      <th>2019-04-30</th>\n",
       "      <td>0.763934</td>\n",
       "      <td>0.903796</td>\n",
       "      <td>0.820196</td>\n",
       "      <td>0.323127</td>\n",
       "    </tr>\n",
       "    <tr>\n",
       "      <th>2019-05-31</th>\n",
       "      <td>0.728890</td>\n",
       "      <td>1.014757</td>\n",
       "      <td>0.661918</td>\n",
       "      <td>1.057506</td>\n",
       "    </tr>\n",
       "    <tr>\n",
       "      <th>2019-06-30</th>\n",
       "      <td>1.272392</td>\n",
       "      <td>1.241614</td>\n",
       "      <td>0.501876</td>\n",
       "      <td>0.917843</td>\n",
       "    </tr>\n",
       "    <tr>\n",
       "      <th>2019-07-31</th>\n",
       "      <td>0.429556</td>\n",
       "      <td>0.968030</td>\n",
       "      <td>0.854986</td>\n",
       "      <td>1.166857</td>\n",
       "    </tr>\n",
       "    <tr>\n",
       "      <th>2019-08-31</th>\n",
       "      <td>0.571173</td>\n",
       "      <td>0.235958</td>\n",
       "      <td>0.471593</td>\n",
       "      <td>1.201340</td>\n",
       "    </tr>\n",
       "    <tr>\n",
       "      <th>2019-09-30</th>\n",
       "      <td>0.869685</td>\n",
       "      <td>0.903578</td>\n",
       "      <td>0.866282</td>\n",
       "      <td>0.675238</td>\n",
       "    </tr>\n",
       "  </tbody>\n",
       "</table>\n",
       "</div>"
      ],
      "text/plain": [
       "                 No1       No2       No3       No4\n",
       "2019-01-31  1.322787  0.585389  1.073795  0.502430\n",
       "2019-02-28  0.990616  0.717091  0.470297  1.034429\n",
       "2019-03-31  0.435311  0.504977  0.676777  0.659669\n",
       "2019-04-30  0.763934  0.903796  0.820196  0.323127\n",
       "2019-05-31  0.728890  1.014757  0.661918  1.057506\n",
       "2019-06-30  1.272392  1.241614  0.501876  0.917843\n",
       "2019-07-31  0.429556  0.968030  0.854986  1.166857\n",
       "2019-08-31  0.571173  0.235958  0.471593  1.201340\n",
       "2019-09-30  0.869685  0.903578  0.866282  0.675238"
      ]
     },
     "execution_count": 56,
     "metadata": {},
     "output_type": "execute_result"
    }
   ],
   "source": [
    "np.sqrt(abs(df))  "
   ]
  },
  {
   "cell_type": "code",
   "execution_count": 40,
   "metadata": {
    "uuid": "a540362b-50d7-4ef0-89ba-0b6ee38033f6"
   },
   "outputs": [
    {
     "output_type": "execute_result",
     "data": {
      "text/plain": [
       "No1    7.384345\n",
       "No2    7.075190\n",
       "No3    6.397719\n",
       "No4    7.538440\n",
       "dtype: float64"
      ]
     },
     "metadata": {},
     "execution_count": 40
    }
   ],
   "source": [
    "np.sqrt(abs(df)).sum()  "
   ]
  },
  {
   "cell_type": "code",
   "execution_count": 41,
   "metadata": {
    "scrolled": true
   },
   "outputs": [
    {
     "output_type": "execute_result",
     "data": {
      "text/plain": [
       "                   No1         No2         No3         No4\n",
       "2019-01-31  -74.976547  134.268040  215.303580   74.756396\n",
       "2019-02-28  198.132079  151.421884  122.117967   -7.004333\n",
       "2019-03-31   81.050417  125.500144   54.197301  143.516349\n",
       "2019-04-30   41.640495  181.684707  167.272081   89.558886\n",
       "2019-05-31   46.871962  202.973269   56.186438  -11.831825\n",
       "2019-06-30  261.898166  254.160517   74.812086   15.756426\n",
       "2019-07-31  118.451869  193.708220  173.100034  236.155613\n",
       "2019-08-31   67.376194  105.567601  122.239961  -44.321700\n",
       "2019-09-30   24.364769  181.645401  175.044476   54.405307"
      ],
      "text/html": "<div>\n<style scoped>\n    .dataframe tbody tr th:only-of-type {\n        vertical-align: middle;\n    }\n\n    .dataframe tbody tr th {\n        vertical-align: top;\n    }\n\n    .dataframe thead th {\n        text-align: right;\n    }\n</style>\n<table border=\"1\" class=\"dataframe\">\n  <thead>\n    <tr style=\"text-align: right;\">\n      <th></th>\n      <th>No1</th>\n      <th>No2</th>\n      <th>No3</th>\n      <th>No4</th>\n    </tr>\n  </thead>\n  <tbody>\n    <tr>\n      <th>2019-01-31</th>\n      <td>-74.976547</td>\n      <td>134.268040</td>\n      <td>215.303580</td>\n      <td>74.756396</td>\n    </tr>\n    <tr>\n      <th>2019-02-28</th>\n      <td>198.132079</td>\n      <td>151.421884</td>\n      <td>122.117967</td>\n      <td>-7.004333</td>\n    </tr>\n    <tr>\n      <th>2019-03-31</th>\n      <td>81.050417</td>\n      <td>125.500144</td>\n      <td>54.197301</td>\n      <td>143.516349</td>\n    </tr>\n    <tr>\n      <th>2019-04-30</th>\n      <td>41.640495</td>\n      <td>181.684707</td>\n      <td>167.272081</td>\n      <td>89.558886</td>\n    </tr>\n    <tr>\n      <th>2019-05-31</th>\n      <td>46.871962</td>\n      <td>202.973269</td>\n      <td>56.186438</td>\n      <td>-11.831825</td>\n    </tr>\n    <tr>\n      <th>2019-06-30</th>\n      <td>261.898166</td>\n      <td>254.160517</td>\n      <td>74.812086</td>\n      <td>15.756426</td>\n    </tr>\n    <tr>\n      <th>2019-07-31</th>\n      <td>118.451869</td>\n      <td>193.708220</td>\n      <td>173.100034</td>\n      <td>236.155613</td>\n    </tr>\n    <tr>\n      <th>2019-08-31</th>\n      <td>67.376194</td>\n      <td>105.567601</td>\n      <td>122.239961</td>\n      <td>-44.321700</td>\n    </tr>\n    <tr>\n      <th>2019-09-30</th>\n      <td>24.364769</td>\n      <td>181.645401</td>\n      <td>175.044476</td>\n      <td>54.405307</td>\n    </tr>\n  </tbody>\n</table>\n</div>"
     },
     "metadata": {},
     "execution_count": 41
    }
   ],
   "source": [
    "100 * df + 100  "
   ]
  },
  {
   "cell_type": "markdown",
   "metadata": {},
   "source": [
    "## Basic Visualization"
   ]
  },
  {
   "cell_type": "code",
   "execution_count": 59,
   "metadata": {},
   "outputs": [],
   "source": [
    "from pylab import plt, mpl  \n",
    "plt.style.use('seaborn')  \n",
    "mpl.rcParams['font.family'] = 'serif'  \n",
    "%matplotlib inline"
   ]
  },
  {
   "cell_type": "code",
   "execution_count": 60,
   "metadata": {
    "uuid": "4b1834ec-9f9b-41d6-8d06-f2efc8433dc4"
   },
   "outputs": [
    {
     "data": {
      "image/png": "[encoded data removed]",
      "image/svg+xml": [
       "<?xml version=\"1.0\" encoding=\"utf-8\" standalone=\"no\"?>\r\n",
       "<!DOCTYPE svg PUBLIC \"-//W3C//DTD SVG 1.1//EN\"\r\n",
       "  \"http://www.w3.org/Graphics/SVG/1.1/DTD/svg11.dtd\">\r\n",
       "<!-- Created with matplotlib (https://matplotlib.org/) -->\r\n",
       "<svg height=\"368.435938pt\" version=\"1.1\" viewBox=\"0 0 603.727344 368.435938\" width=\"603.727344pt\" xmlns=\"http://www.w3.org/2000/svg\" xmlns:xlink=\"http://www.w3.org/1999/xlink\">\r\n",
       " <metadata>\r\n",
       "  <rdf:RDF xmlns:cc=\"http://creativecommons.org/ns#\" xmlns:dc=\"http://purl.org/dc/elements/1.1/\" xmlns:rdf=\"http://www.w3.org/1999/02/22-rdf-syntax-ns#\">\r\n",
       "   <cc:Work>\r\n",
       "    <dc:type rdf:resource=\"http://purl.org/dc/dcmitype/StillImage\"/>\r\n",
       "    <dc:date>2021-03-18T12:00:58.145243</dc:date>\r\n",
       "    <dc:format>image/svg+xml</dc:format>\r\n",
       "    <dc:creator>\r\n",
       "     <cc:Agent>\r\n",
       "      <dc:title>Matplotlib v3.3.4, https://matplotlib.org/</dc:title>\r\n",
       "     </cc:Agent>\r\n",
       "    </dc:creator>\r\n",
       "   </cc:Work>\r\n",
       "  </rdf:RDF>\r\n",
       " </metadata>\r\n",
       " <defs>\r\n",
       "  <style type=\"text/css\">*{stroke-linecap:butt;stroke-linejoin:round;}</style>\r\n",
       " </defs>\r\n",
       " <g id=\"figure_1\">\r\n",
       "  <g id=\"patch_1\">\r\n",
       "   <path d=\"M 0 368.435938 \r\n",
       "L 603.727344 368.435938 \r\n",
       "L 603.727344 0 \r\n",
       "L 0 0 \r\n",
       "z\r\n",
       "\" style=\"fill:none;\"/>\r\n",
       "  </g>\r\n",
       "  <g id=\"axes_1\">\r\n",
       "   <g id=\"patch_2\">\r\n",
       "    <path d=\"M 28.942188 333.36 \r\n",
       "L 586.942188 333.36 \r\n",
       "L 586.942188 7.2 \r\n",
       "L 28.942188 7.2 \r\n",
       "z\r\n",
       "\" style=\"fill:#eaeaf2;\"/>\r\n",
       "   </g>\r\n",
       "   <g id=\"matplotlib.axis_1\">\r\n",
       "    <g id=\"xtick_1\">\r\n",
       "     <g id=\"line2d_1\">\r\n",
       "      <path clip-path=\"url(#p6eba0a05fc)\" d=\"M 28.942187 333.36 \r\n",
       "L 28.942187 7.2 \r\n",
       "\" style=\"fill:none;stroke:#ffffff;stroke-linecap:round;\"/>\r\n",
       "     </g>\r\n",
       "     <g id=\"line2d_2\"/>\r\n",
       "     <g id=\"text_1\">\r\n",
       "      <!-- Jan -->\r\n",
       "      <g style=\"fill:#262626;\" transform=\"translate(20.735937 347.958438)scale(0.1 -0.1)\">\r\n",
       "       <defs>\r\n",
       "        <path d=\"M -8.40625 -17.484375 \r\n",
       "L -8.40625 -6 \r\n",
       "L -2.828125 -6 \r\n",
       "Q -2.6875 -10.84375 -0.53125 -13.203125 \r\n",
       "Q 1.609375 -15.578125 5.90625 -15.578125 \r\n",
       "Q 11.71875 -15.578125 14.015625 -11.90625 \r\n",
       "Q 16.3125 -8.25 16.3125 2.390625 \r\n",
       "L 16.3125 67.671875 \r\n",
       "L 4.984375 67.671875 \r\n",
       "L 4.984375 72.90625 \r\n",
       "L 35.5 72.90625 \r\n",
       "L 35.5 67.671875 \r\n",
       "L 26.21875 67.671875 \r\n",
       "L 26.21875 2 \r\n",
       "Q 26.21875 -10.0625 21.375 -15.421875 \r\n",
       "Q 16.546875 -20.796875 5.8125 -20.796875 \r\n",
       "Q 2.34375 -20.796875 -1.234375 -19.96875 \r\n",
       "Q -4.828125 -19.140625 -8.40625 -17.484375 \r\n",
       "z\r\n",
       "\" id=\"DejaVuSerif-74\"/>\r\n",
       "        <path d=\"M 39.796875 16.3125 \r\n",
       "L 39.796875 27.296875 \r\n",
       "L 28.21875 27.296875 \r\n",
       "Q 21.53125 27.296875 18.25 24.40625 \r\n",
       "Q 14.984375 21.53125 14.984375 15.578125 \r\n",
       "Q 14.984375 10.15625 18.296875 6.984375 \r\n",
       "Q 21.625 3.8125 27.296875 3.8125 \r\n",
       "Q 32.90625 3.8125 36.34375 7.28125 \r\n",
       "Q 39.796875 10.75 39.796875 16.3125 \r\n",
       "z\r\n",
       "M 48.78125 32.421875 \r\n",
       "L 48.78125 5.171875 \r\n",
       "L 56.78125 5.171875 \r\n",
       "L 56.78125 0 \r\n",
       "L 39.796875 0 \r\n",
       "L 39.796875 5.609375 \r\n",
       "Q 36.8125 2 32.90625 0.28125 \r\n",
       "Q 29 -1.421875 23.78125 -1.421875 \r\n",
       "Q 15.140625 -1.421875 10.0625 3.171875 \r\n",
       "Q 4.984375 7.765625 4.984375 15.578125 \r\n",
       "Q 4.984375 23.640625 10.796875 28.078125 \r\n",
       "Q 16.609375 32.515625 27.203125 32.515625 \r\n",
       "L 39.796875 32.515625 \r\n",
       "L 39.796875 36.078125 \r\n",
       "Q 39.796875 42 36.203125 45.234375 \r\n",
       "Q 32.625 48.484375 26.125 48.484375 \r\n",
       "Q 20.75 48.484375 17.578125 46.046875 \r\n",
       "Q 14.40625 43.609375 13.625 38.8125 \r\n",
       "L 8.984375 38.8125 \r\n",
       "L 8.984375 49.3125 \r\n",
       "Q 13.671875 51.3125 18.09375 52.3125 \r\n",
       "Q 22.515625 53.328125 26.703125 53.328125 \r\n",
       "Q 37.5 53.328125 43.140625 47.96875 \r\n",
       "Q 48.78125 42.625 48.78125 32.421875 \r\n",
       "z\r\n",
       "\" id=\"DejaVuSerif-97\"/>\r\n",
       "        <path d=\"M 4.109375 0 \r\n",
       "L 4.109375 5.171875 \r\n",
       "L 12.203125 5.171875 \r\n",
       "L 12.203125 46.6875 \r\n",
       "L 3.609375 46.6875 \r\n",
       "L 3.609375 51.90625 \r\n",
       "L 21.1875 51.90625 \r\n",
       "L 21.1875 42.671875 \r\n",
       "Q 23.6875 47.953125 27.65625 50.640625 \r\n",
       "Q 31.640625 53.328125 36.921875 53.328125 \r\n",
       "Q 45.515625 53.328125 49.5625 48.390625 \r\n",
       "Q 53.609375 43.453125 53.609375 33.015625 \r\n",
       "L 53.609375 5.171875 \r\n",
       "L 61.625 5.171875 \r\n",
       "L 61.625 0 \r\n",
       "L 36.8125 0 \r\n",
       "L 36.8125 5.171875 \r\n",
       "L 44.578125 5.171875 \r\n",
       "L 44.578125 30.171875 \r\n",
       "Q 44.578125 39.703125 42.234375 43.234375 \r\n",
       "Q 39.890625 46.78125 33.984375 46.78125 \r\n",
       "Q 27.734375 46.78125 24.453125 42.203125 \r\n",
       "Q 21.1875 37.640625 21.1875 28.90625 \r\n",
       "L 21.1875 5.171875 \r\n",
       "L 29 5.171875 \r\n",
       "L 29 0 \r\n",
       "z\r\n",
       "\" id=\"DejaVuSerif-110\"/>\r\n",
       "       </defs>\r\n",
       "       <use xlink:href=\"#DejaVuSerif-74\"/>\r\n",
       "       <use x=\"40.087891\" xlink:href=\"#DejaVuSerif-97\"/>\r\n",
       "       <use x=\"99.707031\" xlink:href=\"#DejaVuSerif-110\"/>\r\n",
       "      </g>\r\n",
       "      <!-- 2019 -->\r\n",
       "      <g style=\"fill:#262626;\" transform=\"translate(16.217187 359.15625)scale(0.1 -0.1)\">\r\n",
       "       <defs>\r\n",
       "        <path d=\"M 12.796875 55.515625 \r\n",
       "L 7.328125 55.515625 \r\n",
       "L 7.328125 68.5 \r\n",
       "Q 12.546875 71.296875 17.84375 72.75 \r\n",
       "Q 23.140625 74.21875 28.21875 74.21875 \r\n",
       "Q 39.59375 74.21875 46.1875 68.703125 \r\n",
       "Q 52.78125 63.1875 52.78125 53.71875 \r\n",
       "Q 52.78125 43.015625 37.84375 28.125 \r\n",
       "Q 36.671875 27 36.078125 26.421875 \r\n",
       "L 17.671875 8.015625 \r\n",
       "L 48.09375 8.015625 \r\n",
       "L 48.09375 17 \r\n",
       "L 53.8125 17 \r\n",
       "L 53.8125 0 \r\n",
       "L 6.78125 0 \r\n",
       "L 6.78125 5.328125 \r\n",
       "L 28.90625 27.390625 \r\n",
       "Q 36.234375 34.71875 39.359375 40.84375 \r\n",
       "Q 42.484375 46.96875 42.484375 53.71875 \r\n",
       "Q 42.484375 61.078125 38.640625 65.234375 \r\n",
       "Q 34.8125 69.390625 28.078125 69.390625 \r\n",
       "Q 21.09375 69.390625 17.28125 65.921875 \r\n",
       "Q 13.484375 62.453125 12.796875 55.515625 \r\n",
       "z\r\n",
       "\" id=\"DejaVuSerif-50\"/>\r\n",
       "        <path d=\"M 31.78125 3.421875 \r\n",
       "Q 39.265625 3.421875 42.96875 11.625 \r\n",
       "Q 46.6875 19.828125 46.6875 36.375 \r\n",
       "Q 46.6875 52.984375 42.96875 61.1875 \r\n",
       "Q 39.265625 69.390625 31.78125 69.390625 \r\n",
       "Q 24.3125 69.390625 20.59375 61.1875 \r\n",
       "Q 16.890625 52.984375 16.890625 36.375 \r\n",
       "Q 16.890625 19.828125 20.59375 11.625 \r\n",
       "Q 24.3125 3.421875 31.78125 3.421875 \r\n",
       "z\r\n",
       "M 31.78125 -1.421875 \r\n",
       "Q 19.921875 -1.421875 13.25 8.53125 \r\n",
       "Q 6.59375 18.5 6.59375 36.375 \r\n",
       "Q 6.59375 54.296875 13.25 64.25 \r\n",
       "Q 19.921875 74.21875 31.78125 74.21875 \r\n",
       "Q 43.703125 74.21875 50.34375 64.25 \r\n",
       "Q 56.984375 54.296875 56.984375 36.375 \r\n",
       "Q 56.984375 18.5 50.34375 8.53125 \r\n",
       "Q 43.703125 -1.421875 31.78125 -1.421875 \r\n",
       "z\r\n",
       "\" id=\"DejaVuSerif-48\"/>\r\n",
       "        <path d=\"M 14.203125 0 \r\n",
       "L 14.203125 5.171875 \r\n",
       "L 26.90625 5.171875 \r\n",
       "L 26.90625 65.828125 \r\n",
       "L 12.203125 56.296875 \r\n",
       "L 12.203125 62.703125 \r\n",
       "L 29.984375 74.21875 \r\n",
       "L 36.71875 74.21875 \r\n",
       "L 36.71875 5.171875 \r\n",
       "L 49.421875 5.171875 \r\n",
       "L 49.421875 0 \r\n",
       "z\r\n",
       "\" id=\"DejaVuSerif-49\"/>\r\n",
       "        <path d=\"M 46.78125 32.671875 \r\n",
       "Q 43.5 29 39.25 27.1875 \r\n",
       "Q 35.015625 25.390625 29.6875 25.390625 \r\n",
       "Q 18.84375 25.390625 12.5625 31.9375 \r\n",
       "Q 6.296875 38.484375 6.296875 49.8125 \r\n",
       "Q 6.296875 60.890625 13.109375 67.546875 \r\n",
       "Q 19.921875 74.21875 31.296875 74.21875 \r\n",
       "Q 43.65625 74.21875 50.265625 65.015625 \r\n",
       "Q 56.890625 55.8125 56.890625 38.71875 \r\n",
       "Q 56.890625 19.578125 49.015625 9.078125 \r\n",
       "Q 41.15625 -1.421875 26.90625 -1.421875 \r\n",
       "Q 23.046875 -1.421875 18.796875 -0.6875 \r\n",
       "Q 14.546875 0.046875 10.109375 1.515625 \r\n",
       "L 10.109375 13.625 \r\n",
       "L 15.578125 13.625 \r\n",
       "Q 16.21875 8.6875 19.390625 6.046875 \r\n",
       "Q 22.5625 3.421875 27.875 3.421875 \r\n",
       "Q 37.359375 3.421875 41.984375 10.5625 \r\n",
       "Q 46.625 17.71875 46.78125 32.671875 \r\n",
       "z\r\n",
       "M 30.90625 69.390625 \r\n",
       "Q 23.96875 69.390625 20.28125 64.328125 \r\n",
       "Q 16.609375 59.28125 16.609375 49.8125 \r\n",
       "Q 16.609375 40.328125 20.28125 35.25 \r\n",
       "Q 23.96875 30.171875 30.90625 30.171875 \r\n",
       "Q 37.84375 30.171875 41.53125 35.078125 \r\n",
       "Q 45.21875 39.984375 45.21875 49.21875 \r\n",
       "Q 45.21875 58.9375 41.5 64.15625 \r\n",
       "Q 37.796875 69.390625 30.90625 69.390625 \r\n",
       "z\r\n",
       "\" id=\"DejaVuSerif-57\"/>\r\n",
       "       </defs>\r\n",
       "       <use xlink:href=\"#DejaVuSerif-50\"/>\r\n",
       "       <use x=\"63.623047\" xlink:href=\"#DejaVuSerif-48\"/>\r\n",
       "       <use x=\"127.246094\" xlink:href=\"#DejaVuSerif-49\"/>\r\n",
       "       <use x=\"190.869141\" xlink:href=\"#DejaVuSerif-57\"/>\r\n",
       "      </g>\r\n",
       "     </g>\r\n",
       "    </g>\r\n",
       "    <g id=\"xtick_2\">\r\n",
       "     <g id=\"line2d_3\"/>\r\n",
       "     <g id=\"text_2\">\r\n",
       "      <!-- Feb -->\r\n",
       "      <g style=\"fill:#262626;\" transform=\"translate(89.3375 344.358438)scale(0.1 -0.1)\">\r\n",
       "       <defs>\r\n",
       "        <path d=\"M 5.515625 0 \r\n",
       "L 5.515625 5.171875 \r\n",
       "L 14.796875 5.171875 \r\n",
       "L 14.796875 67.671875 \r\n",
       "L 5.515625 67.671875 \r\n",
       "L 5.515625 72.90625 \r\n",
       "L 65.1875 72.90625 \r\n",
       "L 65.1875 56.6875 \r\n",
       "L 59.1875 56.6875 \r\n",
       "L 59.1875 66.890625 \r\n",
       "L 24.703125 66.890625 \r\n",
       "L 24.703125 42.484375 \r\n",
       "L 49.609375 42.484375 \r\n",
       "L 49.609375 51.609375 \r\n",
       "L 55.609375 51.609375 \r\n",
       "L 55.609375 27.390625 \r\n",
       "L 49.609375 27.390625 \r\n",
       "L 49.609375 36.53125 \r\n",
       "L 24.703125 36.53125 \r\n",
       "L 24.703125 5.171875 \r\n",
       "L 36.375 5.171875 \r\n",
       "L 36.375 0 \r\n",
       "z\r\n",
       "\" id=\"DejaVuSerif-70\"/>\r\n",
       "        <path d=\"M 54.203125 25 \r\n",
       "L 15.484375 25 \r\n",
       "L 15.484375 24.609375 \r\n",
       "Q 15.484375 14.109375 19.4375 8.765625 \r\n",
       "Q 23.390625 3.421875 31.109375 3.421875 \r\n",
       "Q 37.015625 3.421875 40.796875 6.515625 \r\n",
       "Q 44.578125 9.625 46.09375 15.71875 \r\n",
       "L 53.328125 15.71875 \r\n",
       "Q 51.171875 7.171875 45.375 2.875 \r\n",
       "Q 39.59375 -1.421875 30.171875 -1.421875 \r\n",
       "Q 18.796875 -1.421875 11.890625 6.078125 \r\n",
       "Q 4.984375 13.578125 4.984375 25.984375 \r\n",
       "Q 4.984375 38.28125 11.765625 45.796875 \r\n",
       "Q 18.5625 53.328125 29.59375 53.328125 \r\n",
       "Q 41.359375 53.328125 47.65625 46.0625 \r\n",
       "Q 53.953125 38.8125 54.203125 25 \r\n",
       "z\r\n",
       "M 43.609375 30.171875 \r\n",
       "Q 43.3125 39.265625 39.765625 43.875 \r\n",
       "Q 36.234375 48.484375 29.59375 48.484375 \r\n",
       "Q 23.390625 48.484375 19.828125 43.84375 \r\n",
       "Q 16.265625 39.203125 15.484375 30.171875 \r\n",
       "z\r\n",
       "\" id=\"DejaVuSerif-101\"/>\r\n",
       "        <path d=\"M 11.53125 5.171875 \r\n",
       "L 11.53125 70.796875 \r\n",
       "L 2.875 70.796875 \r\n",
       "L 2.875 75.984375 \r\n",
       "L 20.515625 75.984375 \r\n",
       "L 20.515625 43.796875 \r\n",
       "Q 23.140625 48.6875 27.21875 51 \r\n",
       "Q 31.296875 53.328125 37.3125 53.328125 \r\n",
       "Q 46.875 53.328125 52.921875 45.75 \r\n",
       "Q 58.984375 38.1875 58.984375 25.984375 \r\n",
       "Q 58.984375 13.765625 52.921875 6.171875 \r\n",
       "Q 46.875 -1.421875 37.3125 -1.421875 \r\n",
       "Q 31.296875 -1.421875 27.21875 0.890625 \r\n",
       "Q 23.140625 3.21875 20.515625 8.109375 \r\n",
       "L 20.515625 0 \r\n",
       "L 2.875 0 \r\n",
       "L 2.875 5.171875 \r\n",
       "z\r\n",
       "M 20.515625 23.390625 \r\n",
       "Q 20.515625 14.015625 24.09375 9.109375 \r\n",
       "Q 27.6875 4.203125 34.515625 4.203125 \r\n",
       "Q 41.40625 4.203125 44.9375 9.71875 \r\n",
       "Q 48.484375 15.234375 48.484375 25.984375 \r\n",
       "Q 48.484375 36.765625 44.9375 42.234375 \r\n",
       "Q 41.40625 47.703125 34.515625 47.703125 \r\n",
       "Q 27.6875 47.703125 24.09375 42.765625 \r\n",
       "Q 20.515625 37.84375 20.515625 28.515625 \r\n",
       "z\r\n",
       "\" id=\"DejaVuSerif-98\"/>\r\n",
       "       </defs>\r\n",
       "       <use xlink:href=\"#DejaVuSerif-70\"/>\r\n",
       "       <use x=\"63.884766\" xlink:href=\"#DejaVuSerif-101\"/>\r\n",
       "       <use x=\"123.064453\" xlink:href=\"#DejaVuSerif-98\"/>\r\n",
       "      </g>\r\n",
       "     </g>\r\n",
       "    </g>\r\n",
       "    <g id=\"xtick_3\">\r\n",
       "     <g id=\"line2d_4\"/>\r\n",
       "     <g id=\"text_3\">\r\n",
       "      <!-- Mar -->\r\n",
       "      <g style=\"fill:#262626;\" transform=\"translate(157.951562 344.358438)scale(0.1 -0.1)\">\r\n",
       "       <defs>\r\n",
       "        <path d=\"M 5.515625 0 \r\n",
       "L 5.515625 5.171875 \r\n",
       "L 14.796875 5.171875 \r\n",
       "L 14.796875 67.671875 \r\n",
       "L 4.984375 67.671875 \r\n",
       "L 4.984375 72.90625 \r\n",
       "L 26.21875 72.90625 \r\n",
       "L 51.8125 21 \r\n",
       "L 77.390625 72.90625 \r\n",
       "L 97.3125 72.90625 \r\n",
       "L 97.3125 67.671875 \r\n",
       "L 87.59375 67.671875 \r\n",
       "L 87.59375 5.171875 \r\n",
       "L 96.921875 5.171875 \r\n",
       "L 96.921875 0 \r\n",
       "L 68.40625 0 \r\n",
       "L 68.40625 5.171875 \r\n",
       "L 77.6875 5.171875 \r\n",
       "L 77.6875 61.53125 \r\n",
       "L 52.6875 10.6875 \r\n",
       "L 45.796875 10.6875 \r\n",
       "L 20.796875 61.53125 \r\n",
       "L 20.796875 5.171875 \r\n",
       "L 30.078125 5.171875 \r\n",
       "L 30.078125 0 \r\n",
       "z\r\n",
       "\" id=\"DejaVuSerif-77\"/>\r\n",
       "        <path d=\"M 47.796875 52 \r\n",
       "L 47.796875 39.015625 \r\n",
       "L 42.625 39.015625 \r\n",
       "Q 42.390625 42.875 40.484375 44.78125 \r\n",
       "Q 38.578125 46.6875 34.90625 46.6875 \r\n",
       "Q 28.265625 46.6875 24.71875 42.09375 \r\n",
       "Q 21.1875 37.5 21.1875 28.90625 \r\n",
       "L 21.1875 5.171875 \r\n",
       "L 31.59375 5.171875 \r\n",
       "L 31.59375 0 \r\n",
       "L 4.109375 0 \r\n",
       "L 4.109375 5.171875 \r\n",
       "L 12.203125 5.171875 \r\n",
       "L 12.203125 46.78125 \r\n",
       "L 3.609375 46.78125 \r\n",
       "L 3.609375 51.90625 \r\n",
       "L 21.1875 51.90625 \r\n",
       "L 21.1875 42.671875 \r\n",
       "Q 23.828125 48.09375 27.96875 50.703125 \r\n",
       "Q 32.125 53.328125 38.09375 53.328125 \r\n",
       "Q 40.28125 53.328125 42.703125 52.984375 \r\n",
       "Q 45.125 52.640625 47.796875 52 \r\n",
       "z\r\n",
       "\" id=\"DejaVuSerif-114\"/>\r\n",
       "       </defs>\r\n",
       "       <use xlink:href=\"#DejaVuSerif-77\"/>\r\n",
       "       <use x=\"102.392578\" xlink:href=\"#DejaVuSerif-97\"/>\r\n",
       "       <use x=\"162.011719\" xlink:href=\"#DejaVuSerif-114\"/>\r\n",
       "      </g>\r\n",
       "     </g>\r\n",
       "    </g>\r\n",
       "    <g id=\"xtick_4\">\r\n",
       "     <g id=\"line2d_5\"/>\r\n",
       "     <g id=\"text_4\">\r\n",
       "      <!-- Apr -->\r\n",
       "      <g style=\"fill:#262626;\" transform=\"translate(228.990625 344.358438)scale(0.1 -0.1)\">\r\n",
       "       <defs>\r\n",
       "        <path d=\"M 20.015625 26.421875 \r\n",
       "L 46.78125 26.421875 \r\n",
       "L 33.40625 61.078125 \r\n",
       "z\r\n",
       "M -0.59375 0 \r\n",
       "L -0.59375 5.171875 \r\n",
       "L 5.8125 5.171875 \r\n",
       "L 31.78125 72.90625 \r\n",
       "L 39.984375 72.90625 \r\n",
       "L 66.015625 5.171875 \r\n",
       "L 73.1875 5.171875 \r\n",
       "L 73.1875 0 \r\n",
       "L 46.6875 0 \r\n",
       "L 46.6875 5.171875 \r\n",
       "L 54.78125 5.171875 \r\n",
       "L 48.6875 21.1875 \r\n",
       "L 18.015625 21.1875 \r\n",
       "L 11.921875 5.171875 \r\n",
       "L 19.921875 5.171875 \r\n",
       "L 19.921875 0 \r\n",
       "z\r\n",
       "\" id=\"DejaVuSerif-65\"/>\r\n",
       "        <path d=\"M 20.515625 28.515625 \r\n",
       "L 20.515625 23.390625 \r\n",
       "Q 20.515625 14.015625 24.09375 9.109375 \r\n",
       "Q 27.6875 4.203125 34.515625 4.203125 \r\n",
       "Q 41.40625 4.203125 44.9375 9.71875 \r\n",
       "Q 48.484375 15.234375 48.484375 25.984375 \r\n",
       "Q 48.484375 36.765625 44.9375 42.234375 \r\n",
       "Q 41.40625 47.703125 34.515625 47.703125 \r\n",
       "Q 27.6875 47.703125 24.09375 42.765625 \r\n",
       "Q 20.515625 37.84375 20.515625 28.515625 \r\n",
       "z\r\n",
       "M 11.53125 46.6875 \r\n",
       "L 2.875 46.6875 \r\n",
       "L 2.875 51.90625 \r\n",
       "L 20.515625 51.90625 \r\n",
       "L 20.515625 43.796875 \r\n",
       "Q 23.140625 48.6875 27.21875 51 \r\n",
       "Q 31.296875 53.328125 37.3125 53.328125 \r\n",
       "Q 46.875 53.328125 52.921875 45.75 \r\n",
       "Q 58.984375 38.1875 58.984375 25.984375 \r\n",
       "Q 58.984375 13.765625 52.921875 6.171875 \r\n",
       "Q 46.875 -1.421875 37.3125 -1.421875 \r\n",
       "Q 31.296875 -1.421875 27.21875 0.890625 \r\n",
       "Q 23.140625 3.21875 20.515625 8.109375 \r\n",
       "L 20.515625 -15.578125 \r\n",
       "L 29 -15.578125 \r\n",
       "L 29 -20.796875 \r\n",
       "L 2.875 -20.796875 \r\n",
       "L 2.875 -15.578125 \r\n",
       "L 11.53125 -15.578125 \r\n",
       "z\r\n",
       "\" id=\"DejaVuSerif-112\"/>\r\n",
       "       </defs>\r\n",
       "       <use xlink:href=\"#DejaVuSerif-65\"/>\r\n",
       "       <use x=\"72.216797\" xlink:href=\"#DejaVuSerif-112\"/>\r\n",
       "       <use x=\"136.230469\" xlink:href=\"#DejaVuSerif-114\"/>\r\n",
       "      </g>\r\n",
       "     </g>\r\n",
       "    </g>\r\n",
       "    <g id=\"xtick_5\">\r\n",
       "     <g id=\"line2d_6\"/>\r\n",
       "     <g id=\"text_5\">\r\n",
       "      <!-- May -->\r\n",
       "      <g style=\"fill:#262626;\" transform=\"translate(297.016406 344.21625)scale(0.1 -0.1)\">\r\n",
       "       <defs>\r\n",
       "        <path d=\"M 21.578125 -9.515625 \r\n",
       "L 25 -0.875 \r\n",
       "L 5.609375 46.6875 \r\n",
       "L -0.296875 46.6875 \r\n",
       "L -0.296875 51.90625 \r\n",
       "L 23.578125 51.90625 \r\n",
       "L 23.578125 46.6875 \r\n",
       "L 15.28125 46.6875 \r\n",
       "L 29.890625 10.984375 \r\n",
       "L 44.484375 46.6875 \r\n",
       "L 36.71875 46.6875 \r\n",
       "L 36.71875 51.90625 \r\n",
       "L 56.203125 51.90625 \r\n",
       "L 56.203125 46.6875 \r\n",
       "L 50.390625 46.6875 \r\n",
       "L 26.609375 -11.71875 \r\n",
       "Q 24.171875 -17.78125 21.1875 -20 \r\n",
       "Q 18.21875 -22.21875 12.796875 -22.21875 \r\n",
       "Q 10.5 -22.21875 8.078125 -21.828125 \r\n",
       "Q 5.671875 -21.4375 3.21875 -20.703125 \r\n",
       "L 3.21875 -10.796875 \r\n",
       "L 7.8125 -10.796875 \r\n",
       "Q 8.109375 -14.109375 9.5 -15.546875 \r\n",
       "Q 10.890625 -17 13.8125 -17 \r\n",
       "Q 16.5 -17 18.140625 -15.5 \r\n",
       "Q 19.78125 -14.015625 21.578125 -9.515625 \r\n",
       "z\r\n",
       "\" id=\"DejaVuSerif-121\"/>\r\n",
       "       </defs>\r\n",
       "       <use xlink:href=\"#DejaVuSerif-77\"/>\r\n",
       "       <use x=\"102.392578\" xlink:href=\"#DejaVuSerif-97\"/>\r\n",
       "       <use x=\"162.011719\" xlink:href=\"#DejaVuSerif-121\"/>\r\n",
       "      </g>\r\n",
       "     </g>\r\n",
       "    </g>\r\n",
       "    <g id=\"xtick_6\">\r\n",
       "     <g id=\"line2d_7\"/>\r\n",
       "     <g id=\"text_6\">\r\n",
       "      <!-- Jun -->\r\n",
       "      <g style=\"fill:#262626;\" transform=\"translate(369.246875 344.358438)scale(0.1 -0.1)\">\r\n",
       "       <defs>\r\n",
       "        <path d=\"M 35.40625 51.90625 \r\n",
       "L 52.203125 51.90625 \r\n",
       "L 52.203125 5.171875 \r\n",
       "L 60.6875 5.171875 \r\n",
       "L 60.6875 0 \r\n",
       "L 43.21875 0 \r\n",
       "L 43.21875 9.1875 \r\n",
       "Q 40.71875 4 36.765625 1.28125 \r\n",
       "Q 32.8125 -1.421875 27.59375 -1.421875 \r\n",
       "Q 18.953125 -1.421875 14.875 3.484375 \r\n",
       "Q 10.796875 8.40625 10.796875 18.890625 \r\n",
       "L 10.796875 46.6875 \r\n",
       "L 2.6875 46.6875 \r\n",
       "L 2.6875 51.90625 \r\n",
       "L 19.828125 51.90625 \r\n",
       "L 19.828125 21.6875 \r\n",
       "Q 19.828125 12.203125 22.140625 8.6875 \r\n",
       "Q 24.46875 5.171875 30.421875 5.171875 \r\n",
       "Q 36.671875 5.171875 39.9375 9.765625 \r\n",
       "Q 43.21875 14.359375 43.21875 23.09375 \r\n",
       "L 43.21875 46.6875 \r\n",
       "L 35.40625 46.6875 \r\n",
       "z\r\n",
       "\" id=\"DejaVuSerif-117\"/>\r\n",
       "       </defs>\r\n",
       "       <use xlink:href=\"#DejaVuSerif-74\"/>\r\n",
       "       <use x=\"40.087891\" xlink:href=\"#DejaVuSerif-117\"/>\r\n",
       "       <use x=\"104.492188\" xlink:href=\"#DejaVuSerif-110\"/>\r\n",
       "      </g>\r\n",
       "     </g>\r\n",
       "    </g>\r\n",
       "    <g id=\"xtick_7\">\r\n",
       "     <g id=\"line2d_8\"/>\r\n",
       "     <g id=\"text_7\">\r\n",
       "      <!-- Jul -->\r\n",
       "      <g style=\"fill:#262626;\" transform=\"translate(440.617969 344.358438)scale(0.1 -0.1)\">\r\n",
       "       <defs>\r\n",
       "        <path d=\"M 20.515625 5.171875 \r\n",
       "L 29 5.171875 \r\n",
       "L 29 0 \r\n",
       "L 2.875 0 \r\n",
       "L 2.875 5.171875 \r\n",
       "L 11.53125 5.171875 \r\n",
       "L 11.53125 70.796875 \r\n",
       "L 2.875 70.796875 \r\n",
       "L 2.875 75.984375 \r\n",
       "L 20.515625 75.984375 \r\n",
       "z\r\n",
       "\" id=\"DejaVuSerif-108\"/>\r\n",
       "       </defs>\r\n",
       "       <use xlink:href=\"#DejaVuSerif-74\"/>\r\n",
       "       <use x=\"40.087891\" xlink:href=\"#DejaVuSerif-117\"/>\r\n",
       "       <use x=\"104.492188\" xlink:href=\"#DejaVuSerif-108\"/>\r\n",
       "      </g>\r\n",
       "     </g>\r\n",
       "    </g>\r\n",
       "    <g id=\"xtick_8\">\r\n",
       "     <g id=\"line2d_9\"/>\r\n",
       "     <g id=\"text_8\">\r\n",
       "      <!-- Aug -->\r\n",
       "      <g style=\"fill:#262626;\" transform=\"translate(507.160156 344.21625)scale(0.1 -0.1)\">\r\n",
       "       <defs>\r\n",
       "        <path d=\"M 52.484375 46.6875 \r\n",
       "L 52.484375 1.125 \r\n",
       "Q 52.484375 -10.0625 46.328125 -16.140625 \r\n",
       "Q 40.1875 -22.21875 28.8125 -22.21875 \r\n",
       "Q 23.6875 -22.21875 19 -21.28125 \r\n",
       "Q 14.3125 -20.359375 10.015625 -18.5 \r\n",
       "L 10.015625 -7.625 \r\n",
       "L 14.703125 -7.625 \r\n",
       "Q 15.578125 -12.703125 18.84375 -15.046875 \r\n",
       "Q 22.125 -17.390625 28.21875 -17.390625 \r\n",
       "Q 36.140625 -17.390625 39.8125 -12.921875 \r\n",
       "Q 43.5 -8.453125 43.5 1.125 \r\n",
       "L 43.5 8.109375 \r\n",
       "Q 40.875 3.21875 36.796875 0.890625 \r\n",
       "Q 32.71875 -1.421875 26.703125 -1.421875 \r\n",
       "Q 17.140625 -1.421875 11.0625 6.171875 \r\n",
       "Q 4.984375 13.765625 4.984375 25.984375 \r\n",
       "Q 4.984375 38.1875 11.03125 45.75 \r\n",
       "Q 17.09375 53.328125 26.703125 53.328125 \r\n",
       "Q 32.71875 53.328125 36.796875 51 \r\n",
       "Q 40.875 48.6875 43.5 43.796875 \r\n",
       "L 43.5 51.90625 \r\n",
       "L 61.078125 51.90625 \r\n",
       "L 61.078125 46.6875 \r\n",
       "z\r\n",
       "M 43.5 28.515625 \r\n",
       "Q 43.5 37.84375 39.90625 42.765625 \r\n",
       "Q 36.328125 47.703125 29.5 47.703125 \r\n",
       "Q 22.5625 47.703125 19.015625 42.234375 \r\n",
       "Q 15.484375 36.765625 15.484375 25.984375 \r\n",
       "Q 15.484375 15.234375 19.015625 9.71875 \r\n",
       "Q 22.5625 4.203125 29.5 4.203125 \r\n",
       "Q 36.328125 4.203125 39.90625 9.109375 \r\n",
       "Q 43.5 14.015625 43.5 23.390625 \r\n",
       "z\r\n",
       "\" id=\"DejaVuSerif-103\"/>\r\n",
       "       </defs>\r\n",
       "       <use xlink:href=\"#DejaVuSerif-65\"/>\r\n",
       "       <use x=\"72.216797\" xlink:href=\"#DejaVuSerif-117\"/>\r\n",
       "       <use x=\"136.621094\" xlink:href=\"#DejaVuSerif-103\"/>\r\n",
       "      </g>\r\n",
       "     </g>\r\n",
       "    </g>\r\n",
       "    <g id=\"xtick_9\">\r\n",
       "     <g id=\"line2d_10\"/>\r\n",
       "     <g id=\"text_9\">\r\n",
       "      <!-- Sep -->\r\n",
       "      <g style=\"fill:#262626;\" transform=\"translate(577.357031 344.358438)scale(0.1 -0.1)\">\r\n",
       "       <defs>\r\n",
       "        <path d=\"M 9.28125 3.515625 \r\n",
       "L 9.28125 20.125 \r\n",
       "L 14.890625 20.0625 \r\n",
       "Q 15.140625 11.765625 19.703125 7.78125 \r\n",
       "Q 24.265625 3.8125 33.59375 3.8125 \r\n",
       "Q 42.28125 3.8125 46.84375 7.25 \r\n",
       "Q 51.421875 10.6875 51.421875 17.28125 \r\n",
       "Q 51.421875 22.5625 48.65625 25.390625 \r\n",
       "Q 45.90625 28.21875 37.015625 30.90625 \r\n",
       "L 27.390625 33.796875 \r\n",
       "Q 16.9375 36.96875 12.671875 41.703125 \r\n",
       "Q 8.40625 46.4375 8.40625 54.6875 \r\n",
       "Q 8.40625 63.96875 14.984375 69.09375 \r\n",
       "Q 21.578125 74.21875 33.5 74.21875 \r\n",
       "Q 38.578125 74.21875 44.625 73.109375 \r\n",
       "Q 50.6875 72.015625 57.515625 69.921875 \r\n",
       "L 57.515625 54.390625 \r\n",
       "L 52 54.390625 \r\n",
       "Q 51.171875 62.109375 46.84375 65.546875 \r\n",
       "Q 42.53125 69 33.6875 69 \r\n",
       "Q 25.984375 69 21.953125 65.84375 \r\n",
       "Q 17.921875 62.703125 17.921875 56.6875 \r\n",
       "Q 17.921875 51.46875 20.9375 48.484375 \r\n",
       "Q 23.96875 45.515625 33.796875 42.578125 \r\n",
       "L 42.828125 39.890625 \r\n",
       "Q 52.734375 36.921875 56.953125 32.296875 \r\n",
       "Q 61.1875 27.6875 61.1875 19.921875 \r\n",
       "Q 61.1875 9.328125 54.390625 3.953125 \r\n",
       "Q 47.609375 -1.421875 34.1875 -1.421875 \r\n",
       "Q 28.171875 -1.421875 21.9375 -0.1875 \r\n",
       "Q 15.71875 1.03125 9.28125 3.515625 \r\n",
       "z\r\n",
       "\" id=\"DejaVuSerif-83\"/>\r\n",
       "       </defs>\r\n",
       "       <use xlink:href=\"#DejaVuSerif-83\"/>\r\n",
       "       <use x=\"68.505859\" xlink:href=\"#DejaVuSerif-101\"/>\r\n",
       "       <use x=\"127.685547\" xlink:href=\"#DejaVuSerif-112\"/>\r\n",
       "      </g>\r\n",
       "     </g>\r\n",
       "    </g>\r\n",
       "   </g>\r\n",
       "   <g id=\"matplotlib.axis_2\">\r\n",
       "    <g id=\"ytick_1\">\r\n",
       "     <g id=\"line2d_11\">\r\n",
       "      <path clip-path=\"url(#p6eba0a05fc)\" d=\"M 28.942188 273.447553 \r\n",
       "L 586.942188 273.447553 \r\n",
       "\" style=\"fill:none;stroke:#ffffff;stroke-linecap:round;\"/>\r\n",
       "     </g>\r\n",
       "     <g id=\"line2d_12\"/>\r\n",
       "     <g id=\"text_10\">\r\n",
       "      <!-- −2 -->\r\n",
       "      <g style=\"fill:#262626;\" transform=\"translate(7.2 277.246771)scale(0.1 -0.1)\">\r\n",
       "       <defs>\r\n",
       "        <path d=\"M 10.59375 35.296875 \r\n",
       "L 73.1875 35.296875 \r\n",
       "L 73.1875 27.390625 \r\n",
       "L 10.59375 27.390625 \r\n",
       "z\r\n",
       "\" id=\"DejaVuSerif-8722\"/>\r\n",
       "       </defs>\r\n",
       "       <use xlink:href=\"#DejaVuSerif-8722\"/>\r\n",
       "       <use x=\"83.789062\" xlink:href=\"#DejaVuSerif-50\"/>\r\n",
       "      </g>\r\n",
       "     </g>\r\n",
       "    </g>\r\n",
       "    <g id=\"ytick_2\">\r\n",
       "     <g id=\"line2d_13\">\r\n",
       "      <path clip-path=\"url(#p6eba0a05fc)\" d=\"M 28.942188 212.931706 \r\n",
       "L 586.942188 212.931706 \r\n",
       "\" style=\"fill:none;stroke:#ffffff;stroke-linecap:round;\"/>\r\n",
       "     </g>\r\n",
       "     <g id=\"line2d_14\"/>\r\n",
       "     <g id=\"text_11\">\r\n",
       "      <!-- 0 -->\r\n",
       "      <g style=\"fill:#262626;\" transform=\"translate(15.579688 216.730924)scale(0.1 -0.1)\">\r\n",
       "       <use xlink:href=\"#DejaVuSerif-48\"/>\r\n",
       "      </g>\r\n",
       "     </g>\r\n",
       "    </g>\r\n",
       "    <g id=\"ytick_3\">\r\n",
       "     <g id=\"line2d_15\">\r\n",
       "      <path clip-path=\"url(#p6eba0a05fc)\" d=\"M 28.942188 152.415859 \r\n",
       "L 586.942188 152.415859 \r\n",
       "\" style=\"fill:none;stroke:#ffffff;stroke-linecap:round;\"/>\r\n",
       "     </g>\r\n",
       "     <g id=\"line2d_16\"/>\r\n",
       "     <g id=\"text_12\">\r\n",
       "      <!-- 2 -->\r\n",
       "      <g style=\"fill:#262626;\" transform=\"translate(15.579688 156.215078)scale(0.1 -0.1)\">\r\n",
       "       <use xlink:href=\"#DejaVuSerif-50\"/>\r\n",
       "      </g>\r\n",
       "     </g>\r\n",
       "    </g>\r\n",
       "    <g id=\"ytick_4\">\r\n",
       "     <g id=\"line2d_17\">\r\n",
       "      <path clip-path=\"url(#p6eba0a05fc)\" d=\"M 28.942188 91.900012 \r\n",
       "L 586.942188 91.900012 \r\n",
       "\" style=\"fill:none;stroke:#ffffff;stroke-linecap:round;\"/>\r\n",
       "     </g>\r\n",
       "     <g id=\"line2d_18\"/>\r\n",
       "     <g id=\"text_13\">\r\n",
       "      <!-- 4 -->\r\n",
       "      <g style=\"fill:#262626;\" transform=\"translate(15.579688 95.699231)scale(0.1 -0.1)\">\r\n",
       "       <defs>\r\n",
       "        <path d=\"M 34.90625 24.703125 \r\n",
       "L 34.90625 63.484375 \r\n",
       "L 10.015625 24.703125 \r\n",
       "z\r\n",
       "M 56.390625 0 \r\n",
       "L 23.1875 0 \r\n",
       "L 23.1875 5.171875 \r\n",
       "L 34.90625 5.171875 \r\n",
       "L 34.90625 19.484375 \r\n",
       "L 3.078125 19.484375 \r\n",
       "L 3.078125 24.8125 \r\n",
       "L 35.015625 74.21875 \r\n",
       "L 44.671875 74.21875 \r\n",
       "L 44.671875 24.703125 \r\n",
       "L 58.59375 24.703125 \r\n",
       "L 58.59375 19.484375 \r\n",
       "L 44.671875 19.484375 \r\n",
       "L 44.671875 5.171875 \r\n",
       "L 56.390625 5.171875 \r\n",
       "z\r\n",
       "\" id=\"DejaVuSerif-52\"/>\r\n",
       "       </defs>\r\n",
       "       <use xlink:href=\"#DejaVuSerif-52\"/>\r\n",
       "      </g>\r\n",
       "     </g>\r\n",
       "    </g>\r\n",
       "    <g id=\"ytick_5\">\r\n",
       "     <g id=\"line2d_19\">\r\n",
       "      <path clip-path=\"url(#p6eba0a05fc)\" d=\"M 28.942188 31.384165 \r\n",
       "L 586.942188 31.384165 \r\n",
       "\" style=\"fill:none;stroke:#ffffff;stroke-linecap:round;\"/>\r\n",
       "     </g>\r\n",
       "     <g id=\"line2d_20\"/>\r\n",
       "     <g id=\"text_14\">\r\n",
       "      <!-- 6 -->\r\n",
       "      <g style=\"fill:#262626;\" transform=\"translate(15.579688 35.183384)scale(0.1 -0.1)\">\r\n",
       "       <defs>\r\n",
       "        <path d=\"M 32.71875 3.421875 \r\n",
       "Q 39.59375 3.421875 43.296875 8.46875 \r\n",
       "Q 47.015625 13.53125 47.015625 23 \r\n",
       "Q 47.015625 32.46875 43.296875 37.515625 \r\n",
       "Q 39.59375 42.578125 32.71875 42.578125 \r\n",
       "Q 25.734375 42.578125 22.0625 37.6875 \r\n",
       "Q 18.40625 32.8125 18.40625 23.578125 \r\n",
       "Q 18.40625 13.875 22.109375 8.640625 \r\n",
       "Q 25.828125 3.421875 32.71875 3.421875 \r\n",
       "z\r\n",
       "M 16.796875 40.140625 \r\n",
       "Q 20.125 43.796875 24.3125 45.59375 \r\n",
       "Q 28.515625 47.40625 33.796875 47.40625 \r\n",
       "Q 44.671875 47.40625 51 40.859375 \r\n",
       "Q 57.328125 34.328125 57.328125 23 \r\n",
       "Q 57.328125 11.921875 50.515625 5.25 \r\n",
       "Q 43.703125 -1.421875 32.328125 -1.421875 \r\n",
       "Q 19.96875 -1.421875 13.328125 7.78125 \r\n",
       "Q 6.6875 17 6.6875 34.078125 \r\n",
       "Q 6.6875 53.21875 14.546875 63.71875 \r\n",
       "Q 22.40625 74.21875 36.71875 74.21875 \r\n",
       "Q 40.578125 74.21875 44.828125 73.484375 \r\n",
       "Q 49.078125 72.75 53.515625 71.296875 \r\n",
       "L 53.515625 59.28125 \r\n",
       "L 48 59.28125 \r\n",
       "Q 47.40625 64.203125 44.234375 66.796875 \r\n",
       "Q 41.0625 69.390625 35.6875 69.390625 \r\n",
       "Q 26.21875 69.390625 21.578125 62.203125 \r\n",
       "Q 16.9375 55.03125 16.796875 40.140625 \r\n",
       "z\r\n",
       "\" id=\"DejaVuSerif-54\"/>\r\n",
       "       </defs>\r\n",
       "       <use xlink:href=\"#DejaVuSerif-54\"/>\r\n",
       "      </g>\r\n",
       "     </g>\r\n",
       "    </g>\r\n",
       "   </g>\r\n",
       "   <g id=\"line2d_21\">\r\n",
       "    <path clip-path=\"url(#p6eba0a05fc)\" d=\"M 28.942187 265.875975 \r\n",
       "L 98.692187 236.183246 \r\n",
       "L 168.442187 241.916996 \r\n",
       "L 238.192187 259.575371 \r\n",
       "L 307.942187 275.650812 \r\n",
       "L 377.692187 226.663789 \r\n",
       "L 447.442187 221.080636 \r\n",
       "L 517.192187 230.951922 \r\n",
       "L 586.942187 253.837573 \r\n",
       "\" style=\"fill:none;stroke:#4c72b0;stroke-linecap:round;stroke-width:2;\"/>\r\n",
       "   </g>\r\n",
       "   <g id=\"line2d_22\">\r\n",
       "    <path clip-path=\"url(#p6eba0a05fc)\" d=\"M 28.942187 202.562908 \r\n",
       "L 98.692187 187.003714 \r\n",
       "L 168.442187 179.2879 \r\n",
       "L 238.192187 154.571804 \r\n",
       "L 307.942187 123.414231 \r\n",
       "L 377.692187 76.76846 \r\n",
       "L 447.442187 48.414298 \r\n",
       "L 517.192187 46.729657 \r\n",
       "L 586.942187 22.025455 \r\n",
       "\" style=\"fill:none;stroke:#55a868;stroke-linecap:round;stroke-width:2;\"/>\r\n",
       "   </g>\r\n",
       "   <g id=\"line2d_23\">\r\n",
       "    <path clip-path=\"url(#p6eba0a05fc)\" d=\"M 28.942187 178.043237 \r\n",
       "L 98.692187 171.350799 \r\n",
       "L 168.442187 185.209745 \r\n",
       "L 238.192187 164.85461 \r\n",
       "L 307.942187 178.111684 \r\n",
       "L 377.692187 185.733024 \r\n",
       "L 447.442187 163.614471 \r\n",
       "L 517.192187 156.885121 \r\n",
       "L 586.942187 134.178221 \r\n",
       "\" style=\"fill:none;stroke:#c44e52;stroke-linecap:round;stroke-width:2;\"/>\r\n",
       "   </g>\r\n",
       "   <g id=\"line2d_24\">\r\n",
       "    <path clip-path=\"url(#p6eba0a05fc)\" d=\"M 28.942187 220.569896 \r\n",
       "L 98.692187 252.947185 \r\n",
       "L 168.442187 239.780042 \r\n",
       "L 238.192187 242.939306 \r\n",
       "L 307.942187 276.777294 \r\n",
       "L 377.692187 302.26765 \r\n",
       "L 447.442187 261.069789 \r\n",
       "L 517.192187 304.738538 \r\n",
       "L 586.942187 318.534545 \r\n",
       "\" style=\"fill:none;stroke:#8172b2;stroke-linecap:round;stroke-width:2;\"/>\r\n",
       "   </g>\r\n",
       "   <g id=\"patch_3\">\r\n",
       "    <path d=\"M 28.942188 333.36 \r\n",
       "L 28.942188 7.2 \r\n",
       "\" style=\"fill:none;\"/>\r\n",
       "   </g>\r\n",
       "   <g id=\"patch_4\">\r\n",
       "    <path d=\"M 586.942188 333.36 \r\n",
       "L 586.942188 7.2 \r\n",
       "\" style=\"fill:none;\"/>\r\n",
       "   </g>\r\n",
       "   <g id=\"patch_5\">\r\n",
       "    <path d=\"M 28.942187 333.36 \r\n",
       "L 586.942187 333.36 \r\n",
       "\" style=\"fill:none;\"/>\r\n",
       "   </g>\r\n",
       "   <g id=\"patch_6\">\r\n",
       "    <path d=\"M 28.942187 7.2 \r\n",
       "L 586.942187 7.2 \r\n",
       "\" style=\"fill:none;\"/>\r\n",
       "   </g>\r\n",
       "   <g id=\"legend_1\">\r\n",
       "    <g id=\"line2d_25\">\r\n",
       "     <path d=\"M 37.942188 20.298438 \r\n",
       "L 57.942188 20.298438 \r\n",
       "\" style=\"fill:none;stroke:#4c72b0;stroke-linecap:round;stroke-width:2;\"/>\r\n",
       "    </g>\r\n",
       "    <g id=\"line2d_26\"/>\r\n",
       "    <g id=\"text_15\">\r\n",
       "     <!-- No1 -->\r\n",
       "     <g style=\"fill:#262626;\" transform=\"translate(65.942188 23.798438)scale(0.1 -0.1)\">\r\n",
       "      <defs>\r\n",
       "       <path d=\"M 4.890625 0 \r\n",
       "L 4.890625 5.171875 \r\n",
       "L 14.703125 5.171875 \r\n",
       "L 14.703125 67.671875 \r\n",
       "L 4.890625 67.671875 \r\n",
       "L 4.890625 72.90625 \r\n",
       "L 23.578125 72.90625 \r\n",
       "L 67.28125 15.375 \r\n",
       "L 67.28125 67.671875 \r\n",
       "L 57.515625 67.671875 \r\n",
       "L 57.515625 72.90625 \r\n",
       "L 83.109375 72.90625 \r\n",
       "L 83.109375 67.671875 \r\n",
       "L 73.296875 67.671875 \r\n",
       "L 73.296875 -1.421875 \r\n",
       "L 67.390625 -1.421875 \r\n",
       "L 20.703125 60.015625 \r\n",
       "L 20.703125 5.171875 \r\n",
       "L 30.515625 5.171875 \r\n",
       "L 30.515625 0 \r\n",
       "z\r\n",
       "\" id=\"DejaVuSerif-78\"/>\r\n",
       "       <path d=\"M 30.078125 3.421875 \r\n",
       "Q 37.3125 3.421875 40.984375 9.125 \r\n",
       "Q 44.671875 14.84375 44.671875 25.984375 \r\n",
       "Q 44.671875 37.109375 40.984375 42.796875 \r\n",
       "Q 37.3125 48.484375 30.078125 48.484375 \r\n",
       "Q 22.859375 48.484375 19.171875 42.796875 \r\n",
       "Q 15.484375 37.109375 15.484375 25.984375 \r\n",
       "Q 15.484375 14.84375 19.1875 9.125 \r\n",
       "Q 22.90625 3.421875 30.078125 3.421875 \r\n",
       "z\r\n",
       "M 30.078125 -1.421875 \r\n",
       "Q 18.75 -1.421875 11.859375 6.078125 \r\n",
       "Q 4.984375 13.578125 4.984375 25.984375 \r\n",
       "Q 4.984375 38.375 11.84375 45.84375 \r\n",
       "Q 18.703125 53.328125 30.078125 53.328125 \r\n",
       "Q 41.453125 53.328125 48.3125 45.84375 \r\n",
       "Q 55.171875 38.375 55.171875 25.984375 \r\n",
       "Q 55.171875 13.578125 48.3125 6.078125 \r\n",
       "Q 41.453125 -1.421875 30.078125 -1.421875 \r\n",
       "z\r\n",
       "\" id=\"DejaVuSerif-111\"/>\r\n",
       "      </defs>\r\n",
       "      <use xlink:href=\"#DejaVuSerif-78\"/>\r\n",
       "      <use x=\"87.5\" xlink:href=\"#DejaVuSerif-111\"/>\r\n",
       "      <use x=\"147.705078\" xlink:href=\"#DejaVuSerif-49\"/>\r\n",
       "     </g>\r\n",
       "    </g>\r\n",
       "    <g id=\"line2d_27\">\r\n",
       "     <path d=\"M 37.942188 34.976563 \r\n",
       "L 57.942188 34.976563 \r\n",
       "\" style=\"fill:none;stroke:#55a868;stroke-linecap:round;stroke-width:2;\"/>\r\n",
       "    </g>\r\n",
       "    <g id=\"line2d_28\"/>\r\n",
       "    <g id=\"text_16\">\r\n",
       "     <!-- No2 -->\r\n",
       "     <g style=\"fill:#262626;\" transform=\"translate(65.942188 38.476563)scale(0.1 -0.1)\">\r\n",
       "      <use xlink:href=\"#DejaVuSerif-78\"/>\r\n",
       "      <use x=\"87.5\" xlink:href=\"#DejaVuSerif-111\"/>\r\n",
       "      <use x=\"147.705078\" xlink:href=\"#DejaVuSerif-50\"/>\r\n",
       "     </g>\r\n",
       "    </g>\r\n",
       "    <g id=\"line2d_29\">\r\n",
       "     <path d=\"M 37.942188 49.654688 \r\n",
       "L 57.942188 49.654688 \r\n",
       "\" style=\"fill:none;stroke:#c44e52;stroke-linecap:round;stroke-width:2;\"/>\r\n",
       "    </g>\r\n",
       "    <g id=\"line2d_30\"/>\r\n",
       "    <g id=\"text_17\">\r\n",
       "     <!-- No3 -->\r\n",
       "     <g style=\"fill:#262626;\" transform=\"translate(65.942188 53.154688)scale(0.1 -0.1)\">\r\n",
       "      <defs>\r\n",
       "       <path d=\"M 9.71875 69.828125 \r\n",
       "Q 15.4375 71.96875 20.671875 73.09375 \r\n",
       "Q 25.921875 74.21875 30.515625 74.21875 \r\n",
       "Q 41.21875 74.21875 47.21875 69.59375 \r\n",
       "Q 53.21875 64.984375 53.21875 56.78125 \r\n",
       "Q 53.21875 50.203125 49.0625 45.78125 \r\n",
       "Q 44.921875 41.359375 37.3125 39.796875 \r\n",
       "Q 46.296875 38.53125 51.25 33.28125 \r\n",
       "Q 56.203125 28.03125 56.203125 19.671875 \r\n",
       "Q 56.203125 9.46875 49.34375 4.015625 \r\n",
       "Q 42.484375 -1.421875 29.59375 -1.421875 \r\n",
       "Q 23.875 -1.421875 18.421875 -0.1875 \r\n",
       "Q 12.984375 1.03125 7.625 3.515625 \r\n",
       "L 7.625 17.671875 \r\n",
       "L 13.09375 17.671875 \r\n",
       "Q 13.578125 10.640625 17.828125 7.03125 \r\n",
       "Q 22.078125 3.421875 29.78125 3.421875 \r\n",
       "Q 37.25 3.421875 41.578125 7.734375 \r\n",
       "Q 45.90625 12.0625 45.90625 19.578125 \r\n",
       "Q 45.90625 28.171875 41.453125 32.59375 \r\n",
       "Q 37.015625 37.015625 28.421875 37.015625 \r\n",
       "L 23.78125 37.015625 \r\n",
       "L 23.78125 42 \r\n",
       "L 26.21875 42 \r\n",
       "Q 34.765625 42 39.03125 45.53125 \r\n",
       "Q 43.3125 49.078125 43.3125 56.203125 \r\n",
       "Q 43.3125 62.59375 39.796875 65.984375 \r\n",
       "Q 36.28125 69.390625 29.6875 69.390625 \r\n",
       "Q 23.09375 69.390625 19.453125 66.265625 \r\n",
       "Q 15.828125 63.140625 15.1875 56.984375 \r\n",
       "L 9.71875 56.984375 \r\n",
       "z\r\n",
       "\" id=\"DejaVuSerif-51\"/>\r\n",
       "      </defs>\r\n",
       "      <use xlink:href=\"#DejaVuSerif-78\"/>\r\n",
       "      <use x=\"87.5\" xlink:href=\"#DejaVuSerif-111\"/>\r\n",
       "      <use x=\"147.705078\" xlink:href=\"#DejaVuSerif-51\"/>\r\n",
       "     </g>\r\n",
       "    </g>\r\n",
       "    <g id=\"line2d_31\">\r\n",
       "     <path d=\"M 37.942188 64.332813 \r\n",
       "L 57.942188 64.332813 \r\n",
       "\" style=\"fill:none;stroke:#8172b2;stroke-linecap:round;stroke-width:2;\"/>\r\n",
       "    </g>\r\n",
       "    <g id=\"line2d_32\"/>\r\n",
       "    <g id=\"text_18\">\r\n",
       "     <!-- No4 -->\r\n",
       "     <g style=\"fill:#262626;\" transform=\"translate(65.942188 67.832813)scale(0.1 -0.1)\">\r\n",
       "      <use xlink:href=\"#DejaVuSerif-78\"/>\r\n",
       "      <use x=\"87.5\" xlink:href=\"#DejaVuSerif-111\"/>\r\n",
       "      <use x=\"147.705078\" xlink:href=\"#DejaVuSerif-52\"/>\r\n",
       "     </g>\r\n",
       "    </g>\r\n",
       "   </g>\r\n",
       "  </g>\r\n",
       " </g>\r\n",
       " <defs>\r\n",
       "  <clipPath id=\"p6eba0a05fc\">\r\n",
       "   <rect height=\"326.16\" width=\"558\" x=\"28.942188\" y=\"7.2\"/>\r\n",
       "  </clipPath>\r\n",
       " </defs>\r\n",
       "</svg>\r\n"
      ],
      "text/plain": [
       "<Figure size 720x432 with 1 Axes>"
      ]
     },
     "metadata": {
      "needs_background": "light"
     },
     "output_type": "display_data"
    }
   ],
   "source": [
    "df.cumsum().plot(lw=2.0, figsize=(10, 6));  \n",
    "# plt.savefig('../../images/ch05/pd_plot_01.png')"
   ]
  },
  {
   "cell_type": "code",
   "execution_count": 54,
   "metadata": {
    "uuid": "4b1834ec-9f9b-41d6-8d06-f2efc8433dc4"
   },
   "outputs": [
    {
     "data": {
      "image/png": "[encoded data removed]",
      "text/plain": [
       "<Figure size 720x432 with 1 Axes>"
      ]
     },
     "metadata": {
      "needs_background": "light"
     },
     "output_type": "display_data"
    }
   ],
   "source": [
    "df.plot.bar(figsize=(10, 6), rot=30);  \n",
    "# df.plot(kind='bar', figsize=(10, 6))  \n",
    "# plt.savefig('../../images/ch05/pd_plot_02.png')"
   ]
  },
  {
   "cell_type": "markdown",
   "metadata": {},
   "source": [
    "## Series Class"
   ]
  },
  {
   "cell_type": "code",
   "execution_count": 42,
   "metadata": {
    "uuid": "e86f82d1-5934-42d3-a986-f01bc829adaa"
   },
   "outputs": [
    {
     "output_type": "execute_result",
     "data": {
      "text/plain": [
       "pandas.core.frame.DataFrame"
      ]
     },
     "metadata": {},
     "execution_count": 42
    }
   ],
   "source": [
    "type(df)"
   ]
  },
  {
   "cell_type": "code",
   "execution_count": 43,
   "metadata": {},
   "outputs": [],
   "source": [
    "S = pd.Series(np.linspace(0, 15, 7), name='series')"
   ]
  },
  {
   "cell_type": "code",
   "execution_count": 44,
   "metadata": {},
   "outputs": [
    {
     "output_type": "execute_result",
     "data": {
      "text/plain": [
       "0     0.0\n",
       "1     2.5\n",
       "2     5.0\n",
       "3     7.5\n",
       "4    10.0\n",
       "5    12.5\n",
       "6    15.0\n",
       "Name: series, dtype: float64"
      ]
     },
     "metadata": {},
     "execution_count": 44
    }
   ],
   "source": [
    "S"
   ]
  },
  {
   "cell_type": "code",
   "execution_count": 45,
   "metadata": {},
   "outputs": [
    {
     "output_type": "execute_result",
     "data": {
      "text/plain": [
       "pandas.core.series.Series"
      ]
     },
     "metadata": {},
     "execution_count": 45
    }
   ],
   "source": [
    "type(S)"
   ]
  },
  {
   "cell_type": "code",
   "execution_count": 46,
   "metadata": {},
   "outputs": [],
   "source": [
    "s = df['No1']"
   ]
  },
  {
   "cell_type": "code",
   "execution_count": 47,
   "metadata": {},
   "outputs": [
    {
     "output_type": "execute_result",
     "data": {
      "text/plain": [
       "2019-01-31   -1.749765\n",
       "2019-02-28    0.981321\n",
       "2019-03-31   -0.189496\n",
       "2019-04-30   -0.583595\n",
       "2019-05-31   -0.531280\n",
       "2019-06-30    1.618982\n",
       "2019-07-31    0.184519\n",
       "2019-08-31   -0.326238\n",
       "2019-09-30   -0.756352\n",
       "Freq: M, Name: No1, dtype: float64"
      ]
     },
     "metadata": {},
     "execution_count": 47
    }
   ],
   "source": [
    "s"
   ]
  },
  {
   "cell_type": "code",
   "execution_count": 48,
   "metadata": {
    "uuid": "ca241ef9-5359-4c89-bc92-be6346cb3959"
   },
   "outputs": [
    {
     "output_type": "execute_result",
     "data": {
      "text/plain": [
       "pandas.core.series.Series"
      ]
     },
     "metadata": {},
     "execution_count": 48
    }
   ],
   "source": [
    "type(s)"
   ]
  },
  {
   "cell_type": "code",
   "execution_count": 69,
   "metadata": {},
   "outputs": [
    {
     "data": {
      "text/plain": [
       "-0.15021177307319458"
      ]
     },
     "execution_count": 69,
     "metadata": {},
     "output_type": "execute_result"
    }
   ],
   "source": [
    "s.mean()"
   ]
  },
  {
   "cell_type": "code",
   "execution_count": 49,
   "metadata": {},
   "outputs": [
    {
     "output_type": "execute_result",
     "data": {
      "text/plain": [
       "[<matplotlib.lines.Line2D at 0x7ff2091c0e50>]"
      ]
     },
     "metadata": {},
     "execution_count": 49
    },
    {
     "output_type": "display_data",
     "data": {
      "text/plain": "<Figure size 432x288 with 1 Axes>",
      "image/svg+xml": "<?xml version=\"1.0\" encoding=\"utf-8\" standalone=\"no\"?>\n<!DOCTYPE svg PUBLIC \"-//W3C//DTD SVG 1.1//EN\"\n  \"http://www.w3.org/Graphics/SVG/1.1/DTD/svg11.dtd\">\n<!-- Created with matplotlib (https://matplotlib.org/) -->\n<svg height=\"248.518125pt\" version=\"1.1\" viewBox=\"0 0 387.413738 248.518125\" width=\"387.413738pt\" xmlns=\"http://www.w3.org/2000/svg\" xmlns:xlink=\"http://www.w3.org/1999/xlink\">\n <metadata>\n  <rdf:RDF xmlns:cc=\"http://creativecommons.org/ns#\" xmlns:dc=\"http://purl.org/dc/elements/1.1/\" xmlns:rdf=\"http://www.w3.org/1999/02/22-rdf-syntax-ns#\">\n   <cc:Work>\n    <dc:type rdf:resource=\"http://purl.org/dc/dcmitype/StillImage\"/>\n    <dc:date>2021-03-18T21:17:58.370217</dc:date>\n    <dc:format>image/svg+xml</dc:format>\n    <dc:creator>\n     <cc:Agent>\n      <dc:title>Matplotlib v3.3.4, https://matplotlib.org/</dc:title>\n     </cc:Agent>\n    </dc:creator>\n   </cc:Work>\n  </rdf:RDF>\n </metadata>\n <defs>\n  <style type=\"text/css\">*{stroke-linecap:butt;stroke-linejoin:round;}</style>\n </defs>\n <g id=\"figure_1\">\n  <g id=\"patch_1\">\n   <path d=\"M -0 248.518125 \nL 387.413738 248.518125 \nL 387.413738 0 \nL -0 0 \nz\n\" style=\"fill:none;\"/>\n  </g>\n  <g id=\"axes_1\">\n   <g id=\"patch_2\">\n    <path d=\"M 38.482813 224.64 \nL 373.282813 224.64 \nL 373.282813 7.2 \nL 38.482813 7.2 \nz\n\" style=\"fill:#ffffff;\"/>\n   </g>\n   <g id=\"matplotlib.axis_1\">\n    <g id=\"xtick_1\">\n     <g id=\"line2d_1\">\n      <defs>\n       <path d=\"M 0 0 \nL 0 3.5 \n\" id=\"m5fa2a2586b\" style=\"stroke:#000000;stroke-width:0.8;\"/>\n      </defs>\n      <g>\n       <use style=\"stroke:#000000;stroke-width:0.8;\" x=\"54.958695\" xlink:href=\"#m5fa2a2586b\" y=\"224.64\"/>\n      </g>\n     </g>\n     <g id=\"text_1\">\n      <!-- 2019-02 -->\n      <g transform=\"translate(34.067289 239.238438)scale(0.1 -0.1)\">\n       <defs>\n        <path d=\"M 19.1875 8.296875 \nL 53.609375 8.296875 \nL 53.609375 0 \nL 7.328125 0 \nL 7.328125 8.296875 \nQ 12.9375 14.109375 22.625 23.890625 \nQ 32.328125 33.6875 34.8125 36.53125 \nQ 39.546875 41.84375 41.421875 45.53125 \nQ 43.3125 49.21875 43.3125 52.78125 \nQ 43.3125 58.59375 39.234375 62.25 \nQ 35.15625 65.921875 28.609375 65.921875 \nQ 23.96875 65.921875 18.8125 64.3125 \nQ 13.671875 62.703125 7.8125 59.421875 \nL 7.8125 69.390625 \nQ 13.765625 71.78125 18.9375 73 \nQ 24.125 74.21875 28.421875 74.21875 \nQ 39.75 74.21875 46.484375 68.546875 \nQ 53.21875 62.890625 53.21875 53.421875 \nQ 53.21875 48.921875 51.53125 44.890625 \nQ 49.859375 40.875 45.40625 35.40625 \nQ 44.1875 33.984375 37.640625 27.21875 \nQ 31.109375 20.453125 19.1875 8.296875 \nz\n\" id=\"DejaVuSans-50\"/>\n        <path d=\"M 31.78125 66.40625 \nQ 24.171875 66.40625 20.328125 58.90625 \nQ 16.5 51.421875 16.5 36.375 \nQ 16.5 21.390625 20.328125 13.890625 \nQ 24.171875 6.390625 31.78125 6.390625 \nQ 39.453125 6.390625 43.28125 13.890625 \nQ 47.125 21.390625 47.125 36.375 \nQ 47.125 51.421875 43.28125 58.90625 \nQ 39.453125 66.40625 31.78125 66.40625 \nz\nM 31.78125 74.21875 \nQ 44.046875 74.21875 50.515625 64.515625 \nQ 56.984375 54.828125 56.984375 36.375 \nQ 56.984375 17.96875 50.515625 8.265625 \nQ 44.046875 -1.421875 31.78125 -1.421875 \nQ 19.53125 -1.421875 13.0625 8.265625 \nQ 6.59375 17.96875 6.59375 36.375 \nQ 6.59375 54.828125 13.0625 64.515625 \nQ 19.53125 74.21875 31.78125 74.21875 \nz\n\" id=\"DejaVuSans-48\"/>\n        <path d=\"M 12.40625 8.296875 \nL 28.515625 8.296875 \nL 28.515625 63.921875 \nL 10.984375 60.40625 \nL 10.984375 69.390625 \nL 28.421875 72.90625 \nL 38.28125 72.90625 \nL 38.28125 8.296875 \nL 54.390625 8.296875 \nL 54.390625 0 \nL 12.40625 0 \nz\n\" id=\"DejaVuSans-49\"/>\n        <path d=\"M 10.984375 1.515625 \nL 10.984375 10.5 \nQ 14.703125 8.734375 18.5 7.8125 \nQ 22.3125 6.890625 25.984375 6.890625 \nQ 35.75 6.890625 40.890625 13.453125 \nQ 46.046875 20.015625 46.78125 33.40625 \nQ 43.953125 29.203125 39.59375 26.953125 \nQ 35.25 24.703125 29.984375 24.703125 \nQ 19.046875 24.703125 12.671875 31.3125 \nQ 6.296875 37.9375 6.296875 49.421875 \nQ 6.296875 60.640625 12.9375 67.421875 \nQ 19.578125 74.21875 30.609375 74.21875 \nQ 43.265625 74.21875 49.921875 64.515625 \nQ 56.59375 54.828125 56.59375 36.375 \nQ 56.59375 19.140625 48.40625 8.859375 \nQ 40.234375 -1.421875 26.421875 -1.421875 \nQ 22.703125 -1.421875 18.890625 -0.6875 \nQ 15.09375 0.046875 10.984375 1.515625 \nz\nM 30.609375 32.421875 \nQ 37.25 32.421875 41.125 36.953125 \nQ 45.015625 41.5 45.015625 49.421875 \nQ 45.015625 57.28125 41.125 61.84375 \nQ 37.25 66.40625 30.609375 66.40625 \nQ 23.96875 66.40625 20.09375 61.84375 \nQ 16.21875 57.28125 16.21875 49.421875 \nQ 16.21875 41.5 20.09375 36.953125 \nQ 23.96875 32.421875 30.609375 32.421875 \nz\n\" id=\"DejaVuSans-57\"/>\n        <path d=\"M 4.890625 31.390625 \nL 31.203125 31.390625 \nL 31.203125 23.390625 \nL 4.890625 23.390625 \nz\n\" id=\"DejaVuSans-45\"/>\n       </defs>\n       <use xlink:href=\"#DejaVuSans-50\"/>\n       <use x=\"63.623047\" xlink:href=\"#DejaVuSans-48\"/>\n       <use x=\"127.246094\" xlink:href=\"#DejaVuSans-49\"/>\n       <use x=\"190.869141\" xlink:href=\"#DejaVuSans-57\"/>\n       <use x=\"254.492188\" xlink:href=\"#DejaVuSans-45\"/>\n       <use x=\"290.576172\" xlink:href=\"#DejaVuSans-48\"/>\n       <use x=\"354.199219\" xlink:href=\"#DejaVuSans-50\"/>\n      </g>\n     </g>\n    </g>\n    <g id=\"xtick_2\">\n     <g id=\"line2d_2\">\n      <g>\n       <use style=\"stroke:#000000;stroke-width:0.8;\" x=\"90.174323\" xlink:href=\"#m5fa2a2586b\" y=\"224.64\"/>\n      </g>\n     </g>\n     <g id=\"text_2\">\n      <!-- 2019-03 -->\n      <g transform=\"translate(69.282916 239.238438)scale(0.1 -0.1)\">\n       <defs>\n        <path d=\"M 40.578125 39.3125 \nQ 47.65625 37.796875 51.625 33 \nQ 55.609375 28.21875 55.609375 21.1875 \nQ 55.609375 10.40625 48.1875 4.484375 \nQ 40.765625 -1.421875 27.09375 -1.421875 \nQ 22.515625 -1.421875 17.65625 -0.515625 \nQ 12.796875 0.390625 7.625 2.203125 \nL 7.625 11.71875 \nQ 11.71875 9.328125 16.59375 8.109375 \nQ 21.484375 6.890625 26.8125 6.890625 \nQ 36.078125 6.890625 40.9375 10.546875 \nQ 45.796875 14.203125 45.796875 21.1875 \nQ 45.796875 27.640625 41.28125 31.265625 \nQ 36.765625 34.90625 28.71875 34.90625 \nL 20.21875 34.90625 \nL 20.21875 43.015625 \nL 29.109375 43.015625 \nQ 36.375 43.015625 40.234375 45.921875 \nQ 44.09375 48.828125 44.09375 54.296875 \nQ 44.09375 59.90625 40.109375 62.90625 \nQ 36.140625 65.921875 28.71875 65.921875 \nQ 24.65625 65.921875 20.015625 65.03125 \nQ 15.375 64.15625 9.8125 62.3125 \nL 9.8125 71.09375 \nQ 15.4375 72.65625 20.34375 73.4375 \nQ 25.25 74.21875 29.59375 74.21875 \nQ 40.828125 74.21875 47.359375 69.109375 \nQ 53.90625 64.015625 53.90625 55.328125 \nQ 53.90625 49.265625 50.4375 45.09375 \nQ 46.96875 40.921875 40.578125 39.3125 \nz\n\" id=\"DejaVuSans-51\"/>\n       </defs>\n       <use xlink:href=\"#DejaVuSans-50\"/>\n       <use x=\"63.623047\" xlink:href=\"#DejaVuSans-48\"/>\n       <use x=\"127.246094\" xlink:href=\"#DejaVuSans-49\"/>\n       <use x=\"190.869141\" xlink:href=\"#DejaVuSans-57\"/>\n       <use x=\"254.492188\" xlink:href=\"#DejaVuSans-45\"/>\n       <use x=\"290.576172\" xlink:href=\"#DejaVuSans-48\"/>\n       <use x=\"354.199219\" xlink:href=\"#DejaVuSans-51\"/>\n      </g>\n     </g>\n    </g>\n    <g id=\"xtick_3\">\n     <g id=\"line2d_3\">\n      <g>\n       <use style=\"stroke:#000000;stroke-width:0.8;\" x=\"129.163053\" xlink:href=\"#m5fa2a2586b\" y=\"224.64\"/>\n      </g>\n     </g>\n     <g id=\"text_3\">\n      <!-- 2019-04 -->\n      <g transform=\"translate(108.271647 239.238438)scale(0.1 -0.1)\">\n       <defs>\n        <path d=\"M 37.796875 64.3125 \nL 12.890625 25.390625 \nL 37.796875 25.390625 \nz\nM 35.203125 72.90625 \nL 47.609375 72.90625 \nL 47.609375 25.390625 \nL 58.015625 25.390625 \nL 58.015625 17.1875 \nL 47.609375 17.1875 \nL 47.609375 0 \nL 37.796875 0 \nL 37.796875 17.1875 \nL 4.890625 17.1875 \nL 4.890625 26.703125 \nz\n\" id=\"DejaVuSans-52\"/>\n       </defs>\n       <use xlink:href=\"#DejaVuSans-50\"/>\n       <use x=\"63.623047\" xlink:href=\"#DejaVuSans-48\"/>\n       <use x=\"127.246094\" xlink:href=\"#DejaVuSans-49\"/>\n       <use x=\"190.869141\" xlink:href=\"#DejaVuSans-57\"/>\n       <use x=\"254.492188\" xlink:href=\"#DejaVuSans-45\"/>\n       <use x=\"290.576172\" xlink:href=\"#DejaVuSans-48\"/>\n       <use x=\"354.199219\" xlink:href=\"#DejaVuSans-52\"/>\n      </g>\n     </g>\n    </g>\n    <g id=\"xtick_4\">\n     <g id=\"line2d_4\">\n      <g>\n       <use style=\"stroke:#000000;stroke-width:0.8;\" x=\"166.894082\" xlink:href=\"#m5fa2a2586b\" y=\"224.64\"/>\n      </g>\n     </g>\n     <g id=\"text_4\">\n      <!-- 2019-05 -->\n      <g transform=\"translate(146.002676 239.238438)scale(0.1 -0.1)\">\n       <defs>\n        <path d=\"M 10.796875 72.90625 \nL 49.515625 72.90625 \nL 49.515625 64.59375 \nL 19.828125 64.59375 \nL 19.828125 46.734375 \nQ 21.96875 47.46875 24.109375 47.828125 \nQ 26.265625 48.1875 28.421875 48.1875 \nQ 40.625 48.1875 47.75 41.5 \nQ 54.890625 34.8125 54.890625 23.390625 \nQ 54.890625 11.625 47.5625 5.09375 \nQ 40.234375 -1.421875 26.90625 -1.421875 \nQ 22.3125 -1.421875 17.546875 -0.640625 \nQ 12.796875 0.140625 7.71875 1.703125 \nL 7.71875 11.625 \nQ 12.109375 9.234375 16.796875 8.0625 \nQ 21.484375 6.890625 26.703125 6.890625 \nQ 35.15625 6.890625 40.078125 11.328125 \nQ 45.015625 15.765625 45.015625 23.390625 \nQ 45.015625 31 40.078125 35.4375 \nQ 35.15625 39.890625 26.703125 39.890625 \nQ 22.75 39.890625 18.8125 39.015625 \nQ 14.890625 38.140625 10.796875 36.28125 \nz\n\" id=\"DejaVuSans-53\"/>\n       </defs>\n       <use xlink:href=\"#DejaVuSans-50\"/>\n       <use x=\"63.623047\" xlink:href=\"#DejaVuSans-48\"/>\n       <use x=\"127.246094\" xlink:href=\"#DejaVuSans-49\"/>\n       <use x=\"190.869141\" xlink:href=\"#DejaVuSans-57\"/>\n       <use x=\"254.492188\" xlink:href=\"#DejaVuSans-45\"/>\n       <use x=\"290.576172\" xlink:href=\"#DejaVuSans-48\"/>\n       <use x=\"354.199219\" xlink:href=\"#DejaVuSans-53\"/>\n      </g>\n     </g>\n    </g>\n    <g id=\"xtick_5\">\n     <g id=\"line2d_5\">\n      <g>\n       <use style=\"stroke:#000000;stroke-width:0.8;\" x=\"205.882812\" xlink:href=\"#m5fa2a2586b\" y=\"224.64\"/>\n      </g>\n     </g>\n     <g id=\"text_5\">\n      <!-- 2019-06 -->\n      <g transform=\"translate(184.991406 239.238438)scale(0.1 -0.1)\">\n       <defs>\n        <path d=\"M 33.015625 40.375 \nQ 26.375 40.375 22.484375 35.828125 \nQ 18.609375 31.296875 18.609375 23.390625 \nQ 18.609375 15.53125 22.484375 10.953125 \nQ 26.375 6.390625 33.015625 6.390625 \nQ 39.65625 6.390625 43.53125 10.953125 \nQ 47.40625 15.53125 47.40625 23.390625 \nQ 47.40625 31.296875 43.53125 35.828125 \nQ 39.65625 40.375 33.015625 40.375 \nz\nM 52.59375 71.296875 \nL 52.59375 62.3125 \nQ 48.875 64.0625 45.09375 64.984375 \nQ 41.3125 65.921875 37.59375 65.921875 \nQ 27.828125 65.921875 22.671875 59.328125 \nQ 17.53125 52.734375 16.796875 39.40625 \nQ 19.671875 43.65625 24.015625 45.921875 \nQ 28.375 48.1875 33.59375 48.1875 \nQ 44.578125 48.1875 50.953125 41.515625 \nQ 57.328125 34.859375 57.328125 23.390625 \nQ 57.328125 12.15625 50.6875 5.359375 \nQ 44.046875 -1.421875 33.015625 -1.421875 \nQ 20.359375 -1.421875 13.671875 8.265625 \nQ 6.984375 17.96875 6.984375 36.375 \nQ 6.984375 53.65625 15.1875 63.9375 \nQ 23.390625 74.21875 37.203125 74.21875 \nQ 40.921875 74.21875 44.703125 73.484375 \nQ 48.484375 72.75 52.59375 71.296875 \nz\n\" id=\"DejaVuSans-54\"/>\n       </defs>\n       <use xlink:href=\"#DejaVuSans-50\"/>\n       <use x=\"63.623047\" xlink:href=\"#DejaVuSans-48\"/>\n       <use x=\"127.246094\" xlink:href=\"#DejaVuSans-49\"/>\n       <use x=\"190.869141\" xlink:href=\"#DejaVuSans-57\"/>\n       <use x=\"254.492188\" xlink:href=\"#DejaVuSans-45\"/>\n       <use x=\"290.576172\" xlink:href=\"#DejaVuSans-48\"/>\n       <use x=\"354.199219\" xlink:href=\"#DejaVuSans-54\"/>\n      </g>\n     </g>\n    </g>\n    <g id=\"xtick_6\">\n     <g id=\"line2d_6\">\n      <g>\n       <use style=\"stroke:#000000;stroke-width:0.8;\" x=\"243.613842\" xlink:href=\"#m5fa2a2586b\" y=\"224.64\"/>\n      </g>\n     </g>\n     <g id=\"text_6\">\n      <!-- 2019-07 -->\n      <g transform=\"translate(222.722436 239.238438)scale(0.1 -0.1)\">\n       <defs>\n        <path d=\"M 8.203125 72.90625 \nL 55.078125 72.90625 \nL 55.078125 68.703125 \nL 28.609375 0 \nL 18.3125 0 \nL 43.21875 64.59375 \nL 8.203125 64.59375 \nz\n\" id=\"DejaVuSans-55\"/>\n       </defs>\n       <use xlink:href=\"#DejaVuSans-50\"/>\n       <use x=\"63.623047\" xlink:href=\"#DejaVuSans-48\"/>\n       <use x=\"127.246094\" xlink:href=\"#DejaVuSans-49\"/>\n       <use x=\"190.869141\" xlink:href=\"#DejaVuSans-57\"/>\n       <use x=\"254.492188\" xlink:href=\"#DejaVuSans-45\"/>\n       <use x=\"290.576172\" xlink:href=\"#DejaVuSans-48\"/>\n       <use x=\"354.199219\" xlink:href=\"#DejaVuSans-55\"/>\n      </g>\n     </g>\n    </g>\n    <g id=\"xtick_7\">\n     <g id=\"line2d_7\">\n      <g>\n       <use style=\"stroke:#000000;stroke-width:0.8;\" x=\"282.602572\" xlink:href=\"#m5fa2a2586b\" y=\"224.64\"/>\n      </g>\n     </g>\n     <g id=\"text_7\">\n      <!-- 2019-08 -->\n      <g transform=\"translate(261.711166 239.238438)scale(0.1 -0.1)\">\n       <defs>\n        <path d=\"M 31.78125 34.625 \nQ 24.75 34.625 20.71875 30.859375 \nQ 16.703125 27.09375 16.703125 20.515625 \nQ 16.703125 13.921875 20.71875 10.15625 \nQ 24.75 6.390625 31.78125 6.390625 \nQ 38.8125 6.390625 42.859375 10.171875 \nQ 46.921875 13.96875 46.921875 20.515625 \nQ 46.921875 27.09375 42.890625 30.859375 \nQ 38.875 34.625 31.78125 34.625 \nz\nM 21.921875 38.8125 \nQ 15.578125 40.375 12.03125 44.71875 \nQ 8.5 49.078125 8.5 55.328125 \nQ 8.5 64.0625 14.71875 69.140625 \nQ 20.953125 74.21875 31.78125 74.21875 \nQ 42.671875 74.21875 48.875 69.140625 \nQ 55.078125 64.0625 55.078125 55.328125 \nQ 55.078125 49.078125 51.53125 44.71875 \nQ 48 40.375 41.703125 38.8125 \nQ 48.828125 37.15625 52.796875 32.3125 \nQ 56.78125 27.484375 56.78125 20.515625 \nQ 56.78125 9.90625 50.3125 4.234375 \nQ 43.84375 -1.421875 31.78125 -1.421875 \nQ 19.734375 -1.421875 13.25 4.234375 \nQ 6.78125 9.90625 6.78125 20.515625 \nQ 6.78125 27.484375 10.78125 32.3125 \nQ 14.796875 37.15625 21.921875 38.8125 \nz\nM 18.3125 54.390625 \nQ 18.3125 48.734375 21.84375 45.5625 \nQ 25.390625 42.390625 31.78125 42.390625 \nQ 38.140625 42.390625 41.71875 45.5625 \nQ 45.3125 48.734375 45.3125 54.390625 \nQ 45.3125 60.0625 41.71875 63.234375 \nQ 38.140625 66.40625 31.78125 66.40625 \nQ 25.390625 66.40625 21.84375 63.234375 \nQ 18.3125 60.0625 18.3125 54.390625 \nz\n\" id=\"DejaVuSans-56\"/>\n       </defs>\n       <use xlink:href=\"#DejaVuSans-50\"/>\n       <use x=\"63.623047\" xlink:href=\"#DejaVuSans-48\"/>\n       <use x=\"127.246094\" xlink:href=\"#DejaVuSans-49\"/>\n       <use x=\"190.869141\" xlink:href=\"#DejaVuSans-57\"/>\n       <use x=\"254.492188\" xlink:href=\"#DejaVuSans-45\"/>\n       <use x=\"290.576172\" xlink:href=\"#DejaVuSans-48\"/>\n       <use x=\"354.199219\" xlink:href=\"#DejaVuSans-56\"/>\n      </g>\n     </g>\n    </g>\n    <g id=\"xtick_8\">\n     <g id=\"line2d_8\">\n      <g>\n       <use style=\"stroke:#000000;stroke-width:0.8;\" x=\"321.591302\" xlink:href=\"#m5fa2a2586b\" y=\"224.64\"/>\n      </g>\n     </g>\n     <g id=\"text_8\">\n      <!-- 2019-09 -->\n      <g transform=\"translate(300.699896 239.238438)scale(0.1 -0.1)\">\n       <use xlink:href=\"#DejaVuSans-50\"/>\n       <use x=\"63.623047\" xlink:href=\"#DejaVuSans-48\"/>\n       <use x=\"127.246094\" xlink:href=\"#DejaVuSans-49\"/>\n       <use x=\"190.869141\" xlink:href=\"#DejaVuSans-57\"/>\n       <use x=\"254.492188\" xlink:href=\"#DejaVuSans-45\"/>\n       <use x=\"290.576172\" xlink:href=\"#DejaVuSans-48\"/>\n       <use x=\"354.199219\" xlink:href=\"#DejaVuSans-57\"/>\n      </g>\n     </g>\n    </g>\n    <g id=\"xtick_9\">\n     <g id=\"line2d_9\">\n      <g>\n       <use style=\"stroke:#000000;stroke-width:0.8;\" x=\"359.322332\" xlink:href=\"#m5fa2a2586b\" y=\"224.64\"/>\n      </g>\n     </g>\n     <g id=\"text_9\">\n      <!-- 2019-10 -->\n      <g transform=\"translate(338.430925 239.238438)scale(0.1 -0.1)\">\n       <use xlink:href=\"#DejaVuSans-50\"/>\n       <use x=\"63.623047\" xlink:href=\"#DejaVuSans-48\"/>\n       <use x=\"127.246094\" xlink:href=\"#DejaVuSans-49\"/>\n       <use x=\"190.869141\" xlink:href=\"#DejaVuSans-57\"/>\n       <use x=\"254.492188\" xlink:href=\"#DejaVuSans-45\"/>\n       <use x=\"290.576172\" xlink:href=\"#DejaVuSans-49\"/>\n       <use x=\"354.199219\" xlink:href=\"#DejaVuSans-48\"/>\n      </g>\n     </g>\n    </g>\n   </g>\n   <g id=\"matplotlib.axis_2\">\n    <g id=\"ytick_1\">\n     <g id=\"line2d_10\">\n      <defs>\n       <path d=\"M 0 0 \nL -3.5 0 \n\" id=\"mdb5476c085\" style=\"stroke:#000000;stroke-width:0.8;\"/>\n      </defs>\n      <g>\n       <use style=\"stroke:#000000;stroke-width:0.8;\" x=\"38.482813\" xlink:href=\"#mdb5476c085\" y=\"200.100523\"/>\n      </g>\n     </g>\n     <g id=\"text_10\">\n      <!-- −1.5 -->\n      <g transform=\"translate(7.2 203.899741)scale(0.1 -0.1)\">\n       <defs>\n        <path d=\"M 10.59375 35.5 \nL 73.1875 35.5 \nL 73.1875 27.203125 \nL 10.59375 27.203125 \nz\n\" id=\"DejaVuSans-8722\"/>\n        <path d=\"M 10.6875 12.40625 \nL 21 12.40625 \nL 21 0 \nL 10.6875 0 \nz\n\" id=\"DejaVuSans-46\"/>\n       </defs>\n       <use xlink:href=\"#DejaVuSans-8722\"/>\n       <use x=\"83.789062\" xlink:href=\"#DejaVuSans-49\"/>\n       <use x=\"147.412109\" xlink:href=\"#DejaVuSans-46\"/>\n       <use x=\"179.199219\" xlink:href=\"#DejaVuSans-53\"/>\n      </g>\n     </g>\n    </g>\n    <g id=\"ytick_2\">\n     <g id=\"line2d_11\">\n      <g>\n       <use style=\"stroke:#000000;stroke-width:0.8;\" x=\"38.482813\" xlink:href=\"#mdb5476c085\" y=\"170.761317\"/>\n      </g>\n     </g>\n     <g id=\"text_11\">\n      <!-- −1.0 -->\n      <g transform=\"translate(7.2 174.560536)scale(0.1 -0.1)\">\n       <use xlink:href=\"#DejaVuSans-8722\"/>\n       <use x=\"83.789062\" xlink:href=\"#DejaVuSans-49\"/>\n       <use x=\"147.412109\" xlink:href=\"#DejaVuSans-46\"/>\n       <use x=\"179.199219\" xlink:href=\"#DejaVuSans-48\"/>\n      </g>\n     </g>\n    </g>\n    <g id=\"ytick_3\">\n     <g id=\"line2d_12\">\n      <g>\n       <use style=\"stroke:#000000;stroke-width:0.8;\" x=\"38.482813\" xlink:href=\"#mdb5476c085\" y=\"141.422112\"/>\n      </g>\n     </g>\n     <g id=\"text_12\">\n      <!-- −0.5 -->\n      <g transform=\"translate(7.2 145.221331)scale(0.1 -0.1)\">\n       <use xlink:href=\"#DejaVuSans-8722\"/>\n       <use x=\"83.789062\" xlink:href=\"#DejaVuSans-48\"/>\n       <use x=\"147.412109\" xlink:href=\"#DejaVuSans-46\"/>\n       <use x=\"179.199219\" xlink:href=\"#DejaVuSans-53\"/>\n      </g>\n     </g>\n    </g>\n    <g id=\"ytick_4\">\n     <g id=\"line2d_13\">\n      <g>\n       <use style=\"stroke:#000000;stroke-width:0.8;\" x=\"38.482813\" xlink:href=\"#mdb5476c085\" y=\"112.082907\"/>\n      </g>\n     </g>\n     <g id=\"text_13\">\n      <!-- 0.0 -->\n      <g transform=\"translate(15.579688 115.882126)scale(0.1 -0.1)\">\n       <use xlink:href=\"#DejaVuSans-48\"/>\n       <use x=\"63.623047\" xlink:href=\"#DejaVuSans-46\"/>\n       <use x=\"95.410156\" xlink:href=\"#DejaVuSans-48\"/>\n      </g>\n     </g>\n    </g>\n    <g id=\"ytick_5\">\n     <g id=\"line2d_14\">\n      <g>\n       <use style=\"stroke:#000000;stroke-width:0.8;\" x=\"38.482813\" xlink:href=\"#mdb5476c085\" y=\"82.743702\"/>\n      </g>\n     </g>\n     <g id=\"text_14\">\n      <!-- 0.5 -->\n      <g transform=\"translate(15.579688 86.54292)scale(0.1 -0.1)\">\n       <use xlink:href=\"#DejaVuSans-48\"/>\n       <use x=\"63.623047\" xlink:href=\"#DejaVuSans-46\"/>\n       <use x=\"95.410156\" xlink:href=\"#DejaVuSans-53\"/>\n      </g>\n     </g>\n    </g>\n    <g id=\"ytick_6\">\n     <g id=\"line2d_15\">\n      <g>\n       <use style=\"stroke:#000000;stroke-width:0.8;\" x=\"38.482813\" xlink:href=\"#mdb5476c085\" y=\"53.404496\"/>\n      </g>\n     </g>\n     <g id=\"text_15\">\n      <!-- 1.0 -->\n      <g transform=\"translate(15.579688 57.203715)scale(0.1 -0.1)\">\n       <use xlink:href=\"#DejaVuSans-49\"/>\n       <use x=\"63.623047\" xlink:href=\"#DejaVuSans-46\"/>\n       <use x=\"95.410156\" xlink:href=\"#DejaVuSans-48\"/>\n      </g>\n     </g>\n    </g>\n    <g id=\"ytick_7\">\n     <g id=\"line2d_16\">\n      <g>\n       <use style=\"stroke:#000000;stroke-width:0.8;\" x=\"38.482813\" xlink:href=\"#mdb5476c085\" y=\"24.065291\"/>\n      </g>\n     </g>\n     <g id=\"text_16\">\n      <!-- 1.5 -->\n      <g transform=\"translate(15.579688 27.86451)scale(0.1 -0.1)\">\n       <use xlink:href=\"#DejaVuSans-49\"/>\n       <use x=\"63.623047\" xlink:href=\"#DejaVuSans-46\"/>\n       <use x=\"95.410156\" xlink:href=\"#DejaVuSans-53\"/>\n      </g>\n     </g>\n    </g>\n   </g>\n   <g id=\"line2d_17\">\n    <path clip-path=\"url(#p757391bfa3)\" d=\"M 53.700994 214.756364 \nL 88.916622 54.500563 \nL 127.905352 123.202221 \nL 165.636381 146.327337 \nL 204.625112 143.257595 \nL 242.356141 17.083636 \nL 281.344871 101.255643 \nL 320.333601 131.226038 \nL 358.064631 156.464458 \n\" style=\"fill:none;stroke:#1f77b4;stroke-linecap:square;stroke-width:1.5;\"/>\n   </g>\n   <g id=\"patch_3\">\n    <path d=\"M 38.482813 224.64 \nL 38.482813 7.2 \n\" style=\"fill:none;stroke:#000000;stroke-linecap:square;stroke-linejoin:miter;stroke-width:0.8;\"/>\n   </g>\n   <g id=\"patch_4\">\n    <path d=\"M 373.282813 224.64 \nL 373.282813 7.2 \n\" style=\"fill:none;stroke:#000000;stroke-linecap:square;stroke-linejoin:miter;stroke-width:0.8;\"/>\n   </g>\n   <g id=\"patch_5\">\n    <path d=\"M 38.482812 224.64 \nL 373.282812 224.64 \n\" style=\"fill:none;stroke:#000000;stroke-linecap:square;stroke-linejoin:miter;stroke-width:0.8;\"/>\n   </g>\n   <g id=\"patch_6\">\n    <path d=\"M 38.482812 7.2 \nL 373.282812 7.2 \n\" style=\"fill:none;stroke:#000000;stroke-linecap:square;stroke-linejoin:miter;stroke-width:0.8;\"/>\n   </g>\n  </g>\n </g>\n <defs>\n  <clipPath id=\"p757391bfa3\">\n   <rect height=\"217.44\" width=\"334.8\" x=\"38.482813\" y=\"7.2\"/>\n  </clipPath>\n </defs>\n</svg>\n",
      "image/png": "[encoded data removed]"
     },
     "metadata": {
      "needs_background": "light"
     }
    }
   ],
   "source": [
    "import matplotlib.pyplot as plt \n",
    "plt.plot(s)\n"
   ]
  },
  {
   "cell_type": "code",
   "execution_count": 70,
   "metadata": {
    "uuid": "b3d4cc90-e499-459c-88a5-011fde80d864"
   },
   "outputs": [
    {
     "data": {
      "image/png": "[encoded data removed]",
      "image/svg+xml": [
       "<?xml version=\"1.0\" encoding=\"utf-8\" standalone=\"no\"?>\r\n",
       "<!DOCTYPE svg PUBLIC \"-//W3C//DTD SVG 1.1//EN\"\r\n",
       "  \"http://www.w3.org/Graphics/SVG/1.1/DTD/svg11.dtd\">\r\n",
       "<!-- Created with matplotlib (https://matplotlib.org/) -->\r\n",
       "<svg height=\"368.435938pt\" version=\"1.1\" viewBox=\"0 0 613.267969 368.435938\" width=\"613.267969pt\" xmlns=\"http://www.w3.org/2000/svg\" xmlns:xlink=\"http://www.w3.org/1999/xlink\">\r\n",
       " <metadata>\r\n",
       "  <rdf:RDF xmlns:cc=\"http://creativecommons.org/ns#\" xmlns:dc=\"http://purl.org/dc/elements/1.1/\" xmlns:rdf=\"http://www.w3.org/1999/02/22-rdf-syntax-ns#\">\r\n",
       "   <cc:Work>\r\n",
       "    <dc:type rdf:resource=\"http://purl.org/dc/dcmitype/StillImage\"/>\r\n",
       "    <dc:date>2021-03-18T12:06:55.195178</dc:date>\r\n",
       "    <dc:format>image/svg+xml</dc:format>\r\n",
       "    <dc:creator>\r\n",
       "     <cc:Agent>\r\n",
       "      <dc:title>Matplotlib v3.3.4, https://matplotlib.org/</dc:title>\r\n",
       "     </cc:Agent>\r\n",
       "    </dc:creator>\r\n",
       "   </cc:Work>\r\n",
       "  </rdf:RDF>\r\n",
       " </metadata>\r\n",
       " <defs>\r\n",
       "  <style type=\"text/css\">*{stroke-linecap:butt;stroke-linejoin:round;}</style>\r\n",
       " </defs>\r\n",
       " <g id=\"figure_1\">\r\n",
       "  <g id=\"patch_1\">\r\n",
       "   <path d=\"M 0 368.435938 \r\n",
       "L 613.267969 368.435938 \r\n",
       "L 613.267969 0 \r\n",
       "L 0 0 \r\n",
       "z\r\n",
       "\" style=\"fill:none;\"/>\r\n",
       "  </g>\r\n",
       "  <g id=\"axes_1\">\r\n",
       "   <g id=\"patch_2\">\r\n",
       "    <path d=\"M 38.482813 333.36 \r\n",
       "L 596.482813 333.36 \r\n",
       "L 596.482813 7.2 \r\n",
       "L 38.482813 7.2 \r\n",
       "z\r\n",
       "\" style=\"fill:#eaeaf2;\"/>\r\n",
       "   </g>\r\n",
       "   <g id=\"matplotlib.axis_1\">\r\n",
       "    <g id=\"xtick_1\">\r\n",
       "     <g id=\"line2d_1\">\r\n",
       "      <path clip-path=\"url(#p31546c3d4c)\" d=\"M 38.482812 333.36 \r\n",
       "L 38.482812 7.2 \r\n",
       "\" style=\"fill:none;stroke:#ffffff;stroke-linecap:round;\"/>\r\n",
       "     </g>\r\n",
       "     <g id=\"line2d_2\"/>\r\n",
       "     <g id=\"text_1\">\r\n",
       "      <!-- Jan -->\r\n",
       "      <g style=\"fill:#262626;\" transform=\"translate(30.276562 347.958438)scale(0.1 -0.1)\">\r\n",
       "       <defs>\r\n",
       "        <path d=\"M -8.40625 -17.484375 \r\n",
       "L -8.40625 -6 \r\n",
       "L -2.828125 -6 \r\n",
       "Q -2.6875 -10.84375 -0.53125 -13.203125 \r\n",
       "Q 1.609375 -15.578125 5.90625 -15.578125 \r\n",
       "Q 11.71875 -15.578125 14.015625 -11.90625 \r\n",
       "Q 16.3125 -8.25 16.3125 2.390625 \r\n",
       "L 16.3125 67.671875 \r\n",
       "L 4.984375 67.671875 \r\n",
       "L 4.984375 72.90625 \r\n",
       "L 35.5 72.90625 \r\n",
       "L 35.5 67.671875 \r\n",
       "L 26.21875 67.671875 \r\n",
       "L 26.21875 2 \r\n",
       "Q 26.21875 -10.0625 21.375 -15.421875 \r\n",
       "Q 16.546875 -20.796875 5.8125 -20.796875 \r\n",
       "Q 2.34375 -20.796875 -1.234375 -19.96875 \r\n",
       "Q -4.828125 -19.140625 -8.40625 -17.484375 \r\n",
       "z\r\n",
       "\" id=\"DejaVuSerif-74\"/>\r\n",
       "        <path d=\"M 39.796875 16.3125 \r\n",
       "L 39.796875 27.296875 \r\n",
       "L 28.21875 27.296875 \r\n",
       "Q 21.53125 27.296875 18.25 24.40625 \r\n",
       "Q 14.984375 21.53125 14.984375 15.578125 \r\n",
       "Q 14.984375 10.15625 18.296875 6.984375 \r\n",
       "Q 21.625 3.8125 27.296875 3.8125 \r\n",
       "Q 32.90625 3.8125 36.34375 7.28125 \r\n",
       "Q 39.796875 10.75 39.796875 16.3125 \r\n",
       "z\r\n",
       "M 48.78125 32.421875 \r\n",
       "L 48.78125 5.171875 \r\n",
       "L 56.78125 5.171875 \r\n",
       "L 56.78125 0 \r\n",
       "L 39.796875 0 \r\n",
       "L 39.796875 5.609375 \r\n",
       "Q 36.8125 2 32.90625 0.28125 \r\n",
       "Q 29 -1.421875 23.78125 -1.421875 \r\n",
       "Q 15.140625 -1.421875 10.0625 3.171875 \r\n",
       "Q 4.984375 7.765625 4.984375 15.578125 \r\n",
       "Q 4.984375 23.640625 10.796875 28.078125 \r\n",
       "Q 16.609375 32.515625 27.203125 32.515625 \r\n",
       "L 39.796875 32.515625 \r\n",
       "L 39.796875 36.078125 \r\n",
       "Q 39.796875 42 36.203125 45.234375 \r\n",
       "Q 32.625 48.484375 26.125 48.484375 \r\n",
       "Q 20.75 48.484375 17.578125 46.046875 \r\n",
       "Q 14.40625 43.609375 13.625 38.8125 \r\n",
       "L 8.984375 38.8125 \r\n",
       "L 8.984375 49.3125 \r\n",
       "Q 13.671875 51.3125 18.09375 52.3125 \r\n",
       "Q 22.515625 53.328125 26.703125 53.328125 \r\n",
       "Q 37.5 53.328125 43.140625 47.96875 \r\n",
       "Q 48.78125 42.625 48.78125 32.421875 \r\n",
       "z\r\n",
       "\" id=\"DejaVuSerif-97\"/>\r\n",
       "        <path d=\"M 4.109375 0 \r\n",
       "L 4.109375 5.171875 \r\n",
       "L 12.203125 5.171875 \r\n",
       "L 12.203125 46.6875 \r\n",
       "L 3.609375 46.6875 \r\n",
       "L 3.609375 51.90625 \r\n",
       "L 21.1875 51.90625 \r\n",
       "L 21.1875 42.671875 \r\n",
       "Q 23.6875 47.953125 27.65625 50.640625 \r\n",
       "Q 31.640625 53.328125 36.921875 53.328125 \r\n",
       "Q 45.515625 53.328125 49.5625 48.390625 \r\n",
       "Q 53.609375 43.453125 53.609375 33.015625 \r\n",
       "L 53.609375 5.171875 \r\n",
       "L 61.625 5.171875 \r\n",
       "L 61.625 0 \r\n",
       "L 36.8125 0 \r\n",
       "L 36.8125 5.171875 \r\n",
       "L 44.578125 5.171875 \r\n",
       "L 44.578125 30.171875 \r\n",
       "Q 44.578125 39.703125 42.234375 43.234375 \r\n",
       "Q 39.890625 46.78125 33.984375 46.78125 \r\n",
       "Q 27.734375 46.78125 24.453125 42.203125 \r\n",
       "Q 21.1875 37.640625 21.1875 28.90625 \r\n",
       "L 21.1875 5.171875 \r\n",
       "L 29 5.171875 \r\n",
       "L 29 0 \r\n",
       "z\r\n",
       "\" id=\"DejaVuSerif-110\"/>\r\n",
       "       </defs>\r\n",
       "       <use xlink:href=\"#DejaVuSerif-74\"/>\r\n",
       "       <use x=\"40.087891\" xlink:href=\"#DejaVuSerif-97\"/>\r\n",
       "       <use x=\"99.707031\" xlink:href=\"#DejaVuSerif-110\"/>\r\n",
       "      </g>\r\n",
       "      <!-- 2019 -->\r\n",
       "      <g style=\"fill:#262626;\" transform=\"translate(25.757812 359.15625)scale(0.1 -0.1)\">\r\n",
       "       <defs>\r\n",
       "        <path d=\"M 12.796875 55.515625 \r\n",
       "L 7.328125 55.515625 \r\n",
       "L 7.328125 68.5 \r\n",
       "Q 12.546875 71.296875 17.84375 72.75 \r\n",
       "Q 23.140625 74.21875 28.21875 74.21875 \r\n",
       "Q 39.59375 74.21875 46.1875 68.703125 \r\n",
       "Q 52.78125 63.1875 52.78125 53.71875 \r\n",
       "Q 52.78125 43.015625 37.84375 28.125 \r\n",
       "Q 36.671875 27 36.078125 26.421875 \r\n",
       "L 17.671875 8.015625 \r\n",
       "L 48.09375 8.015625 \r\n",
       "L 48.09375 17 \r\n",
       "L 53.8125 17 \r\n",
       "L 53.8125 0 \r\n",
       "L 6.78125 0 \r\n",
       "L 6.78125 5.328125 \r\n",
       "L 28.90625 27.390625 \r\n",
       "Q 36.234375 34.71875 39.359375 40.84375 \r\n",
       "Q 42.484375 46.96875 42.484375 53.71875 \r\n",
       "Q 42.484375 61.078125 38.640625 65.234375 \r\n",
       "Q 34.8125 69.390625 28.078125 69.390625 \r\n",
       "Q 21.09375 69.390625 17.28125 65.921875 \r\n",
       "Q 13.484375 62.453125 12.796875 55.515625 \r\n",
       "z\r\n",
       "\" id=\"DejaVuSerif-50\"/>\r\n",
       "        <path d=\"M 31.78125 3.421875 \r\n",
       "Q 39.265625 3.421875 42.96875 11.625 \r\n",
       "Q 46.6875 19.828125 46.6875 36.375 \r\n",
       "Q 46.6875 52.984375 42.96875 61.1875 \r\n",
       "Q 39.265625 69.390625 31.78125 69.390625 \r\n",
       "Q 24.3125 69.390625 20.59375 61.1875 \r\n",
       "Q 16.890625 52.984375 16.890625 36.375 \r\n",
       "Q 16.890625 19.828125 20.59375 11.625 \r\n",
       "Q 24.3125 3.421875 31.78125 3.421875 \r\n",
       "z\r\n",
       "M 31.78125 -1.421875 \r\n",
       "Q 19.921875 -1.421875 13.25 8.53125 \r\n",
       "Q 6.59375 18.5 6.59375 36.375 \r\n",
       "Q 6.59375 54.296875 13.25 64.25 \r\n",
       "Q 19.921875 74.21875 31.78125 74.21875 \r\n",
       "Q 43.703125 74.21875 50.34375 64.25 \r\n",
       "Q 56.984375 54.296875 56.984375 36.375 \r\n",
       "Q 56.984375 18.5 50.34375 8.53125 \r\n",
       "Q 43.703125 -1.421875 31.78125 -1.421875 \r\n",
       "z\r\n",
       "\" id=\"DejaVuSerif-48\"/>\r\n",
       "        <path d=\"M 14.203125 0 \r\n",
       "L 14.203125 5.171875 \r\n",
       "L 26.90625 5.171875 \r\n",
       "L 26.90625 65.828125 \r\n",
       "L 12.203125 56.296875 \r\n",
       "L 12.203125 62.703125 \r\n",
       "L 29.984375 74.21875 \r\n",
       "L 36.71875 74.21875 \r\n",
       "L 36.71875 5.171875 \r\n",
       "L 49.421875 5.171875 \r\n",
       "L 49.421875 0 \r\n",
       "z\r\n",
       "\" id=\"DejaVuSerif-49\"/>\r\n",
       "        <path d=\"M 46.78125 32.671875 \r\n",
       "Q 43.5 29 39.25 27.1875 \r\n",
       "Q 35.015625 25.390625 29.6875 25.390625 \r\n",
       "Q 18.84375 25.390625 12.5625 31.9375 \r\n",
       "Q 6.296875 38.484375 6.296875 49.8125 \r\n",
       "Q 6.296875 60.890625 13.109375 67.546875 \r\n",
       "Q 19.921875 74.21875 31.296875 74.21875 \r\n",
       "Q 43.65625 74.21875 50.265625 65.015625 \r\n",
       "Q 56.890625 55.8125 56.890625 38.71875 \r\n",
       "Q 56.890625 19.578125 49.015625 9.078125 \r\n",
       "Q 41.15625 -1.421875 26.90625 -1.421875 \r\n",
       "Q 23.046875 -1.421875 18.796875 -0.6875 \r\n",
       "Q 14.546875 0.046875 10.109375 1.515625 \r\n",
       "L 10.109375 13.625 \r\n",
       "L 15.578125 13.625 \r\n",
       "Q 16.21875 8.6875 19.390625 6.046875 \r\n",
       "Q 22.5625 3.421875 27.875 3.421875 \r\n",
       "Q 37.359375 3.421875 41.984375 10.5625 \r\n",
       "Q 46.625 17.71875 46.78125 32.671875 \r\n",
       "z\r\n",
       "M 30.90625 69.390625 \r\n",
       "Q 23.96875 69.390625 20.28125 64.328125 \r\n",
       "Q 16.609375 59.28125 16.609375 49.8125 \r\n",
       "Q 16.609375 40.328125 20.28125 35.25 \r\n",
       "Q 23.96875 30.171875 30.90625 30.171875 \r\n",
       "Q 37.84375 30.171875 41.53125 35.078125 \r\n",
       "Q 45.21875 39.984375 45.21875 49.21875 \r\n",
       "Q 45.21875 58.9375 41.5 64.15625 \r\n",
       "Q 37.796875 69.390625 30.90625 69.390625 \r\n",
       "z\r\n",
       "\" id=\"DejaVuSerif-57\"/>\r\n",
       "       </defs>\r\n",
       "       <use xlink:href=\"#DejaVuSerif-50\"/>\r\n",
       "       <use x=\"63.623047\" xlink:href=\"#DejaVuSerif-48\"/>\r\n",
       "       <use x=\"127.246094\" xlink:href=\"#DejaVuSerif-49\"/>\r\n",
       "       <use x=\"190.869141\" xlink:href=\"#DejaVuSerif-57\"/>\r\n",
       "      </g>\r\n",
       "     </g>\r\n",
       "    </g>\r\n",
       "    <g id=\"xtick_2\">\r\n",
       "     <g id=\"line2d_3\"/>\r\n",
       "     <g id=\"text_2\">\r\n",
       "      <!-- Feb -->\r\n",
       "      <g style=\"fill:#262626;\" transform=\"translate(98.878125 344.358438)scale(0.1 -0.1)\">\r\n",
       "       <defs>\r\n",
       "        <path d=\"M 5.515625 0 \r\n",
       "L 5.515625 5.171875 \r\n",
       "L 14.796875 5.171875 \r\n",
       "L 14.796875 67.671875 \r\n",
       "L 5.515625 67.671875 \r\n",
       "L 5.515625 72.90625 \r\n",
       "L 65.1875 72.90625 \r\n",
       "L 65.1875 56.6875 \r\n",
       "L 59.1875 56.6875 \r\n",
       "L 59.1875 66.890625 \r\n",
       "L 24.703125 66.890625 \r\n",
       "L 24.703125 42.484375 \r\n",
       "L 49.609375 42.484375 \r\n",
       "L 49.609375 51.609375 \r\n",
       "L 55.609375 51.609375 \r\n",
       "L 55.609375 27.390625 \r\n",
       "L 49.609375 27.390625 \r\n",
       "L 49.609375 36.53125 \r\n",
       "L 24.703125 36.53125 \r\n",
       "L 24.703125 5.171875 \r\n",
       "L 36.375 5.171875 \r\n",
       "L 36.375 0 \r\n",
       "z\r\n",
       "\" id=\"DejaVuSerif-70\"/>\r\n",
       "        <path d=\"M 54.203125 25 \r\n",
       "L 15.484375 25 \r\n",
       "L 15.484375 24.609375 \r\n",
       "Q 15.484375 14.109375 19.4375 8.765625 \r\n",
       "Q 23.390625 3.421875 31.109375 3.421875 \r\n",
       "Q 37.015625 3.421875 40.796875 6.515625 \r\n",
       "Q 44.578125 9.625 46.09375 15.71875 \r\n",
       "L 53.328125 15.71875 \r\n",
       "Q 51.171875 7.171875 45.375 2.875 \r\n",
       "Q 39.59375 -1.421875 30.171875 -1.421875 \r\n",
       "Q 18.796875 -1.421875 11.890625 6.078125 \r\n",
       "Q 4.984375 13.578125 4.984375 25.984375 \r\n",
       "Q 4.984375 38.28125 11.765625 45.796875 \r\n",
       "Q 18.5625 53.328125 29.59375 53.328125 \r\n",
       "Q 41.359375 53.328125 47.65625 46.0625 \r\n",
       "Q 53.953125 38.8125 54.203125 25 \r\n",
       "z\r\n",
       "M 43.609375 30.171875 \r\n",
       "Q 43.3125 39.265625 39.765625 43.875 \r\n",
       "Q 36.234375 48.484375 29.59375 48.484375 \r\n",
       "Q 23.390625 48.484375 19.828125 43.84375 \r\n",
       "Q 16.265625 39.203125 15.484375 30.171875 \r\n",
       "z\r\n",
       "\" id=\"DejaVuSerif-101\"/>\r\n",
       "        <path d=\"M 11.53125 5.171875 \r\n",
       "L 11.53125 70.796875 \r\n",
       "L 2.875 70.796875 \r\n",
       "L 2.875 75.984375 \r\n",
       "L 20.515625 75.984375 \r\n",
       "L 20.515625 43.796875 \r\n",
       "Q 23.140625 48.6875 27.21875 51 \r\n",
       "Q 31.296875 53.328125 37.3125 53.328125 \r\n",
       "Q 46.875 53.328125 52.921875 45.75 \r\n",
       "Q 58.984375 38.1875 58.984375 25.984375 \r\n",
       "Q 58.984375 13.765625 52.921875 6.171875 \r\n",
       "Q 46.875 -1.421875 37.3125 -1.421875 \r\n",
       "Q 31.296875 -1.421875 27.21875 0.890625 \r\n",
       "Q 23.140625 3.21875 20.515625 8.109375 \r\n",
       "L 20.515625 0 \r\n",
       "L 2.875 0 \r\n",
       "L 2.875 5.171875 \r\n",
       "z\r\n",
       "M 20.515625 23.390625 \r\n",
       "Q 20.515625 14.015625 24.09375 9.109375 \r\n",
       "Q 27.6875 4.203125 34.515625 4.203125 \r\n",
       "Q 41.40625 4.203125 44.9375 9.71875 \r\n",
       "Q 48.484375 15.234375 48.484375 25.984375 \r\n",
       "Q 48.484375 36.765625 44.9375 42.234375 \r\n",
       "Q 41.40625 47.703125 34.515625 47.703125 \r\n",
       "Q 27.6875 47.703125 24.09375 42.765625 \r\n",
       "Q 20.515625 37.84375 20.515625 28.515625 \r\n",
       "z\r\n",
       "\" id=\"DejaVuSerif-98\"/>\r\n",
       "       </defs>\r\n",
       "       <use xlink:href=\"#DejaVuSerif-70\"/>\r\n",
       "       <use x=\"63.884766\" xlink:href=\"#DejaVuSerif-101\"/>\r\n",
       "       <use x=\"123.064453\" xlink:href=\"#DejaVuSerif-98\"/>\r\n",
       "      </g>\r\n",
       "     </g>\r\n",
       "    </g>\r\n",
       "    <g id=\"xtick_3\">\r\n",
       "     <g id=\"line2d_4\"/>\r\n",
       "     <g id=\"text_3\">\r\n",
       "      <!-- Mar -->\r\n",
       "      <g style=\"fill:#262626;\" transform=\"translate(167.492187 344.358438)scale(0.1 -0.1)\">\r\n",
       "       <defs>\r\n",
       "        <path d=\"M 5.515625 0 \r\n",
       "L 5.515625 5.171875 \r\n",
       "L 14.796875 5.171875 \r\n",
       "L 14.796875 67.671875 \r\n",
       "L 4.984375 67.671875 \r\n",
       "L 4.984375 72.90625 \r\n",
       "L 26.21875 72.90625 \r\n",
       "L 51.8125 21 \r\n",
       "L 77.390625 72.90625 \r\n",
       "L 97.3125 72.90625 \r\n",
       "L 97.3125 67.671875 \r\n",
       "L 87.59375 67.671875 \r\n",
       "L 87.59375 5.171875 \r\n",
       "L 96.921875 5.171875 \r\n",
       "L 96.921875 0 \r\n",
       "L 68.40625 0 \r\n",
       "L 68.40625 5.171875 \r\n",
       "L 77.6875 5.171875 \r\n",
       "L 77.6875 61.53125 \r\n",
       "L 52.6875 10.6875 \r\n",
       "L 45.796875 10.6875 \r\n",
       "L 20.796875 61.53125 \r\n",
       "L 20.796875 5.171875 \r\n",
       "L 30.078125 5.171875 \r\n",
       "L 30.078125 0 \r\n",
       "z\r\n",
       "\" id=\"DejaVuSerif-77\"/>\r\n",
       "        <path d=\"M 47.796875 52 \r\n",
       "L 47.796875 39.015625 \r\n",
       "L 42.625 39.015625 \r\n",
       "Q 42.390625 42.875 40.484375 44.78125 \r\n",
       "Q 38.578125 46.6875 34.90625 46.6875 \r\n",
       "Q 28.265625 46.6875 24.71875 42.09375 \r\n",
       "Q 21.1875 37.5 21.1875 28.90625 \r\n",
       "L 21.1875 5.171875 \r\n",
       "L 31.59375 5.171875 \r\n",
       "L 31.59375 0 \r\n",
       "L 4.109375 0 \r\n",
       "L 4.109375 5.171875 \r\n",
       "L 12.203125 5.171875 \r\n",
       "L 12.203125 46.78125 \r\n",
       "L 3.609375 46.78125 \r\n",
       "L 3.609375 51.90625 \r\n",
       "L 21.1875 51.90625 \r\n",
       "L 21.1875 42.671875 \r\n",
       "Q 23.828125 48.09375 27.96875 50.703125 \r\n",
       "Q 32.125 53.328125 38.09375 53.328125 \r\n",
       "Q 40.28125 53.328125 42.703125 52.984375 \r\n",
       "Q 45.125 52.640625 47.796875 52 \r\n",
       "z\r\n",
       "\" id=\"DejaVuSerif-114\"/>\r\n",
       "       </defs>\r\n",
       "       <use xlink:href=\"#DejaVuSerif-77\"/>\r\n",
       "       <use x=\"102.392578\" xlink:href=\"#DejaVuSerif-97\"/>\r\n",
       "       <use x=\"162.011719\" xlink:href=\"#DejaVuSerif-114\"/>\r\n",
       "      </g>\r\n",
       "     </g>\r\n",
       "    </g>\r\n",
       "    <g id=\"xtick_4\">\r\n",
       "     <g id=\"line2d_5\"/>\r\n",
       "     <g id=\"text_4\">\r\n",
       "      <!-- Apr -->\r\n",
       "      <g style=\"fill:#262626;\" transform=\"translate(238.53125 344.358438)scale(0.1 -0.1)\">\r\n",
       "       <defs>\r\n",
       "        <path d=\"M 20.015625 26.421875 \r\n",
       "L 46.78125 26.421875 \r\n",
       "L 33.40625 61.078125 \r\n",
       "z\r\n",
       "M -0.59375 0 \r\n",
       "L -0.59375 5.171875 \r\n",
       "L 5.8125 5.171875 \r\n",
       "L 31.78125 72.90625 \r\n",
       "L 39.984375 72.90625 \r\n",
       "L 66.015625 5.171875 \r\n",
       "L 73.1875 5.171875 \r\n",
       "L 73.1875 0 \r\n",
       "L 46.6875 0 \r\n",
       "L 46.6875 5.171875 \r\n",
       "L 54.78125 5.171875 \r\n",
       "L 48.6875 21.1875 \r\n",
       "L 18.015625 21.1875 \r\n",
       "L 11.921875 5.171875 \r\n",
       "L 19.921875 5.171875 \r\n",
       "L 19.921875 0 \r\n",
       "z\r\n",
       "\" id=\"DejaVuSerif-65\"/>\r\n",
       "        <path d=\"M 20.515625 28.515625 \r\n",
       "L 20.515625 23.390625 \r\n",
       "Q 20.515625 14.015625 24.09375 9.109375 \r\n",
       "Q 27.6875 4.203125 34.515625 4.203125 \r\n",
       "Q 41.40625 4.203125 44.9375 9.71875 \r\n",
       "Q 48.484375 15.234375 48.484375 25.984375 \r\n",
       "Q 48.484375 36.765625 44.9375 42.234375 \r\n",
       "Q 41.40625 47.703125 34.515625 47.703125 \r\n",
       "Q 27.6875 47.703125 24.09375 42.765625 \r\n",
       "Q 20.515625 37.84375 20.515625 28.515625 \r\n",
       "z\r\n",
       "M 11.53125 46.6875 \r\n",
       "L 2.875 46.6875 \r\n",
       "L 2.875 51.90625 \r\n",
       "L 20.515625 51.90625 \r\n",
       "L 20.515625 43.796875 \r\n",
       "Q 23.140625 48.6875 27.21875 51 \r\n",
       "Q 31.296875 53.328125 37.3125 53.328125 \r\n",
       "Q 46.875 53.328125 52.921875 45.75 \r\n",
       "Q 58.984375 38.1875 58.984375 25.984375 \r\n",
       "Q 58.984375 13.765625 52.921875 6.171875 \r\n",
       "Q 46.875 -1.421875 37.3125 -1.421875 \r\n",
       "Q 31.296875 -1.421875 27.21875 0.890625 \r\n",
       "Q 23.140625 3.21875 20.515625 8.109375 \r\n",
       "L 20.515625 -15.578125 \r\n",
       "L 29 -15.578125 \r\n",
       "L 29 -20.796875 \r\n",
       "L 2.875 -20.796875 \r\n",
       "L 2.875 -15.578125 \r\n",
       "L 11.53125 -15.578125 \r\n",
       "z\r\n",
       "\" id=\"DejaVuSerif-112\"/>\r\n",
       "       </defs>\r\n",
       "       <use xlink:href=\"#DejaVuSerif-65\"/>\r\n",
       "       <use x=\"72.216797\" xlink:href=\"#DejaVuSerif-112\"/>\r\n",
       "       <use x=\"136.230469\" xlink:href=\"#DejaVuSerif-114\"/>\r\n",
       "      </g>\r\n",
       "     </g>\r\n",
       "    </g>\r\n",
       "    <g id=\"xtick_5\">\r\n",
       "     <g id=\"line2d_6\"/>\r\n",
       "     <g id=\"text_5\">\r\n",
       "      <!-- May -->\r\n",
       "      <g style=\"fill:#262626;\" transform=\"translate(306.557031 344.21625)scale(0.1 -0.1)\">\r\n",
       "       <defs>\r\n",
       "        <path d=\"M 21.578125 -9.515625 \r\n",
       "L 25 -0.875 \r\n",
       "L 5.609375 46.6875 \r\n",
       "L -0.296875 46.6875 \r\n",
       "L -0.296875 51.90625 \r\n",
       "L 23.578125 51.90625 \r\n",
       "L 23.578125 46.6875 \r\n",
       "L 15.28125 46.6875 \r\n",
       "L 29.890625 10.984375 \r\n",
       "L 44.484375 46.6875 \r\n",
       "L 36.71875 46.6875 \r\n",
       "L 36.71875 51.90625 \r\n",
       "L 56.203125 51.90625 \r\n",
       "L 56.203125 46.6875 \r\n",
       "L 50.390625 46.6875 \r\n",
       "L 26.609375 -11.71875 \r\n",
       "Q 24.171875 -17.78125 21.1875 -20 \r\n",
       "Q 18.21875 -22.21875 12.796875 -22.21875 \r\n",
       "Q 10.5 -22.21875 8.078125 -21.828125 \r\n",
       "Q 5.671875 -21.4375 3.21875 -20.703125 \r\n",
       "L 3.21875 -10.796875 \r\n",
       "L 7.8125 -10.796875 \r\n",
       "Q 8.109375 -14.109375 9.5 -15.546875 \r\n",
       "Q 10.890625 -17 13.8125 -17 \r\n",
       "Q 16.5 -17 18.140625 -15.5 \r\n",
       "Q 19.78125 -14.015625 21.578125 -9.515625 \r\n",
       "z\r\n",
       "\" id=\"DejaVuSerif-121\"/>\r\n",
       "       </defs>\r\n",
       "       <use xlink:href=\"#DejaVuSerif-77\"/>\r\n",
       "       <use x=\"102.392578\" xlink:href=\"#DejaVuSerif-97\"/>\r\n",
       "       <use x=\"162.011719\" xlink:href=\"#DejaVuSerif-121\"/>\r\n",
       "      </g>\r\n",
       "     </g>\r\n",
       "    </g>\r\n",
       "    <g id=\"xtick_6\">\r\n",
       "     <g id=\"line2d_7\"/>\r\n",
       "     <g id=\"text_6\">\r\n",
       "      <!-- Jun -->\r\n",
       "      <g style=\"fill:#262626;\" transform=\"translate(378.7875 344.358438)scale(0.1 -0.1)\">\r\n",
       "       <defs>\r\n",
       "        <path d=\"M 35.40625 51.90625 \r\n",
       "L 52.203125 51.90625 \r\n",
       "L 52.203125 5.171875 \r\n",
       "L 60.6875 5.171875 \r\n",
       "L 60.6875 0 \r\n",
       "L 43.21875 0 \r\n",
       "L 43.21875 9.1875 \r\n",
       "Q 40.71875 4 36.765625 1.28125 \r\n",
       "Q 32.8125 -1.421875 27.59375 -1.421875 \r\n",
       "Q 18.953125 -1.421875 14.875 3.484375 \r\n",
       "Q 10.796875 8.40625 10.796875 18.890625 \r\n",
       "L 10.796875 46.6875 \r\n",
       "L 2.6875 46.6875 \r\n",
       "L 2.6875 51.90625 \r\n",
       "L 19.828125 51.90625 \r\n",
       "L 19.828125 21.6875 \r\n",
       "Q 19.828125 12.203125 22.140625 8.6875 \r\n",
       "Q 24.46875 5.171875 30.421875 5.171875 \r\n",
       "Q 36.671875 5.171875 39.9375 9.765625 \r\n",
       "Q 43.21875 14.359375 43.21875 23.09375 \r\n",
       "L 43.21875 46.6875 \r\n",
       "L 35.40625 46.6875 \r\n",
       "z\r\n",
       "\" id=\"DejaVuSerif-117\"/>\r\n",
       "       </defs>\r\n",
       "       <use xlink:href=\"#DejaVuSerif-74\"/>\r\n",
       "       <use x=\"40.087891\" xlink:href=\"#DejaVuSerif-117\"/>\r\n",
       "       <use x=\"104.492188\" xlink:href=\"#DejaVuSerif-110\"/>\r\n",
       "      </g>\r\n",
       "     </g>\r\n",
       "    </g>\r\n",
       "    <g id=\"xtick_7\">\r\n",
       "     <g id=\"line2d_8\"/>\r\n",
       "     <g id=\"text_7\">\r\n",
       "      <!-- Jul -->\r\n",
       "      <g style=\"fill:#262626;\" transform=\"translate(450.158594 344.358438)scale(0.1 -0.1)\">\r\n",
       "       <defs>\r\n",
       "        <path d=\"M 20.515625 5.171875 \r\n",
       "L 29 5.171875 \r\n",
       "L 29 0 \r\n",
       "L 2.875 0 \r\n",
       "L 2.875 5.171875 \r\n",
       "L 11.53125 5.171875 \r\n",
       "L 11.53125 70.796875 \r\n",
       "L 2.875 70.796875 \r\n",
       "L 2.875 75.984375 \r\n",
       "L 20.515625 75.984375 \r\n",
       "z\r\n",
       "\" id=\"DejaVuSerif-108\"/>\r\n",
       "       </defs>\r\n",
       "       <use xlink:href=\"#DejaVuSerif-74\"/>\r\n",
       "       <use x=\"40.087891\" xlink:href=\"#DejaVuSerif-117\"/>\r\n",
       "       <use x=\"104.492188\" xlink:href=\"#DejaVuSerif-108\"/>\r\n",
       "      </g>\r\n",
       "     </g>\r\n",
       "    </g>\r\n",
       "    <g id=\"xtick_8\">\r\n",
       "     <g id=\"line2d_9\"/>\r\n",
       "     <g id=\"text_8\">\r\n",
       "      <!-- Aug -->\r\n",
       "      <g style=\"fill:#262626;\" transform=\"translate(516.700781 344.21625)scale(0.1 -0.1)\">\r\n",
       "       <defs>\r\n",
       "        <path d=\"M 52.484375 46.6875 \r\n",
       "L 52.484375 1.125 \r\n",
       "Q 52.484375 -10.0625 46.328125 -16.140625 \r\n",
       "Q 40.1875 -22.21875 28.8125 -22.21875 \r\n",
       "Q 23.6875 -22.21875 19 -21.28125 \r\n",
       "Q 14.3125 -20.359375 10.015625 -18.5 \r\n",
       "L 10.015625 -7.625 \r\n",
       "L 14.703125 -7.625 \r\n",
       "Q 15.578125 -12.703125 18.84375 -15.046875 \r\n",
       "Q 22.125 -17.390625 28.21875 -17.390625 \r\n",
       "Q 36.140625 -17.390625 39.8125 -12.921875 \r\n",
       "Q 43.5 -8.453125 43.5 1.125 \r\n",
       "L 43.5 8.109375 \r\n",
       "Q 40.875 3.21875 36.796875 0.890625 \r\n",
       "Q 32.71875 -1.421875 26.703125 -1.421875 \r\n",
       "Q 17.140625 -1.421875 11.0625 6.171875 \r\n",
       "Q 4.984375 13.765625 4.984375 25.984375 \r\n",
       "Q 4.984375 38.1875 11.03125 45.75 \r\n",
       "Q 17.09375 53.328125 26.703125 53.328125 \r\n",
       "Q 32.71875 53.328125 36.796875 51 \r\n",
       "Q 40.875 48.6875 43.5 43.796875 \r\n",
       "L 43.5 51.90625 \r\n",
       "L 61.078125 51.90625 \r\n",
       "L 61.078125 46.6875 \r\n",
       "z\r\n",
       "M 43.5 28.515625 \r\n",
       "Q 43.5 37.84375 39.90625 42.765625 \r\n",
       "Q 36.328125 47.703125 29.5 47.703125 \r\n",
       "Q 22.5625 47.703125 19.015625 42.234375 \r\n",
       "Q 15.484375 36.765625 15.484375 25.984375 \r\n",
       "Q 15.484375 15.234375 19.015625 9.71875 \r\n",
       "Q 22.5625 4.203125 29.5 4.203125 \r\n",
       "Q 36.328125 4.203125 39.90625 9.109375 \r\n",
       "Q 43.5 14.015625 43.5 23.390625 \r\n",
       "z\r\n",
       "\" id=\"DejaVuSerif-103\"/>\r\n",
       "       </defs>\r\n",
       "       <use xlink:href=\"#DejaVuSerif-65\"/>\r\n",
       "       <use x=\"72.216797\" xlink:href=\"#DejaVuSerif-117\"/>\r\n",
       "       <use x=\"136.621094\" xlink:href=\"#DejaVuSerif-103\"/>\r\n",
       "      </g>\r\n",
       "     </g>\r\n",
       "    </g>\r\n",
       "    <g id=\"xtick_9\">\r\n",
       "     <g id=\"line2d_10\"/>\r\n",
       "     <g id=\"text_9\">\r\n",
       "      <!-- Sep -->\r\n",
       "      <g style=\"fill:#262626;\" transform=\"translate(586.897656 344.358438)scale(0.1 -0.1)\">\r\n",
       "       <defs>\r\n",
       "        <path d=\"M 9.28125 3.515625 \r\n",
       "L 9.28125 20.125 \r\n",
       "L 14.890625 20.0625 \r\n",
       "Q 15.140625 11.765625 19.703125 7.78125 \r\n",
       "Q 24.265625 3.8125 33.59375 3.8125 \r\n",
       "Q 42.28125 3.8125 46.84375 7.25 \r\n",
       "Q 51.421875 10.6875 51.421875 17.28125 \r\n",
       "Q 51.421875 22.5625 48.65625 25.390625 \r\n",
       "Q 45.90625 28.21875 37.015625 30.90625 \r\n",
       "L 27.390625 33.796875 \r\n",
       "Q 16.9375 36.96875 12.671875 41.703125 \r\n",
       "Q 8.40625 46.4375 8.40625 54.6875 \r\n",
       "Q 8.40625 63.96875 14.984375 69.09375 \r\n",
       "Q 21.578125 74.21875 33.5 74.21875 \r\n",
       "Q 38.578125 74.21875 44.625 73.109375 \r\n",
       "Q 50.6875 72.015625 57.515625 69.921875 \r\n",
       "L 57.515625 54.390625 \r\n",
       "L 52 54.390625 \r\n",
       "Q 51.171875 62.109375 46.84375 65.546875 \r\n",
       "Q 42.53125 69 33.6875 69 \r\n",
       "Q 25.984375 69 21.953125 65.84375 \r\n",
       "Q 17.921875 62.703125 17.921875 56.6875 \r\n",
       "Q 17.921875 51.46875 20.9375 48.484375 \r\n",
       "Q 23.96875 45.515625 33.796875 42.578125 \r\n",
       "L 42.828125 39.890625 \r\n",
       "Q 52.734375 36.921875 56.953125 32.296875 \r\n",
       "Q 61.1875 27.6875 61.1875 19.921875 \r\n",
       "Q 61.1875 9.328125 54.390625 3.953125 \r\n",
       "Q 47.609375 -1.421875 34.1875 -1.421875 \r\n",
       "Q 28.171875 -1.421875 21.9375 -0.1875 \r\n",
       "Q 15.71875 1.03125 9.28125 3.515625 \r\n",
       "z\r\n",
       "\" id=\"DejaVuSerif-83\"/>\r\n",
       "       </defs>\r\n",
       "       <use xlink:href=\"#DejaVuSerif-83\"/>\r\n",
       "       <use x=\"68.505859\" xlink:href=\"#DejaVuSerif-101\"/>\r\n",
       "       <use x=\"127.685547\" xlink:href=\"#DejaVuSerif-112\"/>\r\n",
       "      </g>\r\n",
       "     </g>\r\n",
       "    </g>\r\n",
       "   </g>\r\n",
       "   <g id=\"matplotlib.axis_2\">\r\n",
       "    <g id=\"ytick_1\">\r\n",
       "     <g id=\"line2d_11\">\r\n",
       "      <path clip-path=\"url(#p31546c3d4c)\" d=\"M 38.482813 296.550784 \r\n",
       "L 596.482813 296.550784 \r\n",
       "\" style=\"fill:none;stroke:#ffffff;stroke-linecap:round;\"/>\r\n",
       "     </g>\r\n",
       "     <g id=\"line2d_12\"/>\r\n",
       "     <g id=\"text_10\">\r\n",
       "      <!-- −1.5 -->\r\n",
       "      <g style=\"fill:#262626;\" transform=\"translate(7.2 300.350003)scale(0.1 -0.1)\">\r\n",
       "       <defs>\r\n",
       "        <path d=\"M 10.59375 35.296875 \r\n",
       "L 73.1875 35.296875 \r\n",
       "L 73.1875 27.390625 \r\n",
       "L 10.59375 27.390625 \r\n",
       "z\r\n",
       "\" id=\"DejaVuSerif-8722\"/>\r\n",
       "        <path d=\"M 9.421875 5.078125 \r\n",
       "Q 9.421875 7.8125 11.28125 9.71875 \r\n",
       "Q 13.140625 11.625 15.921875 11.625 \r\n",
       "Q 18.609375 11.625 20.5 9.71875 \r\n",
       "Q 22.40625 7.8125 22.40625 5.078125 \r\n",
       "Q 22.40625 2.390625 20.5 0.484375 \r\n",
       "Q 18.609375 -1.421875 15.921875 -1.421875 \r\n",
       "Q 13.140625 -1.421875 11.28125 0.453125 \r\n",
       "Q 9.421875 2.34375 9.421875 5.078125 \r\n",
       "z\r\n",
       "\" id=\"DejaVuSerif-46\"/>\r\n",
       "        <path d=\"M 50.296875 72.90625 \r\n",
       "L 50.296875 64.890625 \r\n",
       "L 16.890625 64.890625 \r\n",
       "L 16.890625 44 \r\n",
       "Q 19.4375 45.75 22.828125 46.625 \r\n",
       "Q 26.21875 47.515625 30.421875 47.515625 \r\n",
       "Q 42.234375 47.515625 49.0625 40.96875 \r\n",
       "Q 55.90625 34.421875 55.90625 23.09375 \r\n",
       "Q 55.90625 11.53125 49 5.046875 \r\n",
       "Q 42.09375 -1.421875 29.59375 -1.421875 \r\n",
       "Q 24.5625 -1.421875 19.28125 -0.1875 \r\n",
       "Q 14.015625 1.03125 8.5 3.515625 \r\n",
       "L 8.5 17.671875 \r\n",
       "L 14.015625 17.671875 \r\n",
       "Q 14.453125 10.75 18.421875 7.078125 \r\n",
       "Q 22.40625 3.421875 29.59375 3.421875 \r\n",
       "Q 37.3125 3.421875 41.453125 8.5 \r\n",
       "Q 45.609375 13.578125 45.609375 23.09375 \r\n",
       "Q 45.609375 32.5625 41.484375 37.609375 \r\n",
       "Q 37.359375 42.671875 29.59375 42.671875 \r\n",
       "Q 25.203125 42.671875 21.84375 41.109375 \r\n",
       "Q 18.5 39.546875 15.921875 36.28125 \r\n",
       "L 11.71875 36.28125 \r\n",
       "L 11.71875 72.90625 \r\n",
       "z\r\n",
       "\" id=\"DejaVuSerif-53\"/>\r\n",
       "       </defs>\r\n",
       "       <use xlink:href=\"#DejaVuSerif-8722\"/>\r\n",
       "       <use x=\"83.789062\" xlink:href=\"#DejaVuSerif-49\"/>\r\n",
       "       <use x=\"147.412109\" xlink:href=\"#DejaVuSerif-46\"/>\r\n",
       "       <use x=\"179.199219\" xlink:href=\"#DejaVuSerif-53\"/>\r\n",
       "      </g>\r\n",
       "     </g>\r\n",
       "    </g>\r\n",
       "    <g id=\"ytick_2\">\r\n",
       "     <g id=\"line2d_13\">\r\n",
       "      <path clip-path=\"url(#p31546c3d4c)\" d=\"M 38.482813 252.541976 \r\n",
       "L 596.482813 252.541976 \r\n",
       "\" style=\"fill:none;stroke:#ffffff;stroke-linecap:round;\"/>\r\n",
       "     </g>\r\n",
       "     <g id=\"line2d_14\"/>\r\n",
       "     <g id=\"text_11\">\r\n",
       "      <!-- −1.0 -->\r\n",
       "      <g style=\"fill:#262626;\" transform=\"translate(7.2 256.341195)scale(0.1 -0.1)\">\r\n",
       "       <use xlink:href=\"#DejaVuSerif-8722\"/>\r\n",
       "       <use x=\"83.789062\" xlink:href=\"#DejaVuSerif-49\"/>\r\n",
       "       <use x=\"147.412109\" xlink:href=\"#DejaVuSerif-46\"/>\r\n",
       "       <use x=\"179.199219\" xlink:href=\"#DejaVuSerif-48\"/>\r\n",
       "      </g>\r\n",
       "     </g>\r\n",
       "    </g>\r\n",
       "    <g id=\"ytick_3\">\r\n",
       "     <g id=\"line2d_15\">\r\n",
       "      <path clip-path=\"url(#p31546c3d4c)\" d=\"M 38.482813 208.533168 \r\n",
       "L 596.482813 208.533168 \r\n",
       "\" style=\"fill:none;stroke:#ffffff;stroke-linecap:round;\"/>\r\n",
       "     </g>\r\n",
       "     <g id=\"line2d_16\"/>\r\n",
       "     <g id=\"text_12\">\r\n",
       "      <!-- −0.5 -->\r\n",
       "      <g style=\"fill:#262626;\" transform=\"translate(7.2 212.332387)scale(0.1 -0.1)\">\r\n",
       "       <use xlink:href=\"#DejaVuSerif-8722\"/>\r\n",
       "       <use x=\"83.789062\" xlink:href=\"#DejaVuSerif-48\"/>\r\n",
       "       <use x=\"147.412109\" xlink:href=\"#DejaVuSerif-46\"/>\r\n",
       "       <use x=\"179.199219\" xlink:href=\"#DejaVuSerif-53\"/>\r\n",
       "      </g>\r\n",
       "     </g>\r\n",
       "    </g>\r\n",
       "    <g id=\"ytick_4\">\r\n",
       "     <g id=\"line2d_17\">\r\n",
       "      <path clip-path=\"url(#p31546c3d4c)\" d=\"M 38.482813 164.52436 \r\n",
       "L 596.482813 164.52436 \r\n",
       "\" style=\"fill:none;stroke:#ffffff;stroke-linecap:round;\"/>\r\n",
       "     </g>\r\n",
       "     <g id=\"line2d_18\"/>\r\n",
       "     <g id=\"text_13\">\r\n",
       "      <!-- 0.0 -->\r\n",
       "      <g style=\"fill:#262626;\" transform=\"translate(15.579688 168.323579)scale(0.1 -0.1)\">\r\n",
       "       <use xlink:href=\"#DejaVuSerif-48\"/>\r\n",
       "       <use x=\"63.623047\" xlink:href=\"#DejaVuSerif-46\"/>\r\n",
       "       <use x=\"95.410156\" xlink:href=\"#DejaVuSerif-48\"/>\r\n",
       "      </g>\r\n",
       "     </g>\r\n",
       "    </g>\r\n",
       "    <g id=\"ytick_5\">\r\n",
       "     <g id=\"line2d_19\">\r\n",
       "      <path clip-path=\"url(#p31546c3d4c)\" d=\"M 38.482813 120.515552 \r\n",
       "L 596.482813 120.515552 \r\n",
       "\" style=\"fill:none;stroke:#ffffff;stroke-linecap:round;\"/>\r\n",
       "     </g>\r\n",
       "     <g id=\"line2d_20\"/>\r\n",
       "     <g id=\"text_14\">\r\n",
       "      <!-- 0.5 -->\r\n",
       "      <g style=\"fill:#262626;\" transform=\"translate(15.579688 124.314771)scale(0.1 -0.1)\">\r\n",
       "       <use xlink:href=\"#DejaVuSerif-48\"/>\r\n",
       "       <use x=\"63.623047\" xlink:href=\"#DejaVuSerif-46\"/>\r\n",
       "       <use x=\"95.410156\" xlink:href=\"#DejaVuSerif-53\"/>\r\n",
       "      </g>\r\n",
       "     </g>\r\n",
       "    </g>\r\n",
       "    <g id=\"ytick_6\">\r\n",
       "     <g id=\"line2d_21\">\r\n",
       "      <path clip-path=\"url(#p31546c3d4c)\" d=\"M 38.482813 76.506745 \r\n",
       "L 596.482813 76.506745 \r\n",
       "\" style=\"fill:none;stroke:#ffffff;stroke-linecap:round;\"/>\r\n",
       "     </g>\r\n",
       "     <g id=\"line2d_22\"/>\r\n",
       "     <g id=\"text_15\">\r\n",
       "      <!-- 1.0 -->\r\n",
       "      <g style=\"fill:#262626;\" transform=\"translate(15.579688 80.305963)scale(0.1 -0.1)\">\r\n",
       "       <use xlink:href=\"#DejaVuSerif-49\"/>\r\n",
       "       <use x=\"63.623047\" xlink:href=\"#DejaVuSerif-46\"/>\r\n",
       "       <use x=\"95.410156\" xlink:href=\"#DejaVuSerif-48\"/>\r\n",
       "      </g>\r\n",
       "     </g>\r\n",
       "    </g>\r\n",
       "    <g id=\"ytick_7\">\r\n",
       "     <g id=\"line2d_23\">\r\n",
       "      <path clip-path=\"url(#p31546c3d4c)\" d=\"M 38.482813 32.497937 \r\n",
       "L 596.482813 32.497937 \r\n",
       "\" style=\"fill:none;stroke:#ffffff;stroke-linecap:round;\"/>\r\n",
       "     </g>\r\n",
       "     <g id=\"line2d_24\"/>\r\n",
       "     <g id=\"text_16\">\r\n",
       "      <!-- 1.5 -->\r\n",
       "      <g style=\"fill:#262626;\" transform=\"translate(15.579688 36.297155)scale(0.1 -0.1)\">\r\n",
       "       <use xlink:href=\"#DejaVuSerif-49\"/>\r\n",
       "       <use x=\"63.623047\" xlink:href=\"#DejaVuSerif-46\"/>\r\n",
       "       <use x=\"95.410156\" xlink:href=\"#DejaVuSerif-53\"/>\r\n",
       "      </g>\r\n",
       "     </g>\r\n",
       "    </g>\r\n",
       "   </g>\r\n",
       "   <g id=\"line2d_25\">\r\n",
       "    <path clip-path=\"url(#p31546c3d4c)\" d=\"M 38.482812 318.534545 \r\n",
       "L 108.232812 78.150844 \r\n",
       "L 177.982812 181.203332 \r\n",
       "L 247.732812 215.891005 \r\n",
       "L 317.482812 211.286392 \r\n",
       "L 387.232812 22.025455 \r\n",
       "L 456.982812 148.283465 \r\n",
       "L 526.732812 193.239056 \r\n",
       "L 596.482812 231.096687 \r\n",
       "\" style=\"fill:none;stroke:#4c72b0;stroke-linecap:round;stroke-width:2;\"/>\r\n",
       "   </g>\r\n",
       "   <g id=\"patch_3\">\r\n",
       "    <path d=\"M 38.482813 333.36 \r\n",
       "L 38.482813 7.2 \r\n",
       "\" style=\"fill:none;\"/>\r\n",
       "   </g>\r\n",
       "   <g id=\"patch_4\">\r\n",
       "    <path d=\"M 596.482813 333.36 \r\n",
       "L 596.482813 7.2 \r\n",
       "\" style=\"fill:none;\"/>\r\n",
       "   </g>\r\n",
       "   <g id=\"patch_5\">\r\n",
       "    <path d=\"M 38.482812 333.36 \r\n",
       "L 596.482812 333.36 \r\n",
       "\" style=\"fill:none;\"/>\r\n",
       "   </g>\r\n",
       "   <g id=\"patch_6\">\r\n",
       "    <path d=\"M 38.482812 7.2 \r\n",
       "L 596.482812 7.2 \r\n",
       "\" style=\"fill:none;\"/>\r\n",
       "   </g>\r\n",
       "  </g>\r\n",
       " </g>\r\n",
       " <defs>\r\n",
       "  <clipPath id=\"p31546c3d4c\">\r\n",
       "   <rect height=\"326.16\" width=\"558\" x=\"38.482813\" y=\"7.2\"/>\r\n",
       "  </clipPath>\r\n",
       " </defs>\r\n",
       "</svg>\r\n"
      ],
      "text/plain": [
       "<Figure size 720x432 with 1 Axes>"
      ]
     },
     "metadata": {
      "needs_background": "light"
     },
     "output_type": "display_data"
    }
   ],
   "source": [
    "s.plot(lw=2.0, figsize=(10, 6));\n",
    "# plt.savefig('../../images/ch05/pd_plot_03.png')"
   ]
  },
  {
   "cell_type": "markdown",
   "metadata": {},
   "source": [
    "## GroupBy Operations"
   ]
  },
  {
   "cell_type": "code",
   "execution_count": 72,
   "metadata": {
    "scrolled": true,
    "uuid": "4bc106dd-9590-4566-bc70-d410517c8223"
   },
   "outputs": [
    {
     "data": {
      "text/html": [
       "<div>\n",
       "<style scoped>\n",
       "    .dataframe tbody tr th:only-of-type {\n",
       "        vertical-align: middle;\n",
       "    }\n",
       "\n",
       "    .dataframe tbody tr th {\n",
       "        vertical-align: top;\n",
       "    }\n",
       "\n",
       "    .dataframe thead th {\n",
       "        text-align: right;\n",
       "    }\n",
       "</style>\n",
       "<table border=\"1\" class=\"dataframe\">\n",
       "  <thead>\n",
       "    <tr style=\"text-align: right;\">\n",
       "      <th></th>\n",
       "      <th>No1</th>\n",
       "      <th>No2</th>\n",
       "      <th>No3</th>\n",
       "      <th>No4</th>\n",
       "      <th>Quarter</th>\n",
       "    </tr>\n",
       "  </thead>\n",
       "  <tbody>\n",
       "    <tr>\n",
       "      <th>2019-01-31</th>\n",
       "      <td>-1.749765</td>\n",
       "      <td>0.342680</td>\n",
       "      <td>1.153036</td>\n",
       "      <td>-0.252436</td>\n",
       "      <td>Q1</td>\n",
       "    </tr>\n",
       "    <tr>\n",
       "      <th>2019-02-28</th>\n",
       "      <td>0.981321</td>\n",
       "      <td>0.514219</td>\n",
       "      <td>0.221180</td>\n",
       "      <td>-1.070043</td>\n",
       "      <td>Q1</td>\n",
       "    </tr>\n",
       "    <tr>\n",
       "      <th>2019-03-31</th>\n",
       "      <td>-0.189496</td>\n",
       "      <td>0.255001</td>\n",
       "      <td>-0.458027</td>\n",
       "      <td>0.435163</td>\n",
       "      <td>Q1</td>\n",
       "    </tr>\n",
       "    <tr>\n",
       "      <th>2019-04-30</th>\n",
       "      <td>-0.583595</td>\n",
       "      <td>0.816847</td>\n",
       "      <td>0.672721</td>\n",
       "      <td>-0.104411</td>\n",
       "      <td>Q2</td>\n",
       "    </tr>\n",
       "    <tr>\n",
       "      <th>2019-05-31</th>\n",
       "      <td>-0.531280</td>\n",
       "      <td>1.029733</td>\n",
       "      <td>-0.438136</td>\n",
       "      <td>-1.118318</td>\n",
       "      <td>Q2</td>\n",
       "    </tr>\n",
       "    <tr>\n",
       "      <th>2019-06-30</th>\n",
       "      <td>1.618982</td>\n",
       "      <td>1.541605</td>\n",
       "      <td>-0.251879</td>\n",
       "      <td>-0.842436</td>\n",
       "      <td>Q2</td>\n",
       "    </tr>\n",
       "    <tr>\n",
       "      <th>2019-07-31</th>\n",
       "      <td>0.184519</td>\n",
       "      <td>0.937082</td>\n",
       "      <td>0.731000</td>\n",
       "      <td>1.361556</td>\n",
       "      <td>Q3</td>\n",
       "    </tr>\n",
       "    <tr>\n",
       "      <th>2019-08-31</th>\n",
       "      <td>-0.326238</td>\n",
       "      <td>0.055676</td>\n",
       "      <td>0.222400</td>\n",
       "      <td>-1.443217</td>\n",
       "      <td>Q3</td>\n",
       "    </tr>\n",
       "    <tr>\n",
       "      <th>2019-09-30</th>\n",
       "      <td>-0.756352</td>\n",
       "      <td>0.816454</td>\n",
       "      <td>0.750445</td>\n",
       "      <td>-0.455947</td>\n",
       "      <td>Q3</td>\n",
       "    </tr>\n",
       "  </tbody>\n",
       "</table>\n",
       "</div>"
      ],
      "text/plain": [
       "                 No1       No2       No3       No4 Quarter\n",
       "2019-01-31 -1.749765  0.342680  1.153036 -0.252436      Q1\n",
       "2019-02-28  0.981321  0.514219  0.221180 -1.070043      Q1\n",
       "2019-03-31 -0.189496  0.255001 -0.458027  0.435163      Q1\n",
       "2019-04-30 -0.583595  0.816847  0.672721 -0.104411      Q2\n",
       "2019-05-31 -0.531280  1.029733 -0.438136 -1.118318      Q2\n",
       "2019-06-30  1.618982  1.541605 -0.251879 -0.842436      Q2\n",
       "2019-07-31  0.184519  0.937082  0.731000  1.361556      Q3\n",
       "2019-08-31 -0.326238  0.055676  0.222400 -1.443217      Q3\n",
       "2019-09-30 -0.756352  0.816454  0.750445 -0.455947      Q3"
      ]
     },
     "execution_count": 72,
     "metadata": {},
     "output_type": "execute_result"
    }
   ],
   "source": [
    "df['Quarter'] = ['Q1', 'Q1', 'Q1', 'Q2', 'Q2',\n",
    "                 'Q2', 'Q3', 'Q3', 'Q3']\n",
    "df"
   ]
  },
  {
   "cell_type": "code",
   "execution_count": 73,
   "metadata": {},
   "outputs": [
    {
     "data": {
      "text/plain": [
       "<pandas.core.groupby.generic.DataFrameGroupBy object at 0x000001F91E4A15E0>"
      ]
     },
     "execution_count": 73,
     "metadata": {},
     "output_type": "execute_result"
    }
   ],
   "source": [
    "groups = df.groupby('Quarter')  \n",
    "groups"
   ]
  },
  {
   "cell_type": "code",
   "execution_count": 66,
   "metadata": {
    "uuid": "a871b95e-5946-4b09-b8dc-bc9503d2ff14"
   },
   "outputs": [
    {
     "data": {
      "text/plain": [
       "Quarter\n",
       "Q1    3\n",
       "Q2    3\n",
       "Q3    3\n",
       "dtype: int64"
      ]
     },
     "execution_count": 66,
     "metadata": {},
     "output_type": "execute_result"
    }
   ],
   "source": [
    "groups.size()  "
   ]
  },
  {
   "cell_type": "code",
   "execution_count": 74,
   "metadata": {
    "uuid": "804e567f-6b74-4405-a10e-d19d914655e7"
   },
   "outputs": [
    {
     "data": {
      "text/html": [
       "<div>\n",
       "<style scoped>\n",
       "    .dataframe tbody tr th:only-of-type {\n",
       "        vertical-align: middle;\n",
       "    }\n",
       "\n",
       "    .dataframe tbody tr th {\n",
       "        vertical-align: top;\n",
       "    }\n",
       "\n",
       "    .dataframe thead th {\n",
       "        text-align: right;\n",
       "    }\n",
       "</style>\n",
       "<table border=\"1\" class=\"dataframe\">\n",
       "  <thead>\n",
       "    <tr style=\"text-align: right;\">\n",
       "      <th></th>\n",
       "      <th>No1</th>\n",
       "      <th>No2</th>\n",
       "      <th>No3</th>\n",
       "      <th>No4</th>\n",
       "    </tr>\n",
       "    <tr>\n",
       "      <th>Quarter</th>\n",
       "      <th></th>\n",
       "      <th></th>\n",
       "      <th></th>\n",
       "      <th></th>\n",
       "    </tr>\n",
       "  </thead>\n",
       "  <tbody>\n",
       "    <tr>\n",
       "      <th>Q1</th>\n",
       "      <td>-0.319314</td>\n",
       "      <td>0.370634</td>\n",
       "      <td>0.305396</td>\n",
       "      <td>-0.295772</td>\n",
       "    </tr>\n",
       "    <tr>\n",
       "      <th>Q2</th>\n",
       "      <td>0.168035</td>\n",
       "      <td>1.129395</td>\n",
       "      <td>-0.005765</td>\n",
       "      <td>-0.688388</td>\n",
       "    </tr>\n",
       "    <tr>\n",
       "      <th>Q3</th>\n",
       "      <td>-0.299357</td>\n",
       "      <td>0.603071</td>\n",
       "      <td>0.567948</td>\n",
       "      <td>-0.179203</td>\n",
       "    </tr>\n",
       "  </tbody>\n",
       "</table>\n",
       "</div>"
      ],
      "text/plain": [
       "              No1       No2       No3       No4\n",
       "Quarter                                        \n",
       "Q1      -0.319314  0.370634  0.305396 -0.295772\n",
       "Q2       0.168035  1.129395 -0.005765 -0.688388\n",
       "Q3      -0.299357  0.603071  0.567948 -0.179203"
      ]
     },
     "execution_count": 74,
     "metadata": {},
     "output_type": "execute_result"
    }
   ],
   "source": [
    "groups.mean()  "
   ]
  },
  {
   "cell_type": "code",
   "execution_count": 75,
   "metadata": {
    "uuid": "7eb45e5c-b86f-4464-afd9-d5a3665e0f8e"
   },
   "outputs": [
    {
     "data": {
      "text/html": [
       "<div>\n",
       "<style scoped>\n",
       "    .dataframe tbody tr th:only-of-type {\n",
       "        vertical-align: middle;\n",
       "    }\n",
       "\n",
       "    .dataframe tbody tr th {\n",
       "        vertical-align: top;\n",
       "    }\n",
       "\n",
       "    .dataframe thead th {\n",
       "        text-align: right;\n",
       "    }\n",
       "</style>\n",
       "<table border=\"1\" class=\"dataframe\">\n",
       "  <thead>\n",
       "    <tr style=\"text-align: right;\">\n",
       "      <th></th>\n",
       "      <th>No1</th>\n",
       "      <th>No2</th>\n",
       "      <th>No3</th>\n",
       "      <th>No4</th>\n",
       "    </tr>\n",
       "    <tr>\n",
       "      <th>Quarter</th>\n",
       "      <th></th>\n",
       "      <th></th>\n",
       "      <th></th>\n",
       "      <th></th>\n",
       "    </tr>\n",
       "  </thead>\n",
       "  <tbody>\n",
       "    <tr>\n",
       "      <th>Q1</th>\n",
       "      <td>0.981321</td>\n",
       "      <td>0.514219</td>\n",
       "      <td>1.153036</td>\n",
       "      <td>0.435163</td>\n",
       "    </tr>\n",
       "    <tr>\n",
       "      <th>Q2</th>\n",
       "      <td>1.618982</td>\n",
       "      <td>1.541605</td>\n",
       "      <td>0.672721</td>\n",
       "      <td>-0.104411</td>\n",
       "    </tr>\n",
       "    <tr>\n",
       "      <th>Q3</th>\n",
       "      <td>0.184519</td>\n",
       "      <td>0.937082</td>\n",
       "      <td>0.750445</td>\n",
       "      <td>1.361556</td>\n",
       "    </tr>\n",
       "  </tbody>\n",
       "</table>\n",
       "</div>"
      ],
      "text/plain": [
       "              No1       No2       No3       No4\n",
       "Quarter                                        \n",
       "Q1       0.981321  0.514219  1.153036  0.435163\n",
       "Q2       1.618982  1.541605  0.672721 -0.104411\n",
       "Q3       0.184519  0.937082  0.750445  1.361556"
      ]
     },
     "execution_count": 75,
     "metadata": {},
     "output_type": "execute_result"
    }
   ],
   "source": [
    "groups.max()  "
   ]
  },
  {
   "cell_type": "code",
   "execution_count": 79,
   "metadata": {},
   "outputs": [
    {
     "data": {
      "text/html": [
       "<div>\n",
       "<style scoped>\n",
       "    .dataframe tbody tr th:only-of-type {\n",
       "        vertical-align: middle;\n",
       "    }\n",
       "\n",
       "    .dataframe tbody tr th {\n",
       "        vertical-align: top;\n",
       "    }\n",
       "\n",
       "    .dataframe thead tr th {\n",
       "        text-align: left;\n",
       "    }\n",
       "\n",
       "    .dataframe thead tr:last-of-type th {\n",
       "        text-align: right;\n",
       "    }\n",
       "</style>\n",
       "<table border=\"1\" class=\"dataframe\">\n",
       "  <thead>\n",
       "    <tr>\n",
       "      <th></th>\n",
       "      <th colspan=\"2\" halign=\"left\">No1</th>\n",
       "      <th colspan=\"2\" halign=\"left\">No2</th>\n",
       "      <th colspan=\"2\" halign=\"left\">No3</th>\n",
       "      <th colspan=\"2\" halign=\"left\">No4</th>\n",
       "    </tr>\n",
       "    <tr>\n",
       "      <th></th>\n",
       "      <th>min</th>\n",
       "      <th>max</th>\n",
       "      <th>min</th>\n",
       "      <th>max</th>\n",
       "      <th>min</th>\n",
       "      <th>max</th>\n",
       "      <th>min</th>\n",
       "      <th>max</th>\n",
       "    </tr>\n",
       "    <tr>\n",
       "      <th>Quarter</th>\n",
       "      <th></th>\n",
       "      <th></th>\n",
       "      <th></th>\n",
       "      <th></th>\n",
       "      <th></th>\n",
       "      <th></th>\n",
       "      <th></th>\n",
       "      <th></th>\n",
       "    </tr>\n",
       "  </thead>\n",
       "  <tbody>\n",
       "    <tr>\n",
       "      <th>Q1</th>\n",
       "      <td>-1.75</td>\n",
       "      <td>0.98</td>\n",
       "      <td>0.26</td>\n",
       "      <td>0.51</td>\n",
       "      <td>-0.46</td>\n",
       "      <td>1.15</td>\n",
       "      <td>-1.07</td>\n",
       "      <td>0.44</td>\n",
       "    </tr>\n",
       "    <tr>\n",
       "      <th>Q2</th>\n",
       "      <td>-0.58</td>\n",
       "      <td>1.62</td>\n",
       "      <td>0.82</td>\n",
       "      <td>1.54</td>\n",
       "      <td>-0.44</td>\n",
       "      <td>0.67</td>\n",
       "      <td>-1.12</td>\n",
       "      <td>-0.10</td>\n",
       "    </tr>\n",
       "    <tr>\n",
       "      <th>Q3</th>\n",
       "      <td>-0.76</td>\n",
       "      <td>0.18</td>\n",
       "      <td>0.06</td>\n",
       "      <td>0.94</td>\n",
       "      <td>0.22</td>\n",
       "      <td>0.75</td>\n",
       "      <td>-1.44</td>\n",
       "      <td>1.36</td>\n",
       "    </tr>\n",
       "  </tbody>\n",
       "</table>\n",
       "</div>"
      ],
      "text/plain": [
       "          No1         No2         No3         No4      \n",
       "          min   max   min   max   min   max   min   max\n",
       "Quarter                                                \n",
       "Q1      -1.75  0.98  0.26  0.51 -0.46  1.15 -1.07  0.44\n",
       "Q2      -0.58  1.62  0.82  1.54 -0.44  0.67 -1.12 -0.10\n",
       "Q3      -0.76  0.18  0.06  0.94  0.22  0.75 -1.44  1.36"
      ]
     },
     "execution_count": 79,
     "metadata": {},
     "output_type": "execute_result"
    }
   ],
   "source": [
    "groups.aggregate([min, max]).round(2)  "
   ]
  },
  {
   "cell_type": "code",
   "execution_count": 70,
   "metadata": {
    "uuid": "542cf99a-bbf8-447e-9643-d6887ac74be7"
   },
   "outputs": [],
   "source": [
    "df['Odd_Even'] = ['Odd', 'Even', 'Odd', 'Even', 'Odd', 'Even',\n",
    "                  'Odd', 'Even', 'Odd']"
   ]
  },
  {
   "cell_type": "code",
   "execution_count": 71,
   "metadata": {
    "uuid": "f5144c9f-ff37-4e35-9417-e39debdcd45b"
   },
   "outputs": [],
   "source": [
    "groups = df.groupby(['Quarter', 'Odd_Even'])"
   ]
  },
  {
   "cell_type": "code",
   "execution_count": 72,
   "metadata": {
    "uuid": "06904508-dbf1-431f-a3a2-681f29f03c51"
   },
   "outputs": [
    {
     "data": {
      "text/plain": [
       "Quarter  Odd_Even\n",
       "Q1       Even        1\n",
       "         Odd         2\n",
       "Q2       Even        2\n",
       "         Odd         1\n",
       "Q3       Even        1\n",
       "         Odd         2\n",
       "dtype: int64"
      ]
     },
     "execution_count": 72,
     "metadata": {},
     "output_type": "execute_result"
    }
   ],
   "source": [
    "groups.size()"
   ]
  },
  {
   "cell_type": "code",
   "execution_count": 73,
   "metadata": {
    "uuid": "b8471956-40fc-4203-a54a-aaa45f5a3c00"
   },
   "outputs": [
    {
     "data": {
      "text/html": [
       "<div>\n",
       "<style scoped>\n",
       "    .dataframe tbody tr th:only-of-type {\n",
       "        vertical-align: middle;\n",
       "    }\n",
       "\n",
       "    .dataframe tbody tr th {\n",
       "        vertical-align: top;\n",
       "    }\n",
       "\n",
       "    .dataframe thead tr th {\n",
       "        text-align: left;\n",
       "    }\n",
       "\n",
       "    .dataframe thead tr:last-of-type th {\n",
       "        text-align: right;\n",
       "    }\n",
       "</style>\n",
       "<table border=\"1\" class=\"dataframe\">\n",
       "  <thead>\n",
       "    <tr>\n",
       "      <th></th>\n",
       "      <th></th>\n",
       "      <th colspan=\"2\" halign=\"left\">No1</th>\n",
       "      <th colspan=\"2\" halign=\"left\">No4</th>\n",
       "    </tr>\n",
       "    <tr>\n",
       "      <th></th>\n",
       "      <th></th>\n",
       "      <th>sum</th>\n",
       "      <th>mean</th>\n",
       "      <th>sum</th>\n",
       "      <th>mean</th>\n",
       "    </tr>\n",
       "    <tr>\n",
       "      <th>Quarter</th>\n",
       "      <th>Odd_Even</th>\n",
       "      <th></th>\n",
       "      <th></th>\n",
       "      <th></th>\n",
       "      <th></th>\n",
       "    </tr>\n",
       "  </thead>\n",
       "  <tbody>\n",
       "    <tr>\n",
       "      <th rowspan=\"2\" valign=\"top\">Q1</th>\n",
       "      <th>Even</th>\n",
       "      <td>0.981321</td>\n",
       "      <td>0.981321</td>\n",
       "      <td>-1.070043</td>\n",
       "      <td>-1.070043</td>\n",
       "    </tr>\n",
       "    <tr>\n",
       "      <th>Odd</th>\n",
       "      <td>-1.939261</td>\n",
       "      <td>-0.969631</td>\n",
       "      <td>0.182727</td>\n",
       "      <td>0.091364</td>\n",
       "    </tr>\n",
       "    <tr>\n",
       "      <th rowspan=\"2\" valign=\"top\">Q2</th>\n",
       "      <th>Even</th>\n",
       "      <td>1.035387</td>\n",
       "      <td>0.517693</td>\n",
       "      <td>-0.946847</td>\n",
       "      <td>-0.473423</td>\n",
       "    </tr>\n",
       "    <tr>\n",
       "      <th>Odd</th>\n",
       "      <td>-0.531280</td>\n",
       "      <td>-0.531280</td>\n",
       "      <td>-1.118318</td>\n",
       "      <td>-1.118318</td>\n",
       "    </tr>\n",
       "    <tr>\n",
       "      <th rowspan=\"2\" valign=\"top\">Q3</th>\n",
       "      <th>Even</th>\n",
       "      <td>-0.326238</td>\n",
       "      <td>-0.326238</td>\n",
       "      <td>-1.443217</td>\n",
       "      <td>-1.443217</td>\n",
       "    </tr>\n",
       "    <tr>\n",
       "      <th>Odd</th>\n",
       "      <td>-0.571834</td>\n",
       "      <td>-0.285917</td>\n",
       "      <td>0.905609</td>\n",
       "      <td>0.452805</td>\n",
       "    </tr>\n",
       "  </tbody>\n",
       "</table>\n",
       "</div>"
      ],
      "text/plain": [
       "                       No1                 No4          \n",
       "                       sum      mean       sum      mean\n",
       "Quarter Odd_Even                                        \n",
       "Q1      Even      0.981321  0.981321 -1.070043 -1.070043\n",
       "        Odd      -1.939261 -0.969631  0.182727  0.091364\n",
       "Q2      Even      1.035387  0.517693 -0.946847 -0.473423\n",
       "        Odd      -0.531280 -0.531280 -1.118318 -1.118318\n",
       "Q3      Even     -0.326238 -0.326238 -1.443217 -1.443217\n",
       "        Odd      -0.571834 -0.285917  0.905609  0.452805"
      ]
     },
     "execution_count": 73,
     "metadata": {},
     "output_type": "execute_result"
    }
   ],
   "source": [
    "groups[['No1', 'No4']].aggregate([sum, np.mean])"
   ]
  },
  {
   "cell_type": "markdown",
   "metadata": {},
   "source": [
    "## Complex Selection"
   ]
  },
  {
   "cell_type": "code",
   "execution_count": 1,
   "metadata": {},
   "outputs": [
    {
     "output_type": "error",
     "ename": "NameError",
     "evalue": "name 'np' is not defined",
     "traceback": [
      "\u001b[0;31m---------------------------------------------------------------------------\u001b[0m",
      "\u001b[0;31mNameError\u001b[0m                                 Traceback (most recent call last)",
      "\u001b[0;32m<ipython-input-1-754a790ed5a3>\u001b[0m in \u001b[0;36m<module>\u001b[0;34m\u001b[0m\n\u001b[0;32m----> 1\u001b[0;31m \u001b[0mdata\u001b[0m \u001b[0;34m=\u001b[0m \u001b[0mnp\u001b[0m\u001b[0;34m.\u001b[0m\u001b[0mrandom\u001b[0m\u001b[0;34m.\u001b[0m\u001b[0mstandard_normal\u001b[0m\u001b[0;34m(\u001b[0m\u001b[0;34m(\u001b[0m\u001b[0;36m10\u001b[0m\u001b[0;34m,\u001b[0m \u001b[0;36m2\u001b[0m\u001b[0;34m)\u001b[0m\u001b[0;34m)\u001b[0m\u001b[0;34m\u001b[0m\u001b[0;34m\u001b[0m\u001b[0m\n\u001b[0m",
      "\u001b[0;31mNameError\u001b[0m: name 'np' is not defined"
     ]
    }
   ],
   "source": [
    "data = np.random.standard_normal((10, 2))  "
   ]
  },
  {
   "cell_type": "code",
   "execution_count": null,
   "metadata": {},
   "outputs": [],
   "source": [
    "df = pd.DataFrame(data, columns=['x', 'y'])  "
   ]
  },
  {
   "cell_type": "code",
   "execution_count": 76,
   "metadata": {},
   "outputs": [
    {
     "name": "stdout",
     "output_type": "stream",
     "text": [
      "<class 'pandas.core.frame.DataFrame'>\n",
      "RangeIndex: 10 entries, 0 to 9\n",
      "Data columns (total 2 columns):\n",
      " #   Column  Non-Null Count  Dtype  \n",
      "---  ------  --------------  -----  \n",
      " 0   x       10 non-null     float64\n",
      " 1   y       10 non-null     float64\n",
      "dtypes: float64(2)\n",
      "memory usage: 288.0 bytes\n"
     ]
    }
   ],
   "source": [
    "df.info()  "
   ]
  },
  {
   "cell_type": "code",
   "execution_count": 77,
   "metadata": {},
   "outputs": [
    {
     "data": {
      "text/html": [
       "<div>\n",
       "<style scoped>\n",
       "    .dataframe tbody tr th:only-of-type {\n",
       "        vertical-align: middle;\n",
       "    }\n",
       "\n",
       "    .dataframe tbody tr th {\n",
       "        vertical-align: top;\n",
       "    }\n",
       "\n",
       "    .dataframe thead th {\n",
       "        text-align: right;\n",
       "    }\n",
       "</style>\n",
       "<table border=\"1\" class=\"dataframe\">\n",
       "  <thead>\n",
       "    <tr style=\"text-align: right;\">\n",
       "      <th></th>\n",
       "      <th>x</th>\n",
       "      <th>y</th>\n",
       "    </tr>\n",
       "  </thead>\n",
       "  <tbody>\n",
       "    <tr>\n",
       "      <th>0</th>\n",
       "      <td>1.189622</td>\n",
       "      <td>-1.690617</td>\n",
       "    </tr>\n",
       "    <tr>\n",
       "      <th>1</th>\n",
       "      <td>-1.356399</td>\n",
       "      <td>-1.232435</td>\n",
       "    </tr>\n",
       "    <tr>\n",
       "      <th>2</th>\n",
       "      <td>-0.544439</td>\n",
       "      <td>-0.668172</td>\n",
       "    </tr>\n",
       "    <tr>\n",
       "      <th>3</th>\n",
       "      <td>0.007315</td>\n",
       "      <td>-0.612939</td>\n",
       "    </tr>\n",
       "    <tr>\n",
       "      <th>4</th>\n",
       "      <td>1.299748</td>\n",
       "      <td>-1.733096</td>\n",
       "    </tr>\n",
       "  </tbody>\n",
       "</table>\n",
       "</div>"
      ],
      "text/plain": [
       "          x         y\n",
       "0  1.189622 -1.690617\n",
       "1 -1.356399 -1.232435\n",
       "2 -0.544439 -0.668172\n",
       "3  0.007315 -0.612939\n",
       "4  1.299748 -1.733096"
      ]
     },
     "execution_count": 77,
     "metadata": {},
     "output_type": "execute_result"
    }
   ],
   "source": [
    "df.head()  "
   ]
  },
  {
   "cell_type": "code",
   "execution_count": 78,
   "metadata": {},
   "outputs": [
    {
     "data": {
      "text/html": [
       "<div>\n",
       "<style scoped>\n",
       "    .dataframe tbody tr th:only-of-type {\n",
       "        vertical-align: middle;\n",
       "    }\n",
       "\n",
       "    .dataframe tbody tr th {\n",
       "        vertical-align: top;\n",
       "    }\n",
       "\n",
       "    .dataframe thead th {\n",
       "        text-align: right;\n",
       "    }\n",
       "</style>\n",
       "<table border=\"1\" class=\"dataframe\">\n",
       "  <thead>\n",
       "    <tr style=\"text-align: right;\">\n",
       "      <th></th>\n",
       "      <th>x</th>\n",
       "      <th>y</th>\n",
       "    </tr>\n",
       "  </thead>\n",
       "  <tbody>\n",
       "    <tr>\n",
       "      <th>5</th>\n",
       "      <td>-0.983310</td>\n",
       "      <td>0.357508</td>\n",
       "    </tr>\n",
       "    <tr>\n",
       "      <th>6</th>\n",
       "      <td>-1.613579</td>\n",
       "      <td>1.470714</td>\n",
       "    </tr>\n",
       "    <tr>\n",
       "      <th>7</th>\n",
       "      <td>-1.188018</td>\n",
       "      <td>-0.549746</td>\n",
       "    </tr>\n",
       "    <tr>\n",
       "      <th>8</th>\n",
       "      <td>-0.940046</td>\n",
       "      <td>-0.827932</td>\n",
       "    </tr>\n",
       "    <tr>\n",
       "      <th>9</th>\n",
       "      <td>0.108863</td>\n",
       "      <td>0.507810</td>\n",
       "    </tr>\n",
       "  </tbody>\n",
       "</table>\n",
       "</div>"
      ],
      "text/plain": [
       "          x         y\n",
       "5 -0.983310  0.357508\n",
       "6 -1.613579  1.470714\n",
       "7 -1.188018 -0.549746\n",
       "8 -0.940046 -0.827932\n",
       "9  0.108863  0.507810"
      ]
     },
     "execution_count": 78,
     "metadata": {},
     "output_type": "execute_result"
    }
   ],
   "source": [
    "df.tail()  "
   ]
  },
  {
   "cell_type": "code",
   "execution_count": 79,
   "metadata": {},
   "outputs": [
    {
     "data": {
      "text/plain": [
       "0     True\n",
       "1    False\n",
       "2    False\n",
       "3    False\n",
       "4     True\n",
       "5    False\n",
       "6    False\n",
       "7    False\n",
       "8    False\n",
       "9    False\n",
       "Name: x, dtype: bool"
      ]
     },
     "execution_count": 79,
     "metadata": {},
     "output_type": "execute_result"
    }
   ],
   "source": [
    "df['x'] > 0.5  "
   ]
  },
  {
   "cell_type": "code",
   "execution_count": 80,
   "metadata": {},
   "outputs": [
    {
     "data": {
      "text/plain": [
       "0     True\n",
       "1    False\n",
       "2    False\n",
       "3     True\n",
       "4     True\n",
       "5    False\n",
       "6    False\n",
       "7    False\n",
       "8    False\n",
       "9    False\n",
       "dtype: bool"
      ]
     },
     "execution_count": 80,
     "metadata": {},
     "output_type": "execute_result"
    }
   ],
   "source": [
    "(df['x'] > 0) & (df['y'] < 0)  "
   ]
  },
  {
   "cell_type": "code",
   "execution_count": 81,
   "metadata": {},
   "outputs": [
    {
     "data": {
      "text/plain": [
       "0     True\n",
       "1     True\n",
       "2     True\n",
       "3     True\n",
       "4     True\n",
       "5    False\n",
       "6    False\n",
       "7     True\n",
       "8     True\n",
       "9     True\n",
       "dtype: bool"
      ]
     },
     "execution_count": 81,
     "metadata": {},
     "output_type": "execute_result"
    }
   ],
   "source": [
    "(df['x'] > 0) | (df['y'] < 0)  "
   ]
  },
  {
   "cell_type": "code",
   "execution_count": 82,
   "metadata": {},
   "outputs": [
    {
     "data": {
      "text/html": [
       "<div>\n",
       "<style scoped>\n",
       "    .dataframe tbody tr th:only-of-type {\n",
       "        vertical-align: middle;\n",
       "    }\n",
       "\n",
       "    .dataframe tbody tr th {\n",
       "        vertical-align: top;\n",
       "    }\n",
       "\n",
       "    .dataframe thead th {\n",
       "        text-align: right;\n",
       "    }\n",
       "</style>\n",
       "<table border=\"1\" class=\"dataframe\">\n",
       "  <thead>\n",
       "    <tr style=\"text-align: right;\">\n",
       "      <th></th>\n",
       "      <th>x</th>\n",
       "      <th>y</th>\n",
       "    </tr>\n",
       "  </thead>\n",
       "  <tbody>\n",
       "    <tr>\n",
       "      <th>0</th>\n",
       "      <td>1.189622</td>\n",
       "      <td>-1.690617</td>\n",
       "    </tr>\n",
       "    <tr>\n",
       "      <th>3</th>\n",
       "      <td>0.007315</td>\n",
       "      <td>-0.612939</td>\n",
       "    </tr>\n",
       "    <tr>\n",
       "      <th>4</th>\n",
       "      <td>1.299748</td>\n",
       "      <td>-1.733096</td>\n",
       "    </tr>\n",
       "    <tr>\n",
       "      <th>9</th>\n",
       "      <td>0.108863</td>\n",
       "      <td>0.507810</td>\n",
       "    </tr>\n",
       "  </tbody>\n",
       "</table>\n",
       "</div>"
      ],
      "text/plain": [
       "          x         y\n",
       "0  1.189622 -1.690617\n",
       "3  0.007315 -0.612939\n",
       "4  1.299748 -1.733096\n",
       "9  0.108863  0.507810"
      ]
     },
     "execution_count": 82,
     "metadata": {},
     "output_type": "execute_result"
    }
   ],
   "source": [
    "df[df['x'] > 0]  "
   ]
  },
  {
   "cell_type": "code",
   "execution_count": 83,
   "metadata": {},
   "outputs": [
    {
     "data": {
      "text/html": [
       "<div>\n",
       "<style scoped>\n",
       "    .dataframe tbody tr th:only-of-type {\n",
       "        vertical-align: middle;\n",
       "    }\n",
       "\n",
       "    .dataframe tbody tr th {\n",
       "        vertical-align: top;\n",
       "    }\n",
       "\n",
       "    .dataframe thead th {\n",
       "        text-align: right;\n",
       "    }\n",
       "</style>\n",
       "<table border=\"1\" class=\"dataframe\">\n",
       "  <thead>\n",
       "    <tr style=\"text-align: right;\">\n",
       "      <th></th>\n",
       "      <th>x</th>\n",
       "      <th>y</th>\n",
       "    </tr>\n",
       "  </thead>\n",
       "  <tbody>\n",
       "    <tr>\n",
       "      <th>0</th>\n",
       "      <td>1.189622</td>\n",
       "      <td>-1.690617</td>\n",
       "    </tr>\n",
       "    <tr>\n",
       "      <th>3</th>\n",
       "      <td>0.007315</td>\n",
       "      <td>-0.612939</td>\n",
       "    </tr>\n",
       "    <tr>\n",
       "      <th>4</th>\n",
       "      <td>1.299748</td>\n",
       "      <td>-1.733096</td>\n",
       "    </tr>\n",
       "    <tr>\n",
       "      <th>9</th>\n",
       "      <td>0.108863</td>\n",
       "      <td>0.507810</td>\n",
       "    </tr>\n",
       "  </tbody>\n",
       "</table>\n",
       "</div>"
      ],
      "text/plain": [
       "          x         y\n",
       "0  1.189622 -1.690617\n",
       "3  0.007315 -0.612939\n",
       "4  1.299748 -1.733096\n",
       "9  0.108863  0.507810"
      ]
     },
     "execution_count": 83,
     "metadata": {},
     "output_type": "execute_result"
    }
   ],
   "source": [
    "df.query('x > 0')  "
   ]
  },
  {
   "cell_type": "code",
   "execution_count": 84,
   "metadata": {},
   "outputs": [
    {
     "data": {
      "text/html": [
       "<div>\n",
       "<style scoped>\n",
       "    .dataframe tbody tr th:only-of-type {\n",
       "        vertical-align: middle;\n",
       "    }\n",
       "\n",
       "    .dataframe tbody tr th {\n",
       "        vertical-align: top;\n",
       "    }\n",
       "\n",
       "    .dataframe thead th {\n",
       "        text-align: right;\n",
       "    }\n",
       "</style>\n",
       "<table border=\"1\" class=\"dataframe\">\n",
       "  <thead>\n",
       "    <tr style=\"text-align: right;\">\n",
       "      <th></th>\n",
       "      <th>x</th>\n",
       "      <th>y</th>\n",
       "    </tr>\n",
       "  </thead>\n",
       "  <tbody>\n",
       "    <tr>\n",
       "      <th>0</th>\n",
       "      <td>1.189622</td>\n",
       "      <td>-1.690617</td>\n",
       "    </tr>\n",
       "    <tr>\n",
       "      <th>3</th>\n",
       "      <td>0.007315</td>\n",
       "      <td>-0.612939</td>\n",
       "    </tr>\n",
       "    <tr>\n",
       "      <th>4</th>\n",
       "      <td>1.299748</td>\n",
       "      <td>-1.733096</td>\n",
       "    </tr>\n",
       "  </tbody>\n",
       "</table>\n",
       "</div>"
      ],
      "text/plain": [
       "          x         y\n",
       "0  1.189622 -1.690617\n",
       "3  0.007315 -0.612939\n",
       "4  1.299748 -1.733096"
      ]
     },
     "execution_count": 84,
     "metadata": {},
     "output_type": "execute_result"
    }
   ],
   "source": [
    "df[(df['x'] > 0) & (df['y'] < 0)]  "
   ]
  },
  {
   "cell_type": "code",
   "execution_count": 85,
   "metadata": {},
   "outputs": [
    {
     "data": {
      "text/html": [
       "<div>\n",
       "<style scoped>\n",
       "    .dataframe tbody tr th:only-of-type {\n",
       "        vertical-align: middle;\n",
       "    }\n",
       "\n",
       "    .dataframe tbody tr th {\n",
       "        vertical-align: top;\n",
       "    }\n",
       "\n",
       "    .dataframe thead th {\n",
       "        text-align: right;\n",
       "    }\n",
       "</style>\n",
       "<table border=\"1\" class=\"dataframe\">\n",
       "  <thead>\n",
       "    <tr style=\"text-align: right;\">\n",
       "      <th></th>\n",
       "      <th>x</th>\n",
       "      <th>y</th>\n",
       "    </tr>\n",
       "  </thead>\n",
       "  <tbody>\n",
       "    <tr>\n",
       "      <th>0</th>\n",
       "      <td>1.189622</td>\n",
       "      <td>-1.690617</td>\n",
       "    </tr>\n",
       "    <tr>\n",
       "      <th>3</th>\n",
       "      <td>0.007315</td>\n",
       "      <td>-0.612939</td>\n",
       "    </tr>\n",
       "    <tr>\n",
       "      <th>4</th>\n",
       "      <td>1.299748</td>\n",
       "      <td>-1.733096</td>\n",
       "    </tr>\n",
       "  </tbody>\n",
       "</table>\n",
       "</div>"
      ],
      "text/plain": [
       "          x         y\n",
       "0  1.189622 -1.690617\n",
       "3  0.007315 -0.612939\n",
       "4  1.299748 -1.733096"
      ]
     },
     "execution_count": 85,
     "metadata": {},
     "output_type": "execute_result"
    }
   ],
   "source": [
    "df.query('x > 0 & y < 0')  "
   ]
  },
  {
   "cell_type": "code",
   "execution_count": 86,
   "metadata": {},
   "outputs": [
    {
     "data": {
      "text/html": [
       "<div>\n",
       "<style scoped>\n",
       "    .dataframe tbody tr th:only-of-type {\n",
       "        vertical-align: middle;\n",
       "    }\n",
       "\n",
       "    .dataframe tbody tr th {\n",
       "        vertical-align: top;\n",
       "    }\n",
       "\n",
       "    .dataframe thead th {\n",
       "        text-align: right;\n",
       "    }\n",
       "</style>\n",
       "<table border=\"1\" class=\"dataframe\">\n",
       "  <thead>\n",
       "    <tr style=\"text-align: right;\">\n",
       "      <th></th>\n",
       "      <th>x</th>\n",
       "      <th>y</th>\n",
       "    </tr>\n",
       "  </thead>\n",
       "  <tbody>\n",
       "    <tr>\n",
       "      <th>0</th>\n",
       "      <td>1.189622</td>\n",
       "      <td>-1.690617</td>\n",
       "    </tr>\n",
       "    <tr>\n",
       "      <th>1</th>\n",
       "      <td>-1.356399</td>\n",
       "      <td>-1.232435</td>\n",
       "    </tr>\n",
       "    <tr>\n",
       "      <th>2</th>\n",
       "      <td>-0.544439</td>\n",
       "      <td>-0.668172</td>\n",
       "    </tr>\n",
       "    <tr>\n",
       "      <th>3</th>\n",
       "      <td>0.007315</td>\n",
       "      <td>-0.612939</td>\n",
       "    </tr>\n",
       "    <tr>\n",
       "      <th>4</th>\n",
       "      <td>1.299748</td>\n",
       "      <td>-1.733096</td>\n",
       "    </tr>\n",
       "    <tr>\n",
       "      <th>7</th>\n",
       "      <td>-1.188018</td>\n",
       "      <td>-0.549746</td>\n",
       "    </tr>\n",
       "    <tr>\n",
       "      <th>8</th>\n",
       "      <td>-0.940046</td>\n",
       "      <td>-0.827932</td>\n",
       "    </tr>\n",
       "    <tr>\n",
       "      <th>9</th>\n",
       "      <td>0.108863</td>\n",
       "      <td>0.507810</td>\n",
       "    </tr>\n",
       "  </tbody>\n",
       "</table>\n",
       "</div>"
      ],
      "text/plain": [
       "          x         y\n",
       "0  1.189622 -1.690617\n",
       "1 -1.356399 -1.232435\n",
       "2 -0.544439 -0.668172\n",
       "3  0.007315 -0.612939\n",
       "4  1.299748 -1.733096\n",
       "7 -1.188018 -0.549746\n",
       "8 -0.940046 -0.827932\n",
       "9  0.108863  0.507810"
      ]
     },
     "execution_count": 86,
     "metadata": {},
     "output_type": "execute_result"
    }
   ],
   "source": [
    "df[(df.x > 0) | (df.y < 0)]  "
   ]
  },
  {
   "cell_type": "code",
   "execution_count": 87,
   "metadata": {},
   "outputs": [
    {
     "data": {
      "text/html": [
       "<div>\n",
       "<style scoped>\n",
       "    .dataframe tbody tr th:only-of-type {\n",
       "        vertical-align: middle;\n",
       "    }\n",
       "\n",
       "    .dataframe tbody tr th {\n",
       "        vertical-align: top;\n",
       "    }\n",
       "\n",
       "    .dataframe thead th {\n",
       "        text-align: right;\n",
       "    }\n",
       "</style>\n",
       "<table border=\"1\" class=\"dataframe\">\n",
       "  <thead>\n",
       "    <tr style=\"text-align: right;\">\n",
       "      <th></th>\n",
       "      <th>x</th>\n",
       "      <th>y</th>\n",
       "    </tr>\n",
       "  </thead>\n",
       "  <tbody>\n",
       "    <tr>\n",
       "      <th>0</th>\n",
       "      <td>True</td>\n",
       "      <td>False</td>\n",
       "    </tr>\n",
       "    <tr>\n",
       "      <th>1</th>\n",
       "      <td>False</td>\n",
       "      <td>False</td>\n",
       "    </tr>\n",
       "    <tr>\n",
       "      <th>2</th>\n",
       "      <td>False</td>\n",
       "      <td>False</td>\n",
       "    </tr>\n",
       "    <tr>\n",
       "      <th>3</th>\n",
       "      <td>True</td>\n",
       "      <td>False</td>\n",
       "    </tr>\n",
       "    <tr>\n",
       "      <th>4</th>\n",
       "      <td>True</td>\n",
       "      <td>False</td>\n",
       "    </tr>\n",
       "    <tr>\n",
       "      <th>5</th>\n",
       "      <td>False</td>\n",
       "      <td>True</td>\n",
       "    </tr>\n",
       "    <tr>\n",
       "      <th>6</th>\n",
       "      <td>False</td>\n",
       "      <td>True</td>\n",
       "    </tr>\n",
       "    <tr>\n",
       "      <th>7</th>\n",
       "      <td>False</td>\n",
       "      <td>False</td>\n",
       "    </tr>\n",
       "    <tr>\n",
       "      <th>8</th>\n",
       "      <td>False</td>\n",
       "      <td>False</td>\n",
       "    </tr>\n",
       "    <tr>\n",
       "      <th>9</th>\n",
       "      <td>True</td>\n",
       "      <td>True</td>\n",
       "    </tr>\n",
       "  </tbody>\n",
       "</table>\n",
       "</div>"
      ],
      "text/plain": [
       "       x      y\n",
       "0   True  False\n",
       "1  False  False\n",
       "2  False  False\n",
       "3   True  False\n",
       "4   True  False\n",
       "5  False   True\n",
       "6  False   True\n",
       "7  False  False\n",
       "8  False  False\n",
       "9   True   True"
      ]
     },
     "execution_count": 87,
     "metadata": {},
     "output_type": "execute_result"
    }
   ],
   "source": [
    "df > 0  "
   ]
  },
  {
   "cell_type": "code",
   "execution_count": 88,
   "metadata": {},
   "outputs": [
    {
     "data": {
      "text/html": [
       "<div>\n",
       "<style scoped>\n",
       "    .dataframe tbody tr th:only-of-type {\n",
       "        vertical-align: middle;\n",
       "    }\n",
       "\n",
       "    .dataframe tbody tr th {\n",
       "        vertical-align: top;\n",
       "    }\n",
       "\n",
       "    .dataframe thead th {\n",
       "        text-align: right;\n",
       "    }\n",
       "</style>\n",
       "<table border=\"1\" class=\"dataframe\">\n",
       "  <thead>\n",
       "    <tr style=\"text-align: right;\">\n",
       "      <th></th>\n",
       "      <th>x</th>\n",
       "      <th>y</th>\n",
       "    </tr>\n",
       "  </thead>\n",
       "  <tbody>\n",
       "    <tr>\n",
       "      <th>0</th>\n",
       "      <td>1.189622</td>\n",
       "      <td>NaN</td>\n",
       "    </tr>\n",
       "    <tr>\n",
       "      <th>1</th>\n",
       "      <td>NaN</td>\n",
       "      <td>NaN</td>\n",
       "    </tr>\n",
       "    <tr>\n",
       "      <th>2</th>\n",
       "      <td>NaN</td>\n",
       "      <td>NaN</td>\n",
       "    </tr>\n",
       "    <tr>\n",
       "      <th>3</th>\n",
       "      <td>0.007315</td>\n",
       "      <td>NaN</td>\n",
       "    </tr>\n",
       "    <tr>\n",
       "      <th>4</th>\n",
       "      <td>1.299748</td>\n",
       "      <td>NaN</td>\n",
       "    </tr>\n",
       "    <tr>\n",
       "      <th>5</th>\n",
       "      <td>NaN</td>\n",
       "      <td>0.357508</td>\n",
       "    </tr>\n",
       "    <tr>\n",
       "      <th>6</th>\n",
       "      <td>NaN</td>\n",
       "      <td>1.470714</td>\n",
       "    </tr>\n",
       "    <tr>\n",
       "      <th>7</th>\n",
       "      <td>NaN</td>\n",
       "      <td>NaN</td>\n",
       "    </tr>\n",
       "    <tr>\n",
       "      <th>8</th>\n",
       "      <td>NaN</td>\n",
       "      <td>NaN</td>\n",
       "    </tr>\n",
       "    <tr>\n",
       "      <th>9</th>\n",
       "      <td>0.108863</td>\n",
       "      <td>0.507810</td>\n",
       "    </tr>\n",
       "  </tbody>\n",
       "</table>\n",
       "</div>"
      ],
      "text/plain": [
       "          x         y\n",
       "0  1.189622       NaN\n",
       "1       NaN       NaN\n",
       "2       NaN       NaN\n",
       "3  0.007315       NaN\n",
       "4  1.299748       NaN\n",
       "5       NaN  0.357508\n",
       "6       NaN  1.470714\n",
       "7       NaN       NaN\n",
       "8       NaN       NaN\n",
       "9  0.108863  0.507810"
      ]
     },
     "execution_count": 88,
     "metadata": {},
     "output_type": "execute_result"
    }
   ],
   "source": [
    "df[df > 0]  "
   ]
  },
  {
   "cell_type": "markdown",
   "metadata": {},
   "source": [
    "## Concatenation, Joining and Merging"
   ]
  },
  {
   "cell_type": "code",
   "execution_count": 89,
   "metadata": {},
   "outputs": [],
   "source": [
    "df1 = pd.DataFrame(['100', '200', '300', '400'], \n",
    "                    index=['a', 'b', 'c', 'd'],\n",
    "                    columns=['A',])"
   ]
  },
  {
   "cell_type": "code",
   "execution_count": 90,
   "metadata": {},
   "outputs": [
    {
     "data": {
      "text/html": [
       "<div>\n",
       "<style scoped>\n",
       "    .dataframe tbody tr th:only-of-type {\n",
       "        vertical-align: middle;\n",
       "    }\n",
       "\n",
       "    .dataframe tbody tr th {\n",
       "        vertical-align: top;\n",
       "    }\n",
       "\n",
       "    .dataframe thead th {\n",
       "        text-align: right;\n",
       "    }\n",
       "</style>\n",
       "<table border=\"1\" class=\"dataframe\">\n",
       "  <thead>\n",
       "    <tr style=\"text-align: right;\">\n",
       "      <th></th>\n",
       "      <th>A</th>\n",
       "    </tr>\n",
       "  </thead>\n",
       "  <tbody>\n",
       "    <tr>\n",
       "      <th>a</th>\n",
       "      <td>100</td>\n",
       "    </tr>\n",
       "    <tr>\n",
       "      <th>b</th>\n",
       "      <td>200</td>\n",
       "    </tr>\n",
       "    <tr>\n",
       "      <th>c</th>\n",
       "      <td>300</td>\n",
       "    </tr>\n",
       "    <tr>\n",
       "      <th>d</th>\n",
       "      <td>400</td>\n",
       "    </tr>\n",
       "  </tbody>\n",
       "</table>\n",
       "</div>"
      ],
      "text/plain": [
       "     A\n",
       "a  100\n",
       "b  200\n",
       "c  300\n",
       "d  400"
      ]
     },
     "execution_count": 90,
     "metadata": {},
     "output_type": "execute_result"
    }
   ],
   "source": [
    "df1"
   ]
  },
  {
   "cell_type": "code",
   "execution_count": 91,
   "metadata": {},
   "outputs": [],
   "source": [
    "df2 = pd.DataFrame(['200', '150', '50'], \n",
    "                    index=['f', 'b', 'd'],\n",
    "                    columns=['B',])"
   ]
  },
  {
   "cell_type": "code",
   "execution_count": 92,
   "metadata": {
    "slideshow": {
     "slide_type": "-"
    }
   },
   "outputs": [
    {
     "data": {
      "text/html": [
       "<div>\n",
       "<style scoped>\n",
       "    .dataframe tbody tr th:only-of-type {\n",
       "        vertical-align: middle;\n",
       "    }\n",
       "\n",
       "    .dataframe tbody tr th {\n",
       "        vertical-align: top;\n",
       "    }\n",
       "\n",
       "    .dataframe thead th {\n",
       "        text-align: right;\n",
       "    }\n",
       "</style>\n",
       "<table border=\"1\" class=\"dataframe\">\n",
       "  <thead>\n",
       "    <tr style=\"text-align: right;\">\n",
       "      <th></th>\n",
       "      <th>B</th>\n",
       "    </tr>\n",
       "  </thead>\n",
       "  <tbody>\n",
       "    <tr>\n",
       "      <th>f</th>\n",
       "      <td>200</td>\n",
       "    </tr>\n",
       "    <tr>\n",
       "      <th>b</th>\n",
       "      <td>150</td>\n",
       "    </tr>\n",
       "    <tr>\n",
       "      <th>d</th>\n",
       "      <td>50</td>\n",
       "    </tr>\n",
       "  </tbody>\n",
       "</table>\n",
       "</div>"
      ],
      "text/plain": [
       "     B\n",
       "f  200\n",
       "b  150\n",
       "d   50"
      ]
     },
     "execution_count": 92,
     "metadata": {},
     "output_type": "execute_result"
    }
   ],
   "source": [
    "df2"
   ]
  },
  {
   "cell_type": "markdown",
   "metadata": {},
   "source": [
    "#### Concatenation"
   ]
  },
  {
   "cell_type": "code",
   "execution_count": 93,
   "metadata": {},
   "outputs": [
    {
     "data": {
      "text/html": [
       "<div>\n",
       "<style scoped>\n",
       "    .dataframe tbody tr th:only-of-type {\n",
       "        vertical-align: middle;\n",
       "    }\n",
       "\n",
       "    .dataframe tbody tr th {\n",
       "        vertical-align: top;\n",
       "    }\n",
       "\n",
       "    .dataframe thead th {\n",
       "        text-align: right;\n",
       "    }\n",
       "</style>\n",
       "<table border=\"1\" class=\"dataframe\">\n",
       "  <thead>\n",
       "    <tr style=\"text-align: right;\">\n",
       "      <th></th>\n",
       "      <th>A</th>\n",
       "      <th>B</th>\n",
       "    </tr>\n",
       "  </thead>\n",
       "  <tbody>\n",
       "    <tr>\n",
       "      <th>a</th>\n",
       "      <td>100</td>\n",
       "      <td>NaN</td>\n",
       "    </tr>\n",
       "    <tr>\n",
       "      <th>b</th>\n",
       "      <td>200</td>\n",
       "      <td>NaN</td>\n",
       "    </tr>\n",
       "    <tr>\n",
       "      <th>c</th>\n",
       "      <td>300</td>\n",
       "      <td>NaN</td>\n",
       "    </tr>\n",
       "    <tr>\n",
       "      <th>d</th>\n",
       "      <td>400</td>\n",
       "      <td>NaN</td>\n",
       "    </tr>\n",
       "    <tr>\n",
       "      <th>f</th>\n",
       "      <td>NaN</td>\n",
       "      <td>200</td>\n",
       "    </tr>\n",
       "    <tr>\n",
       "      <th>b</th>\n",
       "      <td>NaN</td>\n",
       "      <td>150</td>\n",
       "    </tr>\n",
       "    <tr>\n",
       "      <th>d</th>\n",
       "      <td>NaN</td>\n",
       "      <td>50</td>\n",
       "    </tr>\n",
       "  </tbody>\n",
       "</table>\n",
       "</div>"
      ],
      "text/plain": [
       "     A    B\n",
       "a  100  NaN\n",
       "b  200  NaN\n",
       "c  300  NaN\n",
       "d  400  NaN\n",
       "f  NaN  200\n",
       "b  NaN  150\n",
       "d  NaN   50"
      ]
     },
     "execution_count": 93,
     "metadata": {},
     "output_type": "execute_result"
    }
   ],
   "source": [
    "df1.append(df2, sort=False)  "
   ]
  },
  {
   "cell_type": "code",
   "execution_count": 94,
   "metadata": {},
   "outputs": [
    {
     "data": {
      "text/html": [
       "<div>\n",
       "<style scoped>\n",
       "    .dataframe tbody tr th:only-of-type {\n",
       "        vertical-align: middle;\n",
       "    }\n",
       "\n",
       "    .dataframe tbody tr th {\n",
       "        vertical-align: top;\n",
       "    }\n",
       "\n",
       "    .dataframe thead th {\n",
       "        text-align: right;\n",
       "    }\n",
       "</style>\n",
       "<table border=\"1\" class=\"dataframe\">\n",
       "  <thead>\n",
       "    <tr style=\"text-align: right;\">\n",
       "      <th></th>\n",
       "      <th>A</th>\n",
       "      <th>B</th>\n",
       "    </tr>\n",
       "  </thead>\n",
       "  <tbody>\n",
       "    <tr>\n",
       "      <th>0</th>\n",
       "      <td>100</td>\n",
       "      <td>NaN</td>\n",
       "    </tr>\n",
       "    <tr>\n",
       "      <th>1</th>\n",
       "      <td>200</td>\n",
       "      <td>NaN</td>\n",
       "    </tr>\n",
       "    <tr>\n",
       "      <th>2</th>\n",
       "      <td>300</td>\n",
       "      <td>NaN</td>\n",
       "    </tr>\n",
       "    <tr>\n",
       "      <th>3</th>\n",
       "      <td>400</td>\n",
       "      <td>NaN</td>\n",
       "    </tr>\n",
       "    <tr>\n",
       "      <th>4</th>\n",
       "      <td>NaN</td>\n",
       "      <td>200</td>\n",
       "    </tr>\n",
       "    <tr>\n",
       "      <th>5</th>\n",
       "      <td>NaN</td>\n",
       "      <td>150</td>\n",
       "    </tr>\n",
       "    <tr>\n",
       "      <th>6</th>\n",
       "      <td>NaN</td>\n",
       "      <td>50</td>\n",
       "    </tr>\n",
       "  </tbody>\n",
       "</table>\n",
       "</div>"
      ],
      "text/plain": [
       "     A    B\n",
       "0  100  NaN\n",
       "1  200  NaN\n",
       "2  300  NaN\n",
       "3  400  NaN\n",
       "4  NaN  200\n",
       "5  NaN  150\n",
       "6  NaN   50"
      ]
     },
     "execution_count": 94,
     "metadata": {},
     "output_type": "execute_result"
    }
   ],
   "source": [
    "df1.append(df2, ignore_index=True, sort=False)  "
   ]
  },
  {
   "cell_type": "code",
   "execution_count": 95,
   "metadata": {},
   "outputs": [
    {
     "data": {
      "text/html": [
       "<div>\n",
       "<style scoped>\n",
       "    .dataframe tbody tr th:only-of-type {\n",
       "        vertical-align: middle;\n",
       "    }\n",
       "\n",
       "    .dataframe tbody tr th {\n",
       "        vertical-align: top;\n",
       "    }\n",
       "\n",
       "    .dataframe thead th {\n",
       "        text-align: right;\n",
       "    }\n",
       "</style>\n",
       "<table border=\"1\" class=\"dataframe\">\n",
       "  <thead>\n",
       "    <tr style=\"text-align: right;\">\n",
       "      <th></th>\n",
       "      <th>A</th>\n",
       "      <th>B</th>\n",
       "    </tr>\n",
       "  </thead>\n",
       "  <tbody>\n",
       "    <tr>\n",
       "      <th>a</th>\n",
       "      <td>100</td>\n",
       "      <td>NaN</td>\n",
       "    </tr>\n",
       "    <tr>\n",
       "      <th>b</th>\n",
       "      <td>200</td>\n",
       "      <td>NaN</td>\n",
       "    </tr>\n",
       "    <tr>\n",
       "      <th>c</th>\n",
       "      <td>300</td>\n",
       "      <td>NaN</td>\n",
       "    </tr>\n",
       "    <tr>\n",
       "      <th>d</th>\n",
       "      <td>400</td>\n",
       "      <td>NaN</td>\n",
       "    </tr>\n",
       "    <tr>\n",
       "      <th>f</th>\n",
       "      <td>NaN</td>\n",
       "      <td>200</td>\n",
       "    </tr>\n",
       "    <tr>\n",
       "      <th>b</th>\n",
       "      <td>NaN</td>\n",
       "      <td>150</td>\n",
       "    </tr>\n",
       "    <tr>\n",
       "      <th>d</th>\n",
       "      <td>NaN</td>\n",
       "      <td>50</td>\n",
       "    </tr>\n",
       "  </tbody>\n",
       "</table>\n",
       "</div>"
      ],
      "text/plain": [
       "     A    B\n",
       "a  100  NaN\n",
       "b  200  NaN\n",
       "c  300  NaN\n",
       "d  400  NaN\n",
       "f  NaN  200\n",
       "b  NaN  150\n",
       "d  NaN   50"
      ]
     },
     "execution_count": 95,
     "metadata": {},
     "output_type": "execute_result"
    }
   ],
   "source": [
    "pd.concat((df1, df2), sort=False)  "
   ]
  },
  {
   "cell_type": "code",
   "execution_count": 96,
   "metadata": {},
   "outputs": [
    {
     "data": {
      "text/html": [
       "<div>\n",
       "<style scoped>\n",
       "    .dataframe tbody tr th:only-of-type {\n",
       "        vertical-align: middle;\n",
       "    }\n",
       "\n",
       "    .dataframe tbody tr th {\n",
       "        vertical-align: top;\n",
       "    }\n",
       "\n",
       "    .dataframe thead th {\n",
       "        text-align: right;\n",
       "    }\n",
       "</style>\n",
       "<table border=\"1\" class=\"dataframe\">\n",
       "  <thead>\n",
       "    <tr style=\"text-align: right;\">\n",
       "      <th></th>\n",
       "      <th>A</th>\n",
       "      <th>B</th>\n",
       "    </tr>\n",
       "  </thead>\n",
       "  <tbody>\n",
       "    <tr>\n",
       "      <th>0</th>\n",
       "      <td>100</td>\n",
       "      <td>NaN</td>\n",
       "    </tr>\n",
       "    <tr>\n",
       "      <th>1</th>\n",
       "      <td>200</td>\n",
       "      <td>NaN</td>\n",
       "    </tr>\n",
       "    <tr>\n",
       "      <th>2</th>\n",
       "      <td>300</td>\n",
       "      <td>NaN</td>\n",
       "    </tr>\n",
       "    <tr>\n",
       "      <th>3</th>\n",
       "      <td>400</td>\n",
       "      <td>NaN</td>\n",
       "    </tr>\n",
       "    <tr>\n",
       "      <th>4</th>\n",
       "      <td>NaN</td>\n",
       "      <td>200</td>\n",
       "    </tr>\n",
       "    <tr>\n",
       "      <th>5</th>\n",
       "      <td>NaN</td>\n",
       "      <td>150</td>\n",
       "    </tr>\n",
       "    <tr>\n",
       "      <th>6</th>\n",
       "      <td>NaN</td>\n",
       "      <td>50</td>\n",
       "    </tr>\n",
       "  </tbody>\n",
       "</table>\n",
       "</div>"
      ],
      "text/plain": [
       "     A    B\n",
       "0  100  NaN\n",
       "1  200  NaN\n",
       "2  300  NaN\n",
       "3  400  NaN\n",
       "4  NaN  200\n",
       "5  NaN  150\n",
       "6  NaN   50"
      ]
     },
     "execution_count": 96,
     "metadata": {},
     "output_type": "execute_result"
    }
   ],
   "source": [
    "pd.concat((df1, df2), ignore_index=True, sort=False)  "
   ]
  },
  {
   "cell_type": "markdown",
   "metadata": {},
   "source": [
    "#### Joining"
   ]
  },
  {
   "cell_type": "code",
   "execution_count": 97,
   "metadata": {},
   "outputs": [
    {
     "data": {
      "text/html": [
       "<div>\n",
       "<style scoped>\n",
       "    .dataframe tbody tr th:only-of-type {\n",
       "        vertical-align: middle;\n",
       "    }\n",
       "\n",
       "    .dataframe tbody tr th {\n",
       "        vertical-align: top;\n",
       "    }\n",
       "\n",
       "    .dataframe thead th {\n",
       "        text-align: right;\n",
       "    }\n",
       "</style>\n",
       "<table border=\"1\" class=\"dataframe\">\n",
       "  <thead>\n",
       "    <tr style=\"text-align: right;\">\n",
       "      <th></th>\n",
       "      <th>A</th>\n",
       "      <th>B</th>\n",
       "    </tr>\n",
       "  </thead>\n",
       "  <tbody>\n",
       "    <tr>\n",
       "      <th>a</th>\n",
       "      <td>100</td>\n",
       "      <td>NaN</td>\n",
       "    </tr>\n",
       "    <tr>\n",
       "      <th>b</th>\n",
       "      <td>200</td>\n",
       "      <td>150</td>\n",
       "    </tr>\n",
       "    <tr>\n",
       "      <th>c</th>\n",
       "      <td>300</td>\n",
       "      <td>NaN</td>\n",
       "    </tr>\n",
       "    <tr>\n",
       "      <th>d</th>\n",
       "      <td>400</td>\n",
       "      <td>50</td>\n",
       "    </tr>\n",
       "  </tbody>\n",
       "</table>\n",
       "</div>"
      ],
      "text/plain": [
       "     A    B\n",
       "a  100  NaN\n",
       "b  200  150\n",
       "c  300  NaN\n",
       "d  400   50"
      ]
     },
     "execution_count": 97,
     "metadata": {},
     "output_type": "execute_result"
    }
   ],
   "source": [
    "df1.join(df2)  "
   ]
  },
  {
   "cell_type": "code",
   "execution_count": 98,
   "metadata": {},
   "outputs": [
    {
     "data": {
      "text/html": [
       "<div>\n",
       "<style scoped>\n",
       "    .dataframe tbody tr th:only-of-type {\n",
       "        vertical-align: middle;\n",
       "    }\n",
       "\n",
       "    .dataframe tbody tr th {\n",
       "        vertical-align: top;\n",
       "    }\n",
       "\n",
       "    .dataframe thead th {\n",
       "        text-align: right;\n",
       "    }\n",
       "</style>\n",
       "<table border=\"1\" class=\"dataframe\">\n",
       "  <thead>\n",
       "    <tr style=\"text-align: right;\">\n",
       "      <th></th>\n",
       "      <th>B</th>\n",
       "      <th>A</th>\n",
       "    </tr>\n",
       "  </thead>\n",
       "  <tbody>\n",
       "    <tr>\n",
       "      <th>f</th>\n",
       "      <td>200</td>\n",
       "      <td>NaN</td>\n",
       "    </tr>\n",
       "    <tr>\n",
       "      <th>b</th>\n",
       "      <td>150</td>\n",
       "      <td>200</td>\n",
       "    </tr>\n",
       "    <tr>\n",
       "      <th>d</th>\n",
       "      <td>50</td>\n",
       "      <td>400</td>\n",
       "    </tr>\n",
       "  </tbody>\n",
       "</table>\n",
       "</div>"
      ],
      "text/plain": [
       "     B    A\n",
       "f  200  NaN\n",
       "b  150  200\n",
       "d   50  400"
      ]
     },
     "execution_count": 98,
     "metadata": {},
     "output_type": "execute_result"
    }
   ],
   "source": [
    "df2.join(df1)  "
   ]
  },
  {
   "cell_type": "code",
   "execution_count": 99,
   "metadata": {},
   "outputs": [
    {
     "data": {
      "text/html": [
       "<div>\n",
       "<style scoped>\n",
       "    .dataframe tbody tr th:only-of-type {\n",
       "        vertical-align: middle;\n",
       "    }\n",
       "\n",
       "    .dataframe tbody tr th {\n",
       "        vertical-align: top;\n",
       "    }\n",
       "\n",
       "    .dataframe thead th {\n",
       "        text-align: right;\n",
       "    }\n",
       "</style>\n",
       "<table border=\"1\" class=\"dataframe\">\n",
       "  <thead>\n",
       "    <tr style=\"text-align: right;\">\n",
       "      <th></th>\n",
       "      <th>A</th>\n",
       "      <th>B</th>\n",
       "    </tr>\n",
       "  </thead>\n",
       "  <tbody>\n",
       "    <tr>\n",
       "      <th>a</th>\n",
       "      <td>100</td>\n",
       "      <td>NaN</td>\n",
       "    </tr>\n",
       "    <tr>\n",
       "      <th>b</th>\n",
       "      <td>200</td>\n",
       "      <td>150</td>\n",
       "    </tr>\n",
       "    <tr>\n",
       "      <th>c</th>\n",
       "      <td>300</td>\n",
       "      <td>NaN</td>\n",
       "    </tr>\n",
       "    <tr>\n",
       "      <th>d</th>\n",
       "      <td>400</td>\n",
       "      <td>50</td>\n",
       "    </tr>\n",
       "  </tbody>\n",
       "</table>\n",
       "</div>"
      ],
      "text/plain": [
       "     A    B\n",
       "a  100  NaN\n",
       "b  200  150\n",
       "c  300  NaN\n",
       "d  400   50"
      ]
     },
     "execution_count": 99,
     "metadata": {},
     "output_type": "execute_result"
    }
   ],
   "source": [
    "df1.join(df2, how='left')  "
   ]
  },
  {
   "cell_type": "code",
   "execution_count": 100,
   "metadata": {},
   "outputs": [
    {
     "data": {
      "text/html": [
       "<div>\n",
       "<style scoped>\n",
       "    .dataframe tbody tr th:only-of-type {\n",
       "        vertical-align: middle;\n",
       "    }\n",
       "\n",
       "    .dataframe tbody tr th {\n",
       "        vertical-align: top;\n",
       "    }\n",
       "\n",
       "    .dataframe thead th {\n",
       "        text-align: right;\n",
       "    }\n",
       "</style>\n",
       "<table border=\"1\" class=\"dataframe\">\n",
       "  <thead>\n",
       "    <tr style=\"text-align: right;\">\n",
       "      <th></th>\n",
       "      <th>A</th>\n",
       "      <th>B</th>\n",
       "    </tr>\n",
       "  </thead>\n",
       "  <tbody>\n",
       "    <tr>\n",
       "      <th>f</th>\n",
       "      <td>NaN</td>\n",
       "      <td>200</td>\n",
       "    </tr>\n",
       "    <tr>\n",
       "      <th>b</th>\n",
       "      <td>200</td>\n",
       "      <td>150</td>\n",
       "    </tr>\n",
       "    <tr>\n",
       "      <th>d</th>\n",
       "      <td>400</td>\n",
       "      <td>50</td>\n",
       "    </tr>\n",
       "  </tbody>\n",
       "</table>\n",
       "</div>"
      ],
      "text/plain": [
       "     A    B\n",
       "f  NaN  200\n",
       "b  200  150\n",
       "d  400   50"
      ]
     },
     "execution_count": 100,
     "metadata": {},
     "output_type": "execute_result"
    }
   ],
   "source": [
    "df1.join(df2, how='right')  "
   ]
  },
  {
   "cell_type": "code",
   "execution_count": 101,
   "metadata": {},
   "outputs": [
    {
     "data": {
      "text/html": [
       "<div>\n",
       "<style scoped>\n",
       "    .dataframe tbody tr th:only-of-type {\n",
       "        vertical-align: middle;\n",
       "    }\n",
       "\n",
       "    .dataframe tbody tr th {\n",
       "        vertical-align: top;\n",
       "    }\n",
       "\n",
       "    .dataframe thead th {\n",
       "        text-align: right;\n",
       "    }\n",
       "</style>\n",
       "<table border=\"1\" class=\"dataframe\">\n",
       "  <thead>\n",
       "    <tr style=\"text-align: right;\">\n",
       "      <th></th>\n",
       "      <th>A</th>\n",
       "      <th>B</th>\n",
       "    </tr>\n",
       "  </thead>\n",
       "  <tbody>\n",
       "    <tr>\n",
       "      <th>b</th>\n",
       "      <td>200</td>\n",
       "      <td>150</td>\n",
       "    </tr>\n",
       "    <tr>\n",
       "      <th>d</th>\n",
       "      <td>400</td>\n",
       "      <td>50</td>\n",
       "    </tr>\n",
       "  </tbody>\n",
       "</table>\n",
       "</div>"
      ],
      "text/plain": [
       "     A    B\n",
       "b  200  150\n",
       "d  400   50"
      ]
     },
     "execution_count": 101,
     "metadata": {},
     "output_type": "execute_result"
    }
   ],
   "source": [
    "df1.join(df2, how='inner')  "
   ]
  },
  {
   "cell_type": "code",
   "execution_count": 102,
   "metadata": {},
   "outputs": [
    {
     "data": {
      "text/html": [
       "<div>\n",
       "<style scoped>\n",
       "    .dataframe tbody tr th:only-of-type {\n",
       "        vertical-align: middle;\n",
       "    }\n",
       "\n",
       "    .dataframe tbody tr th {\n",
       "        vertical-align: top;\n",
       "    }\n",
       "\n",
       "    .dataframe thead th {\n",
       "        text-align: right;\n",
       "    }\n",
       "</style>\n",
       "<table border=\"1\" class=\"dataframe\">\n",
       "  <thead>\n",
       "    <tr style=\"text-align: right;\">\n",
       "      <th></th>\n",
       "      <th>A</th>\n",
       "      <th>B</th>\n",
       "    </tr>\n",
       "  </thead>\n",
       "  <tbody>\n",
       "    <tr>\n",
       "      <th>a</th>\n",
       "      <td>100</td>\n",
       "      <td>NaN</td>\n",
       "    </tr>\n",
       "    <tr>\n",
       "      <th>b</th>\n",
       "      <td>200</td>\n",
       "      <td>150</td>\n",
       "    </tr>\n",
       "    <tr>\n",
       "      <th>c</th>\n",
       "      <td>300</td>\n",
       "      <td>NaN</td>\n",
       "    </tr>\n",
       "    <tr>\n",
       "      <th>d</th>\n",
       "      <td>400</td>\n",
       "      <td>50</td>\n",
       "    </tr>\n",
       "    <tr>\n",
       "      <th>f</th>\n",
       "      <td>NaN</td>\n",
       "      <td>200</td>\n",
       "    </tr>\n",
       "  </tbody>\n",
       "</table>\n",
       "</div>"
      ],
      "text/plain": [
       "     A    B\n",
       "a  100  NaN\n",
       "b  200  150\n",
       "c  300  NaN\n",
       "d  400   50\n",
       "f  NaN  200"
      ]
     },
     "execution_count": 102,
     "metadata": {},
     "output_type": "execute_result"
    }
   ],
   "source": [
    "df1.join(df2, how='outer')  "
   ]
  },
  {
   "cell_type": "code",
   "execution_count": 103,
   "metadata": {},
   "outputs": [],
   "source": [
    "df = pd.DataFrame()"
   ]
  },
  {
   "cell_type": "code",
   "execution_count": 104,
   "metadata": {},
   "outputs": [],
   "source": [
    "df['A'] = df1['A']  "
   ]
  },
  {
   "cell_type": "code",
   "execution_count": 105,
   "metadata": {},
   "outputs": [
    {
     "data": {
      "text/html": [
       "<div>\n",
       "<style scoped>\n",
       "    .dataframe tbody tr th:only-of-type {\n",
       "        vertical-align: middle;\n",
       "    }\n",
       "\n",
       "    .dataframe tbody tr th {\n",
       "        vertical-align: top;\n",
       "    }\n",
       "\n",
       "    .dataframe thead th {\n",
       "        text-align: right;\n",
       "    }\n",
       "</style>\n",
       "<table border=\"1\" class=\"dataframe\">\n",
       "  <thead>\n",
       "    <tr style=\"text-align: right;\">\n",
       "      <th></th>\n",
       "      <th>A</th>\n",
       "    </tr>\n",
       "  </thead>\n",
       "  <tbody>\n",
       "    <tr>\n",
       "      <th>a</th>\n",
       "      <td>100</td>\n",
       "    </tr>\n",
       "    <tr>\n",
       "      <th>b</th>\n",
       "      <td>200</td>\n",
       "    </tr>\n",
       "    <tr>\n",
       "      <th>c</th>\n",
       "      <td>300</td>\n",
       "    </tr>\n",
       "    <tr>\n",
       "      <th>d</th>\n",
       "      <td>400</td>\n",
       "    </tr>\n",
       "  </tbody>\n",
       "</table>\n",
       "</div>"
      ],
      "text/plain": [
       "     A\n",
       "a  100\n",
       "b  200\n",
       "c  300\n",
       "d  400"
      ]
     },
     "execution_count": 105,
     "metadata": {},
     "output_type": "execute_result"
    }
   ],
   "source": [
    "df"
   ]
  },
  {
   "cell_type": "code",
   "execution_count": 106,
   "metadata": {},
   "outputs": [],
   "source": [
    "df['B'] = df2  "
   ]
  },
  {
   "cell_type": "code",
   "execution_count": 107,
   "metadata": {},
   "outputs": [
    {
     "data": {
      "text/html": [
       "<div>\n",
       "<style scoped>\n",
       "    .dataframe tbody tr th:only-of-type {\n",
       "        vertical-align: middle;\n",
       "    }\n",
       "\n",
       "    .dataframe tbody tr th {\n",
       "        vertical-align: top;\n",
       "    }\n",
       "\n",
       "    .dataframe thead th {\n",
       "        text-align: right;\n",
       "    }\n",
       "</style>\n",
       "<table border=\"1\" class=\"dataframe\">\n",
       "  <thead>\n",
       "    <tr style=\"text-align: right;\">\n",
       "      <th></th>\n",
       "      <th>A</th>\n",
       "      <th>B</th>\n",
       "    </tr>\n",
       "  </thead>\n",
       "  <tbody>\n",
       "    <tr>\n",
       "      <th>a</th>\n",
       "      <td>100</td>\n",
       "      <td>NaN</td>\n",
       "    </tr>\n",
       "    <tr>\n",
       "      <th>b</th>\n",
       "      <td>200</td>\n",
       "      <td>150</td>\n",
       "    </tr>\n",
       "    <tr>\n",
       "      <th>c</th>\n",
       "      <td>300</td>\n",
       "      <td>NaN</td>\n",
       "    </tr>\n",
       "    <tr>\n",
       "      <th>d</th>\n",
       "      <td>400</td>\n",
       "      <td>50</td>\n",
       "    </tr>\n",
       "  </tbody>\n",
       "</table>\n",
       "</div>"
      ],
      "text/plain": [
       "     A    B\n",
       "a  100  NaN\n",
       "b  200  150\n",
       "c  300  NaN\n",
       "d  400   50"
      ]
     },
     "execution_count": 107,
     "metadata": {},
     "output_type": "execute_result"
    }
   ],
   "source": [
    "df"
   ]
  },
  {
   "cell_type": "code",
   "execution_count": 108,
   "metadata": {},
   "outputs": [],
   "source": [
    "df = pd.DataFrame({'A': df1['A'], 'B': df2['B']})  "
   ]
  },
  {
   "cell_type": "code",
   "execution_count": 109,
   "metadata": {},
   "outputs": [
    {
     "data": {
      "text/html": [
       "<div>\n",
       "<style scoped>\n",
       "    .dataframe tbody tr th:only-of-type {\n",
       "        vertical-align: middle;\n",
       "    }\n",
       "\n",
       "    .dataframe tbody tr th {\n",
       "        vertical-align: top;\n",
       "    }\n",
       "\n",
       "    .dataframe thead th {\n",
       "        text-align: right;\n",
       "    }\n",
       "</style>\n",
       "<table border=\"1\" class=\"dataframe\">\n",
       "  <thead>\n",
       "    <tr style=\"text-align: right;\">\n",
       "      <th></th>\n",
       "      <th>A</th>\n",
       "      <th>B</th>\n",
       "    </tr>\n",
       "  </thead>\n",
       "  <tbody>\n",
       "    <tr>\n",
       "      <th>a</th>\n",
       "      <td>100</td>\n",
       "      <td>NaN</td>\n",
       "    </tr>\n",
       "    <tr>\n",
       "      <th>b</th>\n",
       "      <td>200</td>\n",
       "      <td>150</td>\n",
       "    </tr>\n",
       "    <tr>\n",
       "      <th>c</th>\n",
       "      <td>300</td>\n",
       "      <td>NaN</td>\n",
       "    </tr>\n",
       "    <tr>\n",
       "      <th>d</th>\n",
       "      <td>400</td>\n",
       "      <td>50</td>\n",
       "    </tr>\n",
       "    <tr>\n",
       "      <th>f</th>\n",
       "      <td>NaN</td>\n",
       "      <td>200</td>\n",
       "    </tr>\n",
       "  </tbody>\n",
       "</table>\n",
       "</div>"
      ],
      "text/plain": [
       "     A    B\n",
       "a  100  NaN\n",
       "b  200  150\n",
       "c  300  NaN\n",
       "d  400   50\n",
       "f  NaN  200"
      ]
     },
     "execution_count": 109,
     "metadata": {},
     "output_type": "execute_result"
    }
   ],
   "source": [
    "df"
   ]
  },
  {
   "cell_type": "markdown",
   "metadata": {},
   "source": [
    "#### Merging"
   ]
  },
  {
   "cell_type": "code",
   "execution_count": 110,
   "metadata": {},
   "outputs": [],
   "source": [
    "c = pd.Series([250, 150, 50], index=['b', 'd', 'c'])\n",
    "df1['C'] = c\n",
    "df2['C'] = c"
   ]
  },
  {
   "cell_type": "code",
   "execution_count": 111,
   "metadata": {},
   "outputs": [
    {
     "data": {
      "text/html": [
       "<div>\n",
       "<style scoped>\n",
       "    .dataframe tbody tr th:only-of-type {\n",
       "        vertical-align: middle;\n",
       "    }\n",
       "\n",
       "    .dataframe tbody tr th {\n",
       "        vertical-align: top;\n",
       "    }\n",
       "\n",
       "    .dataframe thead th {\n",
       "        text-align: right;\n",
       "    }\n",
       "</style>\n",
       "<table border=\"1\" class=\"dataframe\">\n",
       "  <thead>\n",
       "    <tr style=\"text-align: right;\">\n",
       "      <th></th>\n",
       "      <th>A</th>\n",
       "      <th>C</th>\n",
       "    </tr>\n",
       "  </thead>\n",
       "  <tbody>\n",
       "    <tr>\n",
       "      <th>a</th>\n",
       "      <td>100</td>\n",
       "      <td>NaN</td>\n",
       "    </tr>\n",
       "    <tr>\n",
       "      <th>b</th>\n",
       "      <td>200</td>\n",
       "      <td>250.0</td>\n",
       "    </tr>\n",
       "    <tr>\n",
       "      <th>c</th>\n",
       "      <td>300</td>\n",
       "      <td>50.0</td>\n",
       "    </tr>\n",
       "    <tr>\n",
       "      <th>d</th>\n",
       "      <td>400</td>\n",
       "      <td>150.0</td>\n",
       "    </tr>\n",
       "  </tbody>\n",
       "</table>\n",
       "</div>"
      ],
      "text/plain": [
       "     A      C\n",
       "a  100    NaN\n",
       "b  200  250.0\n",
       "c  300   50.0\n",
       "d  400  150.0"
      ]
     },
     "execution_count": 111,
     "metadata": {},
     "output_type": "execute_result"
    }
   ],
   "source": [
    "df1"
   ]
  },
  {
   "cell_type": "code",
   "execution_count": 112,
   "metadata": {},
   "outputs": [
    {
     "data": {
      "text/html": [
       "<div>\n",
       "<style scoped>\n",
       "    .dataframe tbody tr th:only-of-type {\n",
       "        vertical-align: middle;\n",
       "    }\n",
       "\n",
       "    .dataframe tbody tr th {\n",
       "        vertical-align: top;\n",
       "    }\n",
       "\n",
       "    .dataframe thead th {\n",
       "        text-align: right;\n",
       "    }\n",
       "</style>\n",
       "<table border=\"1\" class=\"dataframe\">\n",
       "  <thead>\n",
       "    <tr style=\"text-align: right;\">\n",
       "      <th></th>\n",
       "      <th>B</th>\n",
       "      <th>C</th>\n",
       "    </tr>\n",
       "  </thead>\n",
       "  <tbody>\n",
       "    <tr>\n",
       "      <th>f</th>\n",
       "      <td>200</td>\n",
       "      <td>NaN</td>\n",
       "    </tr>\n",
       "    <tr>\n",
       "      <th>b</th>\n",
       "      <td>150</td>\n",
       "      <td>250.0</td>\n",
       "    </tr>\n",
       "    <tr>\n",
       "      <th>d</th>\n",
       "      <td>50</td>\n",
       "      <td>150.0</td>\n",
       "    </tr>\n",
       "  </tbody>\n",
       "</table>\n",
       "</div>"
      ],
      "text/plain": [
       "     B      C\n",
       "f  200    NaN\n",
       "b  150  250.0\n",
       "d   50  150.0"
      ]
     },
     "execution_count": 112,
     "metadata": {},
     "output_type": "execute_result"
    }
   ],
   "source": [
    "df2"
   ]
  },
  {
   "cell_type": "code",
   "execution_count": 113,
   "metadata": {},
   "outputs": [
    {
     "data": {
      "text/html": [
       "<div>\n",
       "<style scoped>\n",
       "    .dataframe tbody tr th:only-of-type {\n",
       "        vertical-align: middle;\n",
       "    }\n",
       "\n",
       "    .dataframe tbody tr th {\n",
       "        vertical-align: top;\n",
       "    }\n",
       "\n",
       "    .dataframe thead th {\n",
       "        text-align: right;\n",
       "    }\n",
       "</style>\n",
       "<table border=\"1\" class=\"dataframe\">\n",
       "  <thead>\n",
       "    <tr style=\"text-align: right;\">\n",
       "      <th></th>\n",
       "      <th>A</th>\n",
       "      <th>C</th>\n",
       "      <th>B</th>\n",
       "    </tr>\n",
       "  </thead>\n",
       "  <tbody>\n",
       "    <tr>\n",
       "      <th>0</th>\n",
       "      <td>100</td>\n",
       "      <td>NaN</td>\n",
       "      <td>200</td>\n",
       "    </tr>\n",
       "    <tr>\n",
       "      <th>1</th>\n",
       "      <td>200</td>\n",
       "      <td>250.0</td>\n",
       "      <td>150</td>\n",
       "    </tr>\n",
       "    <tr>\n",
       "      <th>2</th>\n",
       "      <td>400</td>\n",
       "      <td>150.0</td>\n",
       "      <td>50</td>\n",
       "    </tr>\n",
       "  </tbody>\n",
       "</table>\n",
       "</div>"
      ],
      "text/plain": [
       "     A      C    B\n",
       "0  100    NaN  200\n",
       "1  200  250.0  150\n",
       "2  400  150.0   50"
      ]
     },
     "execution_count": 113,
     "metadata": {},
     "output_type": "execute_result"
    }
   ],
   "source": [
    "pd.merge(df1, df2)  "
   ]
  },
  {
   "cell_type": "code",
   "execution_count": 114,
   "metadata": {},
   "outputs": [
    {
     "data": {
      "text/html": [
       "<div>\n",
       "<style scoped>\n",
       "    .dataframe tbody tr th:only-of-type {\n",
       "        vertical-align: middle;\n",
       "    }\n",
       "\n",
       "    .dataframe tbody tr th {\n",
       "        vertical-align: top;\n",
       "    }\n",
       "\n",
       "    .dataframe thead th {\n",
       "        text-align: right;\n",
       "    }\n",
       "</style>\n",
       "<table border=\"1\" class=\"dataframe\">\n",
       "  <thead>\n",
       "    <tr style=\"text-align: right;\">\n",
       "      <th></th>\n",
       "      <th>A</th>\n",
       "      <th>C</th>\n",
       "      <th>B</th>\n",
       "    </tr>\n",
       "  </thead>\n",
       "  <tbody>\n",
       "    <tr>\n",
       "      <th>0</th>\n",
       "      <td>100</td>\n",
       "      <td>NaN</td>\n",
       "      <td>200</td>\n",
       "    </tr>\n",
       "    <tr>\n",
       "      <th>1</th>\n",
       "      <td>200</td>\n",
       "      <td>250.0</td>\n",
       "      <td>150</td>\n",
       "    </tr>\n",
       "    <tr>\n",
       "      <th>2</th>\n",
       "      <td>400</td>\n",
       "      <td>150.0</td>\n",
       "      <td>50</td>\n",
       "    </tr>\n",
       "  </tbody>\n",
       "</table>\n",
       "</div>"
      ],
      "text/plain": [
       "     A      C    B\n",
       "0  100    NaN  200\n",
       "1  200  250.0  150\n",
       "2  400  150.0   50"
      ]
     },
     "execution_count": 114,
     "metadata": {},
     "output_type": "execute_result"
    }
   ],
   "source": [
    "pd.merge(df1, df2, on='C')  "
   ]
  },
  {
   "cell_type": "code",
   "execution_count": 115,
   "metadata": {},
   "outputs": [
    {
     "data": {
      "text/html": [
       "<div>\n",
       "<style scoped>\n",
       "    .dataframe tbody tr th:only-of-type {\n",
       "        vertical-align: middle;\n",
       "    }\n",
       "\n",
       "    .dataframe tbody tr th {\n",
       "        vertical-align: top;\n",
       "    }\n",
       "\n",
       "    .dataframe thead th {\n",
       "        text-align: right;\n",
       "    }\n",
       "</style>\n",
       "<table border=\"1\" class=\"dataframe\">\n",
       "  <thead>\n",
       "    <tr style=\"text-align: right;\">\n",
       "      <th></th>\n",
       "      <th>A</th>\n",
       "      <th>C</th>\n",
       "      <th>B</th>\n",
       "    </tr>\n",
       "  </thead>\n",
       "  <tbody>\n",
       "    <tr>\n",
       "      <th>0</th>\n",
       "      <td>100</td>\n",
       "      <td>NaN</td>\n",
       "      <td>200</td>\n",
       "    </tr>\n",
       "    <tr>\n",
       "      <th>1</th>\n",
       "      <td>200</td>\n",
       "      <td>250.0</td>\n",
       "      <td>150</td>\n",
       "    </tr>\n",
       "    <tr>\n",
       "      <th>2</th>\n",
       "      <td>300</td>\n",
       "      <td>50.0</td>\n",
       "      <td>NaN</td>\n",
       "    </tr>\n",
       "    <tr>\n",
       "      <th>3</th>\n",
       "      <td>400</td>\n",
       "      <td>150.0</td>\n",
       "      <td>50</td>\n",
       "    </tr>\n",
       "  </tbody>\n",
       "</table>\n",
       "</div>"
      ],
      "text/plain": [
       "     A      C    B\n",
       "0  100    NaN  200\n",
       "1  200  250.0  150\n",
       "2  300   50.0  NaN\n",
       "3  400  150.0   50"
      ]
     },
     "execution_count": 115,
     "metadata": {},
     "output_type": "execute_result"
    }
   ],
   "source": [
    "pd.merge(df1, df2, how='outer')  "
   ]
  },
  {
   "cell_type": "code",
   "execution_count": 116,
   "metadata": {},
   "outputs": [
    {
     "data": {
      "text/html": [
       "<div>\n",
       "<style scoped>\n",
       "    .dataframe tbody tr th:only-of-type {\n",
       "        vertical-align: middle;\n",
       "    }\n",
       "\n",
       "    .dataframe tbody tr th {\n",
       "        vertical-align: top;\n",
       "    }\n",
       "\n",
       "    .dataframe thead th {\n",
       "        text-align: right;\n",
       "    }\n",
       "</style>\n",
       "<table border=\"1\" class=\"dataframe\">\n",
       "  <thead>\n",
       "    <tr style=\"text-align: right;\">\n",
       "      <th></th>\n",
       "      <th>A</th>\n",
       "      <th>C_x</th>\n",
       "      <th>B</th>\n",
       "      <th>C_y</th>\n",
       "    </tr>\n",
       "  </thead>\n",
       "  <tbody>\n",
       "    <tr>\n",
       "      <th>0</th>\n",
       "      <td>200</td>\n",
       "      <td>250.0</td>\n",
       "      <td>200</td>\n",
       "      <td>NaN</td>\n",
       "    </tr>\n",
       "  </tbody>\n",
       "</table>\n",
       "</div>"
      ],
      "text/plain": [
       "     A    C_x    B  C_y\n",
       "0  200  250.0  200  NaN"
      ]
     },
     "execution_count": 116,
     "metadata": {},
     "output_type": "execute_result"
    }
   ],
   "source": [
    "pd.merge(df1, df2, left_on='A', right_on='B')"
   ]
  },
  {
   "cell_type": "code",
   "execution_count": 117,
   "metadata": {},
   "outputs": [
    {
     "data": {
      "text/html": [
       "<div>\n",
       "<style scoped>\n",
       "    .dataframe tbody tr th:only-of-type {\n",
       "        vertical-align: middle;\n",
       "    }\n",
       "\n",
       "    .dataframe tbody tr th {\n",
       "        vertical-align: top;\n",
       "    }\n",
       "\n",
       "    .dataframe thead th {\n",
       "        text-align: right;\n",
       "    }\n",
       "</style>\n",
       "<table border=\"1\" class=\"dataframe\">\n",
       "  <thead>\n",
       "    <tr style=\"text-align: right;\">\n",
       "      <th></th>\n",
       "      <th>A</th>\n",
       "      <th>C_x</th>\n",
       "      <th>B</th>\n",
       "      <th>C_y</th>\n",
       "    </tr>\n",
       "  </thead>\n",
       "  <tbody>\n",
       "    <tr>\n",
       "      <th>0</th>\n",
       "      <td>100</td>\n",
       "      <td>NaN</td>\n",
       "      <td>NaN</td>\n",
       "      <td>NaN</td>\n",
       "    </tr>\n",
       "    <tr>\n",
       "      <th>1</th>\n",
       "      <td>200</td>\n",
       "      <td>250.0</td>\n",
       "      <td>200</td>\n",
       "      <td>NaN</td>\n",
       "    </tr>\n",
       "    <tr>\n",
       "      <th>2</th>\n",
       "      <td>300</td>\n",
       "      <td>50.0</td>\n",
       "      <td>NaN</td>\n",
       "      <td>NaN</td>\n",
       "    </tr>\n",
       "    <tr>\n",
       "      <th>3</th>\n",
       "      <td>400</td>\n",
       "      <td>150.0</td>\n",
       "      <td>NaN</td>\n",
       "      <td>NaN</td>\n",
       "    </tr>\n",
       "    <tr>\n",
       "      <th>4</th>\n",
       "      <td>NaN</td>\n",
       "      <td>NaN</td>\n",
       "      <td>150</td>\n",
       "      <td>250.0</td>\n",
       "    </tr>\n",
       "    <tr>\n",
       "      <th>5</th>\n",
       "      <td>NaN</td>\n",
       "      <td>NaN</td>\n",
       "      <td>50</td>\n",
       "      <td>150.0</td>\n",
       "    </tr>\n",
       "  </tbody>\n",
       "</table>\n",
       "</div>"
      ],
      "text/plain": [
       "     A    C_x    B    C_y\n",
       "0  100    NaN  NaN    NaN\n",
       "1  200  250.0  200    NaN\n",
       "2  300   50.0  NaN    NaN\n",
       "3  400  150.0  NaN    NaN\n",
       "4  NaN    NaN  150  250.0\n",
       "5  NaN    NaN   50  150.0"
      ]
     },
     "execution_count": 117,
     "metadata": {},
     "output_type": "execute_result"
    }
   ],
   "source": [
    "pd.merge(df1, df2, left_on='A', right_on='B', how='outer')  "
   ]
  },
  {
   "cell_type": "code",
   "execution_count": 118,
   "metadata": {},
   "outputs": [
    {
     "data": {
      "text/html": [
       "<div>\n",
       "<style scoped>\n",
       "    .dataframe tbody tr th:only-of-type {\n",
       "        vertical-align: middle;\n",
       "    }\n",
       "\n",
       "    .dataframe tbody tr th {\n",
       "        vertical-align: top;\n",
       "    }\n",
       "\n",
       "    .dataframe thead th {\n",
       "        text-align: right;\n",
       "    }\n",
       "</style>\n",
       "<table border=\"1\" class=\"dataframe\">\n",
       "  <thead>\n",
       "    <tr style=\"text-align: right;\">\n",
       "      <th></th>\n",
       "      <th>A</th>\n",
       "      <th>C_x</th>\n",
       "      <th>B</th>\n",
       "      <th>C_y</th>\n",
       "    </tr>\n",
       "  </thead>\n",
       "  <tbody>\n",
       "    <tr>\n",
       "      <th>b</th>\n",
       "      <td>200</td>\n",
       "      <td>250.0</td>\n",
       "      <td>150</td>\n",
       "      <td>250.0</td>\n",
       "    </tr>\n",
       "    <tr>\n",
       "      <th>d</th>\n",
       "      <td>400</td>\n",
       "      <td>150.0</td>\n",
       "      <td>50</td>\n",
       "      <td>150.0</td>\n",
       "    </tr>\n",
       "  </tbody>\n",
       "</table>\n",
       "</div>"
      ],
      "text/plain": [
       "     A    C_x    B    C_y\n",
       "b  200  250.0  150  250.0\n",
       "d  400  150.0   50  150.0"
      ]
     },
     "execution_count": 118,
     "metadata": {},
     "output_type": "execute_result"
    }
   ],
   "source": [
    "pd.merge(df1, df2, left_index=True, right_index=True)"
   ]
  },
  {
   "cell_type": "code",
   "execution_count": 119,
   "metadata": {},
   "outputs": [
    {
     "data": {
      "text/html": [
       "<div>\n",
       "<style scoped>\n",
       "    .dataframe tbody tr th:only-of-type {\n",
       "        vertical-align: middle;\n",
       "    }\n",
       "\n",
       "    .dataframe tbody tr th {\n",
       "        vertical-align: top;\n",
       "    }\n",
       "\n",
       "    .dataframe thead th {\n",
       "        text-align: right;\n",
       "    }\n",
       "</style>\n",
       "<table border=\"1\" class=\"dataframe\">\n",
       "  <thead>\n",
       "    <tr style=\"text-align: right;\">\n",
       "      <th></th>\n",
       "      <th>A</th>\n",
       "      <th>C</th>\n",
       "      <th>B</th>\n",
       "    </tr>\n",
       "  </thead>\n",
       "  <tbody>\n",
       "    <tr>\n",
       "      <th>f</th>\n",
       "      <td>100</td>\n",
       "      <td>NaN</td>\n",
       "      <td>200</td>\n",
       "    </tr>\n",
       "    <tr>\n",
       "      <th>b</th>\n",
       "      <td>200</td>\n",
       "      <td>250.0</td>\n",
       "      <td>150</td>\n",
       "    </tr>\n",
       "    <tr>\n",
       "      <th>d</th>\n",
       "      <td>400</td>\n",
       "      <td>150.0</td>\n",
       "      <td>50</td>\n",
       "    </tr>\n",
       "  </tbody>\n",
       "</table>\n",
       "</div>"
      ],
      "text/plain": [
       "     A      C    B\n",
       "f  100    NaN  200\n",
       "b  200  250.0  150\n",
       "d  400  150.0   50"
      ]
     },
     "execution_count": 119,
     "metadata": {},
     "output_type": "execute_result"
    }
   ],
   "source": [
    "pd.merge(df1, df2, on='C', left_index=True)"
   ]
  },
  {
   "cell_type": "code",
   "execution_count": 120,
   "metadata": {},
   "outputs": [
    {
     "data": {
      "text/html": [
       "<div>\n",
       "<style scoped>\n",
       "    .dataframe tbody tr th:only-of-type {\n",
       "        vertical-align: middle;\n",
       "    }\n",
       "\n",
       "    .dataframe tbody tr th {\n",
       "        vertical-align: top;\n",
       "    }\n",
       "\n",
       "    .dataframe thead th {\n",
       "        text-align: right;\n",
       "    }\n",
       "</style>\n",
       "<table border=\"1\" class=\"dataframe\">\n",
       "  <thead>\n",
       "    <tr style=\"text-align: right;\">\n",
       "      <th></th>\n",
       "      <th>A</th>\n",
       "      <th>C</th>\n",
       "      <th>B</th>\n",
       "    </tr>\n",
       "  </thead>\n",
       "  <tbody>\n",
       "    <tr>\n",
       "      <th>a</th>\n",
       "      <td>100</td>\n",
       "      <td>NaN</td>\n",
       "      <td>200</td>\n",
       "    </tr>\n",
       "    <tr>\n",
       "      <th>b</th>\n",
       "      <td>200</td>\n",
       "      <td>250.0</td>\n",
       "      <td>150</td>\n",
       "    </tr>\n",
       "    <tr>\n",
       "      <th>d</th>\n",
       "      <td>400</td>\n",
       "      <td>150.0</td>\n",
       "      <td>50</td>\n",
       "    </tr>\n",
       "  </tbody>\n",
       "</table>\n",
       "</div>"
      ],
      "text/plain": [
       "     A      C    B\n",
       "a  100    NaN  200\n",
       "b  200  250.0  150\n",
       "d  400  150.0   50"
      ]
     },
     "execution_count": 120,
     "metadata": {},
     "output_type": "execute_result"
    }
   ],
   "source": [
    "pd.merge(df1, df2, on='C', right_index=True)"
   ]
  },
  {
   "cell_type": "code",
   "execution_count": 121,
   "metadata": {},
   "outputs": [
    {
     "data": {
      "text/html": [
       "<div>\n",
       "<style scoped>\n",
       "    .dataframe tbody tr th:only-of-type {\n",
       "        vertical-align: middle;\n",
       "    }\n",
       "\n",
       "    .dataframe tbody tr th {\n",
       "        vertical-align: top;\n",
       "    }\n",
       "\n",
       "    .dataframe thead th {\n",
       "        text-align: right;\n",
       "    }\n",
       "</style>\n",
       "<table border=\"1\" class=\"dataframe\">\n",
       "  <thead>\n",
       "    <tr style=\"text-align: right;\">\n",
       "      <th></th>\n",
       "      <th>A</th>\n",
       "      <th>C</th>\n",
       "      <th>B</th>\n",
       "    </tr>\n",
       "  </thead>\n",
       "  <tbody>\n",
       "    <tr>\n",
       "      <th>b</th>\n",
       "      <td>200</td>\n",
       "      <td>250.0</td>\n",
       "      <td>150</td>\n",
       "    </tr>\n",
       "    <tr>\n",
       "      <th>d</th>\n",
       "      <td>400</td>\n",
       "      <td>150.0</td>\n",
       "      <td>50</td>\n",
       "    </tr>\n",
       "  </tbody>\n",
       "</table>\n",
       "</div>"
      ],
      "text/plain": [
       "     A      C    B\n",
       "b  200  250.0  150\n",
       "d  400  150.0   50"
      ]
     },
     "execution_count": 121,
     "metadata": {},
     "output_type": "execute_result"
    }
   ],
   "source": [
    "pd.merge(df1, df2, on='C', left_index=True, right_index=True)"
   ]
  },
  {
   "cell_type": "markdown",
   "metadata": {},
   "source": [
    "## Performance Aspects"
   ]
  },
  {
   "cell_type": "code",
   "execution_count": 122,
   "metadata": {},
   "outputs": [],
   "source": [
    "data = np.random.standard_normal((1000000, 2))  "
   ]
  },
  {
   "cell_type": "code",
   "execution_count": 123,
   "metadata": {},
   "outputs": [
    {
     "data": {
      "text/plain": [
       "16000000"
      ]
     },
     "execution_count": 123,
     "metadata": {},
     "output_type": "execute_result"
    }
   ],
   "source": [
    "data.nbytes  "
   ]
  },
  {
   "cell_type": "code",
   "execution_count": 124,
   "metadata": {},
   "outputs": [],
   "source": [
    "df = pd.DataFrame(data, columns=['x', 'y'])  "
   ]
  },
  {
   "cell_type": "code",
   "execution_count": 125,
   "metadata": {},
   "outputs": [
    {
     "name": "stdout",
     "output_type": "stream",
     "text": [
      "<class 'pandas.core.frame.DataFrame'>\n",
      "RangeIndex: 1000000 entries, 0 to 999999\n",
      "Data columns (total 2 columns):\n",
      " #   Column  Non-Null Count    Dtype  \n",
      "---  ------  --------------    -----  \n",
      " 0   x       1000000 non-null  float64\n",
      " 1   y       1000000 non-null  float64\n",
      "dtypes: float64(2)\n",
      "memory usage: 15.3 MB\n"
     ]
    }
   ],
   "source": [
    "df.info()  "
   ]
  },
  {
   "cell_type": "code",
   "execution_count": 126,
   "metadata": {},
   "outputs": [
    {
     "name": "stdout",
     "output_type": "stream",
     "text": [
      "CPU times: user 10.5 ms, sys: 14.9 ms, total: 25.4 ms\n",
      "Wall time: 6.78 ms\n"
     ]
    }
   ],
   "source": [
    "%time res = df['x'] + df['y']  "
   ]
  },
  {
   "cell_type": "code",
   "execution_count": 127,
   "metadata": {},
   "outputs": [
    {
     "data": {
      "text/plain": [
       "0    0.387242\n",
       "1   -0.969343\n",
       "2   -0.863159\n",
       "dtype: float64"
      ]
     },
     "execution_count": 127,
     "metadata": {},
     "output_type": "execute_result"
    }
   ],
   "source": [
    "res[:3]"
   ]
  },
  {
   "cell_type": "code",
   "execution_count": 128,
   "metadata": {},
   "outputs": [
    {
     "name": "stdout",
     "output_type": "stream",
     "text": [
      "CPU times: user 55.5 ms, sys: 19.5 ms, total: 75 ms\n",
      "Wall time: 73.6 ms\n"
     ]
    }
   ],
   "source": [
    "%time res = df.sum(axis=1)  "
   ]
  },
  {
   "cell_type": "code",
   "execution_count": 129,
   "metadata": {},
   "outputs": [
    {
     "data": {
      "text/plain": [
       "0    0.387242\n",
       "1   -0.969343\n",
       "2   -0.863159\n",
       "dtype: float64"
      ]
     },
     "execution_count": 129,
     "metadata": {},
     "output_type": "execute_result"
    }
   ],
   "source": [
    "res[:3]"
   ]
  },
  {
   "cell_type": "code",
   "execution_count": 130,
   "metadata": {},
   "outputs": [
    {
     "name": "stdout",
     "output_type": "stream",
     "text": [
      "CPU times: user 21 ms, sys: 2.25 ms, total: 23.2 ms\n",
      "Wall time: 20.6 ms\n"
     ]
    }
   ],
   "source": [
    "%time res = df.values.sum(axis=1)  "
   ]
  },
  {
   "cell_type": "code",
   "execution_count": 131,
   "metadata": {},
   "outputs": [
    {
     "data": {
      "text/plain": [
       "array([ 0.3872424 , -0.96934273, -0.86315944])"
      ]
     },
     "execution_count": 131,
     "metadata": {},
     "output_type": "execute_result"
    }
   ],
   "source": [
    "res[:3]"
   ]
  },
  {
   "cell_type": "code",
   "execution_count": 132,
   "metadata": {},
   "outputs": [
    {
     "name": "stdout",
     "output_type": "stream",
     "text": [
      "CPU times: user 51.9 ms, sys: 11.2 ms, total: 63.1 ms\n",
      "Wall time: 60.6 ms\n"
     ]
    }
   ],
   "source": [
    "%time res = np.sum(df, axis=1)  "
   ]
  },
  {
   "cell_type": "code",
   "execution_count": 133,
   "metadata": {},
   "outputs": [
    {
     "data": {
      "text/plain": [
       "0    0.387242\n",
       "1   -0.969343\n",
       "2   -0.863159\n",
       "dtype: float64"
      ]
     },
     "execution_count": 133,
     "metadata": {},
     "output_type": "execute_result"
    }
   ],
   "source": [
    "res[:3]"
   ]
  },
  {
   "cell_type": "code",
   "execution_count": 134,
   "metadata": {},
   "outputs": [
    {
     "name": "stdout",
     "output_type": "stream",
     "text": [
      "CPU times: user 20.5 ms, sys: 1.48 ms, total: 22 ms\n",
      "Wall time: 20 ms\n"
     ]
    }
   ],
   "source": [
    "%time res = np.sum(df.values, axis=1)  "
   ]
  },
  {
   "cell_type": "code",
   "execution_count": 135,
   "metadata": {},
   "outputs": [
    {
     "data": {
      "text/plain": [
       "array([ 0.3872424 , -0.96934273, -0.86315944])"
      ]
     },
     "execution_count": 135,
     "metadata": {},
     "output_type": "execute_result"
    }
   ],
   "source": [
    "res[:3]"
   ]
  },
  {
   "cell_type": "code",
   "execution_count": 136,
   "metadata": {},
   "outputs": [
    {
     "name": "stdout",
     "output_type": "stream",
     "text": [
      "CPU times: user 12 ms, sys: 16.9 ms, total: 28.9 ms\n",
      "Wall time: 11.8 ms\n"
     ]
    }
   ],
   "source": [
    "%time res = df.eval('x + y')  "
   ]
  },
  {
   "cell_type": "code",
   "execution_count": 137,
   "metadata": {},
   "outputs": [
    {
     "data": {
      "text/plain": [
       "0    0.387242\n",
       "1   -0.969343\n",
       "2   -0.863159\n",
       "dtype: float64"
      ]
     },
     "execution_count": 137,
     "metadata": {},
     "output_type": "execute_result"
    }
   ],
   "source": [
    "res[:3]"
   ]
  },
  {
   "cell_type": "code",
   "execution_count": 138,
   "metadata": {},
   "outputs": [
    {
     "name": "stdout",
     "output_type": "stream",
     "text": [
      "CPU times: user 26.8 s, sys: 109 ms, total: 26.9 s\n",
      "Wall time: 27 s\n"
     ]
    }
   ],
   "source": [
    "%time res = df.apply(lambda row: row['x'] + row['y'], axis=1)  "
   ]
  },
  {
   "cell_type": "code",
   "execution_count": 139,
   "metadata": {},
   "outputs": [
    {
     "data": {
      "text/plain": [
       "0    0.387242\n",
       "1   -0.969343\n",
       "2   -0.863159\n",
       "dtype: float64"
      ]
     },
     "execution_count": 139,
     "metadata": {},
     "output_type": "execute_result"
    }
   ],
   "source": [
    "res[:3]"
   ]
  },
  {
   "cell_type": "markdown",
   "metadata": {},
   "source": [
    "<img src=\"http://hilpisch.com/tpq_logo.png\" alt=\"The Python Quants\" width=\"35%\" align=\"right\" border=\"0\"><br>\n",
    "\n",
    "<a href=\"http://tpq.io\" target=\"_blank\">http://tpq.io</a> | <a href=\"http://twitter.com/dyjh\" target=\"_blank\">@dyjh</a> | <a href=\"mailto:training@tpq.io\">training@tpq.io</a>"
   ]
  }
 ],
 "metadata": {
  "anaconda-cloud": {},
  "kernelspec": {
   "display_name": "Python 3",
   "language": "python",
   "name": "python3"
  },
  "language_info": {
   "codemirror_mode": {
    "name": "ipython",
    "version": 3
   },
   "file_extension": ".py",
   "mimetype": "text/x-python",
   "name": "python",
   "nbconvert_exporter": "python",
   "pygments_lexer": "ipython3",
   "version": "3.8.5"
  }
 },
 "nbformat": 4,
 "nbformat_minor": 4
}