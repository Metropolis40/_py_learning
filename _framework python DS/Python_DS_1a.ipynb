{
 "cells": [
  {
   "cell_type": "code",
   "execution_count": 2,
   "metadata": {},
   "outputs": [
    {
     "name": "stdout",
     "output_type": "stream",
     "text": [
      "1.20.3\n",
      "array('i', [0, 1, 2, 3, 4, 5, 6, 7, 8, 9, 10, 11, 12, 13, 14, 15, 16, 17, 18, 19])\n"
     ]
    }
   ],
   "source": [
    "# 这个文档作为py的一个模版reference，我会将python data science handbook过一遍， 这个文档基于\n",
    "\n",
    "# Python for Datascience by VanderPlas, O'Reilly\n",
    "\n",
    "# OS, kernel, applications, and shell\n",
    "\n",
    "# OSes are usually a collection of a kernel and a bunch of applications. Examples of OSes are Window$, Mac OS X, UNIX, Ubuntu, Solaris. Note that Linux is not an OS, but rather a kernel, which is the most important part of an OS. A shell is an application that runs on the OS and provides the user interface to the OS.\n",
    "\n",
    "# In computing, a shell is a computer program which exposes an operating system's services to a human user or other program. In general, operating system shells use either a command-line interface (CLI) or graphical user interface (GUI), depending on a computer's role and particular operation. It is named a shell because it is the outermost layer around the operating system\n",
    "\n",
    "# IPython (or IPython notebook) is a shell - originally developed to connect the python engine and the user but now for used to work with multiple languages (e.g., Julia and R). Ipython was from 2014 split into two projects: the IPython (e.g., which now focuses on the kernel, which now becomes rather language independent, though it is still named after 'python') we have now and the Jupyter notebook (e.g., format, msg protocal, and notebook application etc.). Jupyter notebook is based on IPython kernel. Jupyter notebook can also be used with multiple languages (e.g., R and Julia) and is extremely popular in DS. It is a web browser based on development environment.\n",
    "\n",
    "# We can run R in Jupyter notebook or R notebook or R Markdown - neglegible difference.\n",
    "\n",
    "#%%\n",
    "import numpy as np\n",
    "print(np.__version__)\n",
    "\n",
    "\n",
    "# Python data are not defined but inferred, e.g., when we say, x=2, x is then considered as integer, and y= 'x', so y is then considered as string. This increases flexibility and convenience at a cost of efficiency as in python the data will have to not only contain the value but also additional information such as the type and size of the data. This is particularly true with the list type in python.\n",
    "\n",
    "# To overcome this limitation (e.g., to make execution faster), we can use the array type where all the data inside the array are of the same type. We can use the build-in package 'array', e.g.,\n",
    "import array\n",
    "example1 = list(range(20))\n",
    "example1a = array.array('i', example1)# 'i' indicates the contents are integers.\n",
    "\n",
    "print(example1a)"
   ]
  },
  {
   "cell_type": "code",
   "execution_count": 16,
   "metadata": {},
   "outputs": [
    {
     "name": "stdout",
     "output_type": "stream",
     "text": [
      "<class 'range'>\n",
      "[ 1  2  3  4  5  6  7  8  9 10 11 12 13 14 15 16 17 18 19 20 21]\n",
      "[1, 2, 3, 4, 5, 6, 7, 8, 9, 10, 11, 12, 13, 14, 15, 16, 17, 18, 19, 20, 21]\n"
     ]
    }
   ],
   "source": [
    "kk = range(1, 22)\n",
    "print(type(kk))\n",
    "\n",
    "k1 = np.array(kk)\n",
    "k2 = list(kk)\n",
    "\n",
    "print(k1)#\n",
    "print(k2)"
   ]
  },
  {
   "cell_type": "code",
   "execution_count": 20,
   "metadata": {},
   "outputs": [
    {
     "name": "stdout",
     "output_type": "stream",
     "text": [
      "[1 2 3 5 5 6 7 8]\n",
      "[[ 0  1  2  3  4  5  6  7  8  9 10]\n",
      " [ 0  1  2  3  4  5  6  7  8  9 10]\n",
      " [ 0  1  2  3  4  5  6  7  8  9 10]\n",
      " [ 0  1  2  3  4  5  6  7  8  9 10]\n",
      " [ 0  1  2  3  4  5  6  7  8  9 10]\n",
      " [ 0  1  2  3  4  5  6  7  8  9 10]\n",
      " [ 0  1  2  3  4  5  6  7  8  9 10]\n",
      " [ 0  1  2  3  4  5  6  7  8  9 10]]\n",
      "[[1. 0. 0. 0.]\n",
      " [0. 1. 0. 0.]\n",
      " [0. 0. 1. 0.]\n",
      " [0. 0. 0. 1.]]\n",
      "<class 'numpy.ndarray'>\n"
     ]
    }
   ],
   "source": [
    "# however, we prefer using numpy array because it is more effective with superior functions.\n",
    "# 从list创建np array\n",
    "import numpy as np\n",
    "\n",
    "x1 = np.array([1,2,3,5,5,6,7, 8])\n",
    "print(x1)\n",
    "\n",
    "# range() function is used to allocate an index of numbers.\n",
    "x2 = np.array([range(11) for i in x1], dtype='int16')\n",
    "print(x2)\n",
    "\n",
    "print(np.eye(4))\n",
    "\n",
    "print(type(np.eye(3)))\n"
   ]
  },
  {
   "cell_type": "code",
   "execution_count": 21,
   "metadata": {},
   "outputs": [
    {
     "name": "stdout",
     "output_type": "stream",
     "text": [
      "[[1 2 3 4 5 6 7 8 9]\n",
      " [1 2 3 4 5 6 7 8 9]\n",
      " [1 2 3 4 5 6 7 8 9]\n",
      " [1 2 3 4 5 6 7 8 9]\n",
      " [1 2 3 4 5 6 7 8 9]\n",
      " [1 2 3 4 5 6 7 8 9]]\n",
      "[ 3  6  9 12 15 18]\n",
      "[ 3  6  9 12 15 18]\n",
      "<class 'numpy.ndarray'>\n",
      "[ 1.          6.15789474 11.31578947 16.47368421 21.63157895 26.78947368\n",
      " 31.94736842 37.10526316 42.26315789 47.42105263 52.57894737 57.73684211\n",
      " 62.89473684 68.05263158 73.21052632 78.36842105 83.52631579 88.68421053\n",
      " 93.84210526 99.        ]\n"
     ]
    }
   ],
   "source": [
    "temp1 = np.array([range(1,10) for i in [1,2,3,4,5,5]])\n",
    "print(temp1)\n",
    "\n",
    "print(np.arange(3,20, 3))\n",
    "print(np.array(range(3,20,3)))\n",
    "\n",
    "print(type(np.arange(3,11,2))) # 使用np arange的时候， 相当于做了两件事，arange指定了一个number index ，而np把这个index转化成了 一个np array\n",
    "\n",
    "print(np.linspace(1,99, 20))"
   ]
  },
  {
   "cell_type": "code",
   "execution_count": 87,
   "metadata": {},
   "outputs": [
    {
     "name": "stdout",
     "output_type": "stream",
     "text": [
      "[[0. 0.]\n",
      " [0. 0.]\n",
      " [0. 0.]]\n",
      "[[1. 1.]\n",
      " [1. 1.]\n",
      " [1. 1.]]\n",
      "[['xxx' 'xxx']\n",
      " ['xxx' 'xxx']\n",
      " ['xxx' 'xxx']]\n",
      "[[3.1415 3.1415]\n",
      " [3.1415 3.1415]\n",
      " [3.1415 3.1415]]\n",
      "[ 3  6  9 12 15 18]\n",
      "[ 1.          6.15789474 11.31578947 16.47368421 21.63157895 26.78947368\n",
      " 31.94736842 37.10526316 42.26315789 47.42105263 52.57894737 57.73684211\n",
      " 62.89473684 68.05263158 73.21052632 78.36842105 83.52631579 88.68421053\n",
      " 93.84210526 99.        ]\n",
      "[[0.417411   0.22210781]\n",
      " [0.11986537 0.33761517]\n",
      " [0.9429097  0.32320293]]\n",
      "[[0.51879062 0.70301896]\n",
      " [0.3636296  0.97178208]\n",
      " [0.96244729 0.2517823 ]]\n",
      "[[-1.91877122 -0.02651388  0.06023021]\n",
      " [ 2.46324211 -0.19236096  0.30154734]\n",
      " [-0.03471177 -1.16867804  1.14282281]]\n",
      "[[0 5 7]\n",
      " [4 3 1]\n",
      " [5 5 0]]\n",
      "[[1. 0. 0. 0. 0. 0. 0.]\n",
      " [0. 1. 0. 0. 0. 0. 0.]\n",
      " [0. 0. 1. 0. 0. 0. 0.]\n",
      " [0. 0. 0. 1. 0. 0. 0.]\n",
      " [0. 0. 0. 0. 1. 0. 0.]\n",
      " [0. 0. 0. 0. 0. 1. 0.]\n",
      " [0. 0. 0. 0. 0. 0. 1.]]\n",
      "(7, 7)\n",
      "[1. 1. 1. 1.]\n"
     ]
    }
   ],
   "source": [
    "#我们可以自建np array\n",
    "print(np.zeros([3,2]))\n",
    "\n",
    "\n",
    "print(np.ones([3,2]))\n",
    "print(np.full([3,2], 'xxx')) # create a np array of the dimension of [3,2] filled with string 'xxx'、\n",
    "print(np.full([3,2], 3.1415))\n",
    "print(np.arange(3,20, 3))\n",
    "print(np.linspace(1,99, 20)) #create a np array with 20 evenly distributed numbers between 1 and 99.\n",
    "print(np.random.random(6).reshape([3,2]))\n",
    "print(np.random.random((3,2)))      #random numbers of uniform distribution to be allocated to a [3,2] np array\n",
    "print(np.random.normal(0,1,(3,3)))  #random numbers of standard normal distribution to be allocated to a [3,3] np array\n",
    "print(np.random.randint(0,10,(3,3)))#random integers between [0, 10) to be allocated to a [3,3] np array\n",
    "print(np.eye(7)) #identity matrix\n",
    "print(np.eye(7).shape)\n",
    "print(np.empty(4)) # create an empty array with values which are already stored in the corresponding memory space."
   ]
  },
  {
   "cell_type": "code",
   "execution_count": 9,
   "metadata": {},
   "outputs": [
    {
     "name": "stdout",
     "output_type": "stream",
     "text": [
      "[[1. 1. 1. 1.]\n",
      " [1. 1. 1. 1.]\n",
      " [1. 1. 1. 1.]]\n",
      "[[1 1 1 1]\n",
      " [1 1 1 1]\n",
      " [1 1 1 1]]\n"
     ]
    }
   ],
   "source": [
    "# we can specify the type of the data when we create the np array, e.g.,\n",
    "\n",
    "print(np.ones([3,4], dtype= 'float32'))\n",
    "print(np.ones([3,4], dtype= 'int16'))"
   ]
  },
  {
   "cell_type": "markdown",
   "metadata": {},
   "source": []
  },
  {
   "cell_type": "code",
   "execution_count": 22,
   "metadata": {},
   "outputs": [
    {
     "name": "stdout",
     "output_type": "stream",
     "text": [
      "[[ 0.6272458   0.56034142  0.3728089   2.59961086 -0.6382435 ]\n",
      " [ 1.97703221 -0.5129778   1.04109796  0.18299913 -1.5060232 ]\n",
      " [ 0.65459229  0.17585555 -1.35799442 -1.72553489  0.51889147]]\n",
      "(3, 5)\n",
      "15\n",
      "2\n",
      "float64\n"
     ]
    }
   ],
   "source": [
    "# np array的一些特性\n",
    "# 特性： The attributes of numpy arrays\n",
    "\n",
    "xx = np.random.normal(0,1,[3,5])\n",
    "\n",
    "print(xx)\n",
    "print(xx.shape)\n",
    "print(xx.size)\n",
    "print(xx.ndim)\n",
    "print(xx.dtype)\n"
   ]
  },
  {
   "cell_type": "code",
   "execution_count": 90,
   "metadata": {},
   "outputs": [
    {
     "name": "stdout",
     "output_type": "stream",
     "text": [
      "[[ 0.75193303  0.02809946 -1.19708706  0.7896728   0.43148946]\n",
      " [-1.0967523  -0.68230156  0.88751161  0.60548313 -0.72029799]\n",
      " [-0.26993377 -0.14346223  0.61700378  1.2489407   0.06564916]]\n",
      "0.7896728047506724\n",
      "0.43148946326304194\n",
      "[-1.19708706  0.02809946  0.75193303]\n",
      "[[ 0.06564916  1.2489407   0.61700378 -0.14346223 -0.26993377]\n",
      " [-0.72029799  0.60548313  0.88751161 -0.68230156 -1.0967523 ]\n",
      " [ 0.43148946  0.7896728  -1.19708706  0.02809946  0.75193303]]\n"
     ]
    }
   ],
   "source": [
    "# %% we can access numpy elements, \n",
    "# 特性 e.g., x[start:stop:step]\n",
    "\n",
    "print(xx)\n",
    "print(xx[0,3])\n",
    "print(xx[0,-1])\n",
    "print(xx[0,2::-1]) # extract within the first row, then reverse every element from index 2\n",
    "print(xx[::-1 , ::-1])\n"
   ]
  },
  {
   "cell_type": "markdown",
   "metadata": {},
   "source": []
  },
  {
   "cell_type": "code",
   "execution_count": 91,
   "metadata": {},
   "outputs": [
    {
     "name": "stdout",
     "output_type": "stream",
     "text": [
      "[[ 0  1  2  3  4  5  6  7  8  9 10]\n",
      " [ 0  1  2  3  4  5  6  7  8  9 10]\n",
      " [ 0  1  2  3  4  5  6  7  8  9 10]\n",
      " [ 0  1  2  3  4  5  6  7  8  9 10]\n",
      " [ 0  1  2  3  4  5  6  7  8  9 10]\n",
      " [ 0  1  2  3  4  5  6  7  8  9 10]\n",
      " [ 0  1  2  3  4  5  6  7  8  9 10]\n",
      " [ 0  1  2  3  4  5  6  7  8  9 10]]\n",
      "[1 2]\n",
      "[[   0 9999    2    3    4    5    6    7    8    9   10]\n",
      " [   0    1    2    3    4    5    6    7    8    9   10]\n",
      " [   0    1    2    3    4    5    6    7    8    9   10]\n",
      " [   0    1    2    3    4    5    6    7    8    9   10]\n",
      " [   0    1    2    3    4    5    6    7    8    9   10]\n",
      " [   0    1    2    3    4    5    6    7    8    9   10]\n",
      " [   0    1    2    3    4    5    6    7    8    9   10]\n",
      " [   0    1    2    3    4    5    6    7    8    9   10]]\n"
     ]
    }
   ],
   "source": [
    "# 特性 sub arrays are 'views' not 'copies', if we change the sub array, we will also have the original array values changed.\n",
    "\n",
    "print(x2)\n",
    "x2_1 = x2[0,1:3]\n",
    "\n",
    "print(x2_1)\n",
    "x2_1[0]= 9999\n",
    "\n",
    "\n",
    "print(x2)"
   ]
  },
  {
   "cell_type": "code",
   "execution_count": 43,
   "metadata": {},
   "outputs": [
    {
     "name": "stdout",
     "output_type": "stream",
     "text": [
      "[9999    2]\n",
      "[[ 0  1  2  3  4  5  6  7  8  9 10]\n",
      " [ 0  1  2  3  4  5  6  7  8  9 10]\n",
      " [ 0  1  2  3  4  5  6  7  8  9 10]\n",
      " [ 0  1  2  3  4  5  6  7  8  9 10]\n",
      " [ 0  1  2  3  4  5  6  7  8  9 10]\n",
      " [ 0  1  2  3  4  5  6  7  8  9 10]\n",
      " [ 0  1  2  3  4  5  6  7  8  9 10]\n",
      " [ 0  1  2  3  4  5  6  7  8  9 10]]\n"
     ]
    }
   ],
   "source": [
    "# %% thus, a propery way to have a copy of the sub array is:\n",
    "x3 = np.array([range(11) for i in x1], dtype='int16')\n",
    "x3_1 = x3[0,1:3].copy()\n",
    "\n",
    "x3_1[0] = 9999\n",
    "\n",
    "print(x3_1)\n",
    "print(x3)\n"
   ]
  },
  {
   "cell_type": "code",
   "execution_count": 93,
   "metadata": {},
   "outputs": [
    {
     "name": "stdout",
     "output_type": "stream",
     "text": [
      "[[[   0 9999    2    3    4    5    6    7    8    9   10]\n",
      "  [   0    1    2    3    4    5    6    7    8    9   10]\n",
      "  [   0    1    2    3    4    5    6    7    8    9   10]\n",
      "  [   0    1    2    3    4    5    6    7    8    9   10]]\n",
      "\n",
      " [[   0    1    2    3    4    5    6    7    8    9   10]\n",
      "  [   0    1    2    3    4    5    6    7    8    9   10]\n",
      "  [   0    1    2    3    4    5    6    7    8    9   10]\n",
      "  [   0    1    2    3    4    5    6    7    8    9   10]]]\n"
     ]
    }
   ],
   "source": [
    "# %% we can rearrange the values in an array into several dimensions, e.g.,\n",
    "\n",
    "x4 = x2.reshape((2,4,11))\n",
    "print(x4)\n"
   ]
  },
  {
   "cell_type": "code",
   "execution_count": 42,
   "metadata": {},
   "outputs": [
    {
     "name": "stdout",
     "output_type": "stream",
     "text": [
      "[[1. 0. 0. 0. 0. 0. 0. 0.]\n",
      " [0. 1. 0. 0. 0. 0. 0. 0.]\n",
      " [0. 0. 1. 0. 0. 0. 0. 0.]\n",
      " [0. 0. 0. 1. 0. 0. 0. 0.]\n",
      " [0. 0. 0. 0. 1. 0. 0. 0.]\n",
      " [0. 0. 0. 0. 0. 1. 0. 0.]\n",
      " [0. 0. 0. 0. 0. 0. 1. 0.]\n",
      " [0. 0. 0. 0. 0. 0. 0. 1.]]\n",
      "[[1. 0. 0. 0. 0. 0. 0. 0.]\n",
      " [0. 1. 0. 0. 0. 0. 0. 0.]\n",
      " [0. 0. 1. 0. 0. 0. 0. 0.]]\n",
      "[[0. 0. 0. 1. 0. 0. 0. 0.]\n",
      " [0. 0. 0. 0. 1. 0. 0. 0.]]\n"
     ]
    }
   ],
   "source": [
    "temp1 = np.eye(8)\n",
    "temp2 , temp3, temp4 = np.split(temp1, [3,5])\n",
    "print(temp1)\n",
    "print(temp2)\n",
    "print(temp3)"
   ]
  },
  {
   "cell_type": "code",
   "execution_count": 44,
   "metadata": {},
   "outputs": [
    {
     "name": "stdout",
     "output_type": "stream",
     "text": [
      "[ 0  1  2  3  4  5  6  7  8  9 10 11 12 13 14 15 16 17 18 19]\n",
      "[0 1 2] [3 4] [ 5  6  7  8  9 10 11 12 13 14 15 16 17 18 19]\n",
      "x3 is [[ 0  1  2  3  4  5  6  7  8  9 10]\n",
      " [ 0  1  2  3  4  5  6  7  8  9 10]\n",
      " [ 0  1  2  3  4  5  6  7  8  9 10]\n",
      " [ 0  1  2  3  4  5  6  7  8  9 10]\n",
      " [ 0  1  2  3  4  5  6  7  8  9 10]\n",
      " [ 0  1  2  3  4  5  6  7  8  9 10]\n",
      " [ 0  1  2  3  4  5  6  7  8  9 10]\n",
      " [ 0  1  2  3  4  5  6  7  8  9 10]]\n",
      "vsplit is [[ 0  1  2  3  4  5  6  7  8  9 10]\n",
      " [ 0  1  2  3  4  5  6  7  8  9 10]] [[ 0  1  2  3  4  5  6  7  8  9 10]\n",
      " [ 0  1  2  3  4  5  6  7  8  9 10]\n",
      " [ 0  1  2  3  4  5  6  7  8  9 10]\n",
      " [ 0  1  2  3  4  5  6  7  8  9 10]\n",
      " [ 0  1  2  3  4  5  6  7  8  9 10]\n",
      " [ 0  1  2  3  4  5  6  7  8  9 10]]\n",
      "hsplit is [[0 1]\n",
      " [0 1]\n",
      " [0 1]\n",
      " [0 1]\n",
      " [0 1]\n",
      " [0 1]\n",
      " [0 1]\n",
      " [0 1]] [[2 3 4]\n",
      " [2 3 4]\n",
      " [2 3 4]\n",
      " [2 3 4]\n",
      " [2 3 4]\n",
      " [2 3 4]\n",
      " [2 3 4]\n",
      " [2 3 4]] [[ 5  6  7  8  9 10]\n",
      " [ 5  6  7  8  9 10]\n",
      " [ 5  6  7  8  9 10]\n",
      " [ 5  6  7  8  9 10]\n",
      " [ 5  6  7  8  9 10]\n",
      " [ 5  6  7  8  9 10]\n",
      " [ 5  6  7  8  9 10]\n",
      " [ 5  6  7  8  9 10]]\n"
     ]
    }
   ],
   "source": [
    "# 拆分一个np array 成为几个 np array\n",
    "# when we have a one dimension array, we can use np.split()\n",
    "xd1 = np.arange(20)\n",
    "print(xd1)\n",
    "\n",
    "xd11, xd12, xd13 = np.split(xd1, [3,5])\n",
    "print(xd11, xd12, xd13)\n",
    "\n",
    "# when we have multi-dimensional array, we can use np.vsplit() and np.hsplit() functions:\n",
    "\n",
    "print('x3 is', x3)\n",
    "x3a, x3b = np.vsplit(x3,[2])\n",
    "\n",
    "print('vsplit is', x3a, x3b)\n",
    "\n",
    "# we split horizontally x3 into 3 sub arrays\n",
    "x3c, x3d, x3e = np.hsplit(x3,[2,5])\n",
    "\n",
    "print('hsplit is', x3c, x3d, x3e)\n"
   ]
  },
  {
   "cell_type": "code",
   "execution_count": 46,
   "metadata": {},
   "outputs": [
    {
     "name": "stdout",
     "output_type": "stream",
     "text": [
      "[[ 0.34892131  0.28090538 -0.10505838  0.93101369]\n",
      " [-0.13724393  1.28057361  1.62435249 -1.75983988]]\n",
      "[[ 0.34892131  0.28090538 -0.10505838  0.93101369]\n",
      " [-0.13724393  1.28057361  1.62435249 -1.75983988]\n",
      " [ 0.34892131  0.28090538 -0.10505838  0.93101369]\n",
      " [-0.13724393  1.28057361  1.62435249 -1.75983988]]\n",
      "[[ 0.34892131  0.28090538 -0.10505838  0.93101369]\n",
      " [-0.13724393  1.28057361  1.62435249 -1.75983988]\n",
      " [ 0.34892131  0.28090538 -0.10505838  0.93101369]\n",
      " [-0.13724393  1.28057361  1.62435249 -1.75983988]]\n",
      "[[ 0.34892131  0.28090538 -0.10505838  0.93101369  0.34892131  0.28090538\n",
      "  -0.10505838  0.93101369]\n",
      " [-0.13724393  1.28057361  1.62435249 -1.75983988 -0.13724393  1.28057361\n",
      "   1.62435249 -1.75983988]]\n",
      "[[ 0.34892131  0.28090538 -0.10505838  0.93101369  0.34892131  0.28090538\n",
      "  -0.10505838  0.93101369]\n",
      " [-0.13724393  1.28057361  1.62435249 -1.75983988 -0.13724393  1.28057361\n",
      "   1.62435249 -1.75983988]]\n"
     ]
    }
   ],
   "source": [
    "#  合并几个np array\n",
    "\n",
    "y1 = np.random.normal(0,1, [2,4])\n",
    "\n",
    "\n",
    "print(y1)\n",
    "# vertical concatenate/stack\n",
    "y_c_v = np.concatenate([y1,y1])\n",
    "print(y_c_v)\n",
    "# or alternatively we can use vstack\n",
    "y_s_v = np.vstack([y1,y1])\n",
    "print(y_s_v)\n",
    "\n",
    "\n",
    "# horizontal concatenate/stack\n",
    "y_c_h = np.concatenate([y1,y1], axis = 1)\n",
    "print(y_c_h)\n",
    "# or alternatively we can use vstack\n",
    "y_s_h = np.hstack([y1,y1])\n",
    "print(y_s_h)\n",
    "\n"
   ]
  },
  {
   "cell_type": "code",
   "execution_count": 96,
   "metadata": {},
   "outputs": [
    {
     "name": "stdout",
     "output_type": "stream",
     "text": [
      "x + 5 =  [ 6  7  8  9  0 11 -1]\n",
      "x ** 2=  [ 1  4  9 16 25 36 36]\n",
      "[1 2 3 4 5 6 6]\n",
      "[1 2 3 4 5 6 6]\n",
      "[   4   16   64  256 1024 4096 4096]\n",
      "[ 0.04545455  0.09090909  0.13636364  0.18181818 -0.22727273  0.27272727\n",
      " -0.27272727]\n",
      "[0.         1.57079633 3.14159265]\n"
     ]
    }
   ],
   "source": [
    "# python is implemented via CPython - some alternatives include PyPy, Cython, and Numba etc. \n",
    "# They all have pros and cons but the original CPython is still the most popular \n",
    "# because of its flexibility though at a cost of slow operations.\n",
    "\n",
    "# Numpy, though is based on CPython, can be very fast because it takes advantages of 'vectorized' operations. \n",
    "# e.g., we can apply a function to the whole vector/array rather than applying the function to each value of the array respectively. \n",
    "# The former approach which numpy takes will push the loop which is done by the latter to the compile layer that underlies numpy, \n",
    "# leading to faster execution. e.g.,\n",
    "\n",
    "# numpy achieves this via unary and ufuncs\n",
    "\n",
    "# unary\n",
    "x = np.array([1,2,3,4,-5,6,-6])\n",
    "\n",
    "print(\"x + 5 = \" , x + 5)\n",
    "\n",
    "print(\"x ** 2= \" , x**2)\n",
    "print(abs(x))\n",
    "\n",
    "# ufuncs\n",
    "\n",
    "\n",
    "print(np.absolute(x))\n",
    "print(np.power(4,np.abs(x)))\n",
    "print(np.divide(x , 22))\n",
    "print(np.linspace(0, np.pi, 3))\n",
    "\n",
    "\n",
    "\n",
    "\n",
    "\n"
   ]
  },
  {
   "cell_type": "code",
   "execution_count": 52,
   "metadata": {},
   "outputs": [
    {
     "name": "stdout",
     "output_type": "stream",
     "text": [
      "15\n",
      "[ 1  3  6 10 15]\n"
     ]
    }
   ],
   "source": [
    "# there are many math functions associated with numpy arrays\n",
    "# some advanced features:\n",
    "\n",
    "x = np.arange(1, 6)\n",
    "\n",
    "print(np.add.reduce(x)) #A reduce repeatedly applies a given operation to the elements of an array until only a single result remains， reduce持续执行前面一个操作直到array里所有值被执行, 其实就是一个一个加，最后留存一个数值\n",
    "print(np.add.accumulate(x)) # 相应的，我们reduce之后可以记录accumulate的值\n",
    "\n"
   ]
  },
  {
   "cell_type": "code",
   "execution_count": 47,
   "metadata": {},
   "outputs": [
    {
     "name": "stdout",
     "output_type": "stream",
     "text": [
      "15\n",
      "[ 1  3  6 10 15]\n",
      "120\n",
      "[  1   2   6  24 120]\n",
      "[[5 7 2 0]\n",
      " [5 4 7 1]\n",
      " [3 1 7 9]]\n",
      "[[ 5  7  2  0]\n",
      " [10 11  9  1]\n",
      " [13 12 16 10]]\n",
      "[[ 5 12 14 14]\n",
      " [ 5  9 16 17]\n",
      " [ 3  4 11 20]]\n",
      "[13 12 16 10]\n",
      "[14 17 20]\n",
      "[[ 1  2  3  4  5]\n",
      " [ 2  4  6  8 10]\n",
      " [ 3  6  9 12 15]\n",
      " [ 4  8 12 16 20]\n",
      " [ 5 10 15 20 25]]\n"
     ]
    }
   ],
   "source": [
    "# there are many math functions associated with numpy arrays\n",
    "# some advanced features:\n",
    "\n",
    "x = np.arange(1, 6)\n",
    "\n",
    "print(np.add.reduce(x)) #A reduce repeatedly applies a given operation to the elements of an array until only a single result remains， reduce持续执行前面一个操作直到array里所有值被执行\n",
    "print(np.add.accumulate(x)) # 相应的，我们reduce之后可以记录accumulate的值\n",
    "\n",
    "\n",
    "\n",
    "\n",
    "#前文中我们用到add以及reduce，我们可以尝试mutiply对应的reduce\n",
    "print(np.multiply.reduce(x))\n",
    "print(np.multiply.accumulate(x))\n",
    "\n",
    "\n",
    "xm = np.random.randint(0,10, [3,4])\n",
    "print(xm)\n",
    "#  当有多维度时，每次对应一个维度，并用axis控制方向\n",
    "print(np.add.accumulate(xm, axis=0))\n",
    "print(np.add.accumulate(xm, axis=1))\n",
    "print(np.add.reduce(xm, axis=0))\n",
    "print(np.add.reduce(xm, axis=1))\n",
    "\n",
    "# 一个特殊的操作 outer products\n",
    "print(np.multiply.outer(x,x))\n",
    "# 仍有很多其他的ufuncs， 待查reference"
   ]
  },
  {
   "cell_type": "code",
   "execution_count": 53,
   "metadata": {},
   "outputs": [
    {
     "name": "stdout",
     "output_type": "stream",
     "text": [
      "[0.2294054  0.78362799 0.20447935 0.45005997 0.67968626 0.84591467\n",
      " 0.43237012 0.74838712 0.64549424 0.22395522]\n"
     ]
    }
   ],
   "source": [
    "print(np.random.random(10))"
   ]
  },
  {
   "cell_type": "code",
   "execution_count": 54,
   "metadata": {},
   "outputs": [
    {
     "name": "stdout",
     "output_type": "stream",
     "text": [
      "6.76 µs ± 45.3 ns per loop (mean ± std. dev. of 7 runs, 100000 loops each)\n",
      "2.52 µs ± 23.1 ns per loop (mean ± std. dev. of 7 runs, 100000 loops each)\n",
      "3.91 µs ± 63.3 ns per loop (mean ± std. dev. of 7 runs, 100000 loops each)\n",
      "2.54 µs ± 26.7 ns per loop (mean ± std. dev. of 7 runs, 100000 loops each)\n",
      "3.88 µs ± 19.6 ns per loop (mean ± std. dev. of 7 runs, 100000 loops each)\n",
      "1.49 µs ± 9.15 ns per loop (mean ± std. dev. of 7 runs, 1000000 loops each)\n"
     ]
    }
   ],
   "source": [
    "# np的一些基本操作 Aggretation, min, max, and everything in between\n",
    "# array value求和\n",
    "\n",
    "L = np.random.random(100)\n",
    "%timeit sum(L)\n",
    "%timeit np.sum(L)\n",
    "\n",
    "# 结果证明np.sum远远快于一个的py function\n",
    "\n",
    "%timeit min(L)\n",
    "%timeit np.min(L)\n",
    "\n",
    "%timeit max(L)\n",
    "%timeit L.max() # L 是一个np array，所以np.max(L) 可以简写为 L.max()"
   ]
  },
  {
   "cell_type": "code",
   "execution_count": 99,
   "metadata": {},
   "outputs": [
    {
     "name": "stdout",
     "output_type": "stream",
     "text": [
      "[[0.08534746 0.05168172 0.53135463 0.54063512]\n",
      " [0.6374299  0.72609133 0.97585208 0.51630035]\n",
      " [0.32295647 0.79518619 0.27083225 0.43897142]]\n",
      "[0.6374299  0.79518619 0.97585208 0.54063512]\n",
      "[0.54063512 0.97585208 0.79518619]\n",
      "[1.20901894 2.85567366 1.82794634]\n",
      "5.892638942002888\n",
      "[1.04573384 1.57295925 1.77803896 1.49590689]\n"
     ]
    }
   ],
   "source": [
    "# 当我们有多维度array，我们需要指明function的方向\n",
    "M = np.random.random((3,4))\n",
    "print(M)\n",
    "print(M.max(axis= 0))\n",
    "print(np.max(M,axis= 1))\n",
    "\n",
    "print(np.sum(M, axis=1))\n",
    "print(np.sum(M))\n",
    "\n",
    "\n",
    "print(np.nansum(M, axis=0))\n",
    "# 以下为reference，我么可以用一些ufunc对应的NaN safe version，例如 np.nansum()则会忽略missing value从而不会报错\n",
    "\n",
    "# Function Name NaN-safe Version Description\n",
    "# np.sum np.nansum Compute sum of elements\n",
    "# np.prod np.nanprod Compute product of elements\n",
    "# np.mean np.nanmean Compute median of elements\n",
    "# np.std np.nanstd Compute standard deviation\n",
    "# np.var np.nanvar Compute variance\n",
    "# np.min np.nanmin Find minimum value\n",
    "# np.max np.nanmax Find maximum value\n",
    "# np.argmin np.nanargmin Find index of minimum value\n",
    "# np.argmax np.nanargmax Find index of maximum value\n",
    "# np.median np.nanmedian Compute median of elements\n",
    "# np.percentile np.nanpercentile Compute rank-based statistics of elements\n",
    "# np.any N/A Evaluate whether any elements are true\n",
    "# np.all N/A Evaluate whether all elements are true"
   ]
  },
  {
   "cell_type": "code",
   "execution_count": 56,
   "metadata": {},
   "outputs": [
    {
     "name": "stdout",
     "output_type": "stream",
     "text": [
      "[5 7 9]\n"
     ]
    }
   ],
   "source": [
    "\n",
    "# we can also use 'broadcasting' functions in numpy. e.g., to apply binary ufuncs (e.g., addition, \n",
    "# subtraction, multiplication etc.) on arrays of different sizes.\n",
    "\n",
    "\n",
    "\n",
    "# we can perform operations on two arrays of the same size,\n",
    "a = np.array([0,1,2])\n",
    "b = np.array([5,6,7])\n",
    "print(a + b)\n"
   ]
  },
  {
   "cell_type": "code",
   "execution_count": 57,
   "metadata": {},
   "outputs": [
    {
     "name": "stdout",
     "output_type": "stream",
     "text": [
      "[5 6 7]\n"
     ]
    }
   ],
   "source": [
    "# and on arrays of different sizes (e.g., this is called broadcasting) 我们用broadcasting来对多个array进行操作例如加减乘除，\n",
    "# 它做的事情其实就是把这几个数组各个‘补全’然后‘凑’成相同唯独的几个数组，然后在加减乘除\n",
    "\n",
    "print( a + 5) #这里其实把5凑成了和a维度等同的[5,5,5]\n",
    "# this broadcasting can be extended to arrays of higher dimensions:"
   ]
  },
  {
   "cell_type": "code",
   "execution_count": 58,
   "metadata": {},
   "outputs": [
    {
     "name": "stdout",
     "output_type": "stream",
     "text": [
      "[[1. 1. 1.]\n",
      " [1. 1. 1.]\n",
      " [1. 1. 1.]]\n",
      "[[1. 2. 3.]\n",
      " [1. 2. 3.]\n",
      " [1. 2. 3.]]\n",
      "[[2. 2. 2.]\n",
      " [2. 2. 2.]\n",
      " [2. 2. 2.]]\n"
     ]
    }
   ],
   "source": [
    "\n",
    "M = np.ones((3,3))\n",
    "print(M)\n",
    "print(M+a)# 这里把a‘补全/自我复制’成了[[0,1,2],[0,1,2],[0,1,2]]\n",
    "print(M+1)"
   ]
  },
  {
   "cell_type": "code",
   "execution_count": 66,
   "metadata": {},
   "outputs": [
    {
     "name": "stdout",
     "output_type": "stream",
     "text": [
      "[[1. 1. 1.]\n",
      " [1. 1. 1.]\n",
      " [1. 1. 1.]] [[[1. 1. 1.]\n",
      "  [1. 1. 1.]\n",
      "  [1. 1. 1.]]]\n"
     ]
    }
   ],
   "source": [
    "a = np.ones([3,3])\n",
    "\n",
    "\n",
    "b = a[np.newaxis, :]\n",
    "\n",
    "print(a, b)"
   ]
  },
  {
   "cell_type": "code",
   "execution_count": 103,
   "metadata": {},
   "outputs": [
    {
     "name": "stdout",
     "output_type": "stream",
     "text": [
      "[[ 3]\n",
      " [ 4]\n",
      " [ 5]\n",
      " [ 6]\n",
      " [ 7]\n",
      " [ 8]\n",
      " [ 9]\n",
      " [10]\n",
      " [11]]\n",
      "[0 1 2] [[0]\n",
      " [1]\n",
      " [2]]\n",
      "[[0 1 2]\n",
      " [1 2 3]\n",
      " [2 3 4]]\n"
     ]
    }
   ],
   "source": [
    "a = np.arange(3)\n",
    "b = np.arange(3)[:, np.newaxis]\n",
    "\n",
    "print(np.arange(12)[3:12,np.newaxis]) # numpy.newaxis is used to increase the dimension of the existing array by one more dimension\n",
    "print(a, b)\n",
    "\n",
    "print(a + b) # 这里也是相互补全see p65, Figure 2.4 for illustration\n",
    "\n",
    "# rules broadcasting:\n",
    "# Rule 1: If the two arrays differ in their number of dimensions, the shape of the one with fewer dimensions is padded with ones on its leading (left) side. \n",
    "\n",
    "# Rule 2: If the shape of the two arrays does not match in any dimension, the array with shape equal to 1 in that dimension is stretched to match the other shape.\n",
    "\n",
    "# Rule 3: If in any dimension the sizes disagree and neither is equal to 1, an error is\n",
    "# raised."
   ]
  },
  {
   "cell_type": "code",
   "execution_count": 67,
   "metadata": {},
   "outputs": [
    {
     "name": "stdout",
     "output_type": "stream",
     "text": [
      "0.4643798560308905\n",
      "[[ 0.15005303  0.00928399  0.39541531]\n",
      " [ 0.23100094 -0.39382328  0.02447122]\n",
      " [-0.13537671 -0.36331904 -0.30604331]\n",
      " [ 0.29160114 -0.10837219  0.08338264]\n",
      " [-0.43122031  0.44182563  0.41017447]\n",
      " [ 0.11667524 -0.03533987  0.35331125]\n",
      " [ 0.33892058 -0.31769596 -0.40958616]\n",
      " [-0.45271902  0.24466757  0.43510026]\n",
      " [-0.0478965   0.23183676 -0.36509676]\n",
      " [-0.32709722  0.07012107 -0.13425476]]\n",
      "-8.511709855459534e-17\n"
     ]
    }
   ],
   "source": [
    "# 几个broadcasting的例子\n",
    "# centre the numpy array\n",
    "X = np.random.random((10,3))\n",
    "print(X.mean())\n",
    "print(X - X.mean())\n",
    "\n",
    "# 检验一下\n",
    "print(np.mean(X-X.mean()))"
   ]
  },
  {
   "cell_type": "code",
   "execution_count": 68,
   "metadata": {},
   "outputs": [
    {
     "name": "stdout",
     "output_type": "stream",
     "text": [
      "[ True  True  True False False]\n",
      "[False False False  True False]\n",
      "[ True  True  True False  True]\n",
      "[ True False  True False False]\n"
     ]
    }
   ],
   "source": [
    "# numpy的进一步操作 comparision, masks and boolean logic\n",
    "\n",
    "# Comparison\n",
    "# NumPy implements comparison operators such as < (less than) and > (greater than) as element-wise ufuncs.\n",
    "# The result of these comparison operators is always an array with a Boolean data type\n",
    "\n",
    "x = np.arange(5)\n",
    "print(x < 3)\n",
    "print(x == 3)\n",
    "print(x != 3)\n",
    "print(2 * x == x ** 2)"
   ]
  },
  {
   "cell_type": "code",
   "execution_count": 79,
   "metadata": {},
   "outputs": [
    {
     "name": "stdout",
     "output_type": "stream",
     "text": [
      "[[6 1 4 4]\n",
      " [8 4 6 3]\n",
      " [5 8 7 9]]\n"
     ]
    }
   ],
   "source": [
    "rng = np.random.RandomState(0) # RandomState 是一个ufunc可以通过个各种方法来返回随机数，这里设定一个seed\n",
    "x = np.random.RandomState(0).randint(1, 10, size=(3, 4)) # 返回整数的随机数\n",
    "print(x)"
   ]
  },
  {
   "cell_type": "code",
   "execution_count": 80,
   "metadata": {},
   "outputs": [
    {
     "name": "stdout",
     "output_type": "stream",
     "text": [
      "4\n",
      "[[6 1 4 4]\n",
      " [8 4 6 3]\n",
      " [5 8 7 9]]\n"
     ]
    }
   ],
   "source": [
    "print(np.count_nonzero([6,3,4,5]))\n",
    "print(x)"
   ]
  },
  {
   "cell_type": "code",
   "execution_count": 82,
   "metadata": {},
   "outputs": [
    {
     "name": "stdout",
     "output_type": "stream",
     "text": [
      "6\n",
      "8\n",
      "[2 2 2 2]\n",
      "[4 3 1]\n",
      "[15 21 29]\n",
      "are all values greater than 8? False\n",
      "is any values greater than 8? True\n",
      "are all values in each row less than 8? [ True False False]\n",
      "are all values in each column less than 8? [False False  True False]\n"
     ]
    }
   ],
   "source": [
    "# working with Boolean arrays\n",
    "\n",
    "print(np.count_nonzero(x< 6))\n",
    "print(np.sum(x< 7))\n",
    "print(np.sum(x<7, axis= 0))\n",
    "print(np.sum(x<7, axis=1))\n",
    "print(np.sum(x, axis=1))\n",
    "print('are all values greater than 8?', np.all(x>8))\n",
    "print('is any values greater than 8?', np.any(x>8))\n",
    "\n",
    "print('are all values in each row less than 8?', np.all(x < 8, axis=1))\n",
    "print('are all values in each column less than 8?', np.all(x < 8, axis=0))\n",
    "\n",
    "# masking comes up when we want to extract, modify, count, and do any manipulation based on some criterion.\n",
    "\n",
    "# [omitted here]\n",
    "\n",
    "# 'Fancy indexing'\n",
    "\n"
   ]
  },
  {
   "cell_type": "code",
   "execution_count": 84,
   "metadata": {},
   "outputs": [
    {
     "name": "stdout",
     "output_type": "stream",
     "text": [
      "[[ True False False False]\n",
      " [False False  True False]\n",
      " [False False  True False]]\n",
      "9\n"
     ]
    }
   ],
   "source": [
    "# 我们同时可以用bitwise logic operators, &, |, ^, and ~.来操作Boolean array\n",
    "# 例如， 我们希望count x当中有多少在5，8之间，\n",
    "x1 = (x>5) & (x<8)\n",
    "print(x1)\n",
    "print(np.sum(x1 <1))"
   ]
  },
  {
   "cell_type": "code",
   "execution_count": 109,
   "metadata": {},
   "outputs": [
    {
     "name": "stdout",
     "output_type": "stream",
     "text": [
      "[[5 0 3 3]\n",
      " [7 9 3 5]\n",
      " [2 4 7 6]]\n",
      "[[ True False False False]\n",
      " [ True  True False  True]\n",
      " [False  True  True  True]]\n",
      "[5 7 9 5 4 7 6]\n"
     ]
    }
   ],
   "source": [
    "# 重要的概念 ： Boolean Mask \n",
    "print(x)\n",
    "print(x>3) # > 是一个boolean operator，所以 x>3 变成了一个boolean array / index (e.g., mask)\n",
    "print(x[x>3]) # 这里 x>3 作为一个boolean array 成为了一个index (e.g., Mask) 所以这项的结果即是x中根据这个index 所选择出来的结果"
   ]
  },
  {
   "cell_type": "code",
   "execution_count": 89,
   "metadata": {},
   "outputs": [
    {
     "name": "stdout",
     "output_type": "stream",
     "text": [
      "[ 2.50640541  1.36310819  4.47624084  3.96847685 -2.36482236  7.33819821\n",
      "  6.56313173  5.13034292  1.13768873  1.56020713  6.92941943  3.85555747\n",
      "  1.75851848 -1.1776985   0.93957595  0.91818188  2.00801479  5.10495221\n",
      "  4.18304187  1.37087519  1.00322411 -2.64792304  2.68003031  3.2629968\n",
      " -6.62445206 -3.99205371  6.10007676  3.01140494  0.77607796  2.43695741] [[ 2.50640541  1.36310819  4.47624084  3.96847685 -2.36482236]\n",
      " [ 7.33819821  6.56313173  5.13034292  1.13768873  1.56020713]\n",
      " [ 6.92941943  3.85555747  1.75851848 -1.1776985   0.93957595]\n",
      " [ 0.91818188  2.00801479  5.10495221  4.18304187  1.37087519]\n",
      " [ 1.00322411 -2.64792304  2.68003031  3.2629968  -6.62445206]\n",
      " [-3.99205371  6.10007676  3.01140494  0.77607796  2.43695741]]\n"
     ]
    }
   ],
   "source": [
    "temp1 = np.random.normal(2,3,30)\n",
    "\n",
    "temp2 = temp1.reshape(6,5)\n",
    "\n",
    "print(temp1, temp2)"
   ]
  },
  {
   "cell_type": "code",
   "execution_count": 85,
   "metadata": {},
   "outputs": [
    {
     "name": "stdout",
     "output_type": "stream",
     "text": [
      "[[6.08118612 2.10718772 8.22543847 2.09624128 5.33364027]\n",
      " [2.42145709 1.75320768 6.17012776 0.07177732 3.0047008 ]\n",
      " [3.25348824 2.06294195 3.31936614 0.49379694 2.88211907]\n",
      " [3.86293801 2.41901404 4.45037282 5.69926545 6.04833899]]\n",
      "[[ True False  True False  True]\n",
      " [False False  True False False]\n",
      " [False False False False False]\n",
      " [False False False  True  True]] [6.08118612 8.22543847 5.33364027 6.17012776 5.69926545 6.04833899]\n"
     ]
    }
   ],
   "source": [
    "x = np.random.normal(4,2,20).reshape([4,5])\n",
    "print(x)\n",
    "x1 = (x>5)\n",
    "x2 = x[x1]\n",
    "print(x1, x2)"
   ]
  },
  {
   "cell_type": "code",
   "execution_count": 111,
   "metadata": {},
   "outputs": [
    {
     "name": "stdout",
     "output_type": "stream",
     "text": [
      "[52 93 15 72 61 21 83 87 75 75]\n"
     ]
    }
   ],
   "source": [
    "# 重要的概念 fancy indexing\n",
    "\n",
    "rand = np.random.RandomState(42)\n",
    "x = rand.randint(1,100, size= 10)\n",
    "print(x)"
   ]
  },
  {
   "cell_type": "code",
   "execution_count": 112,
   "metadata": {},
   "outputs": [
    {
     "data": {
      "text/plain": [
       "[72, 87, 15]"
      ]
     },
     "execution_count": 112,
     "metadata": {},
     "output_type": "execute_result"
    }
   ],
   "source": [
    "# 一开始我们使用数字用作array的index\n",
    "[x[3], x[7], x[2]]"
   ]
  },
  {
   "cell_type": "code",
   "execution_count": 113,
   "metadata": {},
   "outputs": [
    {
     "name": "stdout",
     "output_type": "stream",
     "text": [
      "[72 87 15]\n"
     ]
    }
   ],
   "source": [
    "# 我们也可以使用其他的array来用做array的index，\n",
    "ind = [3, 7, 2]\n",
    "print(x[ind])"
   ]
  },
  {
   "cell_type": "code",
   "execution_count": 114,
   "metadata": {},
   "outputs": [
    {
     "name": "stdout",
     "output_type": "stream",
     "text": [
      "[[3 2]\n",
      " [4 5]]\n",
      "[[72 15]\n",
      " [61 21]]\n"
     ]
    }
   ],
   "source": [
    "# 甚至这个用作index的array可以和我们抽取value的array有完全不同的结构\n",
    "ind = np.array([[3,2],[4,5]])\n",
    "print(ind)\n",
    "print(x[ind])\n"
   ]
  },
  {
   "cell_type": "code",
   "execution_count": 93,
   "metadata": {},
   "outputs": [
    {
     "name": "stdout",
     "output_type": "stream",
     "text": [
      "[[ 0  1  2  3  4]\n",
      " [ 5  6  7  8  9]\n",
      " [10 11 12 13 14]\n",
      " [15 16 17 18 19]]\n",
      "[ 3  7 19]\n"
     ]
    }
   ],
   "source": [
    "x = np.arange(20).reshape(4,5)\n",
    "\n",
    "print(x)\n",
    "\n",
    "x1 = np.array([0,1,3])\n",
    "y1 = np.array([3,2,4])\n",
    "\n",
    "print(x[x1,y1])\n"
   ]
  },
  {
   "cell_type": "code",
   "execution_count": 95,
   "metadata": {},
   "outputs": [
    {
     "name": "stdout",
     "output_type": "stream",
     "text": [
      "[[ 0  1  2  3  4]\n",
      " [ 5  6  7  8  9]\n",
      " [10 11 12 13 14]\n",
      " [15 16 17 18 19]]\n"
     ]
    }
   ],
   "source": [
    "# 高级用法， combined indexing\n",
    "print(x)"
   ]
  },
  {
   "cell_type": "code",
   "execution_count": 96,
   "metadata": {},
   "outputs": [
    {
     "data": {
      "text/plain": [
       "array([12, 10, 11])"
      ]
     },
     "execution_count": 96,
     "metadata": {},
     "output_type": "execute_result"
    }
   ],
   "source": [
    "x[2,[2,0,1]]"
   ]
  },
  {
   "cell_type": "code",
   "execution_count": 97,
   "metadata": {},
   "outputs": [
    {
     "data": {
      "text/plain": [
       "array([[12, 10, 11],\n",
       "       [17, 15, 16]])"
      ]
     },
     "execution_count": 97,
     "metadata": {},
     "output_type": "execute_result"
    }
   ],
   "source": [
    "x[2:,[2,0,1]]"
   ]
  },
  {
   "cell_type": "code",
   "execution_count": null,
   "metadata": {},
   "outputs": [],
   "source": []
  },
  {
   "cell_type": "code",
   "execution_count": 103,
   "metadata": {},
   "outputs": [
    {
     "name": "stdout",
     "output_type": "stream",
     "text": [
      "[[ 0  1  2  3  4]\n",
      " [ 5  6  7  8  9]\n",
      " [10 11 12 13 14]\n",
      " [15 16 17 18 19]]\n",
      "xx is Python Data Science Handbook.pdf [[ 0  1  2  3  4]\n",
      " [10 11 12 13 14]]\n"
     ]
    }
   ],
   "source": [
    "mask = np.array([1, 0, 1,  0], dtype=bool)\n",
    "\n",
    "print(x)\n",
    "\n",
    "\n",
    "print(\"xx is Python Data Science Handbook.pdf\" , x[mask])"
   ]
  },
  {
   "cell_type": "code",
   "execution_count": 104,
   "metadata": {},
   "outputs": [
    {
     "name": "stdout",
     "output_type": "stream",
     "text": [
      "[ 0 99 99  3 99  5  6  7 99  9]\n"
     ]
    }
   ],
   "source": [
    "x = np.arange(10)\n",
    "i = np.array([2,1,8,4])\n",
    "x[i] = 99\n",
    "print(x)"
   ]
  },
  {
   "cell_type": "code",
   "execution_count": 105,
   "metadata": {},
   "outputs": [
    {
     "data": {
      "text/plain": [
       "array([  0,  99, 100,   4, 100,   5,   6,   7,  99,   9])"
      ]
     },
     "execution_count": 105,
     "metadata": {},
     "output_type": "execute_result"
    }
   ],
   "source": [
    "i = [2, 3, 3, 4, 4, 4]\n",
    "x[i] += 1\n",
    "x"
   ]
  },
  {
   "cell_type": "code",
   "execution_count": 106,
   "metadata": {},
   "outputs": [
    {
     "name": "stdout",
     "output_type": "stream",
     "text": [
      "[0. 0. 1. 2. 3. 0. 0. 0. 0. 0.]\n"
     ]
    }
   ],
   "source": [
    "x = np.zeros(10)\n",
    "np.add.at(x, i, 1)\n",
    "print(x)"
   ]
  },
  {
   "cell_type": "code",
   "execution_count": 83,
   "metadata": {},
   "outputs": [],
   "source": [
    "# 例子 ： binning data \n",
    "np.random.seed(42)\n",
    "x= np.random.randn(100)\n",
    "\n",
    "# compute a histogram by hand\n",
    "bins = np.linspace(-5, 5, 20)\n",
    "counts = np.zeros_like(bins)\n",
    "# find the appropriate bin for each x\n",
    "i = np.searchsorted(bins, x)\n",
    "\n",
    "# add 1 to each of these bins\n",
    "np.add.at(counts, i ,1)\n",
    "\n",
    "import matplotlib.pyplot as plt\n",
    "import seaborn; seaborn.set() # for plot styling"
   ]
  },
  {
   "cell_type": "code",
   "execution_count": 84,
   "metadata": {},
   "outputs": [
    {
     "data": {
      "text/plain": [
       "[<matplotlib.lines.Line2D at 0x7f83fb4b0fd0>]"
      ]
     },
     "execution_count": 84,
     "metadata": {},
     "output_type": "execute_result"
    },
    {
     "data": {
      "image/png": "[encoded data removed]",
      "text/plain": [
       "<Figure size 432x288 with 1 Axes>"
      ]
     },
     "metadata": {},
     "output_type": "display_data"
    }
   ],
   "source": [
    "bins\n",
    "counts\n",
    "plt.plot(bins, counts)"
   ]
  },
  {
   "cell_type": "code",
   "execution_count": 107,
   "metadata": {},
   "outputs": [
    {
     "name": "stdout",
     "output_type": "stream",
     "text": [
      "[1 2 3 4 5]\n",
      "[1 2 3 4 5]\n",
      "[1 0 3 2 4]\n"
     ]
    }
   ],
   "source": [
    "# # 排序 sorting arrays\n",
    "# numpy has sorting functions:\n",
    "# np.sort and np.argsort\n",
    "x = np.array([2,1,4,3,5])\n",
    "x1 = x.copy()\n",
    "print(np.sort(x))\n",
    "x1.sort()\n",
    "print(x1)\n",
    "\n",
    "print(np.argsort(x)) # argsort returns the indices of the sorted array"
   ]
  },
  {
   "cell_type": "code",
   "execution_count": 108,
   "metadata": {},
   "outputs": [
    {
     "name": "stdout",
     "output_type": "stream",
     "text": [
      "[[6 3 7 4 6 9]\n",
      " [2 6 7 4 3 7]\n",
      " [7 2 5 4 1 7]\n",
      " [5 1 4 0 9 5]]\n"
     ]
    }
   ],
   "source": [
    "# sorting along rows and columns\n",
    "rand = np.random.RandomState(42) # here we set up the seed for the random function RandomState\n",
    "X = rand.randint(0,10,(4,6))\n",
    "print(X)"
   ]
  },
  {
   "cell_type": "code",
   "execution_count": 109,
   "metadata": {},
   "outputs": [
    {
     "data": {
      "text/plain": [
       "array([[2, 1, 4, 0, 1, 5],\n",
       "       [5, 2, 5, 4, 3, 7],\n",
       "       [6, 3, 7, 4, 6, 7],\n",
       "       [7, 6, 7, 4, 9, 9]])"
      ]
     },
     "execution_count": 109,
     "metadata": {},
     "output_type": "execute_result"
    }
   ],
   "source": [
    "np.sort(X, axis= 0)"
   ]
  },
  {
   "cell_type": "code",
   "execution_count": 110,
   "metadata": {},
   "outputs": [
    {
     "data": {
      "text/plain": [
       "array([[3, 4, 6, 6, 7, 9],\n",
       "       [2, 3, 4, 6, 7, 7],\n",
       "       [1, 2, 4, 5, 7, 7],\n",
       "       [0, 1, 4, 5, 5, 9]])"
      ]
     },
     "execution_count": 110,
     "metadata": {},
     "output_type": "execute_result"
    }
   ],
   "source": [
    "np.sort(X, axis= 1)"
   ]
  },
  {
   "cell_type": "code",
   "execution_count": 111,
   "metadata": {},
   "outputs": [
    {
     "data": {
      "text/plain": [
       "array([[3, 4, 6, 6, 7, 9],\n",
       "       [2, 3, 4, 6, 7, 7],\n",
       "       [1, 2, 4, 5, 7, 7],\n",
       "       [0, 1, 4, 5, 5, 9]])"
      ]
     },
     "execution_count": 111,
     "metadata": {},
     "output_type": "execute_result"
    }
   ],
   "source": [
    "np.sort(X)"
   ]
  },
  {
   "cell_type": "code",
   "execution_count": 112,
   "metadata": {},
   "outputs": [
    {
     "name": "stdout",
     "output_type": "stream",
     "text": [
      "[1 0 3 2 4]\n",
      "[2 1 4 3 5]\n"
     ]
    }
   ],
   "source": [
    "x = np.array([2,1,4,3,5])\n",
    "i = np.argsort(x) # return the index of the sorted elements\n",
    "print(i)\n",
    "print(x)"
   ]
  },
  {
   "cell_type": "code",
   "execution_count": 135,
   "metadata": {},
   "outputs": [
    {
     "name": "stdout",
     "output_type": "stream",
     "text": [
      "[1 2 2 7 6 5 4 3 4 3 4 5 2]\n",
      "[7 2] [3 1 6 5 4 3 4 2 4 5 2]\n"
     ]
    }
   ],
   "source": [
    "# Partial Sorts: Partitioning \n",
    "# np.partition takes an array and a number K; the result is a new array with the smallest\n",
    "# K values to the left of the partition, and the remaining values to the right, in arbitrary\n",
    "# order:\n",
    "\n",
    "x = np.array([7,2,3,1,6,5,4,3,4,2,4,5,2])\n",
    "print( np.partition(x, kth= 2)) # np.partition 不会把nparray分段，而是在这个array内部，把array分为2个part，把小于第二个的数值分配到第一个part，把大于第二个的数值分配到第二个part，各个part中的顺序是未定义的，然后2个part仍然同属于一个array， 这和split是完全不同的\n",
    "# np.partition(X, 2, axis= 1)\n",
    "\n",
    "t1, t2 = np.split(x, [2])\n",
    "\n",
    "print(t1, t2)\n",
    "\n"
   ]
  },
  {
   "cell_type": "code",
   "execution_count": 136,
   "metadata": {},
   "outputs": [],
   "source": [
    "# Structured Data: NumPy’s Structured Arrays\n",
    "# 创建数据类型为复合结构的np array "
   ]
  },
  {
   "cell_type": "code",
   "execution_count": 138,
   "metadata": {},
   "outputs": [],
   "source": [
    "name = ['Alice', 'Bob', 'Cathy', 'Doug']\n",
    "age = [25, 45, 37, 19]\n",
    "weight = [55.0, 85.5, 68.0, 61.5]\n",
    "\n"
   ]
  },
  {
   "cell_type": "code",
   "execution_count": 139,
   "metadata": {},
   "outputs": [
    {
     "name": "stdout",
     "output_type": "stream",
     "text": [
      "[0 0 0 0]\n"
     ]
    }
   ],
   "source": [
    "x = np.zeros(4, dtype= int)\n",
    "print(x)"
   ]
  },
  {
   "cell_type": "code",
   "execution_count": 140,
   "metadata": {},
   "outputs": [
    {
     "name": "stdout",
     "output_type": "stream",
     "text": [
      "[('', 0, 0.) ('', 0, 0.) ('', 0, 0.) ('', 0, 0.)]\n"
     ]
    }
   ],
   "source": [
    "data= np.zeros(4, dtype = { 'names': ('name', 'age', 'weight'), 'formats' : ('U10', 'i4', 'f8')})\n",
    "print(data)"
   ]
  },
  {
   "cell_type": "code",
   "execution_count": 187,
   "metadata": {},
   "outputs": [
    {
     "name": "stdout",
     "output_type": "stream",
     "text": [
      "[('name', '<U10'), ('age', '<i4'), ('weight', '<f8')]\n"
     ]
    }
   ],
   "source": [
    "print(data.dtype)"
   ]
  },
  {
   "cell_type": "code",
   "execution_count": 188,
   "metadata": {},
   "outputs": [
    {
     "name": "stdout",
     "output_type": "stream",
     "text": [
      "[('', 0, 0.) ('', 0, 0.) ('', 0, 0.) ('', 0, 0.)]\n"
     ]
    }
   ],
   "source": [
    "print(data)"
   ]
  },
  {
   "cell_type": "code",
   "execution_count": 141,
   "metadata": {},
   "outputs": [],
   "source": [
    "data['name'] = name\n",
    "data['age'] = age\n",
    "data['weight'] = weight"
   ]
  },
  {
   "cell_type": "code",
   "execution_count": 142,
   "metadata": {},
   "outputs": [
    {
     "name": "stdout",
     "output_type": "stream",
     "text": [
      "[('Alice', 25, 55. ) ('Bob', 45, 85.5) ('Cathy', 37, 68. )\n",
      " ('Doug', 19, 61.5)]\n"
     ]
    }
   ],
   "source": [
    "print(data)"
   ]
  },
  {
   "cell_type": "code",
   "execution_count": 143,
   "metadata": {},
   "outputs": [
    {
     "data": {
      "text/plain": [
       "array(['Alice', 'Bob', 'Cathy', 'Doug'], dtype='<U10')"
      ]
     },
     "execution_count": 143,
     "metadata": {},
     "output_type": "execute_result"
    }
   ],
   "source": [
    "data['name']"
   ]
  },
  {
   "cell_type": "code",
   "execution_count": 144,
   "metadata": {},
   "outputs": [
    {
     "data": {
      "text/plain": [
       "('Bob', 45, 85.5)"
      ]
     },
     "execution_count": 144,
     "metadata": {},
     "output_type": "execute_result"
    }
   ],
   "source": [
    "data[1]"
   ]
  },
  {
   "cell_type": "code",
   "execution_count": 145,
   "metadata": {},
   "outputs": [
    {
     "data": {
      "text/plain": [
       "'Bob'"
      ]
     },
     "execution_count": 145,
     "metadata": {},
     "output_type": "execute_result"
    }
   ],
   "source": [
    "data[1][0]"
   ]
  },
  {
   "cell_type": "code",
   "execution_count": 146,
   "metadata": {},
   "outputs": [
    {
     "data": {
      "text/plain": [
       "array(['Alice', 'Doug'], dtype='<U10')"
      ]
     },
     "execution_count": 146,
     "metadata": {},
     "output_type": "execute_result"
    }
   ],
   "source": [
    "data[data['age'] < 30]['name']"
   ]
  },
  {
   "cell_type": "code",
   "execution_count": 147,
   "metadata": {},
   "outputs": [
    {
     "data": {
      "text/plain": [
       "array(['Alice', 'Doug'], dtype='<U10')"
      ]
     },
     "execution_count": 147,
     "metadata": {},
     "output_type": "execute_result"
    }
   ],
   "source": [
    "# 可以使用boolean mask来选择sub array\n",
    "data[data['age'] < 30]['name']"
   ]
  },
  {
   "cell_type": "code",
   "execution_count": 148,
   "metadata": {},
   "outputs": [
    {
     "data": {
      "text/plain": [
       "dtype([('name', '<U10'), ('age', '<i4'), ('weight', '<f8')])"
      ]
     },
     "execution_count": 148,
     "metadata": {},
     "output_type": "execute_result"
    }
   ],
   "source": [
    "# 构建 Structured Arrays\n",
    "\n",
    "np.dtype({'names':('name', 'age', 'weight'),'formats': ('U10', 'i4', 'f8')})"
   ]
  },
  {
   "cell_type": "code",
   "execution_count": 149,
   "metadata": {},
   "outputs": [
    {
     "data": {
      "text/plain": [
       "dtype([('name', 'S10'), ('age', '<i4'), ('weight', '<f8')])"
      ]
     },
     "execution_count": 149,
     "metadata": {},
     "output_type": "execute_result"
    }
   ],
   "source": [
    "# 另一种方法是通过tuple 来构建\n",
    "np.dtype([('name', 'S10'), ('age', 'i4'), ('weight', 'f8')])"
   ]
  },
  {
   "cell_type": "code",
   "execution_count": 150,
   "metadata": {},
   "outputs": [
    {
     "name": "stdout",
     "output_type": "stream",
     "text": [
      "[(b'', 0, 0.) (b'', 0, 0.) (b'', 0, 0.) (b'', 0, 0.) (b'', 0, 0.)\n",
      " (b'', 0, 0.) (b'', 0, 0.) (b'', 0, 0.) (b'', 0, 0.) (b'', 0, 0.)]\n"
     ]
    }
   ],
   "source": [
    "k = np.zeros(10, dtype=np.dtype([('name', 'S10'), ('age', 'i4'), ('weight', 'f8')]))\n",
    "print(k)"
   ]
  },
  {
   "cell_type": "code",
   "execution_count": 204,
   "metadata": {},
   "outputs": [],
   "source": [
    "k[1][0] = 'sphere'"
   ]
  },
  {
   "cell_type": "code",
   "execution_count": 151,
   "metadata": {},
   "outputs": [
    {
     "data": {
      "text/plain": [
       "array([(b'', 0, 0.), (b'', 0, 0.), (b'', 0, 0.), (b'', 0, 0.),\n",
       "       (b'', 0, 0.), (b'', 0, 0.), (b'', 0, 0.), (b'', 0, 0.),\n",
       "       (b'', 0, 0.), (b'', 0, 0.)],\n",
       "      dtype=[('name', 'S10'), ('age', '<i4'), ('weight', '<f8')])"
      ]
     },
     "execution_count": 151,
     "metadata": {},
     "output_type": "execute_result"
    }
   ],
   "source": [
    "k"
   ]
  },
  {
   "cell_type": "code",
   "execution_count": null,
   "metadata": {},
   "outputs": [],
   "source": []
  }
 ],
 "metadata": {
  "interpreter": {
   "hash": "c877ca6503176069cedacdb509d844806820e7480cd67ecef3886f430f9e919f"
  },
  "kernelspec": {
   "display_name": "Python 3.9.6 64-bit ('ds1': conda)",
   "name": "python3"
  },
  "language_info": {
   "codemirror_mode": {
    "name": "ipython",
    "version": 3
   },
   "file_extension": ".py",
   "mimetype": "text/x-python",
   "name": "python",
   "nbconvert_exporter": "python",
   "pygments_lexer": "ipython3",
   "version": "3.9.7"
  },
  "orig_nbformat": 4
 },
 "nbformat": 4,
 "nbformat_minor": 2
}
